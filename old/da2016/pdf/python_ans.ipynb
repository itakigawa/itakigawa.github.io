{
 "cells": [
  {
   "cell_type": "markdown",
   "metadata": {},
   "source": [
    "# Python(Jupyter Notebook)による回答例"
   ]
  },
  {
   "cell_type": "markdown",
   "metadata": {},
   "source": [
    "## レポート試験問題の回答例\n",
    "\n",
    "この文書はブラウザ上で稼働するPython環境であるJupyter Notebookを利用して作成しています。\n",
    "\n",
    "Windowsでは以下の実行のためのPython環境はAnacondaをインストールすると良いです。Python環境に加え、numpy、scipy、matplotlibなどのライブラリや、このノートブックに実行に必要なJupyter Notebookがインストールされるので、インストーラをダブルクリックし、指示に従いインストールを行った後、Jupyter Notebookのアイコンで起動してください。\n",
    "\n",
    "[Anaconda (from Continuum)](https://www.continuum.io/downloads)"
   ]
  },
  {
   "cell_type": "markdown",
   "metadata": {},
   "source": [
    "## パッケージのインポート"
   ]
  },
  {
   "cell_type": "code",
   "execution_count": 1,
   "metadata": {
    "collapsed": true
   },
   "outputs": [],
   "source": [
    "import numpy as np\n",
    "import scipy as sp\n",
    "import scipy.stats\n",
    "import pandas as pd\n",
    "\n",
    "%matplotlib inline\n",
    "import matplotlib.pyplot as plt\n",
    "plt.style.use('ggplot')"
   ]
  },
  {
   "cell_type": "markdown",
   "metadata": {},
   "source": [
    "## データの読み込み"
   ]
  },
  {
   "cell_type": "markdown",
   "metadata": {},
   "source": [
    "データは以下のディレクトリからダウンロードしてください。以下の読み込み時にはファイルパスは適宜、自分でダウンロードした場所に変更してください。\n",
    "\n",
    "https://art.ist.hokudai.ac.jp/~takigawa/course/da2016/pdf/dataset.csv"
   ]
  },
  {
   "cell_type": "code",
   "execution_count": 2,
   "metadata": {
    "collapsed": true
   },
   "outputs": [],
   "source": [
    "data = pd.read_csv('/Users/takigawa/Documents/artist/course/da2016/pdf/dataset.csv', header=None)"
   ]
  },
  {
   "cell_type": "markdown",
   "metadata": {},
   "source": [
    "データの中身は以下のようになっています。最初の行がヘッダではないので読み込み時に header=Noneが必要なことに注意してください。"
   ]
  },
  {
   "cell_type": "code",
   "execution_count": 3,
   "metadata": {
    "collapsed": false
   },
   "outputs": [
    {
     "data": {
      "text/html": [
       "<div>\n",
       "<table border=\"1\" class=\"dataframe\">\n",
       "  <thead>\n",
       "    <tr style=\"text-align: right;\">\n",
       "      <th></th>\n",
       "      <th>番号</th>\n",
       "      <th>新生時の体重</th>\n",
       "      <th>母親の体重</th>\n",
       "      <th>母親の年齢</th>\n",
       "      <th>懐妊期間(日)</th>\n",
       "      <th>喫煙習慣の有無</th>\n",
       "    </tr>\n",
       "  </thead>\n",
       "  <tbody>\n",
       "    <tr>\n",
       "      <th>0</th>\n",
       "      <td>1</td>\n",
       "      <td>3087</td>\n",
       "      <td>48</td>\n",
       "      <td>28</td>\n",
       "      <td>304</td>\n",
       "      <td>0</td>\n",
       "    </tr>\n",
       "    <tr>\n",
       "      <th>1</th>\n",
       "      <td>2</td>\n",
       "      <td>3229</td>\n",
       "      <td>52</td>\n",
       "      <td>24</td>\n",
       "      <td>286</td>\n",
       "      <td>1</td>\n",
       "    </tr>\n",
       "    <tr>\n",
       "      <th>2</th>\n",
       "      <td>3</td>\n",
       "      <td>3204</td>\n",
       "      <td>61</td>\n",
       "      <td>33</td>\n",
       "      <td>273</td>\n",
       "      <td>1</td>\n",
       "    </tr>\n",
       "    <tr>\n",
       "      <th>3</th>\n",
       "      <td>4</td>\n",
       "      <td>3346</td>\n",
       "      <td>58</td>\n",
       "      <td>30</td>\n",
       "      <td>295</td>\n",
       "      <td>0</td>\n",
       "    </tr>\n",
       "    <tr>\n",
       "      <th>4</th>\n",
       "      <td>5</td>\n",
       "      <td>3579</td>\n",
       "      <td>56</td>\n",
       "      <td>21</td>\n",
       "      <td>290</td>\n",
       "      <td>0</td>\n",
       "    </tr>\n",
       "    <tr>\n",
       "      <th>5</th>\n",
       "      <td>6</td>\n",
       "      <td>2325</td>\n",
       "      <td>46</td>\n",
       "      <td>26</td>\n",
       "      <td>262</td>\n",
       "      <td>0</td>\n",
       "    </tr>\n",
       "    <tr>\n",
       "      <th>6</th>\n",
       "      <td>7</td>\n",
       "      <td>3159</td>\n",
       "      <td>55</td>\n",
       "      <td>30</td>\n",
       "      <td>318</td>\n",
       "      <td>1</td>\n",
       "    </tr>\n",
       "    <tr>\n",
       "      <th>7</th>\n",
       "      <td>8</td>\n",
       "      <td>3589</td>\n",
       "      <td>63</td>\n",
       "      <td>37</td>\n",
       "      <td>298</td>\n",
       "      <td>0</td>\n",
       "    </tr>\n",
       "    <tr>\n",
       "      <th>8</th>\n",
       "      <td>9</td>\n",
       "      <td>2969</td>\n",
       "      <td>52</td>\n",
       "      <td>25</td>\n",
       "      <td>299</td>\n",
       "      <td>1</td>\n",
       "    </tr>\n",
       "    <tr>\n",
       "      <th>9</th>\n",
       "      <td>10</td>\n",
       "      <td>2819</td>\n",
       "      <td>40</td>\n",
       "      <td>22</td>\n",
       "      <td>313</td>\n",
       "      <td>0</td>\n",
       "    </tr>\n",
       "    <tr>\n",
       "      <th>10</th>\n",
       "      <td>11</td>\n",
       "      <td>3191</td>\n",
       "      <td>59</td>\n",
       "      <td>34</td>\n",
       "      <td>285</td>\n",
       "      <td>1</td>\n",
       "    </tr>\n",
       "    <tr>\n",
       "      <th>11</th>\n",
       "      <td>12</td>\n",
       "      <td>3346</td>\n",
       "      <td>57</td>\n",
       "      <td>28</td>\n",
       "      <td>306</td>\n",
       "      <td>0</td>\n",
       "    </tr>\n",
       "    <tr>\n",
       "      <th>12</th>\n",
       "      <td>13</td>\n",
       "      <td>2444</td>\n",
       "      <td>45</td>\n",
       "      <td>30</td>\n",
       "      <td>291</td>\n",
       "      <td>1</td>\n",
       "    </tr>\n",
       "    <tr>\n",
       "      <th>13</th>\n",
       "      <td>14</td>\n",
       "      <td>3662</td>\n",
       "      <td>64</td>\n",
       "      <td>21</td>\n",
       "      <td>274</td>\n",
       "      <td>0</td>\n",
       "    </tr>\n",
       "    <tr>\n",
       "      <th>14</th>\n",
       "      <td>15</td>\n",
       "      <td>3241</td>\n",
       "      <td>53</td>\n",
       "      <td>29</td>\n",
       "      <td>283</td>\n",
       "      <td>0</td>\n",
       "    </tr>\n",
       "  </tbody>\n",
       "</table>\n",
       "</div>"
      ],
      "text/plain": [
       "    番号  新生時の体重  母親の体重  母親の年齢  懐妊期間(日)  喫煙習慣の有無\n",
       "0    1    3087     48     28      304        0\n",
       "1    2    3229     52     24      286        1\n",
       "2    3    3204     61     33      273        1\n",
       "3    4    3346     58     30      295        0\n",
       "4    5    3579     56     21      290        0\n",
       "5    6    2325     46     26      262        0\n",
       "6    7    3159     55     30      318        1\n",
       "7    8    3589     63     37      298        0\n",
       "8    9    2969     52     25      299        1\n",
       "9   10    2819     40     22      313        0\n",
       "10  11    3191     59     34      285        1\n",
       "11  12    3346     57     28      306        0\n",
       "12  13    2444     45     30      291        1\n",
       "13  14    3662     64     21      274        0\n",
       "14  15    3241     53     29      283        0"
      ]
     },
     "execution_count": 3,
     "metadata": {},
     "output_type": "execute_result"
    }
   ],
   "source": [
    "data.columns = ['番号', '新生時の体重', '母親の体重', '母親の年齢', '懐妊期間(日)', '喫煙習慣の有無']\n",
    "data"
   ]
  },
  {
   "cell_type": "markdown",
   "metadata": {},
   "source": [
    "データの最初のみを見るには head() を利用します。"
   ]
  },
  {
   "cell_type": "code",
   "execution_count": 4,
   "metadata": {
    "collapsed": false
   },
   "outputs": [
    {
     "data": {
      "text/html": [
       "<div>\n",
       "<table border=\"1\" class=\"dataframe\">\n",
       "  <thead>\n",
       "    <tr style=\"text-align: right;\">\n",
       "      <th></th>\n",
       "      <th>番号</th>\n",
       "      <th>新生時の体重</th>\n",
       "      <th>母親の体重</th>\n",
       "      <th>母親の年齢</th>\n",
       "      <th>懐妊期間(日)</th>\n",
       "      <th>喫煙習慣の有無</th>\n",
       "    </tr>\n",
       "  </thead>\n",
       "  <tbody>\n",
       "    <tr>\n",
       "      <th>0</th>\n",
       "      <td>1</td>\n",
       "      <td>3087</td>\n",
       "      <td>48</td>\n",
       "      <td>28</td>\n",
       "      <td>304</td>\n",
       "      <td>0</td>\n",
       "    </tr>\n",
       "    <tr>\n",
       "      <th>1</th>\n",
       "      <td>2</td>\n",
       "      <td>3229</td>\n",
       "      <td>52</td>\n",
       "      <td>24</td>\n",
       "      <td>286</td>\n",
       "      <td>1</td>\n",
       "    </tr>\n",
       "    <tr>\n",
       "      <th>2</th>\n",
       "      <td>3</td>\n",
       "      <td>3204</td>\n",
       "      <td>61</td>\n",
       "      <td>33</td>\n",
       "      <td>273</td>\n",
       "      <td>1</td>\n",
       "    </tr>\n",
       "    <tr>\n",
       "      <th>3</th>\n",
       "      <td>4</td>\n",
       "      <td>3346</td>\n",
       "      <td>58</td>\n",
       "      <td>30</td>\n",
       "      <td>295</td>\n",
       "      <td>0</td>\n",
       "    </tr>\n",
       "    <tr>\n",
       "      <th>4</th>\n",
       "      <td>5</td>\n",
       "      <td>3579</td>\n",
       "      <td>56</td>\n",
       "      <td>21</td>\n",
       "      <td>290</td>\n",
       "      <td>0</td>\n",
       "    </tr>\n",
       "  </tbody>\n",
       "</table>\n",
       "</div>"
      ],
      "text/plain": [
       "   番号  新生時の体重  母親の体重  母親の年齢  懐妊期間(日)  喫煙習慣の有無\n",
       "0   1    3087     48     28      304        0\n",
       "1   2    3229     52     24      286        1\n",
       "2   3    3204     61     33      273        1\n",
       "3   4    3346     58     30      295        0\n",
       "4   5    3579     56     21      290        0"
      ]
     },
     "execution_count": 4,
     "metadata": {},
     "output_type": "execute_result"
    }
   ],
   "source": [
    "data.head()"
   ]
  },
  {
   "cell_type": "markdown",
   "metadata": {},
   "source": [
    "データの方は pandas のデータフレームになっているので、これをnumpy配列にしておきます。"
   ]
  },
  {
   "cell_type": "code",
   "execution_count": 5,
   "metadata": {
    "collapsed": false
   },
   "outputs": [
    {
     "data": {
      "text/plain": [
       "pandas.core.frame.DataFrame"
      ]
     },
     "execution_count": 5,
     "metadata": {},
     "output_type": "execute_result"
    }
   ],
   "source": [
    "type(data)"
   ]
  },
  {
   "cell_type": "code",
   "execution_count": 6,
   "metadata": {
    "collapsed": true
   },
   "outputs": [],
   "source": [
    "x = data.as_matrix()"
   ]
  },
  {
   "cell_type": "code",
   "execution_count": 7,
   "metadata": {
    "collapsed": false
   },
   "outputs": [
    {
     "data": {
      "text/plain": [
       "numpy.ndarray"
      ]
     },
     "execution_count": 7,
     "metadata": {},
     "output_type": "execute_result"
    }
   ],
   "source": [
    "type(x)"
   ]
  },
  {
   "cell_type": "markdown",
   "metadata": {},
   "source": [
    "## データの整形"
   ]
  },
  {
   "cell_type": "markdown",
   "metadata": {},
   "source": [
    "ここでは目的変数の値を格納するベクトル y および説明行列を格納する行列 X を作成します。\n",
    "\n",
    "まず、目的変数はxの1列目をそのまま取り出すだけです。"
   ]
  },
  {
   "cell_type": "code",
   "execution_count": 8,
   "metadata": {
    "collapsed": false
   },
   "outputs": [],
   "source": [
    "y = np.array(x[:, 1])"
   ]
  },
  {
   "cell_type": "markdown",
   "metadata": {},
   "source": [
    "つづいて、説明変数行列を作成するので、読み込んだデータの行数、列数を取り出します。yを含む行と、最初のid行の2行分は説明変数ではないため、説明変数の数pは2を引いておきます。"
   ]
  },
  {
   "cell_type": "code",
   "execution_count": 9,
   "metadata": {
    "collapsed": false
   },
   "outputs": [],
   "source": [
    "n, p = x.shape\n",
    "p -= 2"
   ]
  },
  {
   "cell_type": "code",
   "execution_count": 10,
   "metadata": {
    "collapsed": false
   },
   "outputs": [
    {
     "data": {
      "text/plain": [
       "[15, 4]"
      ]
     },
     "execution_count": 10,
     "metadata": {},
     "output_type": "execute_result"
    }
   ],
   "source": [
    "[n, p]"
   ]
  },
  {
   "cell_type": "markdown",
   "metadata": {},
   "source": [
    "ここで一度numpy配列であるxの中身を確認しておきます。"
   ]
  },
  {
   "cell_type": "code",
   "execution_count": 11,
   "metadata": {
    "collapsed": false
   },
   "outputs": [
    {
     "data": {
      "text/plain": [
       "array([[   1, 3087,   48,   28,  304,    0],\n",
       "       [   2, 3229,   52,   24,  286,    1],\n",
       "       [   3, 3204,   61,   33,  273,    1],\n",
       "       [   4, 3346,   58,   30,  295,    0],\n",
       "       [   5, 3579,   56,   21,  290,    0],\n",
       "       [   6, 2325,   46,   26,  262,    0],\n",
       "       [   7, 3159,   55,   30,  318,    1],\n",
       "       [   8, 3589,   63,   37,  298,    0],\n",
       "       [   9, 2969,   52,   25,  299,    1],\n",
       "       [  10, 2819,   40,   22,  313,    0],\n",
       "       [  11, 3191,   59,   34,  285,    1],\n",
       "       [  12, 3346,   57,   28,  306,    0],\n",
       "       [  13, 2444,   45,   30,  291,    1],\n",
       "       [  14, 3662,   64,   21,  274,    0],\n",
       "       [  15, 3241,   53,   29,  283,    0]])"
      ]
     },
     "execution_count": 11,
     "metadata": {},
     "output_type": "execute_result"
    }
   ],
   "source": [
    "x"
   ]
  },
  {
   "cell_type": "markdown",
   "metadata": {},
   "source": [
    "1列目(index=0)はid行、2列目(index=1)は目的変数の値なので、index=2から列をp列選択して、つまり、index=2からindex=p+2まで必要部分を取り出します。"
   ]
  },
  {
   "cell_type": "code",
   "execution_count": 12,
   "metadata": {
    "collapsed": true
   },
   "outputs": [],
   "source": [
    "z = x[:, 2:(p+2)]"
   ]
  },
  {
   "cell_type": "code",
   "execution_count": 13,
   "metadata": {
    "collapsed": false
   },
   "outputs": [
    {
     "data": {
      "text/html": [
       "<div>\n",
       "<table border=\"1\" class=\"dataframe\">\n",
       "  <thead>\n",
       "    <tr style=\"text-align: right;\">\n",
       "      <th></th>\n",
       "      <th>0</th>\n",
       "      <th>1</th>\n",
       "      <th>2</th>\n",
       "      <th>3</th>\n",
       "    </tr>\n",
       "  </thead>\n",
       "  <tbody>\n",
       "    <tr>\n",
       "      <th>0</th>\n",
       "      <td>48</td>\n",
       "      <td>28</td>\n",
       "      <td>304</td>\n",
       "      <td>0</td>\n",
       "    </tr>\n",
       "    <tr>\n",
       "      <th>1</th>\n",
       "      <td>52</td>\n",
       "      <td>24</td>\n",
       "      <td>286</td>\n",
       "      <td>1</td>\n",
       "    </tr>\n",
       "    <tr>\n",
       "      <th>2</th>\n",
       "      <td>61</td>\n",
       "      <td>33</td>\n",
       "      <td>273</td>\n",
       "      <td>1</td>\n",
       "    </tr>\n",
       "    <tr>\n",
       "      <th>3</th>\n",
       "      <td>58</td>\n",
       "      <td>30</td>\n",
       "      <td>295</td>\n",
       "      <td>0</td>\n",
       "    </tr>\n",
       "    <tr>\n",
       "      <th>4</th>\n",
       "      <td>56</td>\n",
       "      <td>21</td>\n",
       "      <td>290</td>\n",
       "      <td>0</td>\n",
       "    </tr>\n",
       "  </tbody>\n",
       "</table>\n",
       "</div>"
      ],
      "text/plain": [
       "    0   1    2  3\n",
       "0  48  28  304  0\n",
       "1  52  24  286  1\n",
       "2  61  33  273  1\n",
       "3  58  30  295  0\n",
       "4  56  21  290  0"
      ]
     },
     "execution_count": 13,
     "metadata": {},
     "output_type": "execute_result"
    }
   ],
   "source": [
    "pd.DataFrame(z).head()"
   ]
  },
  {
   "cell_type": "markdown",
   "metadata": {},
   "source": [
    "さらに定数項のための1ベクトルを最初の列に加えた行列を作成します。"
   ]
  },
  {
   "cell_type": "code",
   "execution_count": 14,
   "metadata": {
    "collapsed": false
   },
   "outputs": [],
   "source": [
    "X = np.column_stack((np.ones(n), z))"
   ]
  },
  {
   "cell_type": "code",
   "execution_count": 15,
   "metadata": {
    "collapsed": false
   },
   "outputs": [
    {
     "data": {
      "text/html": [
       "<div>\n",
       "<table border=\"1\" class=\"dataframe\">\n",
       "  <thead>\n",
       "    <tr style=\"text-align: right;\">\n",
       "      <th></th>\n",
       "      <th>0</th>\n",
       "      <th>1</th>\n",
       "      <th>2</th>\n",
       "      <th>3</th>\n",
       "      <th>4</th>\n",
       "    </tr>\n",
       "  </thead>\n",
       "  <tbody>\n",
       "    <tr>\n",
       "      <th>0</th>\n",
       "      <td>1</td>\n",
       "      <td>48</td>\n",
       "      <td>28</td>\n",
       "      <td>304</td>\n",
       "      <td>0</td>\n",
       "    </tr>\n",
       "    <tr>\n",
       "      <th>1</th>\n",
       "      <td>1</td>\n",
       "      <td>52</td>\n",
       "      <td>24</td>\n",
       "      <td>286</td>\n",
       "      <td>1</td>\n",
       "    </tr>\n",
       "    <tr>\n",
       "      <th>2</th>\n",
       "      <td>1</td>\n",
       "      <td>61</td>\n",
       "      <td>33</td>\n",
       "      <td>273</td>\n",
       "      <td>1</td>\n",
       "    </tr>\n",
       "    <tr>\n",
       "      <th>3</th>\n",
       "      <td>1</td>\n",
       "      <td>58</td>\n",
       "      <td>30</td>\n",
       "      <td>295</td>\n",
       "      <td>0</td>\n",
       "    </tr>\n",
       "    <tr>\n",
       "      <th>4</th>\n",
       "      <td>1</td>\n",
       "      <td>56</td>\n",
       "      <td>21</td>\n",
       "      <td>290</td>\n",
       "      <td>0</td>\n",
       "    </tr>\n",
       "  </tbody>\n",
       "</table>\n",
       "</div>"
      ],
      "text/plain": [
       "   0   1   2    3  4\n",
       "0  1  48  28  304  0\n",
       "1  1  52  24  286  1\n",
       "2  1  61  33  273  1\n",
       "3  1  58  30  295  0\n",
       "4  1  56  21  290  0"
      ]
     },
     "execution_count": 15,
     "metadata": {},
     "output_type": "execute_result"
    }
   ],
   "source": [
    "pd.DataFrame(X).head()"
   ]
  },
  {
   "cell_type": "markdown",
   "metadata": {},
   "source": [
    "## 1. 偏回帰係数の推定"
   ]
  },
  {
   "cell_type": "markdown",
   "metadata": {},
   "source": [
    "行列公式"
   ]
  },
  {
   "cell_type": "markdown",
   "metadata": {},
   "source": [
    "\\begin{equation*}\n",
    "\\hat{\\beta} = (X' X)^{-1} X' y\n",
    "\\end{equation*}"
   ]
  },
  {
   "cell_type": "markdown",
   "metadata": {},
   "source": [
    "を用いて偏回帰係数を求める。"
   ]
  },
  {
   "cell_type": "code",
   "execution_count": 16,
   "metadata": {
    "collapsed": false
   },
   "outputs": [],
   "source": [
    "beta = np.dot(np.dot(np.linalg.inv(np.dot(X.T, X)), X.T), y)"
   ]
  },
  {
   "cell_type": "code",
   "execution_count": 17,
   "metadata": {
    "collapsed": false
   },
   "outputs": [
    {
     "data": {
      "text/html": [
       "<div>\n",
       "<table border=\"1\" class=\"dataframe\">\n",
       "  <thead>\n",
       "    <tr style=\"text-align: right;\">\n",
       "      <th></th>\n",
       "      <th>定数項</th>\n",
       "      <th>変数1</th>\n",
       "      <th>変数2</th>\n",
       "      <th>変数3</th>\n",
       "      <th>変数4</th>\n",
       "    </tr>\n",
       "  </thead>\n",
       "  <tbody>\n",
       "    <tr>\n",
       "      <th>偏回帰係数</th>\n",
       "      <td>-1675.192609</td>\n",
       "      <td>54.896593</td>\n",
       "      <td>-23.470039</td>\n",
       "      <td>8.809766</td>\n",
       "      <td>-140.553893</td>\n",
       "    </tr>\n",
       "  </tbody>\n",
       "</table>\n",
       "</div>"
      ],
      "text/plain": [
       "               定数項        変数1        変数2       変数3         変数4\n",
       "偏回帰係数 -1675.192609  54.896593 -23.470039  8.809766 -140.553893"
      ]
     },
     "execution_count": 17,
     "metadata": {},
     "output_type": "execute_result"
    }
   ],
   "source": [
    "pd.DataFrame([beta], \n",
    "             columns = ['定数項', '変数1', '変数2', '変数3', '変数4'], \n",
    "             index = ['偏回帰係数'])"
   ]
  },
  {
   "cell_type": "markdown",
   "metadata": {},
   "source": [
    "## 2. 目的変数の予測値の計算"
   ]
  },
  {
   "cell_type": "markdown",
   "metadata": {},
   "source": [
    "上記の係数を説明行列Xにかけて、yの予測値を計算します。"
   ]
  },
  {
   "cell_type": "code",
   "execution_count": 18,
   "metadata": {
    "collapsed": false
   },
   "outputs": [],
   "source": [
    "y_pred = np.dot(X, beta)"
   ]
  },
  {
   "cell_type": "markdown",
   "metadata": {},
   "source": [
    "yの予測値をx軸に、yの真値をy軸にとって散布図をプロットしてみます。"
   ]
  },
  {
   "cell_type": "code",
   "execution_count": 19,
   "metadata": {
    "collapsed": false
   },
   "outputs": [
    {
     "data": {
      "text/plain": [
       "<matplotlib.text.Text at 0x116952cf8>"
      ]
     },
     "execution_count": 19,
     "metadata": {},
     "output_type": "execute_result"
    },
    {
     "data": {
      "image/png": "[encoded data removed]",
      "text/plain": [
       "<matplotlib.figure.Figure at 0x1169fcd68>"
      ]
     },
     "metadata": {},
     "output_type": "display_data"
    }
   ],
   "source": [
    "plt.scatter(y_pred, y)\n",
    "plt.plot([2400, 4000], [2400, 4000])\n",
    "plt.ylim(2400, 4000)\n",
    "plt.xlim(2400, 4000)\n",
    "plt.ylabel('groundtruth')\n",
    "plt.xlabel('prediction')"
   ]
  },
  {
   "cell_type": "markdown",
   "metadata": {},
   "source": [
    "## 3. 標準誤差と決定係数の計算"
   ]
  },
  {
   "cell_type": "markdown",
   "metadata": {},
   "source": [
    "まずはyの要素の平均値を求めておきます。"
   ]
  },
  {
   "cell_type": "code",
   "execution_count": 20,
   "metadata": {
    "collapsed": false
   },
   "outputs": [],
   "source": [
    "y_bar = np.mean(y)"
   ]
  },
  {
   "cell_type": "markdown",
   "metadata": {},
   "source": [
    "次に、平方和(Sum of Squares, SS)を三種類計算します。"
   ]
  },
  {
   "cell_type": "markdown",
   "metadata": {},
   "source": [
    "全変動(SST)は以下の式で定義されます。"
   ]
  },
  {
   "cell_type": "markdown",
   "metadata": {},
   "source": [
    "\\begin{equation*}\n",
    "\\sum_{i=1}^n (y_i - \\bar{y})^2\n",
    "\\end{equation*}"
   ]
  },
  {
   "cell_type": "code",
   "execution_count": 21,
   "metadata": {
    "collapsed": false
   },
   "outputs": [],
   "source": [
    "sst = np.sum([ (y[i] - y_bar)**2 for i in range(len(y)) ])"
   ]
  },
  {
   "cell_type": "markdown",
   "metadata": {},
   "source": [
    "残差変動(SSE)は以下の式で定義されます。"
   ]
  },
  {
   "cell_type": "markdown",
   "metadata": {},
   "source": [
    "\\begin{equation*}\n",
    "\\sum_{i=1}^n (y_i - \\hat{y}_i)^2\n",
    "\\end{equation*}"
   ]
  },
  {
   "cell_type": "code",
   "execution_count": 22,
   "metadata": {
    "collapsed": true
   },
   "outputs": [],
   "source": [
    "sse = np.sum([ (y[i] - y_pred[i])**2 for i in range(len(y)) ])"
   ]
  },
  {
   "cell_type": "markdown",
   "metadata": {},
   "source": [
    "回帰変動(SSR)は以下の式で定義されます。"
   ]
  },
  {
   "cell_type": "markdown",
   "metadata": {},
   "source": [
    "\\begin{equation*}\n",
    "\\sum_{i=1}^n (\\hat{y}_i-\\bar{y})^2\n",
    "\\end{equation*}"
   ]
  },
  {
   "cell_type": "code",
   "execution_count": 23,
   "metadata": {
    "collapsed": true
   },
   "outputs": [],
   "source": [
    "ssr = np.sum([ (y_pred[i] - y_bar)**2 for i in range(len(y)) ])"
   ]
  },
  {
   "cell_type": "code",
   "execution_count": 24,
   "metadata": {
    "collapsed": false
   },
   "outputs": [
    {
     "data": {
      "text/html": [
       "<div>\n",
       "<table border=\"1\" class=\"dataframe\">\n",
       "  <thead>\n",
       "    <tr style=\"text-align: right;\">\n",
       "      <th></th>\n",
       "      <th>$\\overline y$</th>\n",
       "      <th>全変動</th>\n",
       "      <th>残差変動</th>\n",
       "      <th>回帰変動</th>\n",
       "    </tr>\n",
       "  </thead>\n",
       "  <tbody>\n",
       "    <tr>\n",
       "      <th>value</th>\n",
       "      <td>3146</td>\n",
       "      <td>2060050</td>\n",
       "      <td>250662.016531</td>\n",
       "      <td>1809387.983469</td>\n",
       "    </tr>\n",
       "  </tbody>\n",
       "</table>\n",
       "</div>"
      ],
      "text/plain": [
       "       $\\overline y$      全変動           残差変動            回帰変動\n",
       "value           3146  2060050  250662.016531  1809387.983469"
      ]
     },
     "execution_count": 24,
     "metadata": {},
     "output_type": "execute_result"
    }
   ],
   "source": [
    "pd.DataFrame([[y_bar, sst, sse, ssr]],\n",
    "             columns = ['$\\overline y$', '全変動', '残差変動', '回帰変動'],\n",
    "             index = ['value'])"
   ]
  },
  {
   "cell_type": "markdown",
   "metadata": {},
   "source": [
    "残差変動を自由度で割ると誤差分散が求められます。その平方根が標準偏差になります。"
   ]
  },
  {
   "cell_type": "code",
   "execution_count": 25,
   "metadata": {
    "collapsed": true
   },
   "outputs": [],
   "source": [
    "sig2 = sse/(n-p-1)"
   ]
  },
  {
   "cell_type": "markdown",
   "metadata": {},
   "source": [
    "回帰変動と全変動の比は「決定係数」という量になります。その平方根が重相関係数になります。"
   ]
  },
  {
   "cell_type": "code",
   "execution_count": 26,
   "metadata": {
    "collapsed": false
   },
   "outputs": [],
   "source": [
    "r2 = ssr/sst"
   ]
  },
  {
   "cell_type": "markdown",
   "metadata": {},
   "source": [
    "また下記のように自由度で割ったものから計算した決定係数を自由度調整済み決定係数と呼びます。"
   ]
  },
  {
   "cell_type": "code",
   "execution_count": 27,
   "metadata": {
    "collapsed": false
   },
   "outputs": [],
   "source": [
    "r2_star = 1-(sse/(n-p-1))/(sst/(n-1))"
   ]
  },
  {
   "cell_type": "code",
   "execution_count": 28,
   "metadata": {
    "collapsed": false
   },
   "outputs": [
    {
     "data": {
      "text/html": [
       "<div>\n",
       "<table border=\"1\" class=\"dataframe\">\n",
       "  <thead>\n",
       "    <tr style=\"text-align: right;\">\n",
       "      <th></th>\n",
       "      <th>誤差分散</th>\n",
       "      <th>標準誤差</th>\n",
       "      <th>決定係数</th>\n",
       "      <th>(自由調整済)</th>\n",
       "      <th>重相関</th>\n",
       "    </tr>\n",
       "  </thead>\n",
       "  <tbody>\n",
       "    <tr>\n",
       "      <th>value</th>\n",
       "      <td>25066.201653</td>\n",
       "      <td>158.323093</td>\n",
       "      <td>0.878322</td>\n",
       "      <td>0.829651</td>\n",
       "      <td>0.937189</td>\n",
       "    </tr>\n",
       "  </tbody>\n",
       "</table>\n",
       "</div>"
      ],
      "text/plain": [
       "               誤差分散        標準誤差      決定係数   (自由調整済)       重相関\n",
       "value  25066.201653  158.323093  0.878322  0.829651  0.937189"
      ]
     },
     "execution_count": 28,
     "metadata": {},
     "output_type": "execute_result"
    }
   ],
   "source": [
    "pd.DataFrame([[sig2, np.sqrt(sig2), r2, r2_star, np.sqrt(r2)]],\n",
    "             columns = ['誤差分散', '標準誤差', '決定係数', '(自由調整済)', '重相関'],\n",
    "             index = ['value'])"
   ]
  },
  {
   "cell_type": "markdown",
   "metadata": {},
   "source": [
    "決定係数の値は「1-残差変動/全変動」と等しくなります。"
   ]
  },
  {
   "cell_type": "code",
   "execution_count": 29,
   "metadata": {
    "collapsed": false
   },
   "outputs": [
    {
     "data": {
      "text/plain": [
       "0.87832236279187315"
      ]
     },
     "execution_count": 29,
     "metadata": {},
     "output_type": "execute_result"
    }
   ],
   "source": [
    "1-sse/sst"
   ]
  },
  {
   "cell_type": "markdown",
   "metadata": {},
   "source": [
    "また重相関係数の値は、yの真値とyの予測値の相関係数と等しくなります。"
   ]
  },
  {
   "cell_type": "code",
   "execution_count": 30,
   "metadata": {
    "collapsed": false
   },
   "outputs": [
    {
     "data": {
      "text/plain": [
       "0.93718854175233768"
      ]
     },
     "execution_count": 30,
     "metadata": {},
     "output_type": "execute_result"
    }
   ],
   "source": [
    "np.corrcoef(y, y_pred)[0, 1]"
   ]
  },
  {
   "cell_type": "markdown",
   "metadata": {},
   "source": [
    "この相関係数を定義から計算すると以下のようになります。"
   ]
  },
  {
   "cell_type": "markdown",
   "metadata": {},
   "source": [
    "\\begin{equation*}\n",
    "\\frac{(y-\\bar{y})'(\\hat{y}-\\bar{\\hat{y}})}\n",
    "{\\|y-\\bar{y}\\| \\cdot \\|\\hat{y}-\\bar{\\hat{y}}\\|}\n",
    "\\end{equation*}"
   ]
  },
  {
   "cell_type": "code",
   "execution_count": 31,
   "metadata": {
    "collapsed": false
   },
   "outputs": [
    {
     "data": {
      "text/plain": [
       "0.93718854175233746"
      ]
     },
     "execution_count": 31,
     "metadata": {},
     "output_type": "execute_result"
    }
   ],
   "source": [
    "u = y_pred - np.mean(y_pred)\n",
    "v = y - np.mean(y)\n",
    "np.dot(u, v)/(np.linalg.norm(u) * np.linalg.norm(v))"
   ]
  },
  {
   "cell_type": "markdown",
   "metadata": {},
   "source": [
    "## 4.  推定量の分散共分散行列の計算"
   ]
  },
  {
   "cell_type": "markdown",
   "metadata": {},
   "source": [
    "行列公式を用いて、"
   ]
  },
  {
   "cell_type": "markdown",
   "metadata": {},
   "source": [
    "\\begin{equation*}\n",
    "\\Sigma = \\sigma^2 (X' X)^{-1}\n",
    "\\end{equation*}"
   ]
  },
  {
   "cell_type": "markdown",
   "metadata": {},
   "source": [
    "偏回帰係数の推定量の分散共分散行列を計算します。"
   ]
  },
  {
   "cell_type": "code",
   "execution_count": 32,
   "metadata": {
    "collapsed": false
   },
   "outputs": [
    {
     "data": {
      "text/html": [
       "<div>\n",
       "<table border=\"1\" class=\"dataframe\">\n",
       "  <thead>\n",
       "    <tr style=\"text-align: right;\">\n",
       "      <th></th>\n",
       "      <th>0</th>\n",
       "      <th>1</th>\n",
       "      <th>2</th>\n",
       "      <th>3</th>\n",
       "      <th>4</th>\n",
       "    </tr>\n",
       "  </thead>\n",
       "  <tbody>\n",
       "    <tr>\n",
       "      <th>0</th>\n",
       "      <td>917623.779239</td>\n",
       "      <td>-3212.777852</td>\n",
       "      <td>-154.576344</td>\n",
       "      <td>-2528.740220</td>\n",
       "      <td>-1207.391509</td>\n",
       "    </tr>\n",
       "    <tr>\n",
       "      <th>1</th>\n",
       "      <td>-3212.777852</td>\n",
       "      <td>46.332887</td>\n",
       "      <td>-26.570721</td>\n",
       "      <td>4.904253</td>\n",
       "      <td>58.167801</td>\n",
       "    </tr>\n",
       "    <tr>\n",
       "      <th>2</th>\n",
       "      <td>-154.576344</td>\n",
       "      <td>-26.570721</td>\n",
       "      <td>99.979982</td>\n",
       "      <td>-3.777969</td>\n",
       "      <td>-240.183887</td>\n",
       "    </tr>\n",
       "    <tr>\n",
       "      <th>3</th>\n",
       "      <td>-2528.740220</td>\n",
       "      <td>4.904253</td>\n",
       "      <td>-3.777969</td>\n",
       "      <td>8.112140</td>\n",
       "      <td>5.986072</td>\n",
       "    </tr>\n",
       "    <tr>\n",
       "      <th>4</th>\n",
       "      <td>-1207.391509</td>\n",
       "      <td>58.167801</td>\n",
       "      <td>-240.183887</td>\n",
       "      <td>5.986072</td>\n",
       "      <td>7541.491514</td>\n",
       "    </tr>\n",
       "  </tbody>\n",
       "</table>\n",
       "</div>"
      ],
      "text/plain": [
       "               0            1           2            3            4\n",
       "0  917623.779239 -3212.777852 -154.576344 -2528.740220 -1207.391509\n",
       "1   -3212.777852    46.332887  -26.570721     4.904253    58.167801\n",
       "2    -154.576344   -26.570721   99.979982    -3.777969  -240.183887\n",
       "3   -2528.740220     4.904253   -3.777969     8.112140     5.986072\n",
       "4   -1207.391509    58.167801 -240.183887     5.986072  7541.491514"
      ]
     },
     "execution_count": 32,
     "metadata": {},
     "output_type": "execute_result"
    }
   ],
   "source": [
    "S = sig2 * np.linalg.inv(np.dot(X.T, X))\n",
    "pd.DataFrame(S)"
   ]
  },
  {
   "cell_type": "markdown",
   "metadata": {},
   "source": [
    "この行列の対角要素をとってきたものが各々の偏回帰係数の推定量の標準誤差になります。また、各々の偏回帰係数の推定値を標準誤差で割ったものがt比になります。"
   ]
  },
  {
   "cell_type": "code",
   "execution_count": 33,
   "metadata": {
    "collapsed": false
   },
   "outputs": [],
   "source": [
    "err = np.sqrt(S.diagonal())\n",
    "t_stat = beta / err"
   ]
  },
  {
   "cell_type": "code",
   "execution_count": 34,
   "metadata": {
    "collapsed": false
   },
   "outputs": [
    {
     "data": {
      "text/html": [
       "<div>\n",
       "<table border=\"1\" class=\"dataframe\">\n",
       "  <thead>\n",
       "    <tr style=\"text-align: right;\">\n",
       "      <th></th>\n",
       "      <th>定数項</th>\n",
       "      <th>変数1</th>\n",
       "      <th>変数2</th>\n",
       "      <th>変数3</th>\n",
       "      <th>変数4</th>\n",
       "    </tr>\n",
       "  </thead>\n",
       "  <tbody>\n",
       "    <tr>\n",
       "      <th>標準誤差</th>\n",
       "      <td>957.926813</td>\n",
       "      <td>6.806826</td>\n",
       "      <td>9.998999</td>\n",
       "      <td>2.848182</td>\n",
       "      <td>86.841761</td>\n",
       "    </tr>\n",
       "    <tr>\n",
       "      <th>t比</th>\n",
       "      <td>-1.748769</td>\n",
       "      <td>8.064932</td>\n",
       "      <td>-2.347239</td>\n",
       "      <td>3.093119</td>\n",
       "      <td>-1.618506</td>\n",
       "    </tr>\n",
       "  </tbody>\n",
       "</table>\n",
       "</div>"
      ],
      "text/plain": [
       "             定数項       変数1       変数2       変数3        変数4\n",
       "標準誤差  957.926813  6.806826  9.998999  2.848182  86.841761\n",
       "t比     -1.748769  8.064932 -2.347239  3.093119  -1.618506"
      ]
     },
     "execution_count": 34,
     "metadata": {},
     "output_type": "execute_result"
    }
   ],
   "source": [
    "pd.DataFrame([err, t_stat],\n",
    "            columns = ['定数項', '変数1', '変数2', '変数3', '変数4'],\n",
    "            index = ['標準誤差', 't比'])"
   ]
  },
  {
   "cell_type": "markdown",
   "metadata": {},
   "source": [
    "## 5. p値と信頼区間の計算"
   ]
  },
  {
   "cell_type": "markdown",
   "metadata": {},
   "source": [
    "上記手続きで計算したt比は、係数=0の仮説の元では自由度n-p-1のt分布に従うので、この事実を利用して、t検定によるp値、および、各々の偏回帰係数の95%信頼区間を計算します。両側検定するとすると、片側で裾確率 P(t>|X|) を求めて2倍したものがp値になります。"
   ]
  },
  {
   "cell_type": "code",
   "execution_count": 35,
   "metadata": {
    "collapsed": false
   },
   "outputs": [],
   "source": [
    "pval = 2 * sp.stats.t.sf(np.abs(t_stat), df = n-p-1)"
   ]
  },
  {
   "cell_type": "markdown",
   "metadata": {},
   "source": [
    "t分布において両側の裾確率 P(|X|>alpha) がちょうど0.05になる点alphaを計算します。両側の和が0.05なので、片側では各々0.05/2になる点にあたります。"
   ]
  },
  {
   "cell_type": "code",
   "execution_count": 36,
   "metadata": {
    "collapsed": true
   },
   "outputs": [],
   "source": [
    "alpha = sp.stats.t.ppf(0.05/2, df = n-p-1)"
   ]
  },
  {
   "cell_type": "markdown",
   "metadata": {},
   "source": [
    "このalphaを用いると以下の形で簡単に信頼区間(CI, Confidence Interval)が計算できます。"
   ]
  },
  {
   "cell_type": "code",
   "execution_count": 37,
   "metadata": {
    "collapsed": false
   },
   "outputs": [],
   "source": [
    "ci_lower = beta - np.abs(alpha) * err"
   ]
  },
  {
   "cell_type": "code",
   "execution_count": 38,
   "metadata": {
    "collapsed": false
   },
   "outputs": [],
   "source": [
    "ci_upper = beta + np.abs(alpha) * err"
   ]
  },
  {
   "cell_type": "markdown",
   "metadata": {},
   "source": [
    "結果は以下のようになります。"
   ]
  },
  {
   "cell_type": "code",
   "execution_count": 39,
   "metadata": {
    "collapsed": false
   },
   "outputs": [
    {
     "data": {
      "text/html": [
       "<div>\n",
       "<table border=\"1\" class=\"dataframe\">\n",
       "  <thead>\n",
       "    <tr style=\"text-align: right;\">\n",
       "      <th></th>\n",
       "      <th>定数項</th>\n",
       "      <th>変数1</th>\n",
       "      <th>変数2</th>\n",
       "      <th>変数3</th>\n",
       "      <th>変数4</th>\n",
       "    </tr>\n",
       "  </thead>\n",
       "  <tbody>\n",
       "    <tr>\n",
       "      <th>p値</th>\n",
       "      <td>0.110902</td>\n",
       "      <td>0.000011</td>\n",
       "      <td>0.040832</td>\n",
       "      <td>0.011383</td>\n",
       "      <td>0.136624</td>\n",
       "    </tr>\n",
       "    <tr>\n",
       "      <th>95%CI下限</th>\n",
       "      <td>-3809.586559</td>\n",
       "      <td>39.730038</td>\n",
       "      <td>-45.749197</td>\n",
       "      <td>2.463621</td>\n",
       "      <td>-334.049395</td>\n",
       "    </tr>\n",
       "    <tr>\n",
       "      <th>95%CI上限</th>\n",
       "      <td>459.201340</td>\n",
       "      <td>70.063147</td>\n",
       "      <td>-1.190880</td>\n",
       "      <td>15.155911</td>\n",
       "      <td>52.941609</td>\n",
       "    </tr>\n",
       "  </tbody>\n",
       "</table>\n",
       "</div>"
      ],
      "text/plain": [
       "                 定数項        変数1        変数2        変数3         変数4\n",
       "p値          0.110902   0.000011   0.040832   0.011383    0.136624\n",
       "95%CI下限 -3809.586559  39.730038 -45.749197   2.463621 -334.049395\n",
       "95%CI上限   459.201340  70.063147  -1.190880  15.155911   52.941609"
      ]
     },
     "execution_count": 39,
     "metadata": {},
     "output_type": "execute_result"
    }
   ],
   "source": [
    "pd.DataFrame([pval, ci_lower, ci_upper],\n",
    "            columns = ['定数項', '変数1', '変数2', '変数3', '変数4'],\n",
    "            index = ['p値', '95%CI下限', '95%CI上限'])"
   ]
  },
  {
   "cell_type": "markdown",
   "metadata": {},
   "source": [
    "## 6. 結果のまとめ"
   ]
  },
  {
   "cell_type": "markdown",
   "metadata": {},
   "source": [
    "回帰分析の結果は以下のようになります。"
   ]
  },
  {
   "cell_type": "code",
   "execution_count": 40,
   "metadata": {
    "collapsed": false
   },
   "outputs": [
    {
     "data": {
      "text/html": [
       "<div>\n",
       "<table border=\"1\" class=\"dataframe\">\n",
       "  <thead>\n",
       "    <tr style=\"text-align: right;\">\n",
       "      <th></th>\n",
       "      <th>重相関</th>\n",
       "      <th>決定係数</th>\n",
       "      <th>調整済</th>\n",
       "      <th>標準誤差</th>\n",
       "      <th>例数</th>\n",
       "      <th>説明変数</th>\n",
       "    </tr>\n",
       "  </thead>\n",
       "  <tbody>\n",
       "    <tr>\n",
       "      <th>value</th>\n",
       "      <td>0.937189</td>\n",
       "      <td>0.878322</td>\n",
       "      <td>0.829651</td>\n",
       "      <td>158.323093</td>\n",
       "      <td>15</td>\n",
       "      <td>4</td>\n",
       "    </tr>\n",
       "  </tbody>\n",
       "</table>\n",
       "</div>"
      ],
      "text/plain": [
       "            重相関      決定係数       調整済        標準誤差  例数  説明変数\n",
       "value  0.937189  0.878322  0.829651  158.323093  15     4"
      ]
     },
     "execution_count": 40,
     "metadata": {},
     "output_type": "execute_result"
    }
   ],
   "source": [
    "pd.DataFrame([[np.sqrt(r2), r2, r2_star, np.sqrt(sig2), n, p]],\n",
    "             columns = ['重相関', '決定係数', '調整済', '標準誤差', '例数', '説明変数'],\n",
    "             index = ['value'])"
   ]
  },
  {
   "cell_type": "code",
   "execution_count": 41,
   "metadata": {
    "collapsed": false
   },
   "outputs": [
    {
     "data": {
      "text/html": [
       "<div>\n",
       "<table border=\"1\" class=\"dataframe\">\n",
       "  <thead>\n",
       "    <tr style=\"text-align: right;\">\n",
       "      <th></th>\n",
       "      <th>定数項</th>\n",
       "      <th>変数1</th>\n",
       "      <th>変数2</th>\n",
       "      <th>変数3</th>\n",
       "      <th>変数4</th>\n",
       "    </tr>\n",
       "  </thead>\n",
       "  <tbody>\n",
       "    <tr>\n",
       "      <th>偏回帰係数</th>\n",
       "      <td>-1675.192609</td>\n",
       "      <td>54.896593</td>\n",
       "      <td>-23.470039</td>\n",
       "      <td>8.809766</td>\n",
       "      <td>-140.553893</td>\n",
       "    </tr>\n",
       "    <tr>\n",
       "      <th>標準誤差</th>\n",
       "      <td>957.926813</td>\n",
       "      <td>6.806826</td>\n",
       "      <td>9.998999</td>\n",
       "      <td>2.848182</td>\n",
       "      <td>86.841761</td>\n",
       "    </tr>\n",
       "    <tr>\n",
       "      <th>t比</th>\n",
       "      <td>-1.748769</td>\n",
       "      <td>8.064932</td>\n",
       "      <td>-2.347239</td>\n",
       "      <td>3.093119</td>\n",
       "      <td>-1.618506</td>\n",
       "    </tr>\n",
       "    <tr>\n",
       "      <th>p値</th>\n",
       "      <td>0.110902</td>\n",
       "      <td>0.000011</td>\n",
       "      <td>0.040832</td>\n",
       "      <td>0.011383</td>\n",
       "      <td>0.136624</td>\n",
       "    </tr>\n",
       "    <tr>\n",
       "      <th>95%CI下限</th>\n",
       "      <td>-3809.586559</td>\n",
       "      <td>39.730038</td>\n",
       "      <td>-45.749197</td>\n",
       "      <td>2.463621</td>\n",
       "      <td>-334.049395</td>\n",
       "    </tr>\n",
       "    <tr>\n",
       "      <th>95%CI上限</th>\n",
       "      <td>459.201340</td>\n",
       "      <td>70.063147</td>\n",
       "      <td>-1.190880</td>\n",
       "      <td>15.155911</td>\n",
       "      <td>52.941609</td>\n",
       "    </tr>\n",
       "  </tbody>\n",
       "</table>\n",
       "</div>"
      ],
      "text/plain": [
       "                 定数項        変数1        変数2        変数3         変数4\n",
       "偏回帰係数   -1675.192609  54.896593 -23.470039   8.809766 -140.553893\n",
       "標準誤差      957.926813   6.806826   9.998999   2.848182   86.841761\n",
       "t比         -1.748769   8.064932  -2.347239   3.093119   -1.618506\n",
       "p値          0.110902   0.000011   0.040832   0.011383    0.136624\n",
       "95%CI下限 -3809.586559  39.730038 -45.749197   2.463621 -334.049395\n",
       "95%CI上限   459.201340  70.063147  -1.190880  15.155911   52.941609"
      ]
     },
     "execution_count": 41,
     "metadata": {},
     "output_type": "execute_result"
    }
   ],
   "source": [
    "pd.DataFrame([beta, err, t_stat, pval, ci_lower, ci_upper],\n",
    "            columns = ['定数項', '変数1', '変数2', '変数3', '変数4'],\n",
    "            index = ['偏回帰係数', '標準誤差', 't比', 'p値', '95%CI下限', '95%CI上限'])"
   ]
  }
 ],
 "metadata": {
  "kernelspec": {
   "display_name": "Python 3",
   "language": "python",
   "name": "python3"
  },
  "language_info": {
   "codemirror_mode": {
    "name": "ipython",
    "version": 3
   },
   "file_extension": ".py",
   "mimetype": "text/x-python",
   "name": "python",
   "nbconvert_exporter": "python",
   "pygments_lexer": "ipython3",
   "version": "3.5.1"
  }
 },
 "nbformat": 4,
 "nbformat_minor": 0
}
