{
 "cells": [
  {
   "cell_type": "markdown",
   "metadata": {},
   "source": [
    "# Pythonの基本の続き"
   ]
  },
  {
   "cell_type": "markdown",
   "metadata": {},
   "source": [
    "まずpractice02が終わっていない人はそちらの続きをやりましょう！"
   ]
  },
  {
   "cell_type": "markdown",
   "metadata": {},
   "source": [
    "http://art.ist.hokudai.ac.jp/~takigawa/prog/"
   ]
  },
  {
   "cell_type": "markdown",
   "metadata": {},
   "source": [
    "## インクリメント"
   ]
  },
  {
   "cell_type": "code",
   "execution_count": 48,
   "metadata": {},
   "outputs": [
    {
     "name": "stdout",
     "output_type": "stream",
     "text": [
      "3\n",
      "5\n"
     ]
    }
   ],
   "source": [
    "x = 2\n",
    "x = x + 1\n",
    "print(x)\n",
    "x = x + 2\n",
    "print(x)"
   ]
  },
  {
   "cell_type": "markdown",
   "metadata": {},
   "source": [
    "上のようなことはプログラミングでは頻出するので下記のように「右の値を左の変数に足しこむ」記法が使えます。"
   ]
  },
  {
   "cell_type": "code",
   "execution_count": 49,
   "metadata": {},
   "outputs": [
    {
     "name": "stdout",
     "output_type": "stream",
     "text": [
      "3\n",
      "5\n"
     ]
    }
   ],
   "source": [
    "x = 2\n",
    "x += 1\n",
    "print(x)\n",
    "x += 2\n",
    "print(x)"
   ]
  },
  {
   "cell_type": "markdown",
   "metadata": {},
   "source": [
    "## if文の補足"
   ]
  },
  {
   "cell_type": "markdown",
   "metadata": {},
   "source": [
    "条件分岐をするif文について補足です。まず基本は「if A 〜else」でAが成り立つか、成り立たないかで条件分岐をします。"
   ]
  },
  {
   "cell_type": "code",
   "execution_count": 1,
   "metadata": {},
   "outputs": [
    {
     "name": "stdout",
     "output_type": "stream",
     "text": [
      "条件分岐1\n"
     ]
    }
   ],
   "source": [
    "a = 34\n",
    "if a > 20:\n",
    "    print('条件分岐1')\n",
    "else:\n",
    "    print('条件分岐2')"
   ]
  },
  {
   "cell_type": "markdown",
   "metadata": {},
   "source": [
    "次にaとbの二つの値で分岐する場合を考えてみましょう。"
   ]
  },
  {
   "cell_type": "code",
   "execution_count": 2,
   "metadata": {},
   "outputs": [
    {
     "name": "stdout",
     "output_type": "stream",
     "text": [
      "条件分岐3\n"
     ]
    }
   ],
   "source": [
    "a = 34\n",
    "b = 21\n",
    "if a > 30 and b > 30:\n",
    "    print('条件分岐1')\n",
    "else:\n",
    "    if a <= 30 and b <= 30:\n",
    "        print('条件分岐2')\n",
    "    else:\n",
    "        if b <= 25:\n",
    "            print('条件分岐3')\n",
    "        else:\n",
    "            print('条件分岐4')"
   ]
  },
  {
   "cell_type": "markdown",
   "metadata": {},
   "source": [
    "ただこれはどう分岐するのか非常に分かりづらいですね。このために「elif」(else if)を使えば、処理が解釈しやすくなります。プログラムは動けば良いわけではなくて、エラーを発見しやすくしたり、ほかの人でもロジックがわかりやすく、例えばコードのメンテナンスができるよう、誰が見ても何をやっているか分かるのが理想でしょう。"
   ]
  },
  {
   "cell_type": "code",
   "execution_count": 3,
   "metadata": {},
   "outputs": [
    {
     "name": "stdout",
     "output_type": "stream",
     "text": [
      "条件分岐3\n"
     ]
    }
   ],
   "source": [
    "a = 34\n",
    "b = 21\n",
    "if a > 30 and b > 30:\n",
    "    print('条件分岐1')\n",
    "elif a <= 30 and b <= 30:\n",
    "    print('条件分岐2')\n",
    "elif b <= 25:\n",
    "    print('条件分岐3')\n",
    "else:\n",
    "    print('条件分岐4')"
   ]
  },
  {
   "cell_type": "markdown",
   "metadata": {},
   "source": [
    "条件分岐は最初のものから順番に成り立っているか試して行くので、例えば、下記のようにすると二番目の条件も成り立っていますが、そこは実行されないことに注意しましょう。「Fizz Buzz」はこれを考える非常に有名なプログラム初心者用の問題です。"
   ]
  },
  {
   "cell_type": "code",
   "execution_count": 4,
   "metadata": {},
   "outputs": [
    {
     "name": "stdout",
     "output_type": "stream",
     "text": [
      "条件分岐1\n"
     ]
    }
   ],
   "source": [
    "b = 21\n",
    "if b > 20:\n",
    "    print('条件分岐1')\n",
    "elif b > 10:\n",
    "    print('条件分岐2')\n",
    "else:\n",
    "    print('条件分岐3')"
   ]
  },
  {
   "cell_type": "markdown",
   "metadata": {},
   "source": [
    "なおpythonでは「何もしない」時に何も書かないとエラーになります。"
   ]
  },
  {
   "cell_type": "code",
   "execution_count": 5,
   "metadata": {
    "scrolled": true
   },
   "outputs": [
    {
     "ename": "IndentationError",
     "evalue": "expected an indented block (<ipython-input-5-3542317fbc86>, line 4)",
     "output_type": "error",
     "traceback": [
      "\u001b[0;36m  File \u001b[0;32m\"<ipython-input-5-3542317fbc86>\"\u001b[0;36m, line \u001b[0;32m4\u001b[0m\n\u001b[0;31m    else:\u001b[0m\n\u001b[0m       ^\u001b[0m\n\u001b[0;31mIndentationError\u001b[0m\u001b[0;31m:\u001b[0m expected an indented block\n"
     ]
    }
   ],
   "source": [
    "b = 21\n",
    "if b % 2 == 0:\n",
    "\n",
    "else:\n",
    "    print('bは奇数')"
   ]
  },
  {
   "cell_type": "code",
   "execution_count": 6,
   "metadata": {},
   "outputs": [
    {
     "ename": "IndentationError",
     "evalue": "expected an indented block (<ipython-input-6-398468590ac7>, line 3)",
     "output_type": "error",
     "traceback": [
      "\u001b[0;36m  File \u001b[0;32m\"<ipython-input-6-398468590ac7>\"\u001b[0;36m, line \u001b[0;32m3\u001b[0m\n\u001b[0;31m    else:\u001b[0m\n\u001b[0m       ^\u001b[0m\n\u001b[0;31mIndentationError\u001b[0m\u001b[0;31m:\u001b[0m expected an indented block\n"
     ]
    }
   ],
   "source": [
    "b = 21\n",
    "if b % 2 == 0:\n",
    "else:\n",
    "    print('bは奇数')"
   ]
  },
  {
   "cell_type": "markdown",
   "metadata": {},
   "source": [
    "この場合そもそも"
   ]
  },
  {
   "cell_type": "code",
   "execution_count": 7,
   "metadata": {},
   "outputs": [
    {
     "name": "stdout",
     "output_type": "stream",
     "text": [
      "bは奇数\n"
     ]
    }
   ],
   "source": [
    "b = 21\n",
    "if b % 2 != 0:\n",
    "    print('bは奇数')"
   ]
  },
  {
   "cell_type": "markdown",
   "metadata": {},
   "source": [
    "とロジックを整理するか、もしくは「何もしないことを明示的にかくpass文」を書きましょう。"
   ]
  },
  {
   "cell_type": "code",
   "execution_count": 8,
   "metadata": {
    "scrolled": true
   },
   "outputs": [
    {
     "name": "stdout",
     "output_type": "stream",
     "text": [
      "bは奇数\n"
     ]
    }
   ],
   "source": [
    "b = 21\n",
    "if b % 2 == 0:\n",
    "    pass\n",
    "else:\n",
    "    print('bは奇数')"
   ]
  },
  {
   "cell_type": "markdown",
   "metadata": {},
   "source": [
    "以下の欄を使って、色々実際に使ってみましょう。"
   ]
  },
  {
   "cell_type": "code",
   "execution_count": null,
   "metadata": {},
   "outputs": [],
   "source": [
    "# ここで色々試してね\n",
    "\n",
    "\n",
    "\n",
    "\n",
    "\n",
    "\n",
    "\n",
    "\n"
   ]
  },
  {
   "cell_type": "markdown",
   "metadata": {},
   "source": [
    "## 先週の問題: よく読んで解き方を学びましょう"
   ]
  },
  {
   "cell_type": "markdown",
   "metadata": {},
   "source": [
    "「体重(kg)」と「身長(cm)」を受け取って肥満度判定をするプログラムを作成して見ましょう。健康器具でもよく使われるBMIという指標\n",
    "\n",
    "BMI = 体重(kg) ÷ ( 身長(m)×身長(m) )\n",
    "\n",
    "を計算して(身長をメートル(m)換算に直すのに注意)、下記の基準で肥満度を判定するのが一般的です。\n",
    "\n",
    "BMI値 | 判定\n",
    "-----|-----\n",
    "18.5未満 | やせ型\n",
    "18.5から25未満 | 普通体重\n",
    "25から30未満 | 肥満(軽)\n",
    "30以上 | 肥満(重)"
   ]
  },
  {
   "cell_type": "markdown",
   "metadata": {},
   "source": [
    "まず、BMIの計算をPythonで書いてみましょう。"
   ]
  },
  {
   "cell_type": "code",
   "execution_count": 9,
   "metadata": {},
   "outputs": [
    {
     "name": "stdout",
     "output_type": "stream",
     "text": [
      "体重は64kgです\n",
      "身長は180cm(1.8m)です\n",
      "BMI値は19.753です\n"
     ]
    }
   ],
   "source": [
    "weight = 64\n",
    "height = 180\n",
    "height_m = 0.01*height\n",
    "\n",
    "print('体重は{0}kgです'.format(weight))\n",
    "print('身長は{0}cm({1}m)です'.format(height, height_m))\n",
    "\n",
    "bmi = weight / (height_m * height_m)\n",
    "\n",
    "print('BMI値は{0:.3f}です'.format(bmi))"
   ]
  },
  {
   "cell_type": "markdown",
   "metadata": {},
   "source": [
    "この値から判定を出力する部分をPythonで描いてみましょう。"
   ]
  },
  {
   "cell_type": "code",
   "execution_count": 10,
   "metadata": {},
   "outputs": [
    {
     "name": "stdout",
     "output_type": "stream",
     "text": [
      "普通体重\n"
     ]
    }
   ],
   "source": [
    "if bmi < 18.5:\n",
    "    print('やせ型')\n",
    "elif 18.5 <= bmi < 25:\n",
    "    print('普通体重')\n",
    "elif 25 <= bmi < 30:\n",
    "    print('肥満(軽)')\n",
    "elif 30 <= bmi:\n",
    "    print('肥満(重)')\n",
    "else:\n",
    "    print('エラー: 何かがおかしい')"
   ]
  },
  {
   "cell_type": "markdown",
   "metadata": {},
   "source": [
    "以上をまとめてみましょう。まず、bmi計算の部分は「関数」にしています。文字列strに判定結果を代入しそれをreturnしています。またinputの結果は「文字列型」になるので実数型(float)に変換しています。format文の:の後ろに「.3f」とすると小数点以下3けた、「.5f」とすると小数点以下5けたの表示にできます。"
   ]
  },
  {
   "cell_type": "code",
   "execution_count": 11,
   "metadata": {},
   "outputs": [
    {
     "name": "stdout",
     "output_type": "stream",
     "text": [
      "体重(kg)を入力してください98.3\n",
      "身長(cm)を入力してください167.1\n",
      "体重は98.3kgです\n",
      "身長は167.1cm(1.671m)です\n",
      "BMI値は35.205です\n",
      "肥満度判定：肥満(重)\n"
     ]
    }
   ],
   "source": [
    "def hantei(value):\n",
    "    str = ''\n",
    "    if value < 18.5:\n",
    "        str = 'やせ型'\n",
    "    elif 18.5 <= value < 25:\n",
    "        str = '普通体重'\n",
    "    elif 25 <= value < 30:\n",
    "        str = '肥満(軽)'\n",
    "    elif 30 <= value:\n",
    "        str = '肥満(重)'\n",
    "    else:\n",
    "        str = 'エラー: 何かがおかしい'\n",
    "    return str\n",
    "\n",
    "input1 = input('体重(kg)を入力してください')\n",
    "input2 = input('身長(cm)を入力してください')\n",
    "\n",
    "weight = float(input1)\n",
    "height = float(input2)\n",
    "height_m = 0.01*height\n",
    "bmi = weight / (height_m * height_m)\n",
    "\n",
    "print('体重は{0}kgです'.format(weight))\n",
    "print('身長は{0}cm({1}m)です'.format(height, height_m))\n",
    "print('BMI値は{0:.3f}です'.format(bmi))\n",
    "print('肥満度判定：{0}'.format(hantei(bmi)))"
   ]
  },
  {
   "cell_type": "markdown",
   "metadata": {},
   "source": [
    "「Fizz Buzz」の方は各自やってみましょう！ "
   ]
  },
  {
   "cell_type": "markdown",
   "metadata": {},
   "source": [
    "## リスト型の復習"
   ]
  },
  {
   "cell_type": "markdown",
   "metadata": {},
   "source": [
    "データの計算ぽい処理の典型として、合計値と最大値と平均値を計算してみる処理をプログラミングしてみましょう。"
   ]
  },
  {
   "cell_type": "code",
   "execution_count": 13,
   "metadata": {},
   "outputs": [
    {
     "name": "stdout",
     "output_type": "stream",
     "text": [
      "合計値は524です\n",
      "平均値は74.85714285714286です\n"
     ]
    }
   ],
   "source": [
    "numbers = [88, 76, 67, 43, 79, 80, 91]\n",
    "\n",
    "s = 0\n",
    "for x in numbers:\n",
    "    s = s + x\n",
    "\n",
    "print('合計値は{}です'.format(s))\n",
    "print('平均値は{}です'.format(s/len(numbers)))"
   ]
  },
  {
   "cell_type": "markdown",
   "metadata": {},
   "source": [
    "では、numbersのなかで最も大きい数字を求めるのにはどうすればいいでしょうか？\n",
    "まず何と比べても小さいと判定される特殊な数字を使います。"
   ]
  },
  {
   "cell_type": "code",
   "execution_count": 14,
   "metadata": {},
   "outputs": [
    {
     "name": "stdout",
     "output_type": "stream",
     "text": [
      "True\n",
      "True\n",
      "True\n"
     ]
    }
   ],
   "source": [
    "now_max = float('-inf') \n",
    "\n",
    "print(now_max < 1)\n",
    "print(now_max < 100)\n",
    "print(now_max < -1000)"
   ]
  },
  {
   "cell_type": "markdown",
   "metadata": {},
   "source": [
    "これを使うと以下のようにすれば最大値が計算できます。"
   ]
  },
  {
   "cell_type": "code",
   "execution_count": 15,
   "metadata": {},
   "outputs": [
    {
     "name": "stdout",
     "output_type": "stream",
     "text": [
      "最大値は91です\n"
     ]
    }
   ],
   "source": [
    "numbers = [88, 76, 67, 43, 79, 80, 91]\n",
    "now_max = float('-inf') \n",
    "\n",
    "for x in numbers:\n",
    "    if x > now_max:\n",
    "        now_max = x\n",
    "\n",
    "print('最大値は{}です'.format(now_max))"
   ]
  },
  {
   "cell_type": "markdown",
   "metadata": {},
   "source": [
    "なお、数値計算の拡張機能を使うと下記のように事前に書かれた関数を使うこともできます。python標準でもsumという総和を求める関数はあります。"
   ]
  },
  {
   "cell_type": "code",
   "execution_count": 16,
   "metadata": {},
   "outputs": [
    {
     "name": "stdout",
     "output_type": "stream",
     "text": [
      "91\n",
      "74.85714285714286\n",
      "524\n",
      "524\n"
     ]
    }
   ],
   "source": [
    "import numpy\n",
    "\n",
    "print(numpy.max(numbers))\n",
    "print(numpy.mean(numbers))\n",
    "print(numpy.sum(numbers))\n",
    "\n",
    "print(sum(numbers))"
   ]
  },
  {
   "cell_type": "markdown",
   "metadata": {},
   "source": [
    "他にもリストは以下のような操作ができます。全部を網羅して覚える必要はないし羅列しても覚えられないと思うので、詳しくは https://docs.python.org/ja/3/tutorial/datastructures.html などを参考してください。"
   ]
  },
  {
   "cell_type": "code",
   "execution_count": 17,
   "metadata": {},
   "outputs": [
    {
     "name": "stdout",
     "output_type": "stream",
     "text": [
      "['apple', 'orange', 'banana']\n"
     ]
    }
   ],
   "source": [
    "fruits = ['apple', 'orange', 'banana']\n",
    "print(fruits)"
   ]
  },
  {
   "cell_type": "code",
   "execution_count": 18,
   "metadata": {},
   "outputs": [
    {
     "name": "stdout",
     "output_type": "stream",
     "text": [
      "['apple', 'orange', 'banana', 'peach']\n"
     ]
    }
   ],
   "source": [
    "fruits.append('peach')\n",
    "print(fruits)"
   ]
  },
  {
   "cell_type": "code",
   "execution_count": 19,
   "metadata": {},
   "outputs": [
    {
     "name": "stdout",
     "output_type": "stream",
     "text": [
      "['apple', 'orange', 'banana', 'peach', 'mango', 'grape']\n"
     ]
    }
   ],
   "source": [
    "fruits.extend(['mango', 'grape'])\n",
    "print(fruits)"
   ]
  },
  {
   "cell_type": "code",
   "execution_count": 22,
   "metadata": {},
   "outputs": [
    {
     "name": "stdout",
     "output_type": "stream",
     "text": [
      "['apple', 'orange', 'banana', 'peach', 'grape']\n"
     ]
    }
   ],
   "source": [
    "fruits.remove('mango')\n",
    "print(fruits)"
   ]
  },
  {
   "cell_type": "code",
   "execution_count": 21,
   "metadata": {},
   "outputs": [
    {
     "name": "stdout",
     "output_type": "stream",
     "text": [
      "['a', 'b', 'c']\n",
      "['d', 'e']\n",
      "['a', 'b', 'c', 'd', 'e']\n",
      "[1, 2, 3, 4, 5, 6]\n"
     ]
    }
   ],
   "source": [
    "lis0 = ['a', 'b', 'c']\n",
    "lis1 = ['d', 'e']\n",
    "\n",
    "print(lis0)\n",
    "print(lis1)\n",
    "print(lis0 + lis1)\n",
    "\n",
    "print([1, 2, 3, 4] + [5, 6])"
   ]
  },
  {
   "cell_type": "code",
   "execution_count": 23,
   "metadata": {
    "scrolled": true
   },
   "outputs": [
    {
     "name": "stdout",
     "output_type": "stream",
     "text": [
      "['a', 'c']\n"
     ]
    }
   ],
   "source": [
    "del lis0[1]\n",
    "print(lis0)"
   ]
  },
  {
   "cell_type": "markdown",
   "metadata": {},
   "source": [
    "以下の欄を使って、色々実際に使ってみましょう。"
   ]
  },
  {
   "cell_type": "code",
   "execution_count": null,
   "metadata": {},
   "outputs": [],
   "source": [
    "# ここで色々試してね\n",
    "\n",
    "\n",
    "\n",
    "\n",
    "\n",
    "\n",
    "\n",
    "\n"
   ]
  },
  {
   "cell_type": "markdown",
   "metadata": {},
   "source": [
    "## タプル型と集合型"
   ]
  },
  {
   "cell_type": "markdown",
   "metadata": {},
   "source": [
    "リストは変更ができますが、変更して欲しくない場合はカッコ「[]」の代わりに「()」を使えばタプルという型になります。"
   ]
  },
  {
   "cell_type": "code",
   "execution_count": 32,
   "metadata": {},
   "outputs": [
    {
     "name": "stdout",
     "output_type": "stream",
     "text": [
      "2 2\n"
     ]
    }
   ],
   "source": [
    "l0 = [1, 2, 3]\n",
    "t0 = (1, 2, 3)\n",
    "\n",
    "print(l0[1], t0[1])"
   ]
  },
  {
   "cell_type": "code",
   "execution_count": 34,
   "metadata": {},
   "outputs": [
    {
     "name": "stdout",
     "output_type": "stream",
     "text": [
      "[1, 2, -1]\n"
     ]
    }
   ],
   "source": [
    "l0[2] = -1\n",
    "print(l0)"
   ]
  },
  {
   "cell_type": "markdown",
   "metadata": {},
   "source": [
    "タプルは変更できないので変更しようとするとエラーになります。"
   ]
  },
  {
   "cell_type": "code",
   "execution_count": 35,
   "metadata": {},
   "outputs": [
    {
     "ename": "TypeError",
     "evalue": "'tuple' object does not support item assignment",
     "output_type": "error",
     "traceback": [
      "\u001b[0;31m---------------------------------------------------------------------------\u001b[0m",
      "\u001b[0;31mTypeError\u001b[0m                                 Traceback (most recent call last)",
      "\u001b[0;32m<ipython-input-35-9431fd1ebcba>\u001b[0m in \u001b[0;36m<module>\u001b[0;34m()\u001b[0m\n\u001b[0;32m----> 1\u001b[0;31m \u001b[0mt0\u001b[0m\u001b[0;34m[\u001b[0m\u001b[0;36m2\u001b[0m\u001b[0;34m]\u001b[0m \u001b[0;34m=\u001b[0m \u001b[0;34m-\u001b[0m\u001b[0;36m1\u001b[0m\u001b[0;34m\u001b[0m\u001b[0m\n\u001b[0m\u001b[1;32m      2\u001b[0m \u001b[0mprint\u001b[0m\u001b[0;34m(\u001b[0m\u001b[0mt0\u001b[0m\u001b[0;34m)\u001b[0m\u001b[0;34m\u001b[0m\u001b[0m\n",
      "\u001b[0;31mTypeError\u001b[0m: 'tuple' object does not support item assignment"
     ]
    }
   ],
   "source": [
    "t0[2] = -1\n",
    "print(t0)"
   ]
  },
  {
   "cell_type": "markdown",
   "metadata": {},
   "source": [
    "リストは同じものを複数入れることができますが、「集合」として扱いこともあります。カッコを「{}」にするか「set」を使うと集合型として扱うことができます。"
   ]
  },
  {
   "cell_type": "code",
   "execution_count": 24,
   "metadata": {},
   "outputs": [
    {
     "name": "stdout",
     "output_type": "stream",
     "text": [
      "['red', 'blue', 'green', 'yellow', 'yellow']\n"
     ]
    }
   ],
   "source": [
    "colors = ['red', 'blue', 'green', 'yellow', 'yellow']\n",
    "print(colors)"
   ]
  },
  {
   "cell_type": "code",
   "execution_count": 25,
   "metadata": {},
   "outputs": [
    {
     "name": "stdout",
     "output_type": "stream",
     "text": [
      "{'yellow', 'red', 'blue', 'green'}\n"
     ]
    }
   ],
   "source": [
    "set1 = set(colors)\n",
    "print(set1)"
   ]
  },
  {
   "cell_type": "markdown",
   "metadata": {},
   "source": [
    "集合演算をすることができます。"
   ]
  },
  {
   "cell_type": "code",
   "execution_count": 36,
   "metadata": {
    "scrolled": true
   },
   "outputs": [
    {
     "name": "stdout",
     "output_type": "stream",
     "text": [
      "共通集合: {'red'}\n",
      "差集合: {'yellow', 'green', 'blue'}\n",
      "和集合: {'red', 'blue', 'pink', 'yellow', 'green', 'black'}\n",
      "False\n",
      "True\n"
     ]
    }
   ],
   "source": [
    "set1 = {'yellow', 'red', 'blue', 'green'}\n",
    "set2 = {'pink', 'black', 'red'}\n",
    "\n",
    "print('共通集合:', set1 & set2)\n",
    "print('差集合:', set1 - set2)\n",
    "print('和集合:', set1 | set2)\n",
    "\n",
    "print('black' in set1)\n",
    "print('black' in set2)"
   ]
  },
  {
   "cell_type": "markdown",
   "metadata": {},
   "source": [
    "以下の欄を使って、色々実際に使ってみましょう。"
   ]
  },
  {
   "cell_type": "code",
   "execution_count": null,
   "metadata": {},
   "outputs": [],
   "source": [
    "# ここで色々試してね\n",
    "\n",
    "\n",
    "\n",
    "\n",
    "\n",
    "\n",
    "\n",
    "\n"
   ]
  },
  {
   "cell_type": "markdown",
   "metadata": {},
   "source": [
    "## 辞書型"
   ]
  },
  {
   "cell_type": "markdown",
   "metadata": {},
   "source": [
    "次に「辞書型」というデータ構造について試してみましょう。リストと並び非常によく使うものです。"
   ]
  },
  {
   "cell_type": "markdown",
   "metadata": {},
   "source": [
    "辞書(dictionary)というくらいなので、英和辞典を思い浮かべてください。英和辞典では「りんご」というキーワードを指定すると、そのキーワードに対応する英単語「Apple」を調べることができます。辞書型では同じように、キーワードを指定すると、キーワードに応じた値を取り出すことができます。"
   ]
  },
  {
   "cell_type": "code",
   "execution_count": 38,
   "metadata": {},
   "outputs": [
    {
     "name": "stdout",
     "output_type": "stream",
     "text": [
      "{'りんご': 'apple', 'みかん': 'orange'}\n"
     ]
    }
   ],
   "source": [
    "mydict = dict()\n",
    "\n",
    "mydict['りんご'] = 'apple'\n",
    "mydict['みかん'] = 'orange'\n",
    "\n",
    "print(mydict)"
   ]
  },
  {
   "cell_type": "code",
   "execution_count": 39,
   "metadata": {},
   "outputs": [
    {
     "data": {
      "text/plain": [
       "'apple'"
      ]
     },
     "execution_count": 39,
     "metadata": {},
     "output_type": "execute_result"
    }
   ],
   "source": [
    "mydict['りんご']"
   ]
  },
  {
   "cell_type": "markdown",
   "metadata": {},
   "source": [
    "今この辞書には「りんご」「みかん」の二つのキーワードが登録されていますが「もも」はまだ登録されていません。このようにキーワードがその辞書に登録されているかを調べるには下記のように書きます。"
   ]
  },
  {
   "cell_type": "code",
   "execution_count": 40,
   "metadata": {},
   "outputs": [
    {
     "name": "stdout",
     "output_type": "stream",
     "text": [
      "True\n",
      "True\n",
      "False\n"
     ]
    }
   ],
   "source": [
    "print('りんご' in mydict)\n",
    "print('みかん' in mydict)\n",
    "print('もも' in mydict)"
   ]
  },
  {
   "cell_type": "markdown",
   "metadata": {},
   "source": [
    "登録されているキーワードをリスト型にするには以下のようにします。"
   ]
  },
  {
   "cell_type": "code",
   "execution_count": 41,
   "metadata": {},
   "outputs": [
    {
     "data": {
      "text/plain": [
       "dict_keys(['りんご', 'みかん'])"
      ]
     },
     "execution_count": 41,
     "metadata": {},
     "output_type": "execute_result"
    }
   ],
   "source": [
    "mydict.keys()"
   ]
  },
  {
   "cell_type": "code",
   "execution_count": 42,
   "metadata": {},
   "outputs": [
    {
     "data": {
      "text/plain": [
       "['りんご', 'みかん']"
      ]
     },
     "execution_count": 42,
     "metadata": {},
     "output_type": "execute_result"
    }
   ],
   "source": [
    "list(mydict.keys())"
   ]
  },
  {
   "cell_type": "markdown",
   "metadata": {},
   "source": [
    "辞書は下記のようにダイレクトに定義することもできます。"
   ]
  },
  {
   "cell_type": "code",
   "execution_count": 43,
   "metadata": {},
   "outputs": [
    {
     "name": "stdout",
     "output_type": "stream",
     "text": [
      "{'x': 1, 'y': 22, 'z': -3}\n"
     ]
    }
   ],
   "source": [
    "dict1 = {'x': 1, 'y': 22, 'z': -3}\n",
    "print(dict1)"
   ]
  },
  {
   "cell_type": "code",
   "execution_count": 44,
   "metadata": {},
   "outputs": [
    {
     "data": {
      "text/plain": [
       "True"
      ]
     },
     "execution_count": 44,
     "metadata": {},
     "output_type": "execute_result"
    }
   ],
   "source": [
    "'z' in dict1"
   ]
  },
  {
   "cell_type": "markdown",
   "metadata": {},
   "source": [
    "for文と組み合わせることによって、辞書型の内容を調べることができます。"
   ]
  },
  {
   "cell_type": "code",
   "execution_count": 45,
   "metadata": {},
   "outputs": [
    {
     "name": "stdout",
     "output_type": "stream",
     "text": [
      "key x value 1\n",
      "key y value 22\n",
      "key z value -3\n"
     ]
    }
   ],
   "source": [
    "for key in dict1.keys():\n",
    "    print('key', key, 'value', dict1[key])"
   ]
  },
  {
   "cell_type": "code",
   "execution_count": 47,
   "metadata": {
    "scrolled": false
   },
   "outputs": [
    {
     "name": "stdout",
     "output_type": "stream",
     "text": [
      "key x value 1\n",
      "key y value 22\n",
      "key z value -3\n"
     ]
    }
   ],
   "source": [
    "for key, value in dict1.items():\n",
    "    print('key', key, 'value', value)"
   ]
  },
  {
   "cell_type": "markdown",
   "metadata": {},
   "source": [
    "以下の欄を使って、色々実際に使ってみましょう。"
   ]
  },
  {
   "cell_type": "code",
   "execution_count": null,
   "metadata": {},
   "outputs": [],
   "source": [
    "# ここで色々試してね\n",
    "\n",
    "\n",
    "\n",
    "\n",
    "\n",
    "\n",
    "\n",
    "\n"
   ]
  },
  {
   "cell_type": "markdown",
   "metadata": {},
   "source": [
    "## モジュール"
   ]
  },
  {
   "cell_type": "markdown",
   "metadata": {},
   "source": [
    "ここまでJupyterを使って小さいプログラムを作ってきました。最初はまずはこのように試行錯誤しながら色々なプログラムを作っていくのが良いでしょう。"
   ]
  },
  {
   "cell_type": "markdown",
   "metadata": {},
   "source": [
    "実際にプログラムを色々作っていると、何度も同じような関数を定義したり、一回作った関数をほかのプログラムでも使い回したかったり、「コードの利活用」の必要を感じてくるものです。"
   ]
  },
  {
   "cell_type": "markdown",
   "metadata": {},
   "source": [
    "現代のプログラムはそのようにたくさんの小さい機能を持つ「既存のコード」を色々組み合わせて作成されています。"
   ]
  },
  {
   "cell_type": "markdown",
   "metadata": {},
   "source": [
    "Pythonでは、あらかじめ別のテキストファイルに.pyという拡張子でコードを書いておけば、それを「モジュール」として使うことができます。例えば、以下のような関数を考えます。"
   ]
  },
  {
   "cell_type": "code",
   "execution_count": 50,
   "metadata": {},
   "outputs": [],
   "source": [
    "def my_print_message(msg):\n",
    "    print('メッセージを出力します')\n",
    "    print('メッセージ：', msg)"
   ]
  },
  {
   "cell_type": "markdown",
   "metadata": {},
   "source": [
    "これは下記のように使うことができます。"
   ]
  },
  {
   "cell_type": "code",
   "execution_count": 52,
   "metadata": {},
   "outputs": [
    {
     "name": "stdout",
     "output_type": "stream",
     "text": [
      "メッセージを出力します\n",
      "メッセージ： こんにちは！\n"
     ]
    }
   ],
   "source": [
    "my_print_message('こんにちは！')"
   ]
  },
  {
   "cell_type": "markdown",
   "metadata": {},
   "source": [
    "これをテキストファイル「my_module.py」に書いて保存します。Jupyterで作成する場合は、元のファイルを見る画面に戻って、新規作成の時に「Text File」を選び、上の「untitled.txt」となっているファイル名をクリックして「my_module.py」に変えてから、上のコードをコピー＆ペースとします。"
   ]
  },
  {
   "cell_type": "markdown",
   "metadata": {},
   "source": [
    "Webサイトにもファイルが置いてあるのでそれをダウンロードして、このpractice03.ipynbと同じ場所に置いても良いでしょう。"
   ]
  },
  {
   "cell_type": "markdown",
   "metadata": {},
   "source": [
    "その準備が終わった後、下記のimport文を使えばこのモジュールを使うことができます。"
   ]
  },
  {
   "cell_type": "code",
   "execution_count": 53,
   "metadata": {},
   "outputs": [],
   "source": [
    "import my_module"
   ]
  },
  {
   "cell_type": "code",
   "execution_count": 55,
   "metadata": {
    "scrolled": true
   },
   "outputs": [
    {
     "name": "stdout",
     "output_type": "stream",
     "text": [
      "メッセージを出力します\n",
      "メッセージ： こんばんは！\n"
     ]
    }
   ],
   "source": [
    "my_module.my_print_message('こんばんは！')"
   ]
  },
  {
   "cell_type": "markdown",
   "metadata": {},
   "source": [
    "何度も使う場合は長いので、my_print_messageだけで呼び出せるようにすることもできます。"
   ]
  },
  {
   "cell_type": "code",
   "execution_count": 56,
   "metadata": {},
   "outputs": [],
   "source": [
    "from my_module import my_print_message"
   ]
  },
  {
   "cell_type": "code",
   "execution_count": 57,
   "metadata": {},
   "outputs": [
    {
     "name": "stdout",
     "output_type": "stream",
     "text": [
      "メッセージを出力します\n",
      "メッセージ： おやすみ！\n"
     ]
    }
   ],
   "source": [
    "my_print_message('おやすみ！')"
   ]
  },
  {
   "cell_type": "markdown",
   "metadata": {},
   "source": [
    "名前が長い場合は短い名前を適当につけて使うこともできます。"
   ]
  },
  {
   "cell_type": "code",
   "execution_count": 59,
   "metadata": {
    "scrolled": true
   },
   "outputs": [
    {
     "name": "stdout",
     "output_type": "stream",
     "text": [
      "メッセージを出力します\n",
      "メッセージ： 呼び出しを短くすると分かりづらくなるので注意！！\n"
     ]
    }
   ],
   "source": [
    "from my_module import my_print_message as mpm\n",
    "\n",
    "mpm('呼び出しを短くすると分かりづらくなるので注意！！')"
   ]
  },
  {
   "cell_type": "markdown",
   "metadata": {},
   "source": [
    "上記のようにfromでimportするとすでに定義済みの関数の名前と被ってしまう場合もあるので、分かっている場合以外は最初は明示的にモジュール名をつけるようにしたほうが良いでしょう。\n",
    "\n",
    "import文にも「as」をつけることもできます。"
   ]
  },
  {
   "cell_type": "code",
   "execution_count": 60,
   "metadata": {
    "scrolled": true
   },
   "outputs": [
    {
     "name": "stdout",
     "output_type": "stream",
     "text": [
      "メッセージを出力します\n",
      "メッセージ： 明示的にimportで使うほうが安全です\n"
     ]
    }
   ],
   "source": [
    "import my_module as mm\n",
    "\n",
    "mm.my_print_message('明示的にimportで使うほうが安全です')"
   ]
  },
  {
   "cell_type": "markdown",
   "metadata": {},
   "source": [
    "下記の公式チュートリアルの説明も見てみてください。"
   ]
  },
  {
   "cell_type": "markdown",
   "metadata": {},
   "source": [
    "https://docs.python.org/ja/3/tutorial/modules.html"
   ]
  },
  {
   "cell_type": "markdown",
   "metadata": {},
   "source": [
    "## 標準ライブラリ"
   ]
  },
  {
   "cell_type": "markdown",
   "metadata": {},
   "source": [
    "Pythonの基本機能を見ていますが、実用的なプログラミングでよく使うようなプログラムというのは、誰かがすでに作ったものがPythonに付属してきます。これまでも説明なくみてきましたが「import」を使うものは、このように全て「すでに(誰かが)作成済みのコード」を呼び出して使う、という意味です。"
   ]
  },
  {
   "cell_type": "markdown",
   "metadata": {},
   "source": [
    "Pythonで使えるように書かれているコードは全てモジュールとして使えますが、Pythonに標準的についてくるものと、標準的にはついてこないものがあります。Anacondaは「標準的にはついてこないが役に立つもの」を全て付属したパッケージで、数値計算やグラフィクスの描画や統計処理や機械学習などはPythonに標準的についてくるコードではなく、Anacondaに入っているものです。Anacondaには非常に高品質で実用的に使われているメジャーなものが色々入っています。"
   ]
  },
  {
   "cell_type": "markdown",
   "metadata": {},
   "source": [
    "しかし、まずは、Pythonに標準的についてくるモジュール群をみてみましょう。色々な機能が用意されており、必要に応じて呼び出せることから「ライブラリ」と呼ばれます。以下では「標準ライブラリ」について見てみましょう。"
   ]
  },
  {
   "cell_type": "markdown",
   "metadata": {},
   "source": [
    "### mathモジュール"
   ]
  },
  {
   "cell_type": "code",
   "execution_count": 62,
   "metadata": {},
   "outputs": [],
   "source": [
    "import math"
   ]
  },
  {
   "cell_type": "code",
   "execution_count": 65,
   "metadata": {},
   "outputs": [
    {
     "data": {
      "text/plain": [
       "3.141592653589793"
      ]
     },
     "execution_count": 65,
     "metadata": {},
     "output_type": "execute_result"
    }
   ],
   "source": [
    "math.pi # 円周率"
   ]
  },
  {
   "cell_type": "code",
   "execution_count": 66,
   "metadata": {},
   "outputs": [
    {
     "data": {
      "text/plain": [
       "11.090536506409418"
      ]
     },
     "execution_count": 66,
     "metadata": {},
     "output_type": "execute_result"
    }
   ],
   "source": [
    "math.sqrt(123) # 平方根 square root = sqrt"
   ]
  },
  {
   "cell_type": "code",
   "execution_count": 69,
   "metadata": {},
   "outputs": [
    {
     "data": {
      "text/plain": [
       "-1.3790534245085682"
      ]
     },
     "execution_count": 69,
     "metadata": {},
     "output_type": "execute_result"
    }
   ],
   "source": [
    "math.sin(23) + math.cos(23) # サイン、コサイン"
   ]
  },
  {
   "cell_type": "code",
   "execution_count": 71,
   "metadata": {},
   "outputs": [
    {
     "data": {
      "text/plain": [
       "10.0"
      ]
     },
     "execution_count": 71,
     "metadata": {},
     "output_type": "execute_result"
    }
   ],
   "source": [
    "math.log(1024, 2) # 対数"
   ]
  },
  {
   "cell_type": "markdown",
   "metadata": {},
   "source": [
    "### randomモジュール"
   ]
  },
  {
   "cell_type": "code",
   "execution_count": 72,
   "metadata": {},
   "outputs": [],
   "source": [
    "import random"
   ]
  },
  {
   "cell_type": "code",
   "execution_count": 73,
   "metadata": {},
   "outputs": [
    {
     "data": {
      "text/plain": [
       "'banana'"
      ]
     },
     "execution_count": 73,
     "metadata": {},
     "output_type": "execute_result"
    }
   ],
   "source": [
    "random.choice(['apple', 'pear', 'banana'])"
   ]
  },
  {
   "cell_type": "code",
   "execution_count": 74,
   "metadata": {},
   "outputs": [
    {
     "data": {
      "text/plain": [
       "[42, 3, 77, 89, 33, 41, 50, 16, 90, 66]"
      ]
     },
     "execution_count": 74,
     "metadata": {},
     "output_type": "execute_result"
    }
   ],
   "source": [
    "random.sample(range(100), 10)"
   ]
  },
  {
   "cell_type": "code",
   "execution_count": 75,
   "metadata": {},
   "outputs": [
    {
     "data": {
      "text/plain": [
       "0.8485589018941042"
      ]
     },
     "execution_count": 75,
     "metadata": {},
     "output_type": "execute_result"
    }
   ],
   "source": [
    "random.random() # [0, 1]の乱数"
   ]
  },
  {
   "cell_type": "code",
   "execution_count": 76,
   "metadata": {},
   "outputs": [
    {
     "data": {
      "text/plain": [
       "1"
      ]
     },
     "execution_count": 76,
     "metadata": {},
     "output_type": "execute_result"
    }
   ],
   "source": [
    " random.randrange(6) # range(6)からの整数乱数"
   ]
  },
  {
   "cell_type": "markdown",
   "metadata": {},
   "source": [
    "### dateモジュール"
   ]
  },
  {
   "cell_type": "code",
   "execution_count": 78,
   "metadata": {},
   "outputs": [],
   "source": [
    "import datetime"
   ]
  },
  {
   "cell_type": "code",
   "execution_count": 79,
   "metadata": {
    "scrolled": true
   },
   "outputs": [
    {
     "data": {
      "text/plain": [
       "datetime.date(2018, 6, 7)"
      ]
     },
     "execution_count": 79,
     "metadata": {},
     "output_type": "execute_result"
    }
   ],
   "source": [
    "datetime.date.today()"
   ]
  },
  {
   "cell_type": "code",
   "execution_count": 85,
   "metadata": {},
   "outputs": [
    {
     "name": "stdout",
     "output_type": "stream",
     "text": [
      "15069\n"
     ]
    }
   ],
   "source": [
    "birthday = datetime.date(1977, 3, 5)\n",
    "now = datetime.date.today()\n",
    "\n",
    "age = now - birthday\n",
    "print(age.days)"
   ]
  },
  {
   "cell_type": "markdown",
   "metadata": {},
   "source": [
    "### 公式チュートリアルの標準ライブラリミニツアー"
   ]
  },
  {
   "cell_type": "markdown",
   "metadata": {},
   "source": [
    "ここまで来た人はそのほかの標準ライブラリのモジュールについてざっと下記を見てみてください。覚える必要は全くありませんがどういう機能があるかを一度は概観しておくのは大事でしょう。"
   ]
  },
  {
   "cell_type": "markdown",
   "metadata": {},
   "source": [
    "公式チュートリアル：標準ライブラリのミニツアー(1)"
   ]
  },
  {
   "cell_type": "markdown",
   "metadata": {},
   "source": [
    "https://docs.python.org/ja/3/tutorial/stdlib.html"
   ]
  },
  {
   "cell_type": "markdown",
   "metadata": {},
   "source": [
    "公式チュートリアル：標準ライブラリのミニツアー(2)"
   ]
  },
  {
   "cell_type": "markdown",
   "metadata": {},
   "source": [
    "https://docs.python.org/ja/3/tutorial/stdlib2.html"
   ]
  },
  {
   "cell_type": "markdown",
   "metadata": {},
   "source": [
    "### 公式の標準ライブラリのリファレンス"
   ]
  },
  {
   "cell_type": "markdown",
   "metadata": {},
   "source": [
    "完全な情報は下記の公式の情報を見てみてください。"
   ]
  },
  {
   "cell_type": "markdown",
   "metadata": {},
   "source": [
    "https://docs.python.org/ja/3/library/index.html"
   ]
  },
  {
   "cell_type": "markdown",
   "metadata": {},
   "source": [
    "https://docs.python.org/ja/3/py-modindex.html"
   ]
  }
 ],
 "metadata": {
  "hide_input": false,
  "kernelspec": {
   "display_name": "Python 3",
   "language": "python",
   "name": "python3"
  },
  "language_info": {
   "codemirror_mode": {
    "name": "ipython",
    "version": 3
   },
   "file_extension": ".py",
   "mimetype": "text/x-python",
   "name": "python",
   "nbconvert_exporter": "python",
   "pygments_lexer": "ipython3",
   "version": "3.6.1"
  },
  "toc": {
   "nav_menu": {},
   "number_sections": true,
   "sideBar": true,
   "skip_h1_title": false,
   "toc_cell": false,
   "toc_position": {},
   "toc_section_display": "block",
   "toc_window_display": false
  }
 },
 "nbformat": 4,
 "nbformat_minor": 2
}
