{
 "cells": [
  {
   "cell_type": "markdown",
   "metadata": {},
   "source": [
    "# 復習から非標準ライブラリを使った例へ"
   ]
  },
  {
   "cell_type": "markdown",
   "metadata": {},
   "source": [
    "## まず、補足資料を見て下記の２つの準備をすること"
   ]
  },
  {
   "cell_type": "markdown",
   "metadata": {},
   "source": [
    "1. 新規Notebook「mynewnote.ipynb」を例の通り作成して、メールに添付しtakigawa@ist.hokudai.ac.jpへ送付\n",
    "2. 下記の例で使用するデータ「data.csv」をダウンロードし、このnotebookと同じフォルダにコピーする"
   ]
  },
  {
   "cell_type": "markdown",
   "metadata": {},
   "source": [
    "#### 補足：「Codeセル vs Markdownセル」「緑枠モード(編集モード) vs 青枠モード(コマンドモード)」"
   ]
  },
  {
   "cell_type": "markdown",
   "metadata": {},
   "source": [
    "補足：Pythonのコードを入力するセル(Codeセル)と文字を入力するセル(Markdownセル)の違いが分からない人は、以前配布した資料(講義Webサイトの「jupyterの操作」)を見て復習してください。簡単なintroは以下です。"
   ]
  },
  {
   "cell_type": "code",
   "execution_count": 1,
   "metadata": {
    "scrolled": true
   },
   "outputs": [
    {
     "ename": "NameError",
     "evalue": "name 'このセルを評価する' is not defined",
     "output_type": "error",
     "traceback": [
      "\u001b[0;31m---------------------------------------------------------------------------\u001b[0m",
      "\u001b[0;31mNameError\u001b[0m                                 Traceback (most recent call last)",
      "\u001b[0;32m<ipython-input-1-b39d06701200>\u001b[0m in \u001b[0;36m<module>\u001b[0;34m()\u001b[0m\n\u001b[0;32m----> 1\u001b[0;31m \u001b[0mこのセルを評価する\u001b[0m\u001b[0;34m\u001b[0m\u001b[0m\n\u001b[0m",
      "\u001b[0;31mNameError\u001b[0m: name 'このセルを評価する' is not defined"
     ]
    }
   ],
   "source": [
    "このセルを評価する"
   ]
  },
  {
   "cell_type": "markdown",
   "metadata": {},
   "source": [
    "普通にそのまま評価すると上はエラーになりますね。上記のセルを選択し、緑枠なら「Esc」か、セル外クリックで青枠モード(コマンドモード)にしてください。青枠の状態で、上部の「Code」と書いてあるセルを「Markdown」に変更するか、「m」を押してください。その状態で「Run」(or Shift+Enter)もしくは上部バーの■クリックでセルを評価すると「文字入力のセル」としてフォーマットされ、エラーは出ません。私が作成しているjupyter notebook中の説明文のセルは全て、この「Markdown」セルなので、どのように入力すれば、どのように見えるのか、の参考にしてください。このセルをダブルクリック(あるいは青枠モードでEnter)で緑枠モードにすると「ソースコード」が見れます。"
   ]
  },
  {
   "cell_type": "markdown",
   "metadata": {},
   "source": [
    "なお、formatのための特殊な書き方「例えば、**太字**」とか、箇条書き\n",
    "\n",
    "- item1\n",
    "- item2\n",
    "\n",
    "などは以前の授業で紹介したように「Markdown」という簡易形式で書かれます。下記を参考にするか、各自ググって基本的なところくらいを調べて見てください。あるいは、practice01から05までのMarkdownセルの「ソースコード」を緑枠モードにして見てみたら、勘の良い人なら説明文を読まなくても規則がわかると思います。"
   ]
  },
  {
   "cell_type": "markdown",
   "metadata": {},
   "source": [
    "https://guides.github.com/features/mastering-markdown/"
   ]
  },
  {
   "cell_type": "markdown",
   "metadata": {},
   "source": [
    "以下のセルを選択し上部バーのプルダウンメニューで「Markdown」にしてから、内容を自由に書き換えて、Markdownの練習をしてみましょう。表や数式(LaTeXというルールで)も記述できるので、さらに凝りたい人は上のチュートリアルをざっとみてみてください。"
   ]
  },
  {
   "cell_type": "raw",
   "metadata": {},
   "source": [
    "# ここにMarkdownで書いてみよう\n",
    "\n",
    "## 見出しはこんな感じ\n",
    "\n",
    "### シャープ増えるほどサブセクションになるよ\n",
    "\n",
    "文字は普通に書けばいいです。太字にするには例えばアスタリスクで挟むだけで*こんな感じ*ですね。\n",
    "\n",
    "リンクURLはそのまま貼っておけば、フォーマットしたらクリックできるようになるよ。\n",
    "\n",
    "http://art.ist.hokudai.ac.jp/~takigawa/index_ja.html\n",
    "\n",
    "箇条書きは最初にハイフンで並べるだけですね。\n",
    "\n",
    "- 例えば、こんな\n",
    "- 感じで書いておけば\n",
    "- このセルを「Run」したら綺麗にフォーマットされるよ\n",
    "\n",
    "このセルを選択して「Run」(もしくは上部の■ボタン、もしくはShift+Enter)してみてね！！\n",
    "ただし、上部のバーの■ボタンの右横のプルダウンメニューが「Markdown」になってることをチェックですね。"
   ]
  },
  {
   "cell_type": "markdown",
   "metadata": {},
   "source": [
    "# ここまでのまとめ"
   ]
  },
  {
   "cell_type": "markdown",
   "metadata": {},
   "source": [
    "下記のようなことを習得してきました。"
   ]
  },
  {
   "cell_type": "markdown",
   "metadata": {},
   "source": [
    "1. Pythonの構成要素 (型やデータ構造や構文など基本的構成要素と書き方のルール)\n",
    "2. Pythonプログラムの構造 (関数やモジュールとして、一連の処理をまとめる)\n",
    "3. Jupyter Notebookの使い方"
   ]
  },
  {
   "cell_type": "markdown",
   "metadata": {},
   "source": [
    "以下ではAnacondaが内臓している拡張ライブラリを用いて、少し実践的な作業ができることを体験してみましょう！"
   ]
  },
  {
   "cell_type": "markdown",
   "metadata": {},
   "source": [
    "## 外部ライブラリpandasとmatplotlibを使ってデータを分析してみよう"
   ]
  },
  {
   "cell_type": "markdown",
   "metadata": {},
   "source": [
    "まず、関連ライブラリを読み込みます。なんども使うときタイプが面倒臭いので短い別名「pd」「plt」をつけておきます。"
   ]
  },
  {
   "cell_type": "code",
   "execution_count": 1,
   "metadata": {},
   "outputs": [],
   "source": [
    "import pandas as pd\n",
    "import matplotlib.pyplot as plt"
   ]
  },
  {
   "cell_type": "markdown",
   "metadata": {},
   "source": [
    "可視化の結果をこのノートブック内に表示するため以下をしておきます。"
   ]
  },
  {
   "cell_type": "code",
   "execution_count": 2,
   "metadata": {},
   "outputs": [],
   "source": [
    "%matplotlib inline"
   ]
  },
  {
   "cell_type": "markdown",
   "metadata": {},
   "source": [
    "まず、前回やった形で、最初の10行を読んでみます。ただし、Windowsでは日本語が「Shift JIS」というルールで対応づけされているため、「enconding='shift_jis'」を指定しておきます。(気象庁のサイトのデータはWindowsでの使用を想定してShift JISになっています)"
   ]
  },
  {
   "cell_type": "code",
   "execution_count": 3,
   "metadata": {},
   "outputs": [
    {
     "name": "stdout",
     "output_type": "stream",
     "text": [
      "ダウンロードした時刻：2018/06/21 03:18:39\n",
      "\n",
      ",札幌,札幌,札幌,札幌,札幌,札幌,札幌,札幌,札幌\n",
      "年月日,平均気温(℃),平均気温(℃),平均気温(℃),最高気温(℃),最高気温(℃),最高気温(℃),最低気温(℃),最低気温(℃),最低気温(℃)\n",
      ",,,,,,,,,\n",
      ",,品質情報,均質番号,,品質情報,均質番号,,品質情報,均質番号\n",
      "2017/6/20,17.7,8,1,24.2,8,1,12.8,8,1\n",
      "2017/6/21,18.9,8,1,25.8,8,1,14.1,8,1\n",
      "2017/6/22,16.8,8,1,18.4,8,1,15.9,8,1\n",
      "2017/6/23,16.8,8,1,20.9,8,1,14.2,8,1\n"
     ]
    }
   ],
   "source": [
    "with open('data.csv', 'r', encoding='shift_jis') as f:\n",
    "    for i in range(10):\n",
    "        line = f.readline()\n",
    "        print(line, end='')"
   ]
  },
  {
   "cell_type": "markdown",
   "metadata": {},
   "source": [
    "元のExcelでみた形と比べてみましょう。このように「CSV」という形式は、カンマで区切られた単なるテキスト形式です。"
   ]
  },
  {
   "cell_type": "markdown",
   "metadata": {},
   "source": [
    "さて、それでは同じファイルを今度はpandasという外部ライブラリ(Anacondaに付いてくる)を使って読み込んでみましょう。これはCSV形式のファイルを読んで、表形式に変換してくれます。最初の6行はスキップ、ヘッダーなしとして読み込んでみましょう。"
   ]
  },
  {
   "cell_type": "code",
   "execution_count": 4,
   "metadata": {},
   "outputs": [],
   "source": [
    "mydata = pd.read_csv('data.csv', encoding='shift_jis', skiprows=6, header=None)"
   ]
  },
  {
   "cell_type": "markdown",
   "metadata": {},
   "source": [
    "読み込んだ表の最初5行を表示してみます。"
   ]
  },
  {
   "cell_type": "code",
   "execution_count": 5,
   "metadata": {
    "scrolled": true
   },
   "outputs": [
    {
     "data": {
      "text/html": [
       "<div>\n",
       "<style scoped>\n",
       "    .dataframe tbody tr th:only-of-type {\n",
       "        vertical-align: middle;\n",
       "    }\n",
       "\n",
       "    .dataframe tbody tr th {\n",
       "        vertical-align: top;\n",
       "    }\n",
       "\n",
       "    .dataframe thead th {\n",
       "        text-align: right;\n",
       "    }\n",
       "</style>\n",
       "<table border=\"1\" class=\"dataframe\">\n",
       "  <thead>\n",
       "    <tr style=\"text-align: right;\">\n",
       "      <th></th>\n",
       "      <th>0</th>\n",
       "      <th>1</th>\n",
       "      <th>2</th>\n",
       "      <th>3</th>\n",
       "      <th>4</th>\n",
       "      <th>5</th>\n",
       "      <th>6</th>\n",
       "      <th>7</th>\n",
       "      <th>8</th>\n",
       "      <th>9</th>\n",
       "    </tr>\n",
       "  </thead>\n",
       "  <tbody>\n",
       "    <tr>\n",
       "      <th>0</th>\n",
       "      <td>2017/6/20</td>\n",
       "      <td>17.7</td>\n",
       "      <td>8</td>\n",
       "      <td>1</td>\n",
       "      <td>24.2</td>\n",
       "      <td>8</td>\n",
       "      <td>1</td>\n",
       "      <td>12.8</td>\n",
       "      <td>8</td>\n",
       "      <td>1</td>\n",
       "    </tr>\n",
       "    <tr>\n",
       "      <th>1</th>\n",
       "      <td>2017/6/21</td>\n",
       "      <td>18.9</td>\n",
       "      <td>8</td>\n",
       "      <td>1</td>\n",
       "      <td>25.8</td>\n",
       "      <td>8</td>\n",
       "      <td>1</td>\n",
       "      <td>14.1</td>\n",
       "      <td>8</td>\n",
       "      <td>1</td>\n",
       "    </tr>\n",
       "    <tr>\n",
       "      <th>2</th>\n",
       "      <td>2017/6/22</td>\n",
       "      <td>16.8</td>\n",
       "      <td>8</td>\n",
       "      <td>1</td>\n",
       "      <td>18.4</td>\n",
       "      <td>8</td>\n",
       "      <td>1</td>\n",
       "      <td>15.9</td>\n",
       "      <td>8</td>\n",
       "      <td>1</td>\n",
       "    </tr>\n",
       "    <tr>\n",
       "      <th>3</th>\n",
       "      <td>2017/6/23</td>\n",
       "      <td>16.8</td>\n",
       "      <td>8</td>\n",
       "      <td>1</td>\n",
       "      <td>20.9</td>\n",
       "      <td>8</td>\n",
       "      <td>1</td>\n",
       "      <td>14.2</td>\n",
       "      <td>8</td>\n",
       "      <td>1</td>\n",
       "    </tr>\n",
       "    <tr>\n",
       "      <th>4</th>\n",
       "      <td>2017/6/24</td>\n",
       "      <td>17.8</td>\n",
       "      <td>8</td>\n",
       "      <td>1</td>\n",
       "      <td>21.2</td>\n",
       "      <td>8</td>\n",
       "      <td>1</td>\n",
       "      <td>14.6</td>\n",
       "      <td>8</td>\n",
       "      <td>1</td>\n",
       "    </tr>\n",
       "  </tbody>\n",
       "</table>\n",
       "</div>"
      ],
      "text/plain": [
       "           0     1  2  3     4  5  6     7  8  9\n",
       "0  2017/6/20  17.7  8  1  24.2  8  1  12.8  8  1\n",
       "1  2017/6/21  18.9  8  1  25.8  8  1  14.1  8  1\n",
       "2  2017/6/22  16.8  8  1  18.4  8  1  15.9  8  1\n",
       "3  2017/6/23  16.8  8  1  20.9  8  1  14.2  8  1\n",
       "4  2017/6/24  17.8  8  1  21.2  8  1  14.6  8  1"
      ]
     },
     "execution_count": 5,
     "metadata": {},
     "output_type": "execute_result"
    }
   ],
   "source": [
    "mydata.head(5)"
   ]
  },
  {
   "cell_type": "markdown",
   "metadata": {},
   "source": [
    "読み込んだ表の行数と列数を調べます。"
   ]
  },
  {
   "cell_type": "code",
   "execution_count": 6,
   "metadata": {},
   "outputs": [
    {
     "data": {
      "text/plain": [
       "(366, 10)"
      ]
     },
     "execution_count": 6,
     "metadata": {},
     "output_type": "execute_result"
    }
   ],
   "source": [
    "mydata.shape"
   ]
  },
  {
   "cell_type": "markdown",
   "metadata": {},
   "source": [
    "スライスを指定すると列が抽出できます。1から3列目を見てみましょう。"
   ]
  },
  {
   "cell_type": "code",
   "execution_count": 7,
   "metadata": {},
   "outputs": [
    {
     "data": {
      "text/html": [
       "<div>\n",
       "<style scoped>\n",
       "    .dataframe tbody tr th:only-of-type {\n",
       "        vertical-align: middle;\n",
       "    }\n",
       "\n",
       "    .dataframe tbody tr th {\n",
       "        vertical-align: top;\n",
       "    }\n",
       "\n",
       "    .dataframe thead th {\n",
       "        text-align: right;\n",
       "    }\n",
       "</style>\n",
       "<table border=\"1\" class=\"dataframe\">\n",
       "  <thead>\n",
       "    <tr style=\"text-align: right;\">\n",
       "      <th></th>\n",
       "      <th>0</th>\n",
       "      <th>1</th>\n",
       "      <th>2</th>\n",
       "      <th>3</th>\n",
       "      <th>4</th>\n",
       "      <th>5</th>\n",
       "      <th>6</th>\n",
       "      <th>7</th>\n",
       "      <th>8</th>\n",
       "      <th>9</th>\n",
       "    </tr>\n",
       "  </thead>\n",
       "  <tbody>\n",
       "    <tr>\n",
       "      <th>0</th>\n",
       "      <td>2017/6/20</td>\n",
       "      <td>17.7</td>\n",
       "      <td>8</td>\n",
       "      <td>1</td>\n",
       "      <td>24.2</td>\n",
       "      <td>8</td>\n",
       "      <td>1</td>\n",
       "      <td>12.8</td>\n",
       "      <td>8</td>\n",
       "      <td>1</td>\n",
       "    </tr>\n",
       "    <tr>\n",
       "      <th>1</th>\n",
       "      <td>2017/6/21</td>\n",
       "      <td>18.9</td>\n",
       "      <td>8</td>\n",
       "      <td>1</td>\n",
       "      <td>25.8</td>\n",
       "      <td>8</td>\n",
       "      <td>1</td>\n",
       "      <td>14.1</td>\n",
       "      <td>8</td>\n",
       "      <td>1</td>\n",
       "    </tr>\n",
       "    <tr>\n",
       "      <th>2</th>\n",
       "      <td>2017/6/22</td>\n",
       "      <td>16.8</td>\n",
       "      <td>8</td>\n",
       "      <td>1</td>\n",
       "      <td>18.4</td>\n",
       "      <td>8</td>\n",
       "      <td>1</td>\n",
       "      <td>15.9</td>\n",
       "      <td>8</td>\n",
       "      <td>1</td>\n",
       "    </tr>\n",
       "  </tbody>\n",
       "</table>\n",
       "</div>"
      ],
      "text/plain": [
       "           0     1  2  3     4  5  6     7  8  9\n",
       "0  2017/6/20  17.7  8  1  24.2  8  1  12.8  8  1\n",
       "1  2017/6/21  18.9  8  1  25.8  8  1  14.1  8  1\n",
       "2  2017/6/22  16.8  8  1  18.4  8  1  15.9  8  1"
      ]
     },
     "execution_count": 7,
     "metadata": {},
     "output_type": "execute_result"
    }
   ],
   "source": [
    "mydata[0:3]"
   ]
  },
  {
   "cell_type": "markdown",
   "metadata": {},
   "source": [
    "あるいは最後から3行をみてみましょう。"
   ]
  },
  {
   "cell_type": "code",
   "execution_count": 8,
   "metadata": {},
   "outputs": [
    {
     "data": {
      "text/html": [
       "<div>\n",
       "<style scoped>\n",
       "    .dataframe tbody tr th:only-of-type {\n",
       "        vertical-align: middle;\n",
       "    }\n",
       "\n",
       "    .dataframe tbody tr th {\n",
       "        vertical-align: top;\n",
       "    }\n",
       "\n",
       "    .dataframe thead th {\n",
       "        text-align: right;\n",
       "    }\n",
       "</style>\n",
       "<table border=\"1\" class=\"dataframe\">\n",
       "  <thead>\n",
       "    <tr style=\"text-align: right;\">\n",
       "      <th></th>\n",
       "      <th>0</th>\n",
       "      <th>1</th>\n",
       "      <th>2</th>\n",
       "      <th>3</th>\n",
       "      <th>4</th>\n",
       "      <th>5</th>\n",
       "      <th>6</th>\n",
       "      <th>7</th>\n",
       "      <th>8</th>\n",
       "      <th>9</th>\n",
       "    </tr>\n",
       "  </thead>\n",
       "  <tbody>\n",
       "    <tr>\n",
       "      <th>362</th>\n",
       "      <td>2018/6/17</td>\n",
       "      <td>13.2</td>\n",
       "      <td>8</td>\n",
       "      <td>1</td>\n",
       "      <td>16.6</td>\n",
       "      <td>8</td>\n",
       "      <td>1</td>\n",
       "      <td>10.3</td>\n",
       "      <td>8</td>\n",
       "      <td>1</td>\n",
       "    </tr>\n",
       "    <tr>\n",
       "      <th>363</th>\n",
       "      <td>2018/6/18</td>\n",
       "      <td>15.4</td>\n",
       "      <td>8</td>\n",
       "      <td>1</td>\n",
       "      <td>20.2</td>\n",
       "      <td>8</td>\n",
       "      <td>1</td>\n",
       "      <td>11.4</td>\n",
       "      <td>8</td>\n",
       "      <td>1</td>\n",
       "    </tr>\n",
       "    <tr>\n",
       "      <th>364</th>\n",
       "      <td>2018/6/19</td>\n",
       "      <td>19.4</td>\n",
       "      <td>8</td>\n",
       "      <td>1</td>\n",
       "      <td>24.4</td>\n",
       "      <td>8</td>\n",
       "      <td>1</td>\n",
       "      <td>15.2</td>\n",
       "      <td>8</td>\n",
       "      <td>1</td>\n",
       "    </tr>\n",
       "  </tbody>\n",
       "</table>\n",
       "</div>"
      ],
      "text/plain": [
       "             0     1  2  3     4  5  6     7  8  9\n",
       "362  2018/6/17  13.2  8  1  16.6  8  1  10.3  8  1\n",
       "363  2018/6/18  15.4  8  1  20.2  8  1  11.4  8  1\n",
       "364  2018/6/19  19.4  8  1  24.4  8  1  15.2  8  1"
      ]
     },
     "execution_count": 8,
     "metadata": {},
     "output_type": "execute_result"
    }
   ],
   "source": [
    "mydata[-4:-1]"
   ]
  },
  {
   "cell_type": "markdown",
   "metadata": {},
   "source": [
    "列が何の数字だったかわかりづらいので、最初に同じファイルの4行目を取って来ましょう。"
   ]
  },
  {
   "cell_type": "code",
   "execution_count": 9,
   "metadata": {},
   "outputs": [],
   "source": [
    "header = pd.read_csv('data.csv', encoding='shift_jis', skiprows=3, header=None, nrows=1)"
   ]
  },
  {
   "cell_type": "code",
   "execution_count": 10,
   "metadata": {},
   "outputs": [
    {
     "data": {
      "text/html": [
       "<div>\n",
       "<style scoped>\n",
       "    .dataframe tbody tr th:only-of-type {\n",
       "        vertical-align: middle;\n",
       "    }\n",
       "\n",
       "    .dataframe tbody tr th {\n",
       "        vertical-align: top;\n",
       "    }\n",
       "\n",
       "    .dataframe thead th {\n",
       "        text-align: right;\n",
       "    }\n",
       "</style>\n",
       "<table border=\"1\" class=\"dataframe\">\n",
       "  <thead>\n",
       "    <tr style=\"text-align: right;\">\n",
       "      <th></th>\n",
       "      <th>0</th>\n",
       "      <th>1</th>\n",
       "      <th>2</th>\n",
       "      <th>3</th>\n",
       "      <th>4</th>\n",
       "      <th>5</th>\n",
       "      <th>6</th>\n",
       "      <th>7</th>\n",
       "      <th>8</th>\n",
       "      <th>9</th>\n",
       "    </tr>\n",
       "  </thead>\n",
       "  <tbody>\n",
       "    <tr>\n",
       "      <th>0</th>\n",
       "      <td>年月日</td>\n",
       "      <td>平均気温(℃)</td>\n",
       "      <td>平均気温(℃)</td>\n",
       "      <td>平均気温(℃)</td>\n",
       "      <td>最高気温(℃)</td>\n",
       "      <td>最高気温(℃)</td>\n",
       "      <td>最高気温(℃)</td>\n",
       "      <td>最低気温(℃)</td>\n",
       "      <td>最低気温(℃)</td>\n",
       "      <td>最低気温(℃)</td>\n",
       "    </tr>\n",
       "  </tbody>\n",
       "</table>\n",
       "</div>"
      ],
      "text/plain": [
       "     0        1        2        3        4        5        6        7  \\\n",
       "0  年月日  平均気温(℃)  平均気温(℃)  平均気温(℃)  最高気温(℃)  最高気温(℃)  最高気温(℃)  最低気温(℃)   \n",
       "\n",
       "         8        9  \n",
       "0  最低気温(℃)  最低気温(℃)  "
      ]
     },
     "execution_count": 10,
     "metadata": {},
     "output_type": "execute_result"
    }
   ],
   "source": [
    "header"
   ]
  },
  {
   "cell_type": "markdown",
   "metadata": {},
   "source": [
    "この1列目(スライス0:1)を先ほどの表の列名にしてみましょう。型の変換上、as_matrix()が必要ですが、最初は細かいことはあまり気にしないでください。"
   ]
  },
  {
   "cell_type": "code",
   "execution_count": 11,
   "metadata": {},
   "outputs": [],
   "source": [
    "mydata.columns = list(header[0:1].as_matrix())"
   ]
  },
  {
   "cell_type": "markdown",
   "metadata": {},
   "source": [
    "それでは表データ mydata の最初の10行をみてみましょう。"
   ]
  },
  {
   "cell_type": "code",
   "execution_count": 12,
   "metadata": {},
   "outputs": [
    {
     "data": {
      "text/html": [
       "<div>\n",
       "<style scoped>\n",
       "    .dataframe tbody tr th:only-of-type {\n",
       "        vertical-align: middle;\n",
       "    }\n",
       "\n",
       "    .dataframe tbody tr th {\n",
       "        vertical-align: top;\n",
       "    }\n",
       "\n",
       "    .dataframe thead tr th {\n",
       "        text-align: left;\n",
       "    }\n",
       "</style>\n",
       "<table border=\"1\" class=\"dataframe\">\n",
       "  <thead>\n",
       "    <tr>\n",
       "      <th></th>\n",
       "      <th>年月日</th>\n",
       "      <th>平均気温(℃)</th>\n",
       "      <th>平均気温(℃)</th>\n",
       "      <th>平均気温(℃)</th>\n",
       "      <th>最高気温(℃)</th>\n",
       "      <th>最高気温(℃)</th>\n",
       "      <th>最高気温(℃)</th>\n",
       "      <th>最低気温(℃)</th>\n",
       "      <th>最低気温(℃)</th>\n",
       "      <th>最低気温(℃)</th>\n",
       "    </tr>\n",
       "  </thead>\n",
       "  <tbody>\n",
       "    <tr>\n",
       "      <th>0</th>\n",
       "      <td>2017/6/20</td>\n",
       "      <td>17.7</td>\n",
       "      <td>8</td>\n",
       "      <td>1</td>\n",
       "      <td>24.2</td>\n",
       "      <td>8</td>\n",
       "      <td>1</td>\n",
       "      <td>12.8</td>\n",
       "      <td>8</td>\n",
       "      <td>1</td>\n",
       "    </tr>\n",
       "    <tr>\n",
       "      <th>1</th>\n",
       "      <td>2017/6/21</td>\n",
       "      <td>18.9</td>\n",
       "      <td>8</td>\n",
       "      <td>1</td>\n",
       "      <td>25.8</td>\n",
       "      <td>8</td>\n",
       "      <td>1</td>\n",
       "      <td>14.1</td>\n",
       "      <td>8</td>\n",
       "      <td>1</td>\n",
       "    </tr>\n",
       "    <tr>\n",
       "      <th>2</th>\n",
       "      <td>2017/6/22</td>\n",
       "      <td>16.8</td>\n",
       "      <td>8</td>\n",
       "      <td>1</td>\n",
       "      <td>18.4</td>\n",
       "      <td>8</td>\n",
       "      <td>1</td>\n",
       "      <td>15.9</td>\n",
       "      <td>8</td>\n",
       "      <td>1</td>\n",
       "    </tr>\n",
       "    <tr>\n",
       "      <th>3</th>\n",
       "      <td>2017/6/23</td>\n",
       "      <td>16.8</td>\n",
       "      <td>8</td>\n",
       "      <td>1</td>\n",
       "      <td>20.9</td>\n",
       "      <td>8</td>\n",
       "      <td>1</td>\n",
       "      <td>14.2</td>\n",
       "      <td>8</td>\n",
       "      <td>1</td>\n",
       "    </tr>\n",
       "    <tr>\n",
       "      <th>4</th>\n",
       "      <td>2017/6/24</td>\n",
       "      <td>17.8</td>\n",
       "      <td>8</td>\n",
       "      <td>1</td>\n",
       "      <td>21.2</td>\n",
       "      <td>8</td>\n",
       "      <td>1</td>\n",
       "      <td>14.6</td>\n",
       "      <td>8</td>\n",
       "      <td>1</td>\n",
       "    </tr>\n",
       "    <tr>\n",
       "      <th>5</th>\n",
       "      <td>2017/6/25</td>\n",
       "      <td>15.3</td>\n",
       "      <td>8</td>\n",
       "      <td>1</td>\n",
       "      <td>17.8</td>\n",
       "      <td>8</td>\n",
       "      <td>1</td>\n",
       "      <td>12.0</td>\n",
       "      <td>8</td>\n",
       "      <td>1</td>\n",
       "    </tr>\n",
       "    <tr>\n",
       "      <th>6</th>\n",
       "      <td>2017/6/26</td>\n",
       "      <td>13.1</td>\n",
       "      <td>8</td>\n",
       "      <td>1</td>\n",
       "      <td>15.2</td>\n",
       "      <td>8</td>\n",
       "      <td>1</td>\n",
       "      <td>11.8</td>\n",
       "      <td>8</td>\n",
       "      <td>1</td>\n",
       "    </tr>\n",
       "    <tr>\n",
       "      <th>7</th>\n",
       "      <td>2017/6/27</td>\n",
       "      <td>15.8</td>\n",
       "      <td>8</td>\n",
       "      <td>1</td>\n",
       "      <td>22.2</td>\n",
       "      <td>8</td>\n",
       "      <td>1</td>\n",
       "      <td>11.6</td>\n",
       "      <td>8</td>\n",
       "      <td>1</td>\n",
       "    </tr>\n",
       "    <tr>\n",
       "      <th>8</th>\n",
       "      <td>2017/6/28</td>\n",
       "      <td>17.7</td>\n",
       "      <td>8</td>\n",
       "      <td>1</td>\n",
       "      <td>21.9</td>\n",
       "      <td>8</td>\n",
       "      <td>1</td>\n",
       "      <td>13.2</td>\n",
       "      <td>8</td>\n",
       "      <td>1</td>\n",
       "    </tr>\n",
       "    <tr>\n",
       "      <th>9</th>\n",
       "      <td>2017/6/29</td>\n",
       "      <td>19.9</td>\n",
       "      <td>8</td>\n",
       "      <td>1</td>\n",
       "      <td>24.8</td>\n",
       "      <td>8</td>\n",
       "      <td>1</td>\n",
       "      <td>16.5</td>\n",
       "      <td>8</td>\n",
       "      <td>1</td>\n",
       "    </tr>\n",
       "  </tbody>\n",
       "</table>\n",
       "</div>"
      ],
      "text/plain": [
       "         年月日 平均気温(℃) 平均気温(℃) 平均気温(℃) 最高気温(℃) 最高気温(℃) 最高気温(℃) 最低気温(℃) 最低気温(℃)  \\\n",
       "0  2017/6/20    17.7       8       1    24.2       8       1    12.8       8   \n",
       "1  2017/6/21    18.9       8       1    25.8       8       1    14.1       8   \n",
       "2  2017/6/22    16.8       8       1    18.4       8       1    15.9       8   \n",
       "3  2017/6/23    16.8       8       1    20.9       8       1    14.2       8   \n",
       "4  2017/6/24    17.8       8       1    21.2       8       1    14.6       8   \n",
       "5  2017/6/25    15.3       8       1    17.8       8       1    12.0       8   \n",
       "6  2017/6/26    13.1       8       1    15.2       8       1    11.8       8   \n",
       "7  2017/6/27    15.8       8       1    22.2       8       1    11.6       8   \n",
       "8  2017/6/28    17.7       8       1    21.9       8       1    13.2       8   \n",
       "9  2017/6/29    19.9       8       1    24.8       8       1    16.5       8   \n",
       "\n",
       "  最低気温(℃)  \n",
       "0       1  \n",
       "1       1  \n",
       "2       1  \n",
       "3       1  \n",
       "4       1  \n",
       "5       1  \n",
       "6       1  \n",
       "7       1  \n",
       "8       1  \n",
       "9       1  "
      ]
     },
     "execution_count": 12,
     "metadata": {},
     "output_type": "execute_result"
    }
   ],
   "source": [
    "mydata.head(10)"
   ]
  },
  {
   "cell_type": "markdown",
   "metadata": {},
   "source": [
    "Excelの元データにあった通り、このデータの各々の気温情報には「品質情報(基本的に8)」「均質番号(基本的に1)」という余計な情報がついていますね。これを削除してみましょう。"
   ]
  },
  {
   "cell_type": "markdown",
   "metadata": {},
   "source": [
    "ilocという形で「行番号(or スライス)、列番号(or スライス)」で表の一部分を取得することができます。"
   ]
  },
  {
   "cell_type": "code",
   "execution_count": 13,
   "metadata": {},
   "outputs": [
    {
     "data": {
      "text/html": [
       "<div>\n",
       "<style scoped>\n",
       "    .dataframe tbody tr th:only-of-type {\n",
       "        vertical-align: middle;\n",
       "    }\n",
       "\n",
       "    .dataframe tbody tr th {\n",
       "        vertical-align: top;\n",
       "    }\n",
       "\n",
       "    .dataframe thead tr th {\n",
       "        text-align: left;\n",
       "    }\n",
       "</style>\n",
       "<table border=\"1\" class=\"dataframe\">\n",
       "  <thead>\n",
       "    <tr>\n",
       "      <th></th>\n",
       "      <th>年月日</th>\n",
       "      <th>平均気温(℃)</th>\n",
       "      <th>平均気温(℃)</th>\n",
       "      <th>平均気温(℃)</th>\n",
       "    </tr>\n",
       "  </thead>\n",
       "  <tbody>\n",
       "    <tr>\n",
       "      <th>0</th>\n",
       "      <td>2017/6/20</td>\n",
       "      <td>17.7</td>\n",
       "      <td>8</td>\n",
       "      <td>1</td>\n",
       "    </tr>\n",
       "    <tr>\n",
       "      <th>1</th>\n",
       "      <td>2017/6/21</td>\n",
       "      <td>18.9</td>\n",
       "      <td>8</td>\n",
       "      <td>1</td>\n",
       "    </tr>\n",
       "    <tr>\n",
       "      <th>2</th>\n",
       "      <td>2017/6/22</td>\n",
       "      <td>16.8</td>\n",
       "      <td>8</td>\n",
       "      <td>1</td>\n",
       "    </tr>\n",
       "    <tr>\n",
       "      <th>3</th>\n",
       "      <td>2017/6/23</td>\n",
       "      <td>16.8</td>\n",
       "      <td>8</td>\n",
       "      <td>1</td>\n",
       "    </tr>\n",
       "    <tr>\n",
       "      <th>4</th>\n",
       "      <td>2017/6/24</td>\n",
       "      <td>17.8</td>\n",
       "      <td>8</td>\n",
       "      <td>1</td>\n",
       "    </tr>\n",
       "  </tbody>\n",
       "</table>\n",
       "</div>"
      ],
      "text/plain": [
       "         年月日 平均気温(℃) 平均気温(℃) 平均気温(℃)\n",
       "0  2017/6/20    17.7       8       1\n",
       "1  2017/6/21    18.9       8       1\n",
       "2  2017/6/22    16.8       8       1\n",
       "3  2017/6/23    16.8       8       1\n",
       "4  2017/6/24    17.8       8       1"
      ]
     },
     "execution_count": 13,
     "metadata": {},
     "output_type": "execute_result"
    }
   ],
   "source": [
    "mydata.iloc[0:5, 0:4]"
   ]
  },
  {
   "cell_type": "markdown",
   "metadata": {},
   "source": [
    "あるいは必要なindexだけをリストにして指定することもできます。"
   ]
  },
  {
   "cell_type": "code",
   "execution_count": 14,
   "metadata": {},
   "outputs": [
    {
     "data": {
      "text/html": [
       "<div>\n",
       "<style scoped>\n",
       "    .dataframe tbody tr th:only-of-type {\n",
       "        vertical-align: middle;\n",
       "    }\n",
       "\n",
       "    .dataframe tbody tr th {\n",
       "        vertical-align: top;\n",
       "    }\n",
       "\n",
       "    .dataframe thead tr th {\n",
       "        text-align: left;\n",
       "    }\n",
       "</style>\n",
       "<table border=\"1\" class=\"dataframe\">\n",
       "  <thead>\n",
       "    <tr>\n",
       "      <th></th>\n",
       "      <th>年月日</th>\n",
       "      <th>平均気温(℃)</th>\n",
       "      <th>平均気温(℃)</th>\n",
       "      <th>平均気温(℃)</th>\n",
       "    </tr>\n",
       "  </thead>\n",
       "  <tbody>\n",
       "    <tr>\n",
       "      <th>0</th>\n",
       "      <td>2017/6/20</td>\n",
       "      <td>17.7</td>\n",
       "      <td>8</td>\n",
       "      <td>1</td>\n",
       "    </tr>\n",
       "    <tr>\n",
       "      <th>1</th>\n",
       "      <td>2017/6/21</td>\n",
       "      <td>18.9</td>\n",
       "      <td>8</td>\n",
       "      <td>1</td>\n",
       "    </tr>\n",
       "    <tr>\n",
       "      <th>2</th>\n",
       "      <td>2017/6/22</td>\n",
       "      <td>16.8</td>\n",
       "      <td>8</td>\n",
       "      <td>1</td>\n",
       "    </tr>\n",
       "    <tr>\n",
       "      <th>3</th>\n",
       "      <td>2017/6/23</td>\n",
       "      <td>16.8</td>\n",
       "      <td>8</td>\n",
       "      <td>1</td>\n",
       "    </tr>\n",
       "    <tr>\n",
       "      <th>4</th>\n",
       "      <td>2017/6/24</td>\n",
       "      <td>17.8</td>\n",
       "      <td>8</td>\n",
       "      <td>1</td>\n",
       "    </tr>\n",
       "  </tbody>\n",
       "</table>\n",
       "</div>"
      ],
      "text/plain": [
       "         年月日 平均気温(℃) 平均気温(℃) 平均気温(℃)\n",
       "0  2017/6/20    17.7       8       1\n",
       "1  2017/6/21    18.9       8       1\n",
       "2  2017/6/22    16.8       8       1\n",
       "3  2017/6/23    16.8       8       1\n",
       "4  2017/6/24    17.8       8       1"
      ]
     },
     "execution_count": 14,
     "metadata": {},
     "output_type": "execute_result"
    }
   ],
   "source": [
    "mydata.iloc[[0, 1, 2, 3, 4], [0, 1, 2, 3]]"
   ]
  },
  {
   "cell_type": "markdown",
   "metadata": {},
   "source": [
    "必要なインデックスを確認するためにheaderをみてみましょう。[0, 1, 4, 7]の列だけを抽出すれば良さそうですね。"
   ]
  },
  {
   "cell_type": "code",
   "execution_count": 15,
   "metadata": {},
   "outputs": [
    {
     "data": {
      "text/html": [
       "<div>\n",
       "<style scoped>\n",
       "    .dataframe tbody tr th:only-of-type {\n",
       "        vertical-align: middle;\n",
       "    }\n",
       "\n",
       "    .dataframe tbody tr th {\n",
       "        vertical-align: top;\n",
       "    }\n",
       "\n",
       "    .dataframe thead th {\n",
       "        text-align: right;\n",
       "    }\n",
       "</style>\n",
       "<table border=\"1\" class=\"dataframe\">\n",
       "  <thead>\n",
       "    <tr style=\"text-align: right;\">\n",
       "      <th></th>\n",
       "      <th>0</th>\n",
       "      <th>1</th>\n",
       "      <th>2</th>\n",
       "      <th>3</th>\n",
       "      <th>4</th>\n",
       "      <th>5</th>\n",
       "      <th>6</th>\n",
       "      <th>7</th>\n",
       "      <th>8</th>\n",
       "      <th>9</th>\n",
       "    </tr>\n",
       "  </thead>\n",
       "  <tbody>\n",
       "    <tr>\n",
       "      <th>0</th>\n",
       "      <td>年月日</td>\n",
       "      <td>平均気温(℃)</td>\n",
       "      <td>平均気温(℃)</td>\n",
       "      <td>平均気温(℃)</td>\n",
       "      <td>最高気温(℃)</td>\n",
       "      <td>最高気温(℃)</td>\n",
       "      <td>最高気温(℃)</td>\n",
       "      <td>最低気温(℃)</td>\n",
       "      <td>最低気温(℃)</td>\n",
       "      <td>最低気温(℃)</td>\n",
       "    </tr>\n",
       "  </tbody>\n",
       "</table>\n",
       "</div>"
      ],
      "text/plain": [
       "     0        1        2        3        4        5        6        7  \\\n",
       "0  年月日  平均気温(℃)  平均気温(℃)  平均気温(℃)  最高気温(℃)  最高気温(℃)  最高気温(℃)  最低気温(℃)   \n",
       "\n",
       "         8        9  \n",
       "0  最低気温(℃)  最低気温(℃)  "
      ]
     },
     "execution_count": 15,
     "metadata": {},
     "output_type": "execute_result"
    }
   ],
   "source": [
    "header"
   ]
  },
  {
   "cell_type": "markdown",
   "metadata": {},
   "source": [
    "必要な列だけを抜き取った表データを作成し mydata2 としてみましょう。ここでは[0, 1, 4, 7]を直入力していますが、より大きなデータなら3行おきにとるなどはプログラムした方が良いでしょう。"
   ]
  },
  {
   "cell_type": "code",
   "execution_count": 16,
   "metadata": {},
   "outputs": [
    {
     "data": {
      "text/plain": [
       "[0, 1, 4, 7]"
      ]
     },
     "execution_count": 16,
     "metadata": {},
     "output_type": "execute_result"
    }
   ],
   "source": [
    "[0] + [3*i + 1 for i in range(3)]"
   ]
  },
  {
   "cell_type": "code",
   "execution_count": 17,
   "metadata": {},
   "outputs": [],
   "source": [
    "mydata2 = mydata.iloc[:, [0, 1, 4, 7]]"
   ]
  },
  {
   "cell_type": "code",
   "execution_count": 18,
   "metadata": {},
   "outputs": [
    {
     "data": {
      "text/html": [
       "<div>\n",
       "<style scoped>\n",
       "    .dataframe tbody tr th:only-of-type {\n",
       "        vertical-align: middle;\n",
       "    }\n",
       "\n",
       "    .dataframe tbody tr th {\n",
       "        vertical-align: top;\n",
       "    }\n",
       "\n",
       "    .dataframe thead tr th {\n",
       "        text-align: left;\n",
       "    }\n",
       "</style>\n",
       "<table border=\"1\" class=\"dataframe\">\n",
       "  <thead>\n",
       "    <tr>\n",
       "      <th></th>\n",
       "      <th>年月日</th>\n",
       "      <th>平均気温(℃)</th>\n",
       "      <th>最高気温(℃)</th>\n",
       "      <th>最低気温(℃)</th>\n",
       "    </tr>\n",
       "  </thead>\n",
       "  <tbody>\n",
       "    <tr>\n",
       "      <th>0</th>\n",
       "      <td>2017/6/20</td>\n",
       "      <td>17.7</td>\n",
       "      <td>24.2</td>\n",
       "      <td>12.8</td>\n",
       "    </tr>\n",
       "    <tr>\n",
       "      <th>1</th>\n",
       "      <td>2017/6/21</td>\n",
       "      <td>18.9</td>\n",
       "      <td>25.8</td>\n",
       "      <td>14.1</td>\n",
       "    </tr>\n",
       "    <tr>\n",
       "      <th>2</th>\n",
       "      <td>2017/6/22</td>\n",
       "      <td>16.8</td>\n",
       "      <td>18.4</td>\n",
       "      <td>15.9</td>\n",
       "    </tr>\n",
       "    <tr>\n",
       "      <th>3</th>\n",
       "      <td>2017/6/23</td>\n",
       "      <td>16.8</td>\n",
       "      <td>20.9</td>\n",
       "      <td>14.2</td>\n",
       "    </tr>\n",
       "    <tr>\n",
       "      <th>4</th>\n",
       "      <td>2017/6/24</td>\n",
       "      <td>17.8</td>\n",
       "      <td>21.2</td>\n",
       "      <td>14.6</td>\n",
       "    </tr>\n",
       "    <tr>\n",
       "      <th>5</th>\n",
       "      <td>2017/6/25</td>\n",
       "      <td>15.3</td>\n",
       "      <td>17.8</td>\n",
       "      <td>12.0</td>\n",
       "    </tr>\n",
       "    <tr>\n",
       "      <th>6</th>\n",
       "      <td>2017/6/26</td>\n",
       "      <td>13.1</td>\n",
       "      <td>15.2</td>\n",
       "      <td>11.8</td>\n",
       "    </tr>\n",
       "    <tr>\n",
       "      <th>7</th>\n",
       "      <td>2017/6/27</td>\n",
       "      <td>15.8</td>\n",
       "      <td>22.2</td>\n",
       "      <td>11.6</td>\n",
       "    </tr>\n",
       "    <tr>\n",
       "      <th>8</th>\n",
       "      <td>2017/6/28</td>\n",
       "      <td>17.7</td>\n",
       "      <td>21.9</td>\n",
       "      <td>13.2</td>\n",
       "    </tr>\n",
       "    <tr>\n",
       "      <th>9</th>\n",
       "      <td>2017/6/29</td>\n",
       "      <td>19.9</td>\n",
       "      <td>24.8</td>\n",
       "      <td>16.5</td>\n",
       "    </tr>\n",
       "  </tbody>\n",
       "</table>\n",
       "</div>"
      ],
      "text/plain": [
       "         年月日 平均気温(℃) 最高気温(℃) 最低気温(℃)\n",
       "0  2017/6/20    17.7    24.2    12.8\n",
       "1  2017/6/21    18.9    25.8    14.1\n",
       "2  2017/6/22    16.8    18.4    15.9\n",
       "3  2017/6/23    16.8    20.9    14.2\n",
       "4  2017/6/24    17.8    21.2    14.6\n",
       "5  2017/6/25    15.3    17.8    12.0\n",
       "6  2017/6/26    13.1    15.2    11.8\n",
       "7  2017/6/27    15.8    22.2    11.6\n",
       "8  2017/6/28    17.7    21.9    13.2\n",
       "9  2017/6/29    19.9    24.8    16.5"
      ]
     },
     "execution_count": 18,
     "metadata": {},
     "output_type": "execute_result"
    }
   ],
   "source": [
    "mydata2.head(10)"
   ]
  },
  {
   "cell_type": "markdown",
   "metadata": {},
   "source": [
    "## pandasの機能を使ってみる"
   ]
  },
  {
   "cell_type": "markdown",
   "metadata": {},
   "source": [
    "pandasはこのような表データの扱いや分析をする上で非常に多数の機能を持っています。もしデータ科学やデータの統計分析に興味があれば下記の公式チュートリアル(英語)をみて探求してみてください。なお、pandasは古いversionと今のversionで記法に変更があったので書籍を参考に勉強する場合は注意してください。"
   ]
  },
  {
   "cell_type": "markdown",
   "metadata": {},
   "source": [
    "https://pandas.pydata.org/pandas-docs/stable/tutorials.html"
   ]
  },
  {
   "cell_type": "markdown",
   "metadata": {},
   "source": [
    "最初は上記にある「10分でpandas入門(10 Minutes to pandas)」が良いかなと思います。"
   ]
  },
  {
   "cell_type": "markdown",
   "metadata": {},
   "source": [
    "https://pandas.pydata.org/pandas-docs/stable/10min.html#min"
   ]
  },
  {
   "cell_type": "markdown",
   "metadata": {},
   "source": [
    "ここでは最低限の分析をしてみましょう。まずdescribeを使えば、各列のいろいろな統計値を一気にみることができます。"
   ]
  },
  {
   "cell_type": "code",
   "execution_count": 19,
   "metadata": {},
   "outputs": [
    {
     "data": {
      "text/html": [
       "<div>\n",
       "<style scoped>\n",
       "    .dataframe tbody tr th:only-of-type {\n",
       "        vertical-align: middle;\n",
       "    }\n",
       "\n",
       "    .dataframe tbody tr th {\n",
       "        vertical-align: top;\n",
       "    }\n",
       "\n",
       "    .dataframe thead tr th {\n",
       "        text-align: left;\n",
       "    }\n",
       "</style>\n",
       "<table border=\"1\" class=\"dataframe\">\n",
       "  <thead>\n",
       "    <tr>\n",
       "      <th></th>\n",
       "      <th>平均気温(℃)</th>\n",
       "      <th>最高気温(℃)</th>\n",
       "      <th>最低気温(℃)</th>\n",
       "    </tr>\n",
       "  </thead>\n",
       "  <tbody>\n",
       "    <tr>\n",
       "      <th>count</th>\n",
       "      <td>366.000000</td>\n",
       "      <td>366.000000</td>\n",
       "      <td>366.000000</td>\n",
       "    </tr>\n",
       "    <tr>\n",
       "      <th>mean</th>\n",
       "      <td>9.209836</td>\n",
       "      <td>13.202186</td>\n",
       "      <td>5.586885</td>\n",
       "    </tr>\n",
       "    <tr>\n",
       "      <th>std</th>\n",
       "      <td>9.660784</td>\n",
       "      <td>10.598426</td>\n",
       "      <td>9.470568</td>\n",
       "    </tr>\n",
       "    <tr>\n",
       "      <th>min</th>\n",
       "      <td>-8.900000</td>\n",
       "      <td>-7.600000</td>\n",
       "      <td>-12.700000</td>\n",
       "    </tr>\n",
       "    <tr>\n",
       "      <th>25%</th>\n",
       "      <td>0.025000</td>\n",
       "      <td>3.025000</td>\n",
       "      <td>-2.975000</td>\n",
       "    </tr>\n",
       "    <tr>\n",
       "      <th>50%</th>\n",
       "      <td>10.000000</td>\n",
       "      <td>14.150000</td>\n",
       "      <td>6.250000</td>\n",
       "    </tr>\n",
       "    <tr>\n",
       "      <th>75%</th>\n",
       "      <td>17.675000</td>\n",
       "      <td>22.300000</td>\n",
       "      <td>13.775000</td>\n",
       "    </tr>\n",
       "    <tr>\n",
       "      <th>max</th>\n",
       "      <td>27.700000</td>\n",
       "      <td>34.900000</td>\n",
       "      <td>23.600000</td>\n",
       "    </tr>\n",
       "  </tbody>\n",
       "</table>\n",
       "</div>"
      ],
      "text/plain": [
       "          平均気温(℃)     最高気温(℃)     最低気温(℃)\n",
       "count  366.000000  366.000000  366.000000\n",
       "mean     9.209836   13.202186    5.586885\n",
       "std      9.660784   10.598426    9.470568\n",
       "min     -8.900000   -7.600000  -12.700000\n",
       "25%      0.025000    3.025000   -2.975000\n",
       "50%     10.000000   14.150000    6.250000\n",
       "75%     17.675000   22.300000   13.775000\n",
       "max     27.700000   34.900000   23.600000"
      ]
     },
     "execution_count": 19,
     "metadata": {},
     "output_type": "execute_result"
    }
   ],
   "source": [
    "mydata2.describe()"
   ]
  },
  {
   "cell_type": "markdown",
   "metadata": {},
   "source": [
    "countはデータが何件あるかでこの場合366件、meanは平均値、stdは標準偏差、minは最小値、maxは最大値、25%-75%は各々のパーセンタイル(分位点)になります。"
   ]
  },
  {
   "cell_type": "markdown",
   "metadata": {},
   "source": [
    "準備の通りにdata.csvを作成していれば、札幌市の「最近1年間」の日別データなので、札幌市の最近１年間の「日平均気温の平均」は9.209836度(やっぱり寒めですね！)だということがわかります。また最低の日平均気温は-8.9度、最低の日最低気温は-12.7度だったということもわかりますね！"
   ]
  },
  {
   "cell_type": "markdown",
   "metadata": {},
   "source": [
    "なお、日本語を入力するのは大変なので上記を表の列名からコピペの方が良いと思いますが、pandasでは列の情報は「列名」で抽出できます。ここでは「年月日」の最初と最後を見てみましょう。headに何も数字を入れなければ、最初5行が表示されます。同様にtailは最後5行が表示されます。"
   ]
  },
  {
   "cell_type": "code",
   "execution_count": 20,
   "metadata": {},
   "outputs": [
    {
     "data": {
      "text/html": [
       "<div>\n",
       "<style scoped>\n",
       "    .dataframe tbody tr th:only-of-type {\n",
       "        vertical-align: middle;\n",
       "    }\n",
       "\n",
       "    .dataframe tbody tr th {\n",
       "        vertical-align: top;\n",
       "    }\n",
       "\n",
       "    .dataframe thead tr th {\n",
       "        text-align: left;\n",
       "    }\n",
       "</style>\n",
       "<table border=\"1\" class=\"dataframe\">\n",
       "  <thead>\n",
       "    <tr>\n",
       "      <th></th>\n",
       "      <th>年月日</th>\n",
       "    </tr>\n",
       "  </thead>\n",
       "  <tbody>\n",
       "    <tr>\n",
       "      <th>0</th>\n",
       "      <td>2017/6/20</td>\n",
       "    </tr>\n",
       "    <tr>\n",
       "      <th>1</th>\n",
       "      <td>2017/6/21</td>\n",
       "    </tr>\n",
       "    <tr>\n",
       "      <th>2</th>\n",
       "      <td>2017/6/22</td>\n",
       "    </tr>\n",
       "    <tr>\n",
       "      <th>3</th>\n",
       "      <td>2017/6/23</td>\n",
       "    </tr>\n",
       "    <tr>\n",
       "      <th>4</th>\n",
       "      <td>2017/6/24</td>\n",
       "    </tr>\n",
       "  </tbody>\n",
       "</table>\n",
       "</div>"
      ],
      "text/plain": [
       "         年月日\n",
       "0  2017/6/20\n",
       "1  2017/6/21\n",
       "2  2017/6/22\n",
       "3  2017/6/23\n",
       "4  2017/6/24"
      ]
     },
     "execution_count": 20,
     "metadata": {},
     "output_type": "execute_result"
    }
   ],
   "source": [
    "mydata2['年月日'].head()"
   ]
  },
  {
   "cell_type": "code",
   "execution_count": 21,
   "metadata": {},
   "outputs": [
    {
     "data": {
      "text/html": [
       "<div>\n",
       "<style scoped>\n",
       "    .dataframe tbody tr th:only-of-type {\n",
       "        vertical-align: middle;\n",
       "    }\n",
       "\n",
       "    .dataframe tbody tr th {\n",
       "        vertical-align: top;\n",
       "    }\n",
       "\n",
       "    .dataframe thead tr th {\n",
       "        text-align: left;\n",
       "    }\n",
       "</style>\n",
       "<table border=\"1\" class=\"dataframe\">\n",
       "  <thead>\n",
       "    <tr>\n",
       "      <th></th>\n",
       "      <th>年月日</th>\n",
       "    </tr>\n",
       "  </thead>\n",
       "  <tbody>\n",
       "    <tr>\n",
       "      <th>361</th>\n",
       "      <td>2018/6/16</td>\n",
       "    </tr>\n",
       "    <tr>\n",
       "      <th>362</th>\n",
       "      <td>2018/6/17</td>\n",
       "    </tr>\n",
       "    <tr>\n",
       "      <th>363</th>\n",
       "      <td>2018/6/18</td>\n",
       "    </tr>\n",
       "    <tr>\n",
       "      <th>364</th>\n",
       "      <td>2018/6/19</td>\n",
       "    </tr>\n",
       "    <tr>\n",
       "      <th>365</th>\n",
       "      <td>2018/6/20</td>\n",
       "    </tr>\n",
       "  </tbody>\n",
       "</table>\n",
       "</div>"
      ],
      "text/plain": [
       "           年月日\n",
       "361  2018/6/16\n",
       "362  2018/6/17\n",
       "363  2018/6/18\n",
       "364  2018/6/19\n",
       "365  2018/6/20"
      ]
     },
     "execution_count": 21,
     "metadata": {},
     "output_type": "execute_result"
    }
   ],
   "source": [
    "mydata2['年月日'].tail()"
   ]
  },
  {
   "cell_type": "markdown",
   "metadata": {},
   "source": [
    "## 外部ライブラリmatplotlibを使って可視化してみましょう。"
   ]
  },
  {
   "cell_type": "markdown",
   "metadata": {},
   "source": [
    "データ分析には視覚化(visualization)が欠かせません。Excelでもグラフはかけますが、せっかくpythonに読み込んだのなら、pythonで可視化してみましょう。このために必須なのがmatplotlibというライブラリ(Anacondaについてくる)です。"
   ]
  },
  {
   "cell_type": "markdown",
   "metadata": {},
   "source": [
    "matplotlibも非常に多機能なライブラリなので、ここでは少し触れる程度ですが、興味がある人はやはり公式チュートリアルが良いでしょう。"
   ]
  },
  {
   "cell_type": "markdown",
   "metadata": {},
   "source": [
    "https://matplotlib.org/tutorials/introductory/pyplot.html"
   ]
  },
  {
   "cell_type": "markdown",
   "metadata": {},
   "source": [
    "また、matplotlibを使って作成できるグラフィクスの事例集が公式サイトにあるので、それを少しみてみるのが良いと思います。各々の例にはその図を出すためのpythonコードもついています。"
   ]
  },
  {
   "cell_type": "markdown",
   "metadata": {},
   "source": [
    "https://matplotlib.org/gallery/index.html"
   ]
  },
  {
   "cell_type": "code",
   "execution_count": 22,
   "metadata": {},
   "outputs": [
    {
     "data": {
      "text/html": [
       "<div>\n",
       "<style scoped>\n",
       "    .dataframe tbody tr th:only-of-type {\n",
       "        vertical-align: middle;\n",
       "    }\n",
       "\n",
       "    .dataframe tbody tr th {\n",
       "        vertical-align: top;\n",
       "    }\n",
       "\n",
       "    .dataframe thead tr th {\n",
       "        text-align: left;\n",
       "    }\n",
       "</style>\n",
       "<table border=\"1\" class=\"dataframe\">\n",
       "  <thead>\n",
       "    <tr>\n",
       "      <th></th>\n",
       "      <th>年月日</th>\n",
       "    </tr>\n",
       "  </thead>\n",
       "  <tbody>\n",
       "    <tr>\n",
       "      <th>0</th>\n",
       "      <td>2017/6/20</td>\n",
       "    </tr>\n",
       "    <tr>\n",
       "      <th>1</th>\n",
       "      <td>2017/6/21</td>\n",
       "    </tr>\n",
       "    <tr>\n",
       "      <th>2</th>\n",
       "      <td>2017/6/22</td>\n",
       "    </tr>\n",
       "    <tr>\n",
       "      <th>3</th>\n",
       "      <td>2017/6/23</td>\n",
       "    </tr>\n",
       "    <tr>\n",
       "      <th>4</th>\n",
       "      <td>2017/6/24</td>\n",
       "    </tr>\n",
       "  </tbody>\n",
       "</table>\n",
       "</div>"
      ],
      "text/plain": [
       "         年月日\n",
       "0  2017/6/20\n",
       "1  2017/6/21\n",
       "2  2017/6/22\n",
       "3  2017/6/23\n",
       "4  2017/6/24"
      ]
     },
     "execution_count": 22,
     "metadata": {},
     "output_type": "execute_result"
    }
   ],
   "source": [
    "mydata2['年月日'].head()"
   ]
  },
  {
   "cell_type": "markdown",
   "metadata": {},
   "source": [
    "**加筆** このデータを1次元的な系列として取り出すためにはまずsqueeze()を使う。"
   ]
  },
  {
   "cell_type": "code",
   "execution_count": 23,
   "metadata": {
    "scrolled": true
   },
   "outputs": [
    {
     "data": {
      "text/plain": [
       "0    2017/6/20\n",
       "1    2017/6/21\n",
       "2    2017/6/22\n",
       "3    2017/6/23\n",
       "4    2017/6/24\n",
       "Name: (年月日,), dtype: object"
      ]
     },
     "execution_count": 23,
     "metadata": {},
     "output_type": "execute_result"
    }
   ],
   "source": [
    "mydata2['年月日'].squeeze().head()"
   ]
  },
  {
   "cell_type": "markdown",
   "metadata": {},
   "source": [
    "前者はDataFrame、後者はSeriesというデータ型になる。"
   ]
  },
  {
   "cell_type": "code",
   "execution_count": 24,
   "metadata": {
    "scrolled": true
   },
   "outputs": [
    {
     "data": {
      "text/plain": [
       "(pandas.core.frame.DataFrame, pandas.core.series.Series)"
      ]
     },
     "execution_count": 24,
     "metadata": {},
     "output_type": "execute_result"
    }
   ],
   "source": [
    "type(mydata2['年月日']), type(mydata2['年月日'].squeeze())"
   ]
  },
  {
   "cell_type": "markdown",
   "metadata": {},
   "source": [
    "さて、プロットするための準備として、年月日の文字列データをまず t として時間として変換しておきます。(あまり気にしなくてOK)"
   ]
  },
  {
   "cell_type": "code",
   "execution_count": 25,
   "metadata": {},
   "outputs": [],
   "source": [
    "t = pd.to_datetime(mydata2['年月日'].squeeze())"
   ]
  },
  {
   "cell_type": "markdown",
   "metadata": {},
   "source": [
    "tをx軸にして、平均気温をy軸にしてプロットしてみましょう。一年の日別の平均気温の変化が見れますね！"
   ]
  },
  {
   "cell_type": "code",
   "execution_count": 26,
   "metadata": {
    "scrolled": true
   },
   "outputs": [
    {
     "data": {
      "image/png": "[encoded data removed]",
      "text/plain": [
       "<matplotlib.figure.Figure at 0x10b502f98>"
      ]
     },
     "metadata": {},
     "output_type": "display_data"
    }
   ],
   "source": [
    "plt.plot(t, mydata2['平均気温(℃)'].squeeze())\n",
    "plt.show()"
   ]
  },
  {
   "cell_type": "markdown",
   "metadata": {},
   "source": [
    "最低気温を青で、最高気温を赤で、平均気温を黒でプロットし、摂氏0度の横線を点線で引いてみましょう！"
   ]
  },
  {
   "cell_type": "code",
   "execution_count": 27,
   "metadata": {},
   "outputs": [
    {
     "data": {
      "text/plain": [
       "0    2017/6/20\n",
       "Name: (年月日,), dtype: object"
      ]
     },
     "execution_count": 27,
     "metadata": {},
     "output_type": "execute_result"
    }
   ],
   "source": [
    "mydata2['年月日'].squeeze().head(1)"
   ]
  },
  {
   "cell_type": "code",
   "execution_count": 28,
   "metadata": {},
   "outputs": [
    {
     "data": {
      "image/png": "[encoded data removed]",
      "text/plain": [
       "<matplotlib.figure.Figure at 0x10e71b9e8>"
      ]
     },
     "metadata": {},
     "output_type": "display_data"
    }
   ],
   "source": [
    "plt.plot(t, mydata2['平均気温(℃)'].squeeze(), color='black')\n",
    "plt.plot(t, mydata2['最低気温(℃)'].squeeze(), color='blue')\n",
    "plt.plot(t, mydata2['最高気温(℃)'].squeeze(), color='red')\n",
    "plt.axhline(y=0, color='gray', linestyle='dashed')\n",
    "\n",
    "s_day = mydata2['年月日'].squeeze().iloc[0]\n",
    "e_day = mydata2['年月日'].squeeze().iloc[-1]\n",
    "zu_title = 'Temperature (Sapporo City) {}-{}'.format(s_day, e_day)\n",
    "plt.title(zu_title)\n",
    "\n",
    "plt.show()"
   ]
  },
  {
   "cell_type": "markdown",
   "metadata": {},
   "source": [
    "今度はファイル(画像ファイル形式PNG)で保存してみましょう。実際に、mygraph.pngという画像ファイルが現在のフォルダに作られていることを確認してくださいね。この形式を「plt.savefig('mygraph.pdf')」とするとPDF形式にしたりもできます。"
   ]
  },
  {
   "cell_type": "markdown",
   "metadata": {},
   "source": [
    "ちょっと色やラベルやタイトルも足してfancyにした例を最後に示します。"
   ]
  },
  {
   "cell_type": "code",
   "execution_count": 29,
   "metadata": {},
   "outputs": [
    {
     "data": {
      "image/png": "[encoded data removed]",
      "text/plain": [
       "<matplotlib.figure.Figure at 0x10e6e7eb8>"
      ]
     },
     "metadata": {},
     "output_type": "display_data"
    }
   ],
   "source": [
    "# データのプロット\n",
    "p1, = plt.plot(t, mydata2['平均気温(℃)'].squeeze(), color='black', label='avg')\n",
    "p2, = plt.plot(t, mydata2['最低気温(℃)'].squeeze(), color='blue', label='min')\n",
    "p3, = plt.plot(t, mydata2['最高気温(℃)'].squeeze(), color='red', label='max')\n",
    "\n",
    "# y=0の横線\n",
    "plt.axhline(y=0, color='gray', linestyle='dashed')\n",
    "\n",
    "# 図のタイトル (printではダメでformatが活躍ですね！)\n",
    "s_day = mydata2['年月日'].squeeze().iloc[0]\n",
    "e_day = mydata2['年月日'].squeeze().iloc[-1]\n",
    "zu_title = 'Temperature (Sapporo City) {}-{}'.format(s_day, e_day)\n",
    "plt.title(zu_title)\n",
    "\n",
    "# 凡例\n",
    "plt.legend(handles=[p1, p2, p3])\n",
    "\n",
    "# ファイル保存\n",
    "plt.savefig('mygraph.png', dpi=200)"
   ]
  },
  {
   "cell_type": "markdown",
   "metadata": {},
   "source": [
    "なお、日本語を表示することもできるのですが、フォントの設定が必要なのでここではラベルやタイトルはアルファベットで入力してください。自分のPCなどで実行している場合は下記などを参考に設定してみると良いでしょう。"
   ]
  },
  {
   "cell_type": "markdown",
   "metadata": {},
   "source": [
    "- http://paper.hatenadiary.jp/entry/2016/11/06/222223#利用できるフォントを探す\n",
    "- https://qiita.com/yniji/items/3fac25c2ffa316990d0c"
   ]
  },
  {
   "cell_type": "markdown",
   "metadata": {},
   "source": [
    "### ライブラリとドキュメントとソースコード"
   ]
  },
  {
   "cell_type": "markdown",
   "metadata": {},
   "source": [
    "実践的なPythonプログラムを作成するためには、pandasやmatplotlibのように既に出来上がった良いライブラリをうまく活用していくことが可能です。"
   ]
  },
  {
   "cell_type": "markdown",
   "metadata": {},
   "source": [
    "pandasやmatplotlibでどのようなことができるのかを知ることは、Python自体の習熟とはまた別の問題です。それはPythonの文法や規則とは独立に、このライブラリを作った人が勝手に決めた(設計した)ことです。あなた自身が作成したモジュールなら、どんな関数があるか、各々の関数がどのような機能でどのような呼び出し方をするのか、はあなた自身が勝手に決められます。ただし、あまり非直感的に作成すると他の人が使いづらいですし、どんな機能があるのか、各々の機能をどのように使うのかのドキュメントがないと、ライブラリの設計者以外、誰も使えないものになってしまいます。"
   ]
  },
  {
   "cell_type": "markdown",
   "metadata": {},
   "source": [
    "そのため、Pythonにはdocstringといって関数を定義するときに、三重引用符でコメントを入れておけば、機能一覧や呼び出し方(一般に、API(Application Programming Interface)と言います)のドキュメントを作る機能もあります。例えば、pandasやmatplotlibの場合、下記です。"
   ]
  },
  {
   "cell_type": "markdown",
   "metadata": {},
   "source": [
    "- pandas https://pandas.pydata.org/pandas-docs/stable/api.html\n",
    "- matplotlib https://matplotlib.org/api/index.html"
   ]
  },
  {
   "cell_type": "markdown",
   "metadata": {},
   "source": [
    "よく使われているライブラリにはほぼこのAPIのドキュメントが用意されていて、それが最も正確な情報なので、より知りたいときは常に公式のAPIを調べるようにすると良いでしょう。"
   ]
  },
  {
   "cell_type": "markdown",
   "metadata": {},
   "source": [
    "また、pythonの拡張ライブラリを一部の商用のものをのぞいて、ほぼソースコードが公開されています。つまり、pandasやmatplotlibがどのようにプログラミングされているか誰でも確認することができるのです。プログラミングの世界は、このように「オープンソース」(ソースコードを公開する)文化があるので、プログラミングに長けた先人が書いたコードを読むのが一番のプログラミングの達人への近道かもしれません。そして、そこに分からないことが出てきたら、その都度、それを調べて、理解して、自分の道具や知識を増やして行きましょう。"
   ]
  },
  {
   "cell_type": "markdown",
   "metadata": {},
   "source": [
    "pandasのソースコードは下記で見れます。"
   ]
  },
  {
   "cell_type": "markdown",
   "metadata": {},
   "source": [
    "https://github.com/pandas-dev/pandas"
   ]
  },
  {
   "cell_type": "markdown",
   "metadata": {},
   "source": [
    "例えば、表データの計算で用いた「describe」という関数は pandas/pandas/core/generic.py で定義されています。"
   ]
  },
  {
   "cell_type": "markdown",
   "metadata": {},
   "source": [
    "https://github.com/pandas-dev/pandas/blob/master/pandas/core/generic.py"
   ]
  },
  {
   "cell_type": "markdown",
   "metadata": {},
   "source": [
    "def行の下の長い「三重引用符で囲まれた部分」はドキュメンテーション用の情報で無視してください。別プログラムで処理するとAPIドキュメントが生成されます。"
   ]
  },
  {
   "cell_type": "markdown",
   "metadata": {},
   "source": [
    "逆に、APIの方からソースコードを辿ることもできます。(こちらの方が多いかもしれません)例えば、表データ(型はpandas.DataFrame型)のdescribe関数(正確にはpandas.DataFrameクラスのdescribeメソッドですがこの講義では関数として理解しておいてください)は下記に説明が書いてあります。"
   ]
  },
  {
   "cell_type": "markdown",
   "metadata": {},
   "source": [
    "https://pandas.pydata.org/pandas-docs/stable/generated/pandas.DataFrame.describe.html#pandas.DataFrame.describe"
   ]
  },
  {
   "cell_type": "markdown",
   "metadata": {},
   "source": [
    "関数名のところの右端に「source」というリンクがあるのでクリックして見ましょう。先ほどのソースコードのリンクへ飛び、該当部分がハイライトされた状態で見ることができます。今見てもまだ分からないと思いますが、if文やdef文などが並んでいる感じですね。多分、分からないところはpandasの他機能か、講義でやらないところ(クラスやエラー処理など)だと思います。"
   ]
  },
  {
   "cell_type": "markdown",
   "metadata": {},
   "source": [
    "なお、matplotlibは下記でソースコードが見れます。"
   ]
  },
  {
   "cell_type": "markdown",
   "metadata": {},
   "source": [
    "https://github.com/matplotlib/matplotlib"
   ]
  },
  {
   "cell_type": "markdown",
   "metadata": {},
   "source": [
    "こちらは効率化のためC言語などで書かれている部分もあるのでさらにややこしいですが、より高度な機能なライブラリを将来作成しようとする人は勉強になるでしょう！！"
   ]
  },
  {
   "cell_type": "code",
   "execution_count": null,
   "metadata": {
    "collapsed": true
   },
   "outputs": [],
   "source": []
  }
 ],
 "metadata": {
  "kernelspec": {
   "display_name": "Python 3",
   "language": "python",
   "name": "python3"
  },
  "language_info": {
   "codemirror_mode": {
    "name": "ipython",
    "version": 3
   },
   "file_extension": ".py",
   "mimetype": "text/x-python",
   "name": "python",
   "nbconvert_exporter": "python",
   "pygments_lexer": "ipython3",
   "version": "3.6.4"
  }
 },
 "nbformat": 4,
 "nbformat_minor": 2
}
