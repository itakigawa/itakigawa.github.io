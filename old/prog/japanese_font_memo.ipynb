{
 "cells": [
  {
   "cell_type": "code",
   "execution_count": 1,
   "metadata": {},
   "outputs": [
    {
     "name": "stdout",
     "output_type": "stream",
     "text": [
      "[['/System/Library/Fonts/SFCompactDisplay-Regular.otf', '.SF Compact Display'], ['/System/Library/Fonts/SFNSTextCondensed-Light.otf', '.SF NS Text Condensed'], ['/Library/Fonts/Skia.ttf', 'Skia'], ['/System/Library/Fonts/Apple Braille Outline 8 Dot.ttf', 'Apple Braille'], ['/Library/Fonts/Diwan Thuluth.ttf', 'Diwan Thuluth'], ['/Library/Fonts/STIXIntUpSmReg.otf', 'STIXIntegralsUpSm'], ['/Library/Fonts/STIXSizThreeSymReg.otf', 'STIXSizeThreeSym'], ['/System/Library/Fonts/SFNSDisplay.ttf', 'System Font'], ['/Library/Fonts/Georgia Italic.ttf', 'Georgia'], ['/System/Library/Fonts/SFNSSymbols-Regular.otf', 'System Font']]\n"
     ]
    }
   ],
   "source": [
    "import matplotlib.font_manager as fm\n",
    "\n",
    "# フォント一覧\n",
    "fonts = fm.findSystemFonts() \n",
    "# フォントのパスと名前を取得、とりあえず10個表示\n",
    "print([[str(font), fm.FontProperties(fname=font).get_name()] for font in fonts[:10]])"
   ]
  },
  {
   "cell_type": "code",
   "execution_count": null,
   "metadata": {
    "collapsed": true
   },
   "outputs": [],
   "source": [
    "import matplotlib as mpl\n",
    "font = {\"family\": 'A-OTF UD Shin Go Pro'}\n",
    "mpl.rc('font', **font)"
   ]
  }
 ],
 "metadata": {
  "kernelspec": {
   "display_name": "Python 3",
   "language": "python",
   "name": "python3"
  },
  "language_info": {
   "codemirror_mode": {
    "name": "ipython",
    "version": 3
   },
   "file_extension": ".py",
   "mimetype": "text/x-python",
   "name": "python",
   "nbconvert_exporter": "python",
   "pygments_lexer": "ipython3",
   "version": "3.6.3"
  }
 },
 "nbformat": 4,
 "nbformat_minor": 2
}
