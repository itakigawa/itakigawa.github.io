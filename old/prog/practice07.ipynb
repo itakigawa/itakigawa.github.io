{
 "cells": [
  {
   "cell_type": "markdown",
   "metadata": {},
   "source": [
    "# Pythonで問題を解く"
   ]
  },
  {
   "cell_type": "markdown",
   "metadata": {},
   "source": [
    "これまで見てきたPythonのルールを使って、いろいろな問題を解いてみましょう。"
   ]
  },
  {
   "cell_type": "markdown",
   "metadata": {},
   "source": [
    "今までと違ってイチから自分でプログラムのコードを書いてみましょう。"
   ]
  },
  {
   "cell_type": "markdown",
   "metadata": {},
   "source": [
    "## 例題1: 5人の年齢を入力して、その平均値を出力するプログラムを作成せよ。"
   ]
  },
  {
   "cell_type": "markdown",
   "metadata": {},
   "source": [
    "まず、ここではプログラムは関数とする。とりあえず、５個の値を受け取って「OK」と出力する関数を作成してみよう。5個の値を受け取るので、x1, x2, x3, x4, x5としよう。"
   ]
  },
  {
   "cell_type": "code",
   "execution_count": 1,
   "metadata": {},
   "outputs": [],
   "source": [
    "def heikin_nenrei(x1, x2, x3, x4, x5):\n",
    "    return 'OK'"
   ]
  },
  {
   "cell_type": "markdown",
   "metadata": {},
   "source": [
    "コードが書けたら、いくつか入力パタンをテスト実行してみよう。"
   ]
  },
  {
   "cell_type": "code",
   "execution_count": 2,
   "metadata": {},
   "outputs": [
    {
     "data": {
      "text/plain": [
       "'OK'"
      ]
     },
     "execution_count": 2,
     "metadata": {},
     "output_type": "execute_result"
    }
   ],
   "source": [
    "heikin_nenrei(10, 20, 30, 10, 10)"
   ]
  },
  {
   "cell_type": "code",
   "execution_count": 3,
   "metadata": {},
   "outputs": [
    {
     "data": {
      "text/plain": [
       "'OK'"
      ]
     },
     "execution_count": 3,
     "metadata": {},
     "output_type": "execute_result"
    }
   ],
   "source": [
    "heikin_nenrei(20, 10, 40, 99, 1)"
   ]
  },
  {
   "cell_type": "markdown",
   "metadata": {},
   "source": [
    "とりあえず、入力の受け取りと「OK」の出力は問題なさそうなので、では、中身のコーディングを考えてみよう。この関数の中では年齢の平均値を計算しなければいけないので、入力された値の総和を計算して、それを5で割った値を計算しなければいけない。まず、総和を計算してみよう。"
   ]
  },
  {
   "cell_type": "code",
   "execution_count": 4,
   "metadata": {},
   "outputs": [],
   "source": [
    "def heikin_nenrei(x1, x2, x3, x4, x5):\n",
    "    souwa = x1 + x2 + x3 + x4 + x5\n",
    "    return souwa"
   ]
  },
  {
   "cell_type": "markdown",
   "metadata": {},
   "source": [
    "先ほどと同じ例をテストしてみよう。"
   ]
  },
  {
   "cell_type": "code",
   "execution_count": 5,
   "metadata": {},
   "outputs": [
    {
     "data": {
      "text/plain": [
       "80"
      ]
     },
     "execution_count": 5,
     "metadata": {},
     "output_type": "execute_result"
    }
   ],
   "source": [
    "heikin_nenrei(10, 20, 30, 10, 10)"
   ]
  },
  {
   "cell_type": "code",
   "execution_count": 6,
   "metadata": {},
   "outputs": [
    {
     "data": {
      "text/plain": [
       "170"
      ]
     },
     "execution_count": 6,
     "metadata": {},
     "output_type": "execute_result"
    }
   ],
   "source": [
    "heikin_nenrei(20, 10, 40, 99, 1)"
   ]
  },
  {
   "cell_type": "markdown",
   "metadata": {},
   "source": [
    "良さそうだろうか。実際は平均年齢を出力したいので、この総和を5で割った値を出力するよう書き換えよう。"
   ]
  },
  {
   "cell_type": "code",
   "execution_count": 24,
   "metadata": {},
   "outputs": [],
   "source": [
    "def heikin_nenrei(x1, x2, x3, x4, x5):\n",
    "    souwa = x1 + x2 + x3 + x4 + x5\n",
    "    heikin = souwa/5\n",
    "    return heikin"
   ]
  },
  {
   "cell_type": "markdown",
   "metadata": {},
   "source": [
    "テストしてみよう。"
   ]
  },
  {
   "cell_type": "code",
   "execution_count": 13,
   "metadata": {
    "scrolled": true
   },
   "outputs": [
    {
     "data": {
      "text/plain": [
       "16.0"
      ]
     },
     "execution_count": 13,
     "metadata": {},
     "output_type": "execute_result"
    }
   ],
   "source": [
    "heikin_nenrei(10, 20, 30, 10, 10)"
   ]
  },
  {
   "cell_type": "code",
   "execution_count": 14,
   "metadata": {
    "scrolled": true
   },
   "outputs": [
    {
     "data": {
      "text/plain": [
       "34.0"
      ]
     },
     "execution_count": 14,
     "metadata": {},
     "output_type": "execute_result"
    }
   ],
   "source": [
    "heikin_nenrei(20, 10, 40, 99, 1)"
   ]
  },
  {
   "cell_type": "markdown",
   "metadata": {},
   "source": [
    "完成したぽい！ "
   ]
  },
  {
   "cell_type": "markdown",
   "metadata": {},
   "source": [
    "## 例題2: 5人の年齢を入力して、その平均値を出力するプログラムを作成せよ。(続)"
   ]
  },
  {
   "cell_type": "markdown",
   "metadata": {},
   "source": [
    "「同じ処理はいろいろな書き方ができる」ことを確認しましょう。ある問題の解き方は一つだけではなくいろいろあり得ます。例えば、次はどうだろう。"
   ]
  },
  {
   "cell_type": "code",
   "execution_count": 23,
   "metadata": {},
   "outputs": [],
   "source": [
    "def heikin_nenrei2(x1, x2, x3, x4, x5):\n",
    "    heikin = x1\n",
    "    heikin = heikin + x2\n",
    "    heikin = heikin + x3\n",
    "    heikin = heikin + x4\n",
    "    heikin = heikin + x5\n",
    "    heikin = heikin / 5\n",
    "    return heikin"
   ]
  },
  {
   "cell_type": "markdown",
   "metadata": {},
   "source": [
    "いろいろ入力を変えてさっきのやつと結果が同じになることを確認しよう。"
   ]
  },
  {
   "cell_type": "code",
   "execution_count": 18,
   "metadata": {
    "scrolled": true
   },
   "outputs": [
    {
     "data": {
      "text/plain": [
       "16.0"
      ]
     },
     "execution_count": 18,
     "metadata": {},
     "output_type": "execute_result"
    }
   ],
   "source": [
    "heikin_nenrei2(10, 20, 30, 10, 10)"
   ]
  },
  {
   "cell_type": "code",
   "execution_count": 20,
   "metadata": {
    "scrolled": true
   },
   "outputs": [
    {
     "data": {
      "text/plain": [
       "16.0"
      ]
     },
     "execution_count": 20,
     "metadata": {},
     "output_type": "execute_result"
    }
   ],
   "source": [
    "heikin_nenrei(10, 20, 30, 10, 10)"
   ]
  },
  {
   "cell_type": "markdown",
   "metadata": {},
   "source": [
    "もしこの挙動がまだわかりづらい人がいたら、各ステップごとに値がどうなるか、printを挟んで確認しよう。"
   ]
  },
  {
   "cell_type": "code",
   "execution_count": 33,
   "metadata": {},
   "outputs": [],
   "source": [
    "def heikin_nenrei2a(x1, x2, x3, x4, x5):\n",
    "    heikin = x1\n",
    "    print('step1', heikin)\n",
    "    heikin = heikin + x2\n",
    "    print('step2', heikin)\n",
    "    heikin = heikin + x3\n",
    "    print('step3', heikin)\n",
    "    heikin = heikin + x4\n",
    "    print('step4', heikin)\n",
    "    heikin = heikin + x5\n",
    "    print('step5', heikin)\n",
    "    heikin = heikin / 5\n",
    "    print('step6', heikin)\n",
    "    return heikin"
   ]
  },
  {
   "cell_type": "code",
   "execution_count": 34,
   "metadata": {},
   "outputs": [
    {
     "name": "stdout",
     "output_type": "stream",
     "text": [
      "step1 10\n",
      "step2 30\n",
      "step3 60\n",
      "step4 70\n",
      "step5 80\n",
      "step6 16.0\n"
     ]
    },
    {
     "data": {
      "text/plain": [
       "16.0"
      ]
     },
     "execution_count": 34,
     "metadata": {},
     "output_type": "execute_result"
    }
   ],
   "source": [
    "heikin_nenrei2a(10, 20, 30, 10, 10)"
   ]
  },
  {
   "cell_type": "markdown",
   "metadata": {},
   "source": [
    "あるいは、次はどうだろう。"
   ]
  },
  {
   "cell_type": "code",
   "execution_count": 35,
   "metadata": {},
   "outputs": [],
   "source": [
    "def heikin_nenrei3(x1, x2, x3, x4, x5):\n",
    "    return (x1 + x2 + x3 + x4 + x5)/5"
   ]
  },
  {
   "cell_type": "code",
   "execution_count": 36,
   "metadata": {
    "scrolled": true
   },
   "outputs": [
    {
     "data": {
      "text/plain": [
       "16.0"
      ]
     },
     "execution_count": 36,
     "metadata": {},
     "output_type": "execute_result"
    }
   ],
   "source": [
    "heikin_nenrei3(10, 20, 30, 10, 10)"
   ]
  },
  {
   "cell_type": "markdown",
   "metadata": {},
   "source": [
    "あるいは、次はどうだろう。"
   ]
  },
  {
   "cell_type": "code",
   "execution_count": 37,
   "metadata": {},
   "outputs": [],
   "source": [
    "def heikin_nenrei4(x1, x2, x3, x4, x5):\n",
    "    heikin = x1/5\n",
    "    heikin = heikin + x2/5\n",
    "    heikin = heikin + x3/5\n",
    "    heikin = heikin + x4/5\n",
    "    heikin = heikin + x5/5\n",
    "    return heikin"
   ]
  },
  {
   "cell_type": "code",
   "execution_count": 38,
   "metadata": {},
   "outputs": [
    {
     "data": {
      "text/plain": [
       "16.0"
      ]
     },
     "execution_count": 38,
     "metadata": {},
     "output_type": "execute_result"
    }
   ],
   "source": [
    "heikin_nenrei4(10, 20, 30, 10, 10)"
   ]
  },
  {
   "cell_type": "markdown",
   "metadata": {},
   "source": [
    "あるいは、次はどうだろう。"
   ]
  },
  {
   "cell_type": "code",
   "execution_count": 39,
   "metadata": {},
   "outputs": [],
   "source": [
    "def heikin_nenrei5(x1, x2, x3, x4, x5):\n",
    "    heikin = x1\n",
    "    heikin = (heikin + x2)/2\n",
    "    heikin = (2*heikin + x3)/3\n",
    "    heikin = (3*heikin + x4)/4\n",
    "    heikin = (4*heikin + x5)/5\n",
    "    return heikin"
   ]
  },
  {
   "cell_type": "code",
   "execution_count": 40,
   "metadata": {},
   "outputs": [
    {
     "data": {
      "text/plain": [
       "16.0"
      ]
     },
     "execution_count": 40,
     "metadata": {},
     "output_type": "execute_result"
    }
   ],
   "source": [
    "heikin_nenrei5(10, 20, 30, 10, 10)"
   ]
  },
  {
   "cell_type": "markdown",
   "metadata": {},
   "source": [
    "さて、ここで何種類かの「５人の平均年齢を計算するプログラム」を見てきたが、計算はどのプログラムでも問題なく実行される。しかし、「このコードが何をしているのか読む観点からするとどれが良いか？」を一度考えてみよう。"
   ]
  },
  {
   "cell_type": "markdown",
   "metadata": {},
   "source": [
    "## 例題3: 5人の年齢を入力して、その平均値を出力するプログラムを作成せよ。(続々)"
   ]
  },
  {
   "cell_type": "markdown",
   "metadata": {},
   "source": [
    "さて、次に、いま「5人」の平均年齢を計算していたが、これが6人、いや、100人になった場合を考えてみよう。プログラムとしては、とにかく入力した年齢の平均値を計算してくれるのが嬉しい。そこで、入力を「年齢のリストで受け取る」ことを考えてみよう。"
   ]
  },
  {
   "cell_type": "code",
   "execution_count": 44,
   "metadata": {},
   "outputs": [],
   "source": [
    "def heikin_nenrei_ver2(x):\n",
    "    print(x)\n",
    "    return 'ok'"
   ]
  },
  {
   "cell_type": "code",
   "execution_count": 45,
   "metadata": {
    "scrolled": true
   },
   "outputs": [
    {
     "name": "stdout",
     "output_type": "stream",
     "text": [
      "[10, 20, 30, 10, 10]\n"
     ]
    },
    {
     "data": {
      "text/plain": [
       "'ok'"
      ]
     },
     "execution_count": 45,
     "metadata": {},
     "output_type": "execute_result"
    }
   ],
   "source": [
    "heikin_nenrei_ver2([10, 20, 30, 10, 10])"
   ]
  },
  {
   "cell_type": "markdown",
   "metadata": {},
   "source": [
    "とりあえず、受け取りはできていそうなので、それでは受け取ったリストの平均値を計算する処理を考えてみよう。関数に仕込む前に、ふつうにリストの平均値を計算する手順を考えてみよう。"
   ]
  },
  {
   "cell_type": "code",
   "execution_count": 48,
   "metadata": {},
   "outputs": [],
   "source": [
    "mylist = [10, 20, 30, 10, 10]"
   ]
  },
  {
   "cell_type": "code",
   "execution_count": 49,
   "metadata": {},
   "outputs": [
    {
     "data": {
      "text/plain": [
       "16.0"
      ]
     },
     "execution_count": 49,
     "metadata": {},
     "output_type": "execute_result"
    }
   ],
   "source": [
    "(mylist[0] + mylist[1] + mylist[2] + mylist[3] + mylist[4])/5"
   ]
  },
  {
   "cell_type": "markdown",
   "metadata": {},
   "source": [
    "先ほど、x1, x2, ..., x5としていたところを、リストの1番目(mylist[0])、2番目(mylist[1])、...、5番目(mylist[4])と変えれば良いだけだろう。しかし、この式ではmylistが5人の場合以外はおかしいことになってしまう。"
   ]
  },
  {
   "cell_type": "code",
   "execution_count": 50,
   "metadata": {},
   "outputs": [
    {
     "data": {
      "text/plain": [
       "16.0"
      ]
     },
     "execution_count": 50,
     "metadata": {},
     "output_type": "execute_result"
    }
   ],
   "source": [
    "mylist = [10, 20, 30, 10, 10, 99, 1]\n",
    "(mylist[0] + mylist[1] + mylist[2] + mylist[3] + mylist[4])/5"
   ]
  },
  {
   "cell_type": "markdown",
   "metadata": {},
   "source": [
    "5人目までの平均値しか計算されていない。まあそらそうだよね、mylist[4]までしか足してないし、5で割ってるから。"
   ]
  },
  {
   "cell_type": "markdown",
   "metadata": {},
   "source": [
    "ここでまず、mylistに何個の値が入っているかは「len」関数(長さ=lengthのlen)で求められることを思い出そう。"
   ]
  },
  {
   "cell_type": "code",
   "execution_count": 52,
   "metadata": {},
   "outputs": [
    {
     "data": {
      "text/plain": [
       "5"
      ]
     },
     "execution_count": 52,
     "metadata": {},
     "output_type": "execute_result"
    }
   ],
   "source": [
    "mylist = [10, 20, 30, 10, 10]\n",
    "len(mylist)"
   ]
  },
  {
   "cell_type": "code",
   "execution_count": 53,
   "metadata": {},
   "outputs": [
    {
     "data": {
      "text/plain": [
       "7"
      ]
     },
     "execution_count": 53,
     "metadata": {},
     "output_type": "execute_result"
    }
   ],
   "source": [
    "mylist = [10, 20, 30, 10, 10, 99, 1]\n",
    "len(mylist)"
   ]
  },
  {
   "cell_type": "markdown",
   "metadata": {},
   "source": [
    "ということで、とにかくmylistの総和を計算して、それをlen(mylist)で割れば良さそうとなる。例えば、以下はどうだろうか。変数 heikin を0で初期化して、mylist[i]の値を一つづつ加算することで、総和を計算し、最後にlen(mylist)で割っている。"
   ]
  },
  {
   "cell_type": "code",
   "execution_count": 55,
   "metadata": {},
   "outputs": [
    {
     "name": "stdout",
     "output_type": "stream",
     "text": [
      "n 5\n",
      "heikin 16.0\n"
     ]
    }
   ],
   "source": [
    "mylist = [10, 20, 30, 10, 10]\n",
    "n = len(mylist)\n",
    "print('n', n)\n",
    "\n",
    "heikin = 0\n",
    "for i in range(n):\n",
    "    heikin = heikin + mylist[i]\n",
    "\n",
    "print('heikin', heikin/n)"
   ]
  },
  {
   "cell_type": "markdown",
   "metadata": {},
   "source": [
    "これを関数の中にまとめれば、出来上がり！"
   ]
  },
  {
   "cell_type": "code",
   "execution_count": 59,
   "metadata": {},
   "outputs": [],
   "source": [
    "def heikin_nenrei_ver2(x):\n",
    "    n = len(x)\n",
    "    heikin = 0\n",
    "    for i in range(n):\n",
    "        heikin = heikin + x[i]\n",
    "    return heikin/n"
   ]
  },
  {
   "cell_type": "code",
   "execution_count": 60,
   "metadata": {},
   "outputs": [
    {
     "data": {
      "text/plain": [
       "16.0"
      ]
     },
     "execution_count": 60,
     "metadata": {},
     "output_type": "execute_result"
    }
   ],
   "source": [
    "heikin_nenrei_ver2([10, 20, 30, 10, 10])"
   ]
  },
  {
   "cell_type": "code",
   "execution_count": 61,
   "metadata": {
    "scrolled": true
   },
   "outputs": [
    {
     "data": {
      "text/plain": [
       "25.714285714285715"
      ]
     },
     "execution_count": 61,
     "metadata": {},
     "output_type": "execute_result"
    }
   ],
   "source": [
    "heikin_nenrei_ver2([10, 20, 30, 10, 10, 99, 1])"
   ]
  },
  {
   "cell_type": "markdown",
   "metadata": {},
   "source": [
    "あるいは、rangeにしないで、そのまま加算する方が可読性も高いと考えるひともいるだろう。"
   ]
  },
  {
   "cell_type": "code",
   "execution_count": 85,
   "metadata": {},
   "outputs": [],
   "source": [
    "def heikin_nenrei_ver2(x):\n",
    "    heikin = 0\n",
    "    for i in x:\n",
    "        heikin = heikin + i\n",
    "    return heikin/len(x)"
   ]
  },
  {
   "cell_type": "code",
   "execution_count": 86,
   "metadata": {},
   "outputs": [
    {
     "data": {
      "text/plain": [
       "16.0"
      ]
     },
     "execution_count": 86,
     "metadata": {},
     "output_type": "execute_result"
    }
   ],
   "source": [
    "heikin_nenrei_ver2([10, 20, 30, 10, 10])"
   ]
  },
  {
   "cell_type": "code",
   "execution_count": 87,
   "metadata": {},
   "outputs": [
    {
     "data": {
      "text/plain": [
       "25.714285714285715"
      ]
     },
     "execution_count": 87,
     "metadata": {},
     "output_type": "execute_result"
    }
   ],
   "source": [
    "heikin_nenrei_ver2([10, 20, 30, 10, 10, 99, 1])"
   ]
  },
  {
   "cell_type": "markdown",
   "metadata": {},
   "source": [
    "なお、pythonにはリストの長さを求める関数lenだけではなく、総和を求める関数sumがあるので、下記のように書けるが、内部的にしていることは同じである。sumが予め定義されているから、短くわかりやすくなっていることを一度考えてみよう。"
   ]
  },
  {
   "cell_type": "code",
   "execution_count": 62,
   "metadata": {},
   "outputs": [],
   "source": [
    "def heikin_nenrei_ver3(x):\n",
    "    return sum(x)/len(x)"
   ]
  },
  {
   "cell_type": "code",
   "execution_count": 63,
   "metadata": {},
   "outputs": [
    {
     "data": {
      "text/plain": [
       "16.0"
      ]
     },
     "execution_count": 63,
     "metadata": {},
     "output_type": "execute_result"
    }
   ],
   "source": [
    "heikin_nenrei_ver3([10, 20, 30, 10, 10])"
   ]
  },
  {
   "cell_type": "code",
   "execution_count": 64,
   "metadata": {},
   "outputs": [
    {
     "data": {
      "text/plain": [
       "25.714285714285715"
      ]
     },
     "execution_count": 64,
     "metadata": {},
     "output_type": "execute_result"
    }
   ],
   "source": [
    "heikin_nenrei_ver3([10, 20, 30, 10, 10, 99, 1])"
   ]
  },
  {
   "cell_type": "markdown",
   "metadata": {},
   "source": [
    "さらに、平均を求めるという操作は良くあるので、そもそも様々な外部ライブラリの内部ですでに定義されている。なのでそれを使うという手もあるが、内部的にしていることは同じである。ここでは、上の自作の定義が同じ値になるというデバッグの目的で使うことはできる。"
   ]
  },
  {
   "cell_type": "markdown",
   "metadata": {},
   "source": [
    "統計計算のモジュール statistics を使った例"
   ]
  },
  {
   "cell_type": "code",
   "execution_count": 67,
   "metadata": {},
   "outputs": [],
   "source": [
    "import statistics"
   ]
  },
  {
   "cell_type": "code",
   "execution_count": 68,
   "metadata": {},
   "outputs": [
    {
     "data": {
      "text/plain": [
       "16"
      ]
     },
     "execution_count": 68,
     "metadata": {},
     "output_type": "execute_result"
    }
   ],
   "source": [
    "statistics.mean([10, 20, 30, 10, 10])"
   ]
  },
  {
   "cell_type": "code",
   "execution_count": 69,
   "metadata": {
    "scrolled": true
   },
   "outputs": [
    {
     "data": {
      "text/plain": [
       "25.714285714285715"
      ]
     },
     "execution_count": 69,
     "metadata": {},
     "output_type": "execute_result"
    }
   ],
   "source": [
    "statistics.mean([10, 20, 30, 10, 10, 99, 1])"
   ]
  },
  {
   "cell_type": "markdown",
   "metadata": {},
   "source": [
    "数値計算のモジュール numpy を使った例"
   ]
  },
  {
   "cell_type": "code",
   "execution_count": 70,
   "metadata": {},
   "outputs": [],
   "source": [
    "import numpy"
   ]
  },
  {
   "cell_type": "code",
   "execution_count": 71,
   "metadata": {},
   "outputs": [
    {
     "data": {
      "text/plain": [
       "16.0"
      ]
     },
     "execution_count": 71,
     "metadata": {},
     "output_type": "execute_result"
    }
   ],
   "source": [
    "numpy.mean([10, 20, 30, 10, 10])"
   ]
  },
  {
   "cell_type": "code",
   "execution_count": 72,
   "metadata": {},
   "outputs": [
    {
     "data": {
      "text/plain": [
       "25.714285714285715"
      ]
     },
     "execution_count": 72,
     "metadata": {},
     "output_type": "execute_result"
    }
   ],
   "source": [
    "numpy.mean([10, 20, 30, 10, 10, 99, 1])"
   ]
  },
  {
   "cell_type": "markdown",
   "metadata": {},
   "source": [
    "表データ解析のモジュール pandas を使った例"
   ]
  },
  {
   "cell_type": "code",
   "execution_count": 73,
   "metadata": {},
   "outputs": [],
   "source": [
    "import pandas"
   ]
  },
  {
   "cell_type": "code",
   "execution_count": 75,
   "metadata": {},
   "outputs": [
    {
     "data": {
      "text/plain": [
       "16.0"
      ]
     },
     "execution_count": 75,
     "metadata": {},
     "output_type": "execute_result"
    }
   ],
   "source": [
    "data = pandas.Series([10, 20, 30, 10, 10])\n",
    "data.mean()"
   ]
  },
  {
   "cell_type": "code",
   "execution_count": 76,
   "metadata": {},
   "outputs": [
    {
     "data": {
      "text/plain": [
       "25.714285714285715"
      ]
     },
     "execution_count": 76,
     "metadata": {},
     "output_type": "execute_result"
    }
   ],
   "source": [
    "data = pandas.Series([10, 20, 30, 10, 10, 99, 1])\n",
    "data.mean()"
   ]
  },
  {
   "cell_type": "markdown",
   "metadata": {},
   "source": [
    "こうした機能を知っていれば使うことはもちろん問題ないが、自前で作れるという点が大事と考えると、プログラムのロジックの読みやすさの観点から言えば、今まで作っていたいろいろな例の中では、次の２つあたりが良さそうだろうか？"
   ]
  },
  {
   "cell_type": "code",
   "execution_count": 83,
   "metadata": {},
   "outputs": [],
   "source": [
    "def heikin_nenrei_ver2(x):\n",
    "    heikin = 0\n",
    "    for i in x:\n",
    "        heikin = heikin + i\n",
    "    return heikin/len(x)"
   ]
  },
  {
   "cell_type": "code",
   "execution_count": 84,
   "metadata": {},
   "outputs": [],
   "source": [
    "def heikin_nenrei_ver3(x):\n",
    "    return sum(x)/len(x)"
   ]
  },
  {
   "cell_type": "markdown",
   "metadata": {},
   "source": [
    "# 問題"
   ]
  },
  {
   "cell_type": "markdown",
   "metadata": {},
   "source": [
    "さて、以上は例えば「5人の年齢を入力して、その平均値を出力するプログラムを作成せよ。」という問題を解く場合の、コード完成までの試行錯誤であるが、これを例題として下記の問題を解いて(プログラミングして)みよう。"
   ]
  },
  {
   "cell_type": "markdown",
   "metadata": {},
   "source": [
    "例題と同様、書き方は無限にあり「一つしかない」ものではないことを十分意識しよう。"
   ]
  },
  {
   "cell_type": "markdown",
   "metadata": {},
   "source": [
    "## 問題1: 「Hello world!」と100回出力するプログラムを作成せよ。"
   ]
  },
  {
   "cell_type": "markdown",
   "metadata": {},
   "source": [
    "考え方：「print('Hello world!')」を100回並べれば終わりだが、まずもって100回もタイピングしたくないし、コピペするにしても、コピペしている間に何回コピペしたかわからなくなりバグになるかもしれない。また101回出力してしまうとか99回だけしか出力されないとかいうミスがないかをどのように確かめれば良いだろうか？"
   ]
  },
  {
   "cell_type": "markdown",
   "metadata": {},
   "source": [
    "また、「プログラミング」はいろいろな面倒な処理(例えば100回同じことをやるとか)を簡略するためのものであることを考えると、あとあと「100回」が「200回」「10回」でも「1000回」でも行けるようにしたい場合が多い。もし余裕がある人は、そこまで念頭においてコードを考えてみよう。"
   ]
  },
  {
   "cell_type": "code",
   "execution_count": 78,
   "metadata": {},
   "outputs": [],
   "source": [
    "# コードを書いてみよう (あるいは自分でセルを以下に自由に追加して例題のように試行錯誤もしてみよう)\n",
    "\n",
    "\n",
    "\n"
   ]
  },
  {
   "cell_type": "markdown",
   "metadata": {},
   "source": [
    "## 問題2「植木算」: 7m感覚でx本の植木が植えられている道路の長さを求めるプログラムを作成せよ。"
   ]
  },
  {
   "cell_type": "markdown",
   "metadata": {},
   "source": [
    "考え方：「植木算」でググるとわかると思うが、まあググらなくても、10本植木が植えられているとすると、植木と植木の「間」は9個存在する。本数より、間の数は一つ少ない。したがって、道路の長さは7m × 9 = 63mである。20本なら間は間は19個である。したがって、植木の本数xを入力して、道路の長さを計算し、それを出力するプログラムを作成すれば良い。"
   ]
  },
  {
   "cell_type": "markdown",
   "metadata": {},
   "source": [
    "上と同じで、プログラミングの観点からいえば、「7m」も変更したくなる可能性が高いので、その仕様が変更された場合でも、あまり書き換えなくて良いように書くのが良いだろう。余裕があればこの点も考えてみよう。そもそも2つの数字を受け取るとしても良いかもしれない。"
   ]
  },
  {
   "cell_type": "code",
   "execution_count": null,
   "metadata": {},
   "outputs": [],
   "source": [
    "# コードを書いてみよう (あるいは自分でセルを以下に自由に追加して例題のように試行錯誤もしてみよう)\n",
    "\n",
    "\n",
    "\n",
    "\n"
   ]
  },
  {
   "cell_type": "markdown",
   "metadata": {},
   "source": [
    "## 問題3 「最大値と最小値」：5人の年齢を入力して、その最小値と最大値を出力するプログラムを作成せよ。 "
   ]
  },
  {
   "cell_type": "markdown",
   "metadata": {},
   "source": [
    "考え方：例題では平均値であったが、最小値と最大値を計算しておきたい。以前の演習でもやったが、とりあえず、リストの中の「最小値」を求める手順(アルゴリズム)について考えると、例えば、人間の実年齢としてはあり得ないものすごい大きい値(1000才とか)で変数 saisyou を初期化しておき、リストのそれぞれの値がその値より小さければアップデートする、とすれば良い。この部分の参考コードを下記に書いてみるので、これを参考に「最大値」「最小値」を計算するコードを書いてみよう。"
   ]
  },
  {
   "cell_type": "code",
   "execution_count": 92,
   "metadata": {},
   "outputs": [
    {
     "data": {
      "text/plain": [
       "10"
      ]
     },
     "execution_count": 92,
     "metadata": {},
     "output_type": "execute_result"
    }
   ],
   "source": [
    "mylist = [15, 20, 30, 10, 18]\n",
    "saisyou = 1000\n",
    "for x in mylist:\n",
    "    if x < saisyou:\n",
    "        saisyou = x\n",
    "saisyou"
   ]
  },
  {
   "cell_type": "markdown",
   "metadata": {},
   "source": [
    "注意：上のコードは万が一1000才以上の人がいたら誤作動しうるので、もし気になる人がいたら、以前少しだけ紹介したようにfloat('inf')やfloat('-inf')で初期化することが必要ですが、まあここでは気にしなくていいです。1000才とか-1000才とかにしておけば人間の年齢としてはあり得ないということで。"
   ]
  },
  {
   "cell_type": "code",
   "execution_count": null,
   "metadata": {},
   "outputs": [],
   "source": [
    "# コードを書いてみよう (あるいは自分でセルを以下に自由に追加して例題のように試行錯誤もしてみよう)\n",
    "\n",
    "\n",
    "\n",
    "\n",
    "\n"
   ]
  },
  {
   "cell_type": "markdown",
   "metadata": {},
   "source": [
    "## 問題4「数当てゲーム High or Low」：これは答えの数を探すゲームです。適当な数を入れると正解よりも大きいか小さいか,または正解であるか出力されます。それを繰り返すことで答えを探すことができます。このゲームを作成しなさい。ただし正解は1から100の整数とします。"
   ]
  },
  {
   "cell_type": "markdown",
   "metadata": {},
   "source": [
    "準備：正解は乱数でゲームのたびに違うものを生成することにします。1～100の乱数を発生させるには次のようにします。 "
   ]
  },
  {
   "cell_type": "code",
   "execution_count": 96,
   "metadata": {},
   "outputs": [],
   "source": [
    "import random"
   ]
  },
  {
   "cell_type": "code",
   "execution_count": 97,
   "metadata": {},
   "outputs": [],
   "source": [
    "seikai = random.randint(1, 100)"
   ]
  },
  {
   "cell_type": "markdown",
   "metadata": {},
   "source": [
    "単純にユーザの入力がseikaiと同じかだけを問う部分をまず作ってみましょう。プログラムを作るときは、いきなり複雑なもおを作ろうとせず、小さく始めることがとても大事です。ということで、まず、一回だけ答えられるバージョンを作ってみましょう。"
   ]
  },
  {
   "cell_type": "code",
   "execution_count": 99,
   "metadata": {
    "scrolled": true
   },
   "outputs": [
    {
     "name": "stdout",
     "output_type": "stream",
     "text": [
      "正解の数字(1-100)は何でしょう？44\n",
      "不正解!\n",
      "あなたの入力 44 正解 85\n"
     ]
    }
   ],
   "source": [
    "seikai = random.randint(1, 100)\n",
    "user = int(input('正解の数字(1-100)は何でしょう？'))\n",
    "if user == seikai:\n",
    "    print('正解!')\n",
    "    print('あなたの入力', user, '正解', seikai)\n",
    "else:\n",
    "    print('不正解!')\n",
    "    print('あなたの入力', user, '正解', seikai)"
   ]
  },
  {
   "cell_type": "markdown",
   "metadata": {},
   "source": [
    "まあ、このゲームは難しすぎますね...。ということで、5回チャレンジできるように改変してみましょう。"
   ]
  },
  {
   "cell_type": "code",
   "execution_count": 100,
   "metadata": {},
   "outputs": [
    {
     "name": "stdout",
     "output_type": "stream",
     "text": [
      "正解の数字(1-100)は何でしょう？44\n",
      "不正解!\n",
      "正解の数字(1-100)は何でしょう？23\n",
      "不正解!\n",
      "正解の数字(1-100)は何でしょう？10\n",
      "不正解!\n",
      "正解の数字(1-100)は何でしょう？99\n",
      "不正解!\n",
      "正解の数字(1-100)は何でしょう？3\n",
      "不正解!\n",
      "正解は 77 でした！\n"
     ]
    }
   ],
   "source": [
    "seikai = random.randint(1, 100)\n",
    "\n",
    "for i in range(5):\n",
    "    user = int(input('正解の数字(1-100)は何でしょう？'))\n",
    "    if user == seikai:\n",
    "        print('正解!')\n",
    "        break\n",
    "    else:\n",
    "        print('不正解!')\n",
    "\n",
    "print('正解は', seikai, 'でした！')"
   ]
  },
  {
   "cell_type": "markdown",
   "metadata": {},
   "source": [
    "しかし、まだ、むずすぎる！ということで、一旦正解を1-10にして、正解が出るまでチャレンジできるよう改変しましょう。途中でプログラムをとめたくなったら、上の■ボタンかinterrupt(セルを選択してi)で停止して下さい。"
   ]
  },
  {
   "cell_type": "code",
   "execution_count": 123,
   "metadata": {},
   "outputs": [
    {
     "name": "stdout",
     "output_type": "stream",
     "text": [
      "正解の数字(1-10)は何でしょう？3\n",
      "不正解!\n",
      "正解の数字(1-10)は何でしょう？2\n",
      "不正解!\n",
      "正解の数字(1-10)は何でしょう？1\n",
      "不正解!\n",
      "正解の数字(1-10)は何でしょう？10\n",
      "不正解!\n",
      "正解の数字(1-10)は何でしょう？9\n",
      "正解!\n",
      "正解は 9 でした！\n"
     ]
    }
   ],
   "source": [
    "seikai = random.randint(1, 10)\n",
    "user = -100 # 絶対正解ではない値で初期化\n",
    "\n",
    "while user != seikai:\n",
    "    user = int(input('正解の数字(1-10)は何でしょう？'))\n",
    "    if user == seikai:\n",
    "        print('正解!')\n",
    "        break\n",
    "    else:\n",
    "        print('不正解!')\n",
    "\n",
    "print('正解は', seikai, 'でした！')"
   ]
  },
  {
   "cell_type": "markdown",
   "metadata": {},
   "source": [
    "さて、ここで題意に戻りましょう。1-100にして、不正解の時には「正解よりも大きいか小さいか」を出力すればいいですね。さて、このゲームをプログラミングしてみましょう。"
   ]
  },
  {
   "cell_type": "code",
   "execution_count": null,
   "metadata": {},
   "outputs": [],
   "source": [
    "# コードを書いてみよう (あるいは自分でセルを以下に自由に追加して例題のように試行錯誤もしてみよう)\n",
    "\n",
    "\n",
    "\n",
    "\n",
    "\n",
    "\n"
   ]
  },
  {
   "cell_type": "markdown",
   "metadata": {},
   "source": [
    "## 問題5「数当てゲーム Hit & Blow」：これは答えの数を探すゲームです。正解は重複した数を含まない 4 桁の数字です。適当な数を入れると不正解の場合「ヒットとブローの数」が出力されます。それを繰り返すことで答えを探すことができます。このゲームを作成しなさい。ヒットとは「数と桁位置の両方が同じであること」、ブローとは「数だけが同じで桁位置が異なること」である。"
   ]
  },
  {
   "cell_type": "markdown",
   "metadata": {},
   "source": [
    "これは「Hit & Blow」というゲームです。"
   ]
  },
  {
   "cell_type": "markdown",
   "metadata": {},
   "source": [
    "http://judge.u-aizu.ac.jp/onlinejudge/description.jsp?id=0226"
   ]
  },
  {
   "cell_type": "markdown",
   "metadata": {},
   "source": [
    "回答と正解を比べて、数と桁位置の両方が同じであることをヒットと呼び、数だけが同じで桁位置が異なることをブローと呼びます。たとえば、正解が 1234 とします。"
   ]
  },
  {
   "cell_type": "markdown",
   "metadata": {},
   "source": [
    "1354 と回答したとすると、1と4は場所も値もあっていますが、3と5はあってないので、まずヒットは2です。また正解の4つの数字は「重複を含まない」というのがルールです。ヒットしてない3と5のうち、3は正解の4つの数字(1,2,3,4)に含まれていて5は含まれていません。なので、ブローは1です。なので、正解が「1234」、ユーザ入力が「1354」の時、不正解ですが、「2ヒット1ブロー」(2H1Bなど略記もOK)というヒントが出て、さらに正解を絞り込んで回答していくゲームです。"
   ]
  },
  {
   "cell_type": "markdown",
   "metadata": {},
   "source": [
    "FizzBuzzなどと同じで有名なプログラミング練習問題なので、本当にどうしても困ったら「hit & blow python」とかでいろいろな回答を検索もできます。が、この授業では解けること自体に意味はなくて、自分で考えられるか(プログラミングができるか)を探求する趣旨なので、できるだけまとめ課題として自分で考えてみてください。検索で出てくる回答には質の悪いコードもあるし無駄に高度な機能を使っていたりしてピンキリです。"
   ]
  },
  {
   "cell_type": "markdown",
   "metadata": {},
   "source": [
    "準備：最初に正解となる「重複した数を含まない４桁」を用意するやり方だけ、みてみましょう。いろいろなやり方がありますが、ここでは、「0, 1, 2, ..., 9」という配列を用意して、ランダムシャッフルして、先頭４つを取り出す、ということで実現してみます。"
   ]
  },
  {
   "cell_type": "code",
   "execution_count": 103,
   "metadata": {},
   "outputs": [],
   "source": [
    "import random"
   ]
  },
  {
   "cell_type": "code",
   "execution_count": 113,
   "metadata": {
    "scrolled": true
   },
   "outputs": [
    {
     "data": {
      "text/plain": [
       "[1, 5, 2, 3]"
      ]
     },
     "execution_count": 113,
     "metadata": {},
     "output_type": "execute_result"
    }
   ],
   "source": [
    "kouho = [0, 1, 2, 3, 4, 5, 6, 7, 8, 9]\n",
    "random.shuffle(kouho)\n",
    "seikai = kouho[:4]\n",
    "seikai"
   ]
  },
  {
   "cell_type": "markdown",
   "metadata": {},
   "source": [
    "また、ユーザ入力は「1234」などの文字列で受け取って、これも4つの数字のリストにしてみましょう。(seikaiを文字列で用意するなどもありますが)"
   ]
  },
  {
   "cell_type": "code",
   "execution_count": 116,
   "metadata": {},
   "outputs": [
    {
     "name": "stdout",
     "output_type": "stream",
     "text": [
      "4桁を入力？4356\n"
     ]
    },
    {
     "data": {
      "text/plain": [
       "[4, 3, 5, 6]"
      ]
     },
     "execution_count": 116,
     "metadata": {},
     "output_type": "execute_result"
    }
   ],
   "source": [
    "myinput = input('4桁を入力？')\n",
    "[int(i) for i in myinput]"
   ]
  },
  {
   "cell_type": "markdown",
   "metadata": {},
   "source": [
    "参考) なお、今４桁なので正解の作り方はこれでいいですが効率が必要な場合、下記のように例えば数値計算ライブラリnumpyの機能を使ったりします。replace=Trueで重複あり、replace=Falseで重複なしになります。"
   ]
  },
  {
   "cell_type": "code",
   "execution_count": 117,
   "metadata": {},
   "outputs": [
    {
     "data": {
      "text/plain": [
       "array([3, 1, 0, 2])"
      ]
     },
     "execution_count": 117,
     "metadata": {},
     "output_type": "execute_result"
    }
   ],
   "source": [
    "import numpy\n",
    "numpy.random.choice(10, 4, replace=False)"
   ]
  },
  {
   "cell_type": "markdown",
   "metadata": {},
   "source": [
    "考え方まとめ：したがって、ゲームの大枠としては下記のような大枠の流れで、不正解時に「ヒット、ブロー」を求めて、その数を出す、という感じになります。0から9までの配列は下記で作ることにします。"
   ]
  },
  {
   "cell_type": "code",
   "execution_count": 119,
   "metadata": {},
   "outputs": [
    {
     "data": {
      "text/plain": [
       "[0, 1, 2, 3, 4, 5, 6, 7, 8, 9]"
      ]
     },
     "execution_count": 119,
     "metadata": {},
     "output_type": "execute_result"
    }
   ],
   "source": [
    "list(range(10))"
   ]
  },
  {
   "cell_type": "markdown",
   "metadata": {},
   "source": [
    "以下が叩き台の感じでしょうか。ヒット、ブローを求める部分などを加えて、プログラムを作成してみましょう。"
   ]
  },
  {
   "cell_type": "code",
   "execution_count": 129,
   "metadata": {},
   "outputs": [
    {
     "name": "stdout",
     "output_type": "stream",
     "text": [
      "4桁を入力？1234\n",
      "不正解! [1, 2, 3, 4] [6, 1, 4, 7]\n",
      "4桁を入力？6147\n",
      "正解! [6, 1, 4, 7] [6, 1, 4, 7]\n"
     ]
    }
   ],
   "source": [
    "# 正解の4桁を作る\n",
    "kouho = list(range(10))\n",
    "random.shuffle(kouho)\n",
    "seikai = kouho[:4]\n",
    "\n",
    "# 絶対正解ではない値で初期化\n",
    "user = [-1, -1, -1, -1]\n",
    "\n",
    "while user != seikai:\n",
    "    myinput = input('4桁を入力？')\n",
    "    user = [int(i) for i in myinput]\n",
    "    if user == seikai:\n",
    "        print('正解!',user,seikai)\n",
    "        break\n",
    "    else:\n",
    "        print('不正解!',user,seikai)"
   ]
  },
  {
   "cell_type": "markdown",
   "metadata": {},
   "source": [
    "なお、リストがある数字を含むかどうかは、例えば次のように判定できます。"
   ]
  },
  {
   "cell_type": "code",
   "execution_count": 130,
   "metadata": {},
   "outputs": [
    {
     "name": "stdout",
     "output_type": "stream",
     "text": [
      "数字?1\n",
      "1 は含みません！\n",
      "数字?3\n",
      "3 を含みます！\n",
      "数字?7\n",
      "7 は含みません！\n",
      "数字?9\n",
      "9 を含みます！\n",
      "数字?6\n",
      "6 を含みます！\n"
     ]
    }
   ],
   "source": [
    "seikai = [3, 5, 6, 9]\n",
    "for i in range(5):\n",
    "    user = int(input('数字?'))\n",
    "    if user in seikai:\n",
    "        print(user,'を含みます！')\n",
    "    else:\n",
    "        print(user, 'は含みません！')"
   ]
  },
  {
   "cell_type": "markdown",
   "metadata": {},
   "source": [
    "それでは以上の準備を踏まえて、題意に戻って、Hit & Blowをプログラミングしてみましょう。基本的には先ほどの大枠で不正解の時には、ヒットの数とブローの数を計算して、それをヒントとして出力する感じですね！ "
   ]
  },
  {
   "cell_type": "code",
   "execution_count": null,
   "metadata": {},
   "outputs": [],
   "source": [
    "# コードを書いてみよう (あるいは自分でセルを以下に自由に追加して例題のように試行錯誤もしてみよう)\n",
    "\n",
    "\n",
    "\n",
    "\n",
    "\n",
    "\n",
    "\n",
    "\n",
    "\n",
    "\n",
    "\n"
   ]
  },
  {
   "cell_type": "markdown",
   "metadata": {},
   "source": [
    "## 備考: 世界のナベアツ問題"
   ]
  },
  {
   "cell_type": "markdown",
   "metadata": {},
   "source": [
    "FizzBuzzと似ている世界のナベアツ問題の考え方と回答を最後に紹介します。「世界のナベアツ」と言って皆さんの世代が分かるのかちょっとわかりませんが、自然数を順に数え上げてゆき、「３の倍数と３のついた数字の時だけアホになる」というものです。これはFizzBuzzと違って「3のついた数字」を判定するので数字の計算だけではなく、数字の文字列としての字面も考えるという意味で、初心者に良いFizzBuzzの亜種問題です。"
   ]
  },
  {
   "cell_type": "markdown",
   "metadata": {},
   "source": [
    "例えば、30までやるとすると、大まかには"
   ]
  },
  {
   "cell_type": "raw",
   "metadata": {},
   "source": [
    "for i in range(1, 31):\n",
    "     if 「iが3の倍数の時」 or 「iが3のつく数字」:\n",
    "         print('アホ')\n",
    "     else:\n",
    "         print(i)"
   ]
  },
  {
   "cell_type": "markdown",
   "metadata": {},
   "source": [
    "という感じでしょう。あるいは"
   ]
  },
  {
   "cell_type": "raw",
   "metadata": {},
   "source": [
    "for i in range(1, 31):\n",
    "     if 「iが3の倍数の時」:\n",
    "         print('アホ')\n",
    "     elif 「iが3のつく数字」:\n",
    "         print('アホ')\n",
    "     else:\n",
    "         print(i)"
   ]
  },
  {
   "cell_type": "markdown",
   "metadata": {},
   "source": [
    "でしょう。いずれも、まず「3の倍数かどうか」がチェックされ、3の倍数でない時のみ(このチェックの結果がFalseの時のみ)、次の条件「iが3のつく数字」が実行されます。これを理解するには最初の「3」でどちらのアホが実行されるか見るために、後者のようにelifを使って書いておき、'アホ1'、'アホ2'などとどちらのprintが実行されたか区別できるようにしておくと良いでしょう。"
   ]
  },
  {
   "cell_type": "markdown",
   "metadata": {},
   "source": [
    "さて、3の倍数かどうかは、「3で割った余りが0かどうか」つまり「i % 3 == 0」で判定できます。"
   ]
  },
  {
   "cell_type": "markdown",
   "metadata": {},
   "source": [
    "一方、「3のつく数字かどうか」は数字を一旦、桁ごとの字面でみる必要があります。これには先ほどHit & Blowで登場したやり方で、数字の文字列を数字の配列にするのが良いでしょう。まず、整数型をstrで文字列型(stringのstr)に変換します。"
   ]
  },
  {
   "cell_type": "code",
   "execution_count": 150,
   "metadata": {},
   "outputs": [
    {
     "data": {
      "text/plain": [
       "'453'"
      ]
     },
     "execution_count": 150,
     "metadata": {},
     "output_type": "execute_result"
    }
   ],
   "source": [
    "i = 453\n",
    "str(i)"
   ]
  },
  {
   "cell_type": "markdown",
   "metadata": {},
   "source": [
    "今、もはやこれは「453」という数字ではなく、453という文字列としています。例えば、もう数字ではないので足し算はできませんが、文字列の結合はできます。"
   ]
  },
  {
   "cell_type": "code",
   "execution_count": 151,
   "metadata": {},
   "outputs": [],
   "source": [
    "s = str(i)"
   ]
  },
  {
   "cell_type": "code",
   "execution_count": 152,
   "metadata": {},
   "outputs": [
    {
     "ename": "TypeError",
     "evalue": "must be str, not int",
     "output_type": "error",
     "traceback": [
      "\u001b[0;31m---------------------------------------------------------------------------\u001b[0m",
      "\u001b[0;31mTypeError\u001b[0m                                 Traceback (most recent call last)",
      "\u001b[0;32m<ipython-input-152-fde29a6f9121>\u001b[0m in \u001b[0;36m<module>\u001b[0;34m()\u001b[0m\n\u001b[1;32m      1\u001b[0m \u001b[0;31m# エラー\u001b[0m\u001b[0;34m\u001b[0m\u001b[0;34m\u001b[0m\u001b[0m\n\u001b[0;32m----> 2\u001b[0;31m \u001b[0ms\u001b[0m \u001b[0;34m+\u001b[0m \u001b[0;36m1\u001b[0m\u001b[0;34m\u001b[0m\u001b[0m\n\u001b[0m",
      "\u001b[0;31mTypeError\u001b[0m: must be str, not int"
     ]
    }
   ],
   "source": [
    "# エラー\n",
    "s + 1"
   ]
  },
  {
   "cell_type": "code",
   "execution_count": 153,
   "metadata": {},
   "outputs": [
    {
     "data": {
      "text/plain": [
       "'453hoge'"
      ]
     },
     "execution_count": 153,
     "metadata": {},
     "output_type": "execute_result"
    }
   ],
   "source": [
    "# OK\n",
    "s + 'hoge'"
   ]
  },
  {
   "cell_type": "markdown",
   "metadata": {},
   "source": [
    "さて、では、文字列とみなすことにして、各文字ごとのリストとみなして分けます"
   ]
  },
  {
   "cell_type": "code",
   "execution_count": 139,
   "metadata": {},
   "outputs": [
    {
     "data": {
      "text/plain": [
       "['4', '5', '3']"
      ]
     },
     "execution_count": 139,
     "metadata": {},
     "output_type": "execute_result"
    }
   ],
   "source": [
    "s = str(i)\n",
    "list(s)"
   ]
  },
  {
   "cell_type": "markdown",
   "metadata": {},
   "source": [
    "あるいは、内包表記でもできます。"
   ]
  },
  {
   "cell_type": "code",
   "execution_count": 140,
   "metadata": {},
   "outputs": [
    {
     "data": {
      "text/plain": [
       "['4', '5', '3']"
      ]
     },
     "execution_count": 140,
     "metadata": {},
     "output_type": "execute_result"
    }
   ],
   "source": [
    "[j for j in str(i)]"
   ]
  },
  {
   "cell_type": "markdown",
   "metadata": {},
   "source": [
    "文字の配列ではなくて、整数の配列にしておいても良いかもしれません。この辺りは自由ですが決めておく必要があります。"
   ]
  },
  {
   "cell_type": "code",
   "execution_count": 141,
   "metadata": {},
   "outputs": [
    {
     "data": {
      "text/plain": [
       "[4, 5, 3]"
      ]
     },
     "execution_count": 141,
     "metadata": {},
     "output_type": "execute_result"
    }
   ],
   "source": [
    "[int(j) for j in str(i)]"
   ]
  },
  {
   "cell_type": "markdown",
   "metadata": {},
   "source": [
    "以上の準備の元、1-50までの「世界のナベアツ問題」は下記のようにかけます。"
   ]
  },
  {
   "cell_type": "code",
   "execution_count": 145,
   "metadata": {
    "scrolled": true
   },
   "outputs": [
    {
     "name": "stdout",
     "output_type": "stream",
     "text": [
      "1 2 アホ1 4 5 アホ1 7 8 アホ1 10 11 アホ1 アホ2 14 アホ1 16 17 アホ1 19 20 アホ1 22 アホ2 アホ1 25 26 アホ1 28 29 アホ1 アホ2 アホ2 アホ1 アホ2 アホ2 アホ1 アホ2 アホ2 アホ1 40 41 アホ1 アホ2 44 アホ1 46 47 アホ1 49 50 "
     ]
    }
   ],
   "source": [
    "for i in range(1, 51):\n",
    "    if i % 3 == 0:\n",
    "        print('アホ1', end=' ')\n",
    "    elif '3' in str(i):\n",
    "        print('アホ2', end=' ')\n",
    "    else:\n",
    "        print(i, end=' ')"
   ]
  }
 ],
 "metadata": {
  "kernelspec": {
   "display_name": "Python 3",
   "language": "python",
   "name": "python3"
  },
  "language_info": {
   "codemirror_mode": {
    "name": "ipython",
    "version": 3
   },
   "file_extension": ".py",
   "mimetype": "text/x-python",
   "name": "python",
   "nbconvert_exporter": "python",
   "pygments_lexer": "ipython3",
   "version": "3.6.4"
  }
 },
 "nbformat": 4,
 "nbformat_minor": 2
}
