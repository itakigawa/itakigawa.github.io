{
 "cells": [
  {
   "cell_type": "markdown",
   "metadata": {},
   "source": [
    "# 講義資料(忘れた人はWebサイトの資料で復習しておくこと！)"
   ]
  },
  {
   "cell_type": "markdown",
   "metadata": {},
   "source": [
    "http://art.ist.hokudai.ac.jp/~takigawa/prog/"
   ]
  },
  {
   "cell_type": "markdown",
   "metadata": {},
   "source": [
    "自分で新規のJupyter Notebookを作成し、Pythonコードを一緒にかけるノートだと思って、自分なりの「まとめ」を作ってみて、最初はそれを見ながら作業すると定着がいいかなと思います。あとでそのJupyter Notebookファイルをレポートとしてメール提出してもらおうと思いますので、学びの記録と思って各自作成してみてください。"
   ]
  },
  {
   "cell_type": "markdown",
   "metadata": {},
   "source": [
    "Markdownについては下記をみてください。"
   ]
  },
  {
   "cell_type": "markdown",
   "metadata": {},
   "source": [
    "https://guides.github.com/features/mastering-markdown/"
   ]
  },
  {
   "cell_type": "markdown",
   "metadata": {},
   "source": [
    "# これまでの復習を兼ねて"
   ]
  },
  {
   "cell_type": "markdown",
   "metadata": {},
   "source": [
    "ここまでPythonの基本文法をやってきましたので、これまでの簡単なまとめです。"
   ]
  },
  {
   "cell_type": "markdown",
   "metadata": {},
   "source": [
    "各キーワードを見て、忘れていたら適宜対応するNotebookで復習しておいてみてください!"
   ]
  },
  {
   "cell_type": "markdown",
   "metadata": {},
   "source": [
    "- practice01.ipynb\n",
    "    - 変数と代入\n",
    "    - print文\n",
    "    - for文とwhile文 (反復処理)\n",
    "    - if文 (条件分岐)\n",
    "    - type (型)\n",
    "    - 文字列\n",
    "    - input文\n",
    "- practice02.ipynb\n",
    "    - 数値と演算子\n",
    "    - 関数 (defによる関数の定義)\n",
    "    - Pythonの表現とPEP8\n",
    "    - 文字列とformat文\n",
    "    - 条件式と比較演算子 (if文やwhile文の条件式の書き方)\n",
    "    - breakとcontinue (forやwhileの繰り返しからの抜け方)\n",
    "    - リスト (オフセット、スライス、内包表記)\n",
    "- practice03.ipynb\n",
    "    - インクリメント (x += 1のような書き方)\n",
    "    - if, elif, elseの書き方\n",
    "    - リスト型の復習\n",
    "    - タプル型、辞書型、集合型\n",
    "    - import文とモジュール (fromやasも)\n",
    "    - 標準ライブラリ (math, random, date)\n",
    "- practice04.ipynb (このNotebook)\n",
    "    - 復習\n",
    "    - ファイルの読み込みと書き込み"
   ]
  },
  {
   "cell_type": "markdown",
   "metadata": {},
   "source": [
    "## 復習用の小クイズ"
   ]
  },
  {
   "cell_type": "markdown",
   "metadata": {},
   "source": [
    "以上が理解できれば、外部のモジュールを使わない基本的なPythonプログラムを読むことができます。"
   ]
  },
  {
   "cell_type": "markdown",
   "metadata": {},
   "source": [
    "復習の確認を兼ねて以下の５つの問題を考えてみてください。実際にコーディングしてみる前に今までの理解をもとに頭で考えてみること。その後、各セルは実行できないようにしてあるので、上部の「＋」を押すか、「b」で新しいセルを挿入して、そこで答え合わせをしてみること。"
   ]
  },
  {
   "cell_type": "markdown",
   "metadata": {},
   "source": [
    "### 問1: 下記を実行すると何が出力される？"
   ]
  },
  {
   "cell_type": "raw",
   "metadata": {},
   "source": [
    "a = 20\n",
    "b = 10\n",
    "b = a\n",
    "print(a, b)"
   ]
  },
  {
   "cell_type": "markdown",
   "metadata": {},
   "source": [
    "なお、pythonではタプルを使って一つの式で一気に代入が可能です。"
   ]
  },
  {
   "cell_type": "code",
   "execution_count": 100,
   "metadata": {
    "collapsed": false
   },
   "outputs": [
    {
     "name": "stdout",
     "output_type": "stream",
     "text": [
      "x=40\n",
      "y=50\n",
      "z=60\n"
     ]
    }
   ],
   "source": [
    "(x, y, z) = (40, 50, 60)\n",
    "print('x={}'.format(x))\n",
    "print('y={}'.format(y))\n",
    "print('z={}'.format(z))"
   ]
  },
  {
   "cell_type": "markdown",
   "metadata": {},
   "source": [
    "これはリストでもできます。"
   ]
  },
  {
   "cell_type": "code",
   "execution_count": 103,
   "metadata": {
    "collapsed": false
   },
   "outputs": [
    {
     "name": "stdout",
     "output_type": "stream",
     "text": [
      "40\n",
      "50\n",
      "[60, 70]\n"
     ]
    }
   ],
   "source": [
    "[x, y, z] = [40, 50, [60, 70]]\n",
    "print(x)\n",
    "print(y)\n",
    "print(z)"
   ]
  },
  {
   "cell_type": "markdown",
   "metadata": {},
   "source": [
    "またタプルの場合はカッコはなくてもOKで、多重代入になります。"
   ]
  },
  {
   "cell_type": "code",
   "execution_count": 104,
   "metadata": {
    "collapsed": false
   },
   "outputs": [
    {
     "name": "stdout",
     "output_type": "stream",
     "text": [
      "x=40\n",
      "y=50\n",
      "z=60\n"
     ]
    }
   ],
   "source": [
    "x, y, z = 40, 50, 60\n",
    "print('x={}'.format(x))\n",
    "print('y={}'.format(y))\n",
    "print('z={}'.format(z))"
   ]
  },
  {
   "cell_type": "markdown",
   "metadata": {},
   "source": [
    "### 問2：下記を実行すると何が出力される？"
   ]
  },
  {
   "cell_type": "raw",
   "metadata": {},
   "source": [
    "list1 = ['h', 'e', 'l', 'l', 'o']\n",
    "list2 = ['v', 'w', 'x', 'y', 'z']\n",
    "print(list1[2], list1[-1], list2[0], list1[1])\n",
    "\n",
    "list3 = []\n",
    "list3.append(list2[-2])\n",
    "list3.extend(list1[1:])\n",
    "print(list3)"
   ]
  },
  {
   "cell_type": "markdown",
   "metadata": {},
   "source": [
    "list[:n]やlist[n:]とスライスを省いた場合、各々、最初から、最後まで、となります。"
   ]
  },
  {
   "cell_type": "code",
   "execution_count": 13,
   "metadata": {
    "collapsed": false
   },
   "outputs": [
    {
     "name": "stdout",
     "output_type": "stream",
     "text": [
      "[3, 4, 5] [2, 3, 4, 5]\n"
     ]
    }
   ],
   "source": [
    "a = [1, 2, 3, 4, 5]\n",
    "print(a[2:], a[1:])"
   ]
  },
  {
   "cell_type": "markdown",
   "metadata": {},
   "source": [
    "なお、実は**文字列は「文字のリスト」のように扱えます**。配列の長さを取得するlen関数も含めた小さい例は以下です。"
   ]
  },
  {
   "cell_type": "code",
   "execution_count": 20,
   "metadata": {
    "collapsed": false
   },
   "outputs": [
    {
     "name": "stdout",
     "output_type": "stream",
     "text": [
      "e\n",
      "5\n",
      "hello there\n"
     ]
    }
   ],
   "source": [
    "s = 'hello'\n",
    "print(s[1])\n",
    "print(len(s))\n",
    "print(s + ' there')"
   ]
  },
  {
   "cell_type": "markdown",
   "metadata": {},
   "source": [
    "### 問3: 下記を実行すると何が出力される？"
   ]
  },
  {
   "cell_type": "raw",
   "metadata": {},
   "source": [
    "for i in range(10):\n",
    "    if i % 2 != 0:\n",
    "        print(i)"
   ]
  },
  {
   "cell_type": "markdown",
   "metadata": {},
   "source": [
    "### 問4: 下記を実行すると何が出力される？"
   ]
  },
  {
   "cell_type": "raw",
   "metadata": {},
   "source": [
    "print('This is\\n a pen.\\nNo \\tthank you!')"
   ]
  },
  {
   "cell_type": "markdown",
   "metadata": {},
   "source": [
    "### 問5: 下記を実行すると何が出力される？"
   ]
  },
  {
   "cell_type": "raw",
   "metadata": {},
   "source": [
    "def number_check(n):\n",
    "    if n == 5:\n",
    "        print('pattern 1')\n",
    "    elif n % 2 == 0:\n",
    "        print('pattern 2')\n",
    "    elif n == 10:\n",
    "        print('pattern 3')\n",
    "    else:\n",
    "        print('else')\n",
    "\n",
    "for i in [5, 7, 10, 13]:\n",
    "    number_check(i)"
   ]
  },
  {
   "cell_type": "markdown",
   "metadata": {},
   "source": [
    "なお、この演習では省きますが、実用的なプログラムでは、関数をdefする時、その１行目にそれが何をする関数かを**三重引用符で括った**コメントで入れることになっています(docstringと言います)。こうしておけば補助プログラムを作って、あらかじめ決まった処理を集めたライブラリとして使う際に、その機能リスト(使える関数のリストなど)や使い方をまとめてドキュメントを自動生成できます。"
   ]
  },
  {
   "cell_type": "code",
   "execution_count": 21,
   "metadata": {
    "collapsed": false
   },
   "outputs": [
    {
     "name": "stdout",
     "output_type": "stream",
     "text": [
      "hello test\n"
     ]
    }
   ],
   "source": [
    "def print_hello(msg):\n",
    "    ''' これはhello+メッセージを出力する関数 '''\n",
    "    print('hello', msg)\n",
    "\n",
    "print_hello('test')"
   ]
  },
  {
   "cell_type": "markdown",
   "metadata": {},
   "source": [
    "# ハシヤスメ"
   ]
  },
  {
   "cell_type": "markdown",
   "metadata": {},
   "source": [
    "ここまで確認できたらもうすでにほんの少しプログラマです！！以下のリンクをクリックして以下の記事を読んでみてください。100までのFizz Buzzはもうできますか？？"
   ]
  },
  {
   "cell_type": "markdown",
   "metadata": {},
   "source": [
    "どうしてプログラマに・・・プログラムが書けないのか? (Jeff Atwood / 青木靖 訳)"
   ]
  },
  {
   "cell_type": "markdown",
   "metadata": {},
   "source": [
    "http://www.aoky.net/articles/jeff_atwood/why_cant_programmers_program.htm"
   ]
  },
  {
   "cell_type": "markdown",
   "metadata": {},
   "source": [
    "# 今日の新規内容：ファイルの読み込みと書き込み"
   ]
  },
  {
   "cell_type": "markdown",
   "metadata": {},
   "source": [
    "まず、pythonの標準ライブラリを使って、Web上のファイルをダウンロードします。以下は準備なのであまり気にしなくて構いません。(興味がある人はライブラリの解説を公式ドキュメントや検索などで調べてください)"
   ]
  },
  {
   "cell_type": "code",
   "execution_count": 22,
   "metadata": {
    "collapsed": false
   },
   "outputs": [
    {
     "data": {
      "text/plain": [
       "('zen.txt', <http.client.HTTPMessage at 0x105cf4908>)"
      ]
     },
     "execution_count": 22,
     "metadata": {},
     "output_type": "execute_result"
    }
   ],
   "source": [
    "import urllib.request as web\n",
    "file_name = 'zen.txt'\n",
    "web_site = 'http://art.ist.hokudai.ac.jp/~takigawa/prog/'\n",
    "web.urlretrieve(web_site+file_name, file_name)"
   ]
  },
  {
   "cell_type": "markdown",
   "metadata": {},
   "source": [
    "上を実行するとウェブ上の　http://art.ist.hokudai.ac.jp/~takigawa/prog/zen.txt　というファイルを、このJupyter Notebookがあるフォルダに zen.txt という名前でダウンロードして保存します。実際にファイルがダウンロードされているか確認してください。"
   ]
  },
  {
   "cell_type": "markdown",
   "metadata": {},
   "source": [
    "このファイルを開くには以下のようにします。'r'はread(読み込みモード)で開くという意味です。"
   ]
  },
  {
   "cell_type": "code",
   "execution_count": 23,
   "metadata": {
    "collapsed": true
   },
   "outputs": [],
   "source": [
    "f = open('zen.txt', 'r')"
   ]
  },
  {
   "cell_type": "markdown",
   "metadata": {},
   "source": [
    "１行取り出してみましょう。"
   ]
  },
  {
   "cell_type": "code",
   "execution_count": 25,
   "metadata": {
    "collapsed": false
   },
   "outputs": [
    {
     "data": {
      "text/plain": [
       "'The Zen of Python, by Tim Peters\\n'"
      ]
     },
     "execution_count": 25,
     "metadata": {},
     "output_type": "execute_result"
    }
   ],
   "source": [
    "f.readline()"
   ]
  },
  {
   "cell_type": "code",
   "execution_count": 26,
   "metadata": {
    "collapsed": false
   },
   "outputs": [
    {
     "data": {
      "text/plain": [
       "'\\n'"
      ]
     },
     "execution_count": 26,
     "metadata": {},
     "output_type": "execute_result"
    }
   ],
   "source": [
    "f.readline()"
   ]
  },
  {
   "cell_type": "code",
   "execution_count": 27,
   "metadata": {
    "collapsed": false
   },
   "outputs": [
    {
     "data": {
      "text/plain": [
       "'Beautiful is better than ugly.\\n'"
      ]
     },
     "execution_count": 27,
     "metadata": {},
     "output_type": "execute_result"
    }
   ],
   "source": [
    "f.readline()"
   ]
  },
  {
   "cell_type": "code",
   "execution_count": 28,
   "metadata": {
    "collapsed": false
   },
   "outputs": [
    {
     "data": {
      "text/plain": [
       "'Explicit is better than implicit.\\n'"
      ]
     },
     "execution_count": 28,
     "metadata": {},
     "output_type": "execute_result"
    }
   ],
   "source": [
    "f.readline()"
   ]
  },
  {
   "cell_type": "markdown",
   "metadata": {},
   "source": [
    "このようにreadline()を呼び出すたびに、一行づつ読み出されます。ここで「\\n」は「改行」を表す特殊記号だったことを思い出しましょう。(もし忘れていたら、print文のNotebookを復習してみてください)"
   ]
  },
  {
   "cell_type": "markdown",
   "metadata": {},
   "source": [
    "ファイルを開いて、必要な情報をそこから読み出したら、ファイルを閉じなければいけません。"
   ]
  },
  {
   "cell_type": "code",
   "execution_count": 29,
   "metadata": {
    "collapsed": true
   },
   "outputs": [],
   "source": [
    "f.close()"
   ]
  },
  {
   "cell_type": "markdown",
   "metadata": {},
   "source": [
    "一旦、閉じてしまえば、読み出そうとしてもエラーになります。"
   ]
  },
  {
   "cell_type": "code",
   "execution_count": 30,
   "metadata": {
    "collapsed": false
   },
   "outputs": [
    {
     "ename": "ValueError",
     "evalue": "I/O operation on closed file.",
     "output_type": "error",
     "traceback": [
      "\u001b[0;31m---------------------------------------------------------------------------\u001b[0m",
      "\u001b[0;31mValueError\u001b[0m                                Traceback (most recent call last)",
      "\u001b[0;32m<ipython-input-30-c4ba08551b5f>\u001b[0m in \u001b[0;36m<module>\u001b[0;34m()\u001b[0m\n\u001b[0;32m----> 1\u001b[0;31m \u001b[0mf\u001b[0m\u001b[0;34m.\u001b[0m\u001b[0mreadline\u001b[0m\u001b[0;34m(\u001b[0m\u001b[0;34m)\u001b[0m\u001b[0;34m\u001b[0m\u001b[0m\n\u001b[0m",
      "\u001b[0;31mValueError\u001b[0m: I/O operation on closed file."
     ]
    }
   ],
   "source": [
    "f.readline()"
   ]
  },
  {
   "cell_type": "markdown",
   "metadata": {},
   "source": [
    "「I/O (アイオー)」とはInput/Outputで「入出力」のことです。ファイルだけではなくて、通信などデータのやり取りが発生するもの全体を指します。"
   ]
  },
  {
   "cell_type": "markdown",
   "metadata": {},
   "source": [
    "それでは、もう一度ファイル「zen.txt」を開いて、最初の10行を読み出してみましょう。各行は文字列型として読み込まれます。"
   ]
  },
  {
   "cell_type": "code",
   "execution_count": 36,
   "metadata": {
    "collapsed": false
   },
   "outputs": [
    {
     "name": "stdout",
     "output_type": "stream",
     "text": [
      "['The Zen of Python, by Tim Peters\\n', '\\n', 'Beautiful is better than ugly.\\n', 'Explicit is better than implicit.\\n', 'Simple is better than complex.\\n', 'Complex is better than complicated.\\n', 'Flat is better than nested.\\n', 'Sparse is better than dense.\\n', 'Readability counts.\\n', \"Special cases aren't special enough to break the rules.\\n\"]\n"
     ]
    }
   ],
   "source": [
    "f = open('zen.txt', 'r')\n",
    "\n",
    "content = []\n",
    "for i in range(10):\n",
    "    s = f.readline()\n",
    "    content.append(s)\n",
    "\n",
    "f.close()\n",
    "\n",
    "print(content)"
   ]
  },
  {
   "cell_type": "code",
   "execution_count": 37,
   "metadata": {
    "collapsed": false
   },
   "outputs": [
    {
     "name": "stdout",
     "output_type": "stream",
     "text": [
      "The Zen of Python, by Tim Peters\n",
      "\n",
      "Beautiful is better than ugly.\n",
      "Explicit is better than implicit.\n",
      "Simple is better than complex.\n",
      "Complex is better than complicated.\n",
      "Flat is better than nested.\n",
      "Sparse is better than dense.\n",
      "Readability counts.\n",
      "Special cases aren't special enough to break the rules.\n"
     ]
    }
   ],
   "source": [
    "for line in content:\n",
    "    print(line, end='')"
   ]
  },
  {
   "cell_type": "markdown",
   "metadata": {},
   "source": [
    "では新しいファイル「zennew.txt」を開いて、この10行を書き込んでみましょう。今度は'w'(writeモード)で開きます。writelineではなく直接改行こみの文字列を書き込むだけなのでwriteなので注意してください。下記のセルを実行したあと、実際に「zennew.txt」が作られていることを確認してください。"
   ]
  },
  {
   "cell_type": "code",
   "execution_count": 39,
   "metadata": {
    "collapsed": true
   },
   "outputs": [],
   "source": [
    "f = open('zennew.txt', 'w')\n",
    "for line in content:\n",
    "    f.write(line)\n",
    "f.close()"
   ]
  },
  {
   "cell_type": "markdown",
   "metadata": {},
   "source": [
    "## ファイルの最後まで読む"
   ]
  },
  {
   "cell_type": "markdown",
   "metadata": {},
   "source": [
    "「最後まで読む」ということをどう書けば良いでしょうか？事前にはファイルの行数などわかりません。"
   ]
  },
  {
   "cell_type": "code",
   "execution_count": 53,
   "metadata": {
    "collapsed": false
   },
   "outputs": [
    {
     "name": "stdout",
     "output_type": "stream",
     "text": [
      "0\n",
      "The Zen of Python, by Tim Peters\n",
      "1\n",
      "\n",
      "2\n",
      "Beautiful is better than ugly.\n",
      "3\n",
      "Explicit is better than implicit.\n",
      "4\n",
      "Simple is better than complex.\n",
      "5\n",
      "Complex is better than complicated.\n",
      "6\n",
      "Flat is better than nested.\n",
      "7\n",
      "Sparse is better than dense.\n",
      "8\n",
      "Readability counts.\n",
      "9\n",
      "Special cases aren't special enough to break the rules.\n",
      "10\n",
      "11\n",
      "12\n",
      "13\n",
      "14\n"
     ]
    }
   ],
   "source": [
    "f = open('zennew.txt', 'r')\n",
    "for i in range(15):\n",
    "    print(i)\n",
    "    s = f.readline()\n",
    "    print(s, end='')\n",
    "f.close()"
   ]
  },
  {
   "cell_type": "code",
   "execution_count": 49,
   "metadata": {
    "collapsed": false
   },
   "outputs": [
    {
     "data": {
      "text/plain": [
       "''"
      ]
     },
     "execution_count": 49,
     "metadata": {},
     "output_type": "execute_result"
    }
   ],
   "source": [
    "f.readline()"
   ]
  },
  {
   "cell_type": "markdown",
   "metadata": {},
   "source": [
    "最後まで行ったら改行文字も何もない文字列「''」になります。2行目も空行ですがこちらは「'\\n'」と改行文字一つだけの文字列になります。なので、例えば、下記のようにすれば、最後まで読めます。"
   ]
  },
  {
   "cell_type": "code",
   "execution_count": 52,
   "metadata": {
    "collapsed": false
   },
   "outputs": [
    {
     "name": "stdout",
     "output_type": "stream",
     "text": [
      "The Zen of Python, by Tim Peters\n",
      "\n",
      "Beautiful is better than ugly.\n",
      "Explicit is better than implicit.\n",
      "Simple is better than complex.\n",
      "Complex is better than complicated.\n",
      "Flat is better than nested.\n",
      "Sparse is better than dense.\n",
      "Readability counts.\n",
      "Special cases aren't special enough to break the rules.\n",
      "End of file.\n"
     ]
    }
   ],
   "source": [
    "f = open('zennew.txt', 'r')\n",
    "while True:\n",
    "    s = f.readline()\n",
    "    if s == '':\n",
    "        print('End of file.')\n",
    "        break\n",
    "    else:\n",
    "        print(s, end='')\n",
    "f.close()"
   ]
  },
  {
   "cell_type": "markdown",
   "metadata": {},
   "source": [
    "## 文字列読み込みのパターン"
   ]
  },
  {
   "cell_type": "markdown",
   "metadata": {},
   "source": [
    "しかし、「ファイルを開いて閉じる」というのは頻繁に出てくるので、下記のように書くことができます。"
   ]
  },
  {
   "cell_type": "code",
   "execution_count": 56,
   "metadata": {
    "collapsed": false
   },
   "outputs": [
    {
     "name": "stdout",
     "output_type": "stream",
     "text": [
      "The Zen of Python, by Tim Peters\n",
      "\n",
      "Beautiful is better than ugly.\n",
      "Explicit is better than implicit.\n",
      "Simple is better than complex.\n",
      "Complex is better than complicated.\n",
      "Flat is better than nested.\n",
      "Sparse is better than dense.\n",
      "Readability counts.\n",
      "Special cases aren't special enough to break the rules.\n"
     ]
    }
   ],
   "source": [
    "f = open('zennew.txt', 'r')\n",
    "for line in f:\n",
    "    print(line, end='')\n",
    "f.close()"
   ]
  },
  {
   "cell_type": "markdown",
   "metadata": {},
   "source": [
    "実際は、ファイルが存在しない場合のエラー処理なども実用上必要なので、下記のようにwith ... asという構文で書くのが典型的でしょう！withを抜けるとこのファイルを自動的に閉じてくれます。"
   ]
  },
  {
   "cell_type": "code",
   "execution_count": 58,
   "metadata": {
    "collapsed": false,
    "scrolled": true
   },
   "outputs": [
    {
     "name": "stdout",
     "output_type": "stream",
     "text": [
      "The Zen of Python, by Tim Peters\n",
      "\n",
      "Beautiful is better than ugly.\n",
      "Explicit is better than implicit.\n",
      "Simple is better than complex.\n",
      "Complex is better than complicated.\n",
      "Flat is better than nested.\n",
      "Sparse is better than dense.\n",
      "Readability counts.\n",
      "Special cases aren't special enough to break the rules.\n"
     ]
    }
   ],
   "source": [
    "with open('zennew.txt', 'r') as f:\n",
    "    for line in f:\n",
    "        print(line, end='')"
   ]
  },
  {
   "cell_type": "markdown",
   "metadata": {},
   "source": [
    "最後に元のテキストファイルを同様に最後まで読んで表示してみましょう。"
   ]
  },
  {
   "cell_type": "code",
   "execution_count": 59,
   "metadata": {
    "collapsed": false
   },
   "outputs": [
    {
     "name": "stdout",
     "output_type": "stream",
     "text": [
      "The Zen of Python, by Tim Peters\n",
      "\n",
      "Beautiful is better than ugly.\n",
      "Explicit is better than implicit.\n",
      "Simple is better than complex.\n",
      "Complex is better than complicated.\n",
      "Flat is better than nested.\n",
      "Sparse is better than dense.\n",
      "Readability counts.\n",
      "Special cases aren't special enough to break the rules.\n",
      "Although practicality beats purity.\n",
      "Errors should never pass silently.\n",
      "Unless explicitly silenced.\n",
      "In the face of ambiguity, refuse the temptation to guess.\n",
      "There should be one-- and preferably only one --obvious way to do it.\n",
      "Although that way may not be obvious at first unless you're Dutch.\n",
      "Now is better than never.\n",
      "Although never is often better than *right* now.\n",
      "If the implementation is hard to explain, it's a bad idea.\n",
      "If the implementation is easy to explain, it may be a good idea.\n",
      "Namespaces are one honking great idea -- let's do more of those!\n",
      "\n"
     ]
    }
   ],
   "source": [
    "with open('zen.txt', 'r') as f:\n",
    "    for line in f:\n",
    "        print(line, end='')"
   ]
  },
  {
   "cell_type": "markdown",
   "metadata": {},
   "source": [
    "# ここまで来た人用の復習用の練習問題"
   ]
  },
  {
   "cell_type": "markdown",
   "metadata": {},
   "source": [
    "### その１：次の挙動をする「お買い物計算プログラム」を作ってみましょう。"
   ]
  },
  {
   "cell_type": "markdown",
   "metadata": {},
   "source": [
    "りんご: 200円、みかん: 100円、ぶどう: 300円とします。ユーザに「りんごを何個かいますか？」「みかんを何個かいますか？」「ぶどうを何個かいますか？」と尋ねて、支払うべき合計額を出力します。"
   ]
  },
  {
   "cell_type": "code",
   "execution_count": 70,
   "metadata": {
    "collapsed": true
   },
   "outputs": [],
   "source": [
    "# ここに書いてみよう！\n",
    "\n",
    "\n",
    "\n",
    "\n",
    "\n",
    "# 普通に作れた人は、下記のように辞書に登録して、辞書型を復習しながらこのデータから質問や合計を計算するように作ってみましょう。\n",
    "# prices = {'apple': 200, 'orange': 100, 'grape': 300}"
   ]
  },
  {
   "cell_type": "markdown",
   "metadata": {},
   "source": [
    "### その２：「ドルと円の換算プログラム」を作ってみましょう。"
   ]
  },
  {
   "cell_type": "markdown",
   "metadata": {},
   "source": [
    "「1米ドル = 110.29円」の為替レートとします。ユーザに「円を入力してください」あるいは「ドルを入力してください」と尋ねて、換算後の額を出力します。"
   ]
  },
  {
   "cell_type": "code",
   "execution_count": null,
   "metadata": {
    "collapsed": true
   },
   "outputs": [],
   "source": [
    "# ここに書いてみよう！\n",
    "\n",
    "\n",
    "\n"
   ]
  },
  {
   "cell_type": "markdown",
   "metadata": {},
   "source": [
    "### その３：「摂氏と華氏の変換プログラム」を作ってみましょう。"
   ]
  },
  {
   "cell_type": "markdown",
   "metadata": {},
   "source": [
    "摂氏 C と華氏 F の換算式は以下です。"
   ]
  },
  {
   "cell_type": "markdown",
   "metadata": {},
   "source": [
    "$$ F = \\frac{9}{5} C + 32 $$"
   ]
  },
  {
   "cell_type": "markdown",
   "metadata": {},
   "source": [
    "上記の換算式を使って、摂氏 -5, 0, 5, 10, 15, 20, 25, 30, 35, 40度に対応する華氏の温度を計算し対応表を作成します。"
   ]
  },
  {
   "cell_type": "code",
   "execution_count": null,
   "metadata": {
    "collapsed": true
   },
   "outputs": [],
   "source": [
    "# ここに書いてみよう！\n",
    "# ヒント： for c in range(-5, 45, 5):\n",
    "\n",
    "\n",
    "\n",
    "\n"
   ]
  },
  {
   "cell_type": "markdown",
   "metadata": {},
   "source": [
    "### その４：授業の開始時間、終了時間を調べる関数class_timeを定義してみましょう。"
   ]
  },
  {
   "cell_type": "markdown",
   "metadata": {},
   "source": [
    "下記のような挙動をする関数 class_time を作ります。"
   ]
  },
  {
   "cell_type": "code",
   "execution_count": 97,
   "metadata": {
    "collapsed": false,
    "scrolled": true
   },
   "outputs": [
    {
     "name": "stdout",
     "output_type": "stream",
     "text": [
      "1 8:45 - 10:15\n",
      "2 10:30 - 12:00\n",
      "3 13:00 - 14:30\n",
      "4 14:45 - 16:15\n",
      "5 16:30 - 18:00\n"
     ]
    }
   ],
   "source": [
    "for i in range(1,6):\n",
    "    print(i, class_time(i))"
   ]
  },
  {
   "cell_type": "code",
   "execution_count": 92,
   "metadata": {
    "collapsed": false
   },
   "outputs": [],
   "source": [
    "def class_time(x):\n",
    "    ''' 以下を書き換えてにこの関数を定義すること　'''\n",
    "    pass\n",
    "    pass\n",
    "    return ''\n",
    "\n",
    "for i in range(1,6):\n",
    "    print(i, class_time(i))"
   ]
  },
  {
   "cell_type": "markdown",
   "metadata": {},
   "source": [
    "上が普通に書けた人は、下記の辞書型で表現されたデータを使って書き直してみてください！ "
   ]
  },
  {
   "cell_type": "raw",
   "metadata": {},
   "source": [
    "time = {1: ['8:45', '10:15'],\n",
    "        2: ['10:30', '12:00'], \n",
    "        3: ['13:00', '14:30'],\n",
    "        4: ['14:45', '16:15'],\n",
    "        5: ['16:30', '18:00']}"
   ]
  },
  {
   "cell_type": "markdown",
   "metadata": {},
   "source": [
    "## 参考) さらにPythonを自習したい人へ"
   ]
  },
  {
   "cell_type": "markdown",
   "metadata": {},
   "source": [
    "チュートリアルやWebサイトや本などで自習している人もそろそろいるかもしれませんが、**この演習では扱えないこと**について、ちょっと触れておきます。"
   ]
  },
  {
   "cell_type": "markdown",
   "metadata": {},
   "source": [
    "Pythonの基本についてはだいたい上でカバーされています。あとは標準ライブラリや外部ライブラリ(Anacondaで使える拡張ライブラリなど)の「使い方」の方によって少し実用的なプログラムを考えます。"
   ]
  },
  {
   "cell_type": "markdown",
   "metadata": {},
   "source": [
    "プログラミング言語の全てをいきなり扱うのは、英語を勉強するために辞書の１ページ目から全ての単語を覚えようとするようなもので、定着しません。まずは、自分の使いたい用途や典型的な例でよく使うパターンから少しずつ慣れて行くのがいいと思います。"
   ]
  },
  {
   "cell_type": "markdown",
   "metadata": {},
   "source": [
    "(ライブラリではなく)Python言語自体の機能で**この演習では扱わない**ものは以下のものです。ある程度、プログラミングに慣れて来たら、さらにこうした内容を知ると良いプログラムや実践的なプログラムを読んだり書いたりできる基礎になります。"
   ]
  },
  {
   "cell_type": "markdown",
   "metadata": {},
   "source": [
    "- クラス (「オブジェクト指向プログラミング」という流儀に関係します)\n",
    "- イテレータ、ジェネレータ、デコレータ (上の概念で繰り返しを扱う時の考え方)\n",
    "- lambda、map、filter (「関数型プログラミング」という流儀に関係します)\n",
    "- 例外処理 (try-catch構文など、実用プログラムではエラー判定やエラー処理も考えます)\n",
    "- 正規表現 (文字列のパターンマッチをする上で必須な概念ですが初心者泣かせで有名)\n",
    "- ドキュメント docstring (コメントを様式に沿って書いておけばドキュメントが自動生成できます)"
   ]
  },
  {
   "cell_type": "markdown",
   "metadata": {},
   "source": [
    "逆に言えば、Pythonの言語部分は**ここまで学んだもの＋上記で(ほぼ)全て**です。Pythonは言語仕様は非常にコンパクトな言語です(なおJavaでもだいたい同様でそれぞれに対応する書き方を学べばOK)。あとは「ライブラリ」の使いかたになるでしょう。"
   ]
  },
  {
   "cell_type": "markdown",
   "metadata": {},
   "source": [
    "しかし、本当に難しいのは、手間のかかる処理(例えば、スマホアプリを作ってみる、InstagramやDropboxのサービスを作ってみる、プレステのゲームを作ってみる、など)をプログラミングする時、「そのプログラムのロジック、全体の設計図」をどう考えれば良いのかという「考え方」の部分です。ある処理をどう書けば良いのかは「Python言語やJava言語に精通している」以外に「考え方が論理的で整理されていて上手」になることと同じです。これにはある程度の練習(プログラムを書いたり読んだりする経験)が必要なので、気長に取り組んでみましょう！"
   ]
  },
  {
   "cell_type": "markdown",
   "metadata": {},
   "source": [
    "例えば、下記はGoogleが開発しているKerasというディープラーニングのPythonライブラリの公式の使用例コードです。このようにgithub(ギットハブ)などのファイル共有サイトなどでソースコードを公開する「オープンソース」という文化があるので、実際に世の中で使われている実用に耐えるPythonコードをいろいろ見て、勉強することができます！！まずは、人の書いた「良い」コードを読むことはプログラミングの達人への近道の一つです。"
   ]
  },
  {
   "cell_type": "markdown",
   "metadata": {},
   "source": [
    "https://github.com/keras-team/keras/blob/master/examples/cifar10_cnn.py"
   ]
  }
 ],
 "metadata": {
  "anaconda-cloud": {},
  "kernelspec": {
   "display_name": "Python [Root]",
   "language": "python",
   "name": "Python [Root]"
  },
  "language_info": {
   "codemirror_mode": {
    "name": "ipython",
    "version": 3
   },
   "file_extension": ".py",
   "mimetype": "text/x-python",
   "name": "python",
   "nbconvert_exporter": "python",
   "pygments_lexer": "ipython3",
   "version": "3.5.1"
  }
 },
 "nbformat": 4,
 "nbformat_minor": 0
}
