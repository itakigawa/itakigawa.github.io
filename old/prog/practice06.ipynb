{
 "cells": [
  {
   "cell_type": "markdown",
   "metadata": {},
   "source": [
    "## 今日の演習"
   ]
  },
  {
   "cell_type": "markdown",
   "metadata": {},
   "source": [
    "今日は先週の復習＋αと各自の「まとめ資料」作成"
   ]
  },
  {
   "cell_type": "markdown",
   "metadata": {},
   "source": [
    "瀧川は今日は14:00の飛行機で出張なので11:30くらいには出ます。いつものミニレポートはTAが回収するので記入して前に提出してから解散してください。"
   ]
  },
  {
   "cell_type": "markdown",
   "metadata": {},
   "source": [
    "## practice05"
   ]
  },
  {
   "cell_type": "markdown",
   "metadata": {},
   "source": [
    "先週のpractice05.ipynbはみなさんがダウンロードしたであろう新しいAnacondaに入っているpandasでは動かない古い書き方になっていました。エラーが出て戸惑った人スミマセン。まあ拡張ライブラリはこういうこともあります。"
   ]
  },
  {
   "cell_type": "markdown",
   "metadata": {},
   "source": [
    "ということで現在アップロードされているpractice05は修正してあるので、以下をこなした後に再度チェックして見てください！"
   ]
  },
  {
   "cell_type": "markdown",
   "metadata": {},
   "source": [
    "## スライスの復習"
   ]
  },
  {
   "cell_type": "markdown",
   "metadata": {},
   "source": [
    "まずはpandasをimportします。名前が長いと入力が面倒くさいので「pd」で省略できるようasしておきます。pandas.hogehogeがpd.hogehogeと書けるだけです。分からない人は「モジュール」のところを復習してください。"
   ]
  },
  {
   "cell_type": "code",
   "execution_count": 1,
   "metadata": {},
   "outputs": [],
   "source": [
    "import pandas as pd"
   ]
  },
  {
   "cell_type": "markdown",
   "metadata": {},
   "source": [
    "まずはリストのリスト(配列の配列)を定義しましょう。Excelで表データを作り、「CSV」形式で保存してから、それをpd.read_csvで読むとかでもいいです。"
   ]
  },
  {
   "cell_type": "code",
   "execution_count": 5,
   "metadata": {},
   "outputs": [],
   "source": [
    "m = [[1, 2, 3],\n",
    "     [40, 20, 10]]"
   ]
  },
  {
   "cell_type": "code",
   "execution_count": 6,
   "metadata": {},
   "outputs": [
    {
     "data": {
      "text/plain": [
       "[[1, 2, 3], [40, 20, 10]]"
      ]
     },
     "execution_count": 6,
     "metadata": {},
     "output_type": "execute_result"
    }
   ],
   "source": [
    "m"
   ]
  },
  {
   "cell_type": "markdown",
   "metadata": {},
   "source": [
    "これをpandasの表データ(DataFrame)にします。"
   ]
  },
  {
   "cell_type": "code",
   "execution_count": 77,
   "metadata": {},
   "outputs": [],
   "source": [
    "df = pd.DataFrame(m)"
   ]
  },
  {
   "cell_type": "code",
   "execution_count": 78,
   "metadata": {},
   "outputs": [
    {
     "data": {
      "text/html": [
       "<div>\n",
       "<style scoped>\n",
       "    .dataframe tbody tr th:only-of-type {\n",
       "        vertical-align: middle;\n",
       "    }\n",
       "\n",
       "    .dataframe tbody tr th {\n",
       "        vertical-align: top;\n",
       "    }\n",
       "\n",
       "    .dataframe thead th {\n",
       "        text-align: right;\n",
       "    }\n",
       "</style>\n",
       "<table border=\"1\" class=\"dataframe\">\n",
       "  <thead>\n",
       "    <tr style=\"text-align: right;\">\n",
       "      <th></th>\n",
       "      <th>0</th>\n",
       "      <th>1</th>\n",
       "      <th>2</th>\n",
       "    </tr>\n",
       "  </thead>\n",
       "  <tbody>\n",
       "    <tr>\n",
       "      <th>0</th>\n",
       "      <td>1</td>\n",
       "      <td>2</td>\n",
       "      <td>3</td>\n",
       "    </tr>\n",
       "    <tr>\n",
       "      <th>1</th>\n",
       "      <td>40</td>\n",
       "      <td>20</td>\n",
       "      <td>10</td>\n",
       "    </tr>\n",
       "  </tbody>\n",
       "</table>\n",
       "</div>"
      ],
      "text/plain": [
       "    0   1   2\n",
       "0   1   2   3\n",
       "1  40  20  10"
      ]
     },
     "execution_count": 78,
     "metadata": {},
     "output_type": "execute_result"
    }
   ],
   "source": [
    "df"
   ]
  },
  {
   "cell_type": "markdown",
   "metadata": {},
   "source": [
    "配列のスライスと同じようにして部分を切り取ることができます。配列では"
   ]
  },
  {
   "cell_type": "code",
   "execution_count": 12,
   "metadata": {},
   "outputs": [],
   "source": [
    "a = [1, 3, 5, 7, 8, 9]"
   ]
  },
  {
   "cell_type": "code",
   "execution_count": 13,
   "metadata": {},
   "outputs": [
    {
     "data": {
      "text/plain": [
       "1"
      ]
     },
     "execution_count": 13,
     "metadata": {},
     "output_type": "execute_result"
    }
   ],
   "source": [
    "a[0]"
   ]
  },
  {
   "cell_type": "code",
   "execution_count": 14,
   "metadata": {},
   "outputs": [
    {
     "data": {
      "text/plain": [
       "[1, 3, 5]"
      ]
     },
     "execution_count": 14,
     "metadata": {},
     "output_type": "execute_result"
    }
   ],
   "source": [
    "a[0:3]"
   ]
  },
  {
   "cell_type": "code",
   "execution_count": 15,
   "metadata": {},
   "outputs": [
    {
     "data": {
      "text/plain": [
       "[3, 5]"
      ]
     },
     "execution_count": 15,
     "metadata": {},
     "output_type": "execute_result"
    }
   ],
   "source": [
    "a[1:3]"
   ]
  },
  {
   "cell_type": "code",
   "execution_count": 16,
   "metadata": {},
   "outputs": [
    {
     "data": {
      "text/plain": [
       "[7, 8]"
      ]
     },
     "execution_count": 16,
     "metadata": {},
     "output_type": "execute_result"
    }
   ],
   "source": [
    "a[3:5]"
   ]
  },
  {
   "cell_type": "code",
   "execution_count": 17,
   "metadata": {},
   "outputs": [
    {
     "data": {
      "text/plain": [
       "[1, 3, 5, 7, 8, 9]"
      ]
     },
     "execution_count": 17,
     "metadata": {},
     "output_type": "execute_result"
    }
   ],
   "source": [
    "a[:]"
   ]
  },
  {
   "cell_type": "code",
   "execution_count": 19,
   "metadata": {},
   "outputs": [
    {
     "data": {
      "text/plain": [
       "9"
      ]
     },
     "execution_count": 19,
     "metadata": {},
     "output_type": "execute_result"
    }
   ],
   "source": [
    "a[-1]"
   ]
  },
  {
   "cell_type": "code",
   "execution_count": 20,
   "metadata": {},
   "outputs": [
    {
     "data": {
      "text/plain": [
       "[8, 9]"
      ]
     },
     "execution_count": 20,
     "metadata": {},
     "output_type": "execute_result"
    }
   ],
   "source": [
    "a[-2:]"
   ]
  },
  {
   "cell_type": "markdown",
   "metadata": {},
   "source": [
    "こんな感じで部分を取り出せましたね。忘れている人は「配列」のところを復習してください。"
   ]
  },
  {
   "cell_type": "code",
   "execution_count": 21,
   "metadata": {},
   "outputs": [
    {
     "data": {
      "text/html": [
       "<div>\n",
       "<style scoped>\n",
       "    .dataframe tbody tr th:only-of-type {\n",
       "        vertical-align: middle;\n",
       "    }\n",
       "\n",
       "    .dataframe tbody tr th {\n",
       "        vertical-align: top;\n",
       "    }\n",
       "\n",
       "    .dataframe thead th {\n",
       "        text-align: right;\n",
       "    }\n",
       "</style>\n",
       "<table border=\"1\" class=\"dataframe\">\n",
       "  <thead>\n",
       "    <tr style=\"text-align: right;\">\n",
       "      <th></th>\n",
       "      <th>0</th>\n",
       "      <th>1</th>\n",
       "      <th>2</th>\n",
       "    </tr>\n",
       "  </thead>\n",
       "  <tbody>\n",
       "    <tr>\n",
       "      <th>0</th>\n",
       "      <td>1</td>\n",
       "      <td>2</td>\n",
       "      <td>3</td>\n",
       "    </tr>\n",
       "    <tr>\n",
       "      <th>1</th>\n",
       "      <td>40</td>\n",
       "      <td>20</td>\n",
       "      <td>10</td>\n",
       "    </tr>\n",
       "  </tbody>\n",
       "</table>\n",
       "</div>"
      ],
      "text/plain": [
       "    0   1   2\n",
       "0   1   2   3\n",
       "1  40  20  10"
      ]
     },
     "execution_count": 21,
     "metadata": {},
     "output_type": "execute_result"
    }
   ],
   "source": [
    "df"
   ]
  },
  {
   "cell_type": "markdown",
   "metadata": {},
   "source": [
    "pandasの表をこの形式で切り取るにはilocを使いましょう。"
   ]
  },
  {
   "cell_type": "code",
   "execution_count": 62,
   "metadata": {
    "scrolled": true
   },
   "outputs": [
    {
     "data": {
      "text/plain": [
       "retsu-1    1\n",
       "retsu-2    2\n",
       "retsu-3    3\n",
       "Name: gyou-1, dtype: int64"
      ]
     },
     "execution_count": 62,
     "metadata": {},
     "output_type": "execute_result"
    }
   ],
   "source": [
    "df.iloc[0, :]"
   ]
  },
  {
   "cell_type": "code",
   "execution_count": 24,
   "metadata": {},
   "outputs": [
    {
     "data": {
      "text/plain": [
       "3"
      ]
     },
     "execution_count": 24,
     "metadata": {},
     "output_type": "execute_result"
    }
   ],
   "source": [
    "df.iloc[0, 2]"
   ]
  },
  {
   "cell_type": "code",
   "execution_count": 26,
   "metadata": {},
   "outputs": [
    {
     "data": {
      "text/plain": [
       "0    40\n",
       "1    20\n",
       "2    10\n",
       "Name: 1, dtype: int64"
      ]
     },
     "execution_count": 26,
     "metadata": {},
     "output_type": "execute_result"
    }
   ],
   "source": [
    "df.iloc[1, :]"
   ]
  },
  {
   "cell_type": "code",
   "execution_count": 27,
   "metadata": {},
   "outputs": [
    {
     "data": {
      "text/plain": [
       "0     3\n",
       "1    10\n",
       "Name: 2, dtype: int64"
      ]
     },
     "execution_count": 27,
     "metadata": {},
     "output_type": "execute_result"
    }
   ],
   "source": [
    "df.iloc[:, 2]"
   ]
  },
  {
   "cell_type": "code",
   "execution_count": 28,
   "metadata": {},
   "outputs": [
    {
     "data": {
      "text/html": [
       "<div>\n",
       "<style scoped>\n",
       "    .dataframe tbody tr th:only-of-type {\n",
       "        vertical-align: middle;\n",
       "    }\n",
       "\n",
       "    .dataframe tbody tr th {\n",
       "        vertical-align: top;\n",
       "    }\n",
       "\n",
       "    .dataframe thead th {\n",
       "        text-align: right;\n",
       "    }\n",
       "</style>\n",
       "<table border=\"1\" class=\"dataframe\">\n",
       "  <thead>\n",
       "    <tr style=\"text-align: right;\">\n",
       "      <th></th>\n",
       "      <th>0</th>\n",
       "      <th>1</th>\n",
       "      <th>2</th>\n",
       "    </tr>\n",
       "  </thead>\n",
       "  <tbody>\n",
       "    <tr>\n",
       "      <th>0</th>\n",
       "      <td>1</td>\n",
       "      <td>2</td>\n",
       "      <td>3</td>\n",
       "    </tr>\n",
       "    <tr>\n",
       "      <th>1</th>\n",
       "      <td>40</td>\n",
       "      <td>20</td>\n",
       "      <td>10</td>\n",
       "    </tr>\n",
       "  </tbody>\n",
       "</table>\n",
       "</div>"
      ],
      "text/plain": [
       "    0   1   2\n",
       "0   1   2   3\n",
       "1  40  20  10"
      ]
     },
     "execution_count": 28,
     "metadata": {},
     "output_type": "execute_result"
    }
   ],
   "source": [
    "df"
   ]
  },
  {
   "cell_type": "markdown",
   "metadata": {},
   "source": [
    "表に列名をつけて見ましょう。列は英語でカラム(column)なので、columnsで指定します。"
   ]
  },
  {
   "cell_type": "code",
   "execution_count": 29,
   "metadata": {},
   "outputs": [],
   "source": [
    "df.columns = ['retsu-1', 'retsu-2', 'retsu-3']"
   ]
  },
  {
   "cell_type": "code",
   "execution_count": 30,
   "metadata": {},
   "outputs": [
    {
     "data": {
      "text/html": [
       "<div>\n",
       "<style scoped>\n",
       "    .dataframe tbody tr th:only-of-type {\n",
       "        vertical-align: middle;\n",
       "    }\n",
       "\n",
       "    .dataframe tbody tr th {\n",
       "        vertical-align: top;\n",
       "    }\n",
       "\n",
       "    .dataframe thead th {\n",
       "        text-align: right;\n",
       "    }\n",
       "</style>\n",
       "<table border=\"1\" class=\"dataframe\">\n",
       "  <thead>\n",
       "    <tr style=\"text-align: right;\">\n",
       "      <th></th>\n",
       "      <th>retsu-1</th>\n",
       "      <th>retsu-2</th>\n",
       "      <th>retsu-3</th>\n",
       "    </tr>\n",
       "  </thead>\n",
       "  <tbody>\n",
       "    <tr>\n",
       "      <th>0</th>\n",
       "      <td>1</td>\n",
       "      <td>2</td>\n",
       "      <td>3</td>\n",
       "    </tr>\n",
       "    <tr>\n",
       "      <th>1</th>\n",
       "      <td>40</td>\n",
       "      <td>20</td>\n",
       "      <td>10</td>\n",
       "    </tr>\n",
       "  </tbody>\n",
       "</table>\n",
       "</div>"
      ],
      "text/plain": [
       "   retsu-1  retsu-2  retsu-3\n",
       "0        1        2        3\n",
       "1       40       20       10"
      ]
     },
     "execution_count": 30,
     "metadata": {},
     "output_type": "execute_result"
    }
   ],
   "source": [
    "df"
   ]
  },
  {
   "cell_type": "markdown",
   "metadata": {},
   "source": [
    "行名をつけてみましょう。行は英語でロウ(row)なのですが、pandasではindexで指定します。"
   ]
  },
  {
   "cell_type": "code",
   "execution_count": 31,
   "metadata": {},
   "outputs": [],
   "source": [
    "df.index = ['gyou-1', 'gyou-2']"
   ]
  },
  {
   "cell_type": "code",
   "execution_count": 32,
   "metadata": {},
   "outputs": [
    {
     "data": {
      "text/html": [
       "<div>\n",
       "<style scoped>\n",
       "    .dataframe tbody tr th:only-of-type {\n",
       "        vertical-align: middle;\n",
       "    }\n",
       "\n",
       "    .dataframe tbody tr th {\n",
       "        vertical-align: top;\n",
       "    }\n",
       "\n",
       "    .dataframe thead th {\n",
       "        text-align: right;\n",
       "    }\n",
       "</style>\n",
       "<table border=\"1\" class=\"dataframe\">\n",
       "  <thead>\n",
       "    <tr style=\"text-align: right;\">\n",
       "      <th></th>\n",
       "      <th>retsu-1</th>\n",
       "      <th>retsu-2</th>\n",
       "      <th>retsu-3</th>\n",
       "    </tr>\n",
       "  </thead>\n",
       "  <tbody>\n",
       "    <tr>\n",
       "      <th>gyou-1</th>\n",
       "      <td>1</td>\n",
       "      <td>2</td>\n",
       "      <td>3</td>\n",
       "    </tr>\n",
       "    <tr>\n",
       "      <th>gyou-2</th>\n",
       "      <td>40</td>\n",
       "      <td>20</td>\n",
       "      <td>10</td>\n",
       "    </tr>\n",
       "  </tbody>\n",
       "</table>\n",
       "</div>"
      ],
      "text/plain": [
       "        retsu-1  retsu-2  retsu-3\n",
       "gyou-1        1        2        3\n",
       "gyou-2       40       20       10"
      ]
     },
     "execution_count": 32,
     "metadata": {},
     "output_type": "execute_result"
    }
   ],
   "source": [
    "df"
   ]
  },
  {
   "cell_type": "markdown",
   "metadata": {},
   "source": [
    "名前をつけておくと列を名前で参照することができます。この方が、間違いが減りそうですね。"
   ]
  },
  {
   "cell_type": "code",
   "execution_count": 36,
   "metadata": {},
   "outputs": [
    {
     "data": {
      "text/plain": [
       "gyou-1     3\n",
       "gyou-2    10\n",
       "Name: retsu-3, dtype: int64"
      ]
     },
     "execution_count": 36,
     "metadata": {},
     "output_type": "execute_result"
    }
   ],
   "source": [
    "df['retsu-3']"
   ]
  },
  {
   "cell_type": "markdown",
   "metadata": {},
   "source": [
    "行を名前で参照するときは、ilocではなく、locを使いましょう。"
   ]
  },
  {
   "cell_type": "code",
   "execution_count": 37,
   "metadata": {},
   "outputs": [
    {
     "data": {
      "text/plain": [
       "10"
      ]
     },
     "execution_count": 37,
     "metadata": {},
     "output_type": "execute_result"
    }
   ],
   "source": [
    "df.loc['gyou-2', 'retsu-3']"
   ]
  },
  {
   "cell_type": "code",
   "execution_count": 38,
   "metadata": {},
   "outputs": [
    {
     "data": {
      "text/plain": [
       "retsu-1    40\n",
       "retsu-2    20\n",
       "retsu-3    10\n",
       "Name: gyou-2, dtype: int64"
      ]
     },
     "execution_count": 38,
     "metadata": {},
     "output_type": "execute_result"
    }
   ],
   "source": [
    "df.loc['gyou-2', :]"
   ]
  },
  {
   "cell_type": "code",
   "execution_count": 39,
   "metadata": {},
   "outputs": [
    {
     "data": {
      "text/plain": [
       "gyou-1     1\n",
       "gyou-2    40\n",
       "Name: retsu-1, dtype: int64"
      ]
     },
     "execution_count": 39,
     "metadata": {},
     "output_type": "execute_result"
    }
   ],
   "source": [
    "df.loc[:, 'retsu-1']"
   ]
  },
  {
   "cell_type": "code",
   "execution_count": 40,
   "metadata": {},
   "outputs": [
    {
     "data": {
      "text/plain": [
       "Index(['retsu-1', 'retsu-2', 'retsu-3'], dtype='object')"
      ]
     },
     "execution_count": 40,
     "metadata": {},
     "output_type": "execute_result"
    }
   ],
   "source": [
    "df.columns"
   ]
  },
  {
   "cell_type": "code",
   "execution_count": 41,
   "metadata": {},
   "outputs": [
    {
     "data": {
      "text/plain": [
       "Index(['gyou-1', 'gyou-2'], dtype='object')"
      ]
     },
     "execution_count": 41,
     "metadata": {},
     "output_type": "execute_result"
    }
   ],
   "source": [
    "df.index"
   ]
  },
  {
   "cell_type": "code",
   "execution_count": 63,
   "metadata": {},
   "outputs": [
    {
     "data": {
      "text/html": [
       "<div>\n",
       "<style scoped>\n",
       "    .dataframe tbody tr th:only-of-type {\n",
       "        vertical-align: middle;\n",
       "    }\n",
       "\n",
       "    .dataframe tbody tr th {\n",
       "        vertical-align: top;\n",
       "    }\n",
       "\n",
       "    .dataframe thead th {\n",
       "        text-align: right;\n",
       "    }\n",
       "</style>\n",
       "<table border=\"1\" class=\"dataframe\">\n",
       "  <thead>\n",
       "    <tr style=\"text-align: right;\">\n",
       "      <th></th>\n",
       "      <th>retsu-1</th>\n",
       "      <th>retsu-2</th>\n",
       "      <th>retsu-3</th>\n",
       "    </tr>\n",
       "  </thead>\n",
       "  <tbody>\n",
       "    <tr>\n",
       "      <th>gyou-1</th>\n",
       "      <td>1</td>\n",
       "      <td>2</td>\n",
       "      <td>3</td>\n",
       "    </tr>\n",
       "    <tr>\n",
       "      <th>gyou-2</th>\n",
       "      <td>40</td>\n",
       "      <td>20</td>\n",
       "      <td>10</td>\n",
       "    </tr>\n",
       "  </tbody>\n",
       "</table>\n",
       "</div>"
      ],
      "text/plain": [
       "        retsu-1  retsu-2  retsu-3\n",
       "gyou-1        1        2        3\n",
       "gyou-2       40       20       10"
      ]
     },
     "execution_count": 63,
     "metadata": {},
     "output_type": "execute_result"
    }
   ],
   "source": [
    "df"
   ]
  },
  {
   "cell_type": "markdown",
   "metadata": {},
   "source": [
    "さて、それでは列の平均値を計算して見ましょう。axis=0で列方向、axis=1で行方向に平均(mean)や総和(sum)の計算ができます。"
   ]
  },
  {
   "cell_type": "code",
   "execution_count": 67,
   "metadata": {},
   "outputs": [
    {
     "data": {
      "text/plain": [
       "retsu-1    20.5\n",
       "retsu-2    11.0\n",
       "retsu-3     6.5\n",
       "dtype: float64"
      ]
     },
     "execution_count": 67,
     "metadata": {},
     "output_type": "execute_result"
    }
   ],
   "source": [
    "df.mean(axis=0)"
   ]
  },
  {
   "cell_type": "code",
   "execution_count": 68,
   "metadata": {},
   "outputs": [
    {
     "data": {
      "text/plain": [
       "gyou-1     2.000000\n",
       "gyou-2    23.333333\n",
       "dtype: float64"
      ]
     },
     "execution_count": 68,
     "metadata": {},
     "output_type": "execute_result"
    }
   ],
   "source": [
    "df.mean(axis=1)"
   ]
  },
  {
   "cell_type": "code",
   "execution_count": 69,
   "metadata": {},
   "outputs": [
    {
     "data": {
      "text/plain": [
       "retsu-1    41\n",
       "retsu-2    22\n",
       "retsu-3    13\n",
       "dtype: int64"
      ]
     },
     "execution_count": 69,
     "metadata": {},
     "output_type": "execute_result"
    }
   ],
   "source": [
    "df.sum(axis=0)"
   ]
  },
  {
   "cell_type": "code",
   "execution_count": 70,
   "metadata": {},
   "outputs": [
    {
     "data": {
      "text/plain": [
       "gyou-1     6\n",
       "gyou-2    70\n",
       "dtype: int64"
      ]
     },
     "execution_count": 70,
     "metadata": {},
     "output_type": "execute_result"
    }
   ],
   "source": [
    "df.sum(axis=1)"
   ]
  },
  {
   "cell_type": "markdown",
   "metadata": {},
   "source": [
    "これらの行や列を加えて見ましょう。"
   ]
  },
  {
   "cell_type": "code",
   "execution_count": 79,
   "metadata": {
    "scrolled": true
   },
   "outputs": [
    {
     "data": {
      "text/html": [
       "<div>\n",
       "<style scoped>\n",
       "    .dataframe tbody tr th:only-of-type {\n",
       "        vertical-align: middle;\n",
       "    }\n",
       "\n",
       "    .dataframe tbody tr th {\n",
       "        vertical-align: top;\n",
       "    }\n",
       "\n",
       "    .dataframe thead th {\n",
       "        text-align: right;\n",
       "    }\n",
       "</style>\n",
       "<table border=\"1\" class=\"dataframe\">\n",
       "  <thead>\n",
       "    <tr style=\"text-align: right;\">\n",
       "      <th></th>\n",
       "      <th>0</th>\n",
       "      <th>1</th>\n",
       "      <th>2</th>\n",
       "    </tr>\n",
       "  </thead>\n",
       "  <tbody>\n",
       "    <tr>\n",
       "      <th>0</th>\n",
       "      <td>1</td>\n",
       "      <td>2</td>\n",
       "      <td>3</td>\n",
       "    </tr>\n",
       "    <tr>\n",
       "      <th>1</th>\n",
       "      <td>40</td>\n",
       "      <td>20</td>\n",
       "      <td>10</td>\n",
       "    </tr>\n",
       "  </tbody>\n",
       "</table>\n",
       "</div>"
      ],
      "text/plain": [
       "    0   1   2\n",
       "0   1   2   3\n",
       "1  40  20  10"
      ]
     },
     "execution_count": 79,
     "metadata": {},
     "output_type": "execute_result"
    }
   ],
   "source": [
    "df"
   ]
  },
  {
   "cell_type": "code",
   "execution_count": 80,
   "metadata": {},
   "outputs": [],
   "source": [
    "df.loc['sum'] = df.sum(axis=0)"
   ]
  },
  {
   "cell_type": "code",
   "execution_count": 81,
   "metadata": {},
   "outputs": [
    {
     "data": {
      "text/html": [
       "<div>\n",
       "<style scoped>\n",
       "    .dataframe tbody tr th:only-of-type {\n",
       "        vertical-align: middle;\n",
       "    }\n",
       "\n",
       "    .dataframe tbody tr th {\n",
       "        vertical-align: top;\n",
       "    }\n",
       "\n",
       "    .dataframe thead th {\n",
       "        text-align: right;\n",
       "    }\n",
       "</style>\n",
       "<table border=\"1\" class=\"dataframe\">\n",
       "  <thead>\n",
       "    <tr style=\"text-align: right;\">\n",
       "      <th></th>\n",
       "      <th>0</th>\n",
       "      <th>1</th>\n",
       "      <th>2</th>\n",
       "    </tr>\n",
       "  </thead>\n",
       "  <tbody>\n",
       "    <tr>\n",
       "      <th>0</th>\n",
       "      <td>1</td>\n",
       "      <td>2</td>\n",
       "      <td>3</td>\n",
       "    </tr>\n",
       "    <tr>\n",
       "      <th>1</th>\n",
       "      <td>40</td>\n",
       "      <td>20</td>\n",
       "      <td>10</td>\n",
       "    </tr>\n",
       "    <tr>\n",
       "      <th>sum</th>\n",
       "      <td>41</td>\n",
       "      <td>22</td>\n",
       "      <td>13</td>\n",
       "    </tr>\n",
       "  </tbody>\n",
       "</table>\n",
       "</div>"
      ],
      "text/plain": [
       "      0   1   2\n",
       "0     1   2   3\n",
       "1    40  20  10\n",
       "sum  41  22  13"
      ]
     },
     "execution_count": 81,
     "metadata": {},
     "output_type": "execute_result"
    }
   ],
   "source": [
    "df"
   ]
  },
  {
   "cell_type": "code",
   "execution_count": 82,
   "metadata": {},
   "outputs": [],
   "source": [
    "df['sum'] = df.sum(axis=1)"
   ]
  },
  {
   "cell_type": "code",
   "execution_count": 83,
   "metadata": {},
   "outputs": [
    {
     "data": {
      "text/html": [
       "<div>\n",
       "<style scoped>\n",
       "    .dataframe tbody tr th:only-of-type {\n",
       "        vertical-align: middle;\n",
       "    }\n",
       "\n",
       "    .dataframe tbody tr th {\n",
       "        vertical-align: top;\n",
       "    }\n",
       "\n",
       "    .dataframe thead th {\n",
       "        text-align: right;\n",
       "    }\n",
       "</style>\n",
       "<table border=\"1\" class=\"dataframe\">\n",
       "  <thead>\n",
       "    <tr style=\"text-align: right;\">\n",
       "      <th></th>\n",
       "      <th>0</th>\n",
       "      <th>1</th>\n",
       "      <th>2</th>\n",
       "      <th>sum</th>\n",
       "    </tr>\n",
       "  </thead>\n",
       "  <tbody>\n",
       "    <tr>\n",
       "      <th>0</th>\n",
       "      <td>1</td>\n",
       "      <td>2</td>\n",
       "      <td>3</td>\n",
       "      <td>6</td>\n",
       "    </tr>\n",
       "    <tr>\n",
       "      <th>1</th>\n",
       "      <td>40</td>\n",
       "      <td>20</td>\n",
       "      <td>10</td>\n",
       "      <td>70</td>\n",
       "    </tr>\n",
       "    <tr>\n",
       "      <th>sum</th>\n",
       "      <td>41</td>\n",
       "      <td>22</td>\n",
       "      <td>13</td>\n",
       "      <td>76</td>\n",
       "    </tr>\n",
       "  </tbody>\n",
       "</table>\n",
       "</div>"
      ],
      "text/plain": [
       "      0   1   2  sum\n",
       "0     1   2   3    6\n",
       "1    40  20  10   70\n",
       "sum  41  22  13   76"
      ]
     },
     "execution_count": 83,
     "metadata": {},
     "output_type": "execute_result"
    }
   ],
   "source": [
    "df"
   ]
  },
  {
   "cell_type": "markdown",
   "metadata": {},
   "source": [
    "ファイルに保存して見ましょう。"
   ]
  },
  {
   "cell_type": "code",
   "execution_count": 84,
   "metadata": {},
   "outputs": [],
   "source": [
    "df.to_csv('mydata.csv')"
   ]
  },
  {
   "cell_type": "markdown",
   "metadata": {},
   "source": [
    "これで「mydata.csv」がこのipynbと同じフォルダにできているはずなので、ダブルクリックしてExcelで中身を確認して見ましょう。"
   ]
  },
  {
   "cell_type": "markdown",
   "metadata": {},
   "source": [
    "pandasについては、適当に検索したら、色々見つかると思いますが、例えば、以下が公式のものです。データ処理や統計解析、あるいは、AIや機械学習に関心がある人はデータの取り扱いに慣れる必要があるので取り組んでみると良いと思います！(英語の勉強を兼ねて?)"
   ]
  },
  {
   "cell_type": "markdown",
   "metadata": {},
   "source": [
    "https://pandas.pydata.org/pandas-docs/stable/tutorials.html"
   ]
  },
  {
   "cell_type": "markdown",
   "metadata": {},
   "source": [
    "## 表のデータを可視化"
   ]
  },
  {
   "cell_type": "markdown",
   "metadata": {},
   "source": [
    "可視化を担当する拡張ライブラリmatplotlibをimportして、このJupyter notebookの中でグラフが見れるように呼び出しておきましょう。"
   ]
  },
  {
   "cell_type": "code",
   "execution_count": 47,
   "metadata": {},
   "outputs": [],
   "source": [
    "import matplotlib.pyplot as plt\n",
    "%matplotlib inline"
   ]
  },
  {
   "cell_type": "markdown",
   "metadata": {},
   "source": [
    "単純な折れ線グラフを描いて見ましょう。"
   ]
  },
  {
   "cell_type": "code",
   "execution_count": 50,
   "metadata": {},
   "outputs": [],
   "source": [
    "x = [1, 2, 5, 6, 9, 14, 2, 1, 0]"
   ]
  },
  {
   "cell_type": "code",
   "execution_count": 52,
   "metadata": {},
   "outputs": [
    {
     "data": {
      "image/png": "[encoded data removed]",
      "text/plain": [
       "<matplotlib.figure.Figure at 0x11d4b3ba8>"
      ]
     },
     "metadata": {},
     "output_type": "display_data"
    }
   ],
   "source": [
    "plt.plot(x)\n",
    "plt.show()"
   ]
  },
  {
   "cell_type": "markdown",
   "metadata": {},
   "source": [
    "点も加えて見ましょう。点は'o'を加えるだけです。"
   ]
  },
  {
   "cell_type": "code",
   "execution_count": 53,
   "metadata": {},
   "outputs": [
    {
     "data": {
      "image/png": "[encoded data removed]",
      "text/plain": [
       "<matplotlib.figure.Figure at 0x11d5503c8>"
      ]
     },
     "metadata": {},
     "output_type": "display_data"
    }
   ],
   "source": [
    "plt.plot(x) # 線が引かれる\n",
    "plt.plot(x, 'o') # 点がプロットされる\n",
    "plt.show()"
   ]
  },
  {
   "cell_type": "markdown",
   "metadata": {},
   "source": [
    "軸ラベルを振って見ましょう。x軸に「週」、y軸に「獲得ポイント」としましょう。"
   ]
  },
  {
   "cell_type": "code",
   "execution_count": 54,
   "metadata": {},
   "outputs": [
    {
     "data": {
      "image/png": "[encoded data removed]",
      "text/plain": [
       "<matplotlib.figure.Figure at 0x11d64d4e0>"
      ]
     },
     "metadata": {},
     "output_type": "display_data"
    }
   ],
   "source": [
    "plt.plot(x)\n",
    "plt.plot(x, 'o')\n",
    "plt.xlabel('week')\n",
    "plt.ylabel('obtained points')\n",
    "plt.show()"
   ]
  },
  {
   "cell_type": "markdown",
   "metadata": {},
   "source": [
    "同じデータを棒グラフで書いて見ましょう。棒グラフは棒の位置と高さの二つのリストを使います。位置は等間隔に [0, 1, 2, 3, 4, ..., 8]として見ましょう。"
   ]
  },
  {
   "cell_type": "code",
   "execution_count": 59,
   "metadata": {},
   "outputs": [],
   "source": [
    "points = [0, 1, 2, 3, 4, 5, 6, 7, 8]  # (range(len(x)))でも可"
   ]
  },
  {
   "cell_type": "code",
   "execution_count": 61,
   "metadata": {
    "scrolled": true
   },
   "outputs": [
    {
     "data": {
      "image/png": "[encoded data removed]",
      "text/plain": [
       "<matplotlib.figure.Figure at 0x11d99f320>"
      ]
     },
     "metadata": {},
     "output_type": "display_data"
    }
   ],
   "source": [
    "plt.bar(points, x)\n",
    "plt.show()"
   ]
  },
  {
   "cell_type": "markdown",
   "metadata": {},
   "source": [
    "下記のmatplotlibの公式の入門(英語だが)をみて、少し自分なりにいくつかグラフを作って見ましょう！"
   ]
  },
  {
   "cell_type": "markdown",
   "metadata": {},
   "source": [
    "https://matplotlib.org/tutorials/introductory/pyplot.html"
   ]
  },
  {
   "cell_type": "markdown",
   "metadata": {},
   "source": [
    "以上が分かってきたら、自分でデータをExcelで作って(もしくはどこかからデータを入手して)、CSV形式で保存、pandasのread_csvで読み込んで、集計したり可視化したりしてみる、という流れも少し理解できるのではないでしょうか！"
   ]
  },
  {
   "cell_type": "markdown",
   "metadata": {},
   "source": [
    "## "
   ]
  },
  {
   "cell_type": "code",
   "execution_count": 89,
   "metadata": {},
   "outputs": [
    {
     "data": {
      "text/html": [
       "<style  type=\"text/css\" >\n",
       "    #T_6b57e458_7a50_11e8_aa2f_8c8590144e10row2_col0 {\n",
       "            background-color:  yellow;\n",
       "        }    #T_6b57e458_7a50_11e8_aa2f_8c8590144e10row2_col1 {\n",
       "            background-color:  yellow;\n",
       "        }    #T_6b57e458_7a50_11e8_aa2f_8c8590144e10row2_col2 {\n",
       "            background-color:  yellow;\n",
       "        }    #T_6b57e458_7a50_11e8_aa2f_8c8590144e10row2_col3 {\n",
       "            background-color:  yellow;\n",
       "        }</style>  \n",
       "<table id=\"T_6b57e458_7a50_11e8_aa2f_8c8590144e10\" > \n",
       "<thead>    <tr> \n",
       "        <th class=\"blank level0\" ></th> \n",
       "        <th class=\"col_heading level0 col0\" >0</th> \n",
       "        <th class=\"col_heading level0 col1\" >1</th> \n",
       "        <th class=\"col_heading level0 col2\" >2</th> \n",
       "        <th class=\"col_heading level0 col3\" >sum</th> \n",
       "    </tr></thead> \n",
       "<tbody>    <tr> \n",
       "        <th id=\"T_6b57e458_7a50_11e8_aa2f_8c8590144e10level0_row0\" class=\"row_heading level0 row0\" >0</th> \n",
       "        <td id=\"T_6b57e458_7a50_11e8_aa2f_8c8590144e10row0_col0\" class=\"data row0 col0\" >1</td> \n",
       "        <td id=\"T_6b57e458_7a50_11e8_aa2f_8c8590144e10row0_col1\" class=\"data row0 col1\" >2</td> \n",
       "        <td id=\"T_6b57e458_7a50_11e8_aa2f_8c8590144e10row0_col2\" class=\"data row0 col2\" >3</td> \n",
       "        <td id=\"T_6b57e458_7a50_11e8_aa2f_8c8590144e10row0_col3\" class=\"data row0 col3\" >6</td> \n",
       "    </tr>    <tr> \n",
       "        <th id=\"T_6b57e458_7a50_11e8_aa2f_8c8590144e10level0_row1\" class=\"row_heading level0 row1\" >1</th> \n",
       "        <td id=\"T_6b57e458_7a50_11e8_aa2f_8c8590144e10row1_col0\" class=\"data row1 col0\" >40</td> \n",
       "        <td id=\"T_6b57e458_7a50_11e8_aa2f_8c8590144e10row1_col1\" class=\"data row1 col1\" >20</td> \n",
       "        <td id=\"T_6b57e458_7a50_11e8_aa2f_8c8590144e10row1_col2\" class=\"data row1 col2\" >10</td> \n",
       "        <td id=\"T_6b57e458_7a50_11e8_aa2f_8c8590144e10row1_col3\" class=\"data row1 col3\" >70</td> \n",
       "    </tr>    <tr> \n",
       "        <th id=\"T_6b57e458_7a50_11e8_aa2f_8c8590144e10level0_row2\" class=\"row_heading level0 row2\" >sum</th> \n",
       "        <td id=\"T_6b57e458_7a50_11e8_aa2f_8c8590144e10row2_col0\" class=\"data row2 col0\" >41</td> \n",
       "        <td id=\"T_6b57e458_7a50_11e8_aa2f_8c8590144e10row2_col1\" class=\"data row2 col1\" >22</td> \n",
       "        <td id=\"T_6b57e458_7a50_11e8_aa2f_8c8590144e10row2_col2\" class=\"data row2 col2\" >13</td> \n",
       "        <td id=\"T_6b57e458_7a50_11e8_aa2f_8c8590144e10row2_col3\" class=\"data row2 col3\" >76</td> \n",
       "    </tr></tbody> \n",
       "</table> "
      ],
      "text/plain": [
       "<pandas.io.formats.style.Styler at 0x11d64d6a0>"
      ]
     },
     "execution_count": 89,
     "metadata": {},
     "output_type": "execute_result"
    }
   ],
   "source": [
    "df.style.highlight_max()"
   ]
  },
  {
   "cell_type": "markdown",
   "metadata": {},
   "source": [
    "## numpyを使う"
   ]
  },
  {
   "cell_type": "markdown",
   "metadata": {},
   "source": [
    "数値計算などより柔軟に扱うためnumpyというライブラリを読み込みます。なお、データサイエンスやAI分野でpythonを使う場合、この３つのライブラリ「numpy」「pandas」「matplotlib」は非常によくつかう御三家です。"
   ]
  },
  {
   "cell_type": "code",
   "execution_count": 97,
   "metadata": {},
   "outputs": [],
   "source": [
    "import numpy as np"
   ]
  },
  {
   "cell_type": "markdown",
   "metadata": {},
   "source": [
    "0-1の乱数で 5 x 6 の表を作ってみましょう。"
   ]
  },
  {
   "cell_type": "code",
   "execution_count": 101,
   "metadata": {},
   "outputs": [
    {
     "data": {
      "text/plain": [
       "array([[0.45445478, 0.54319951, 0.35031963, 0.45432943, 0.56299416,\n",
       "        0.57091919],\n",
       "       [0.77263717, 0.60022413, 0.2020584 , 0.90182261, 0.01995216,\n",
       "        0.20417182],\n",
       "       [0.87654762, 0.8322917 , 0.96418857, 0.12080848, 0.91759093,\n",
       "        0.73825651],\n",
       "       [0.20876672, 0.68317563, 0.3186767 , 0.19482618, 0.62293063,\n",
       "        0.1661353 ],\n",
       "       [0.8721996 , 0.88248626, 0.99791255, 0.62202052, 0.43472665,\n",
       "        0.43287534]])"
      ]
     },
     "execution_count": 101,
     "metadata": {},
     "output_type": "execute_result"
    }
   ],
   "source": [
    "m = np.random.random( (5, 6))\n",
    "m"
   ]
  },
  {
   "cell_type": "markdown",
   "metadata": {},
   "source": [
    "pandasの表にします。"
   ]
  },
  {
   "cell_type": "code",
   "execution_count": 102,
   "metadata": {},
   "outputs": [],
   "source": [
    "df2 = pd.DataFrame(m)"
   ]
  },
  {
   "cell_type": "code",
   "execution_count": 103,
   "metadata": {
    "scrolled": true
   },
   "outputs": [
    {
     "data": {
      "text/html": [
       "<div>\n",
       "<style scoped>\n",
       "    .dataframe tbody tr th:only-of-type {\n",
       "        vertical-align: middle;\n",
       "    }\n",
       "\n",
       "    .dataframe tbody tr th {\n",
       "        vertical-align: top;\n",
       "    }\n",
       "\n",
       "    .dataframe thead th {\n",
       "        text-align: right;\n",
       "    }\n",
       "</style>\n",
       "<table border=\"1\" class=\"dataframe\">\n",
       "  <thead>\n",
       "    <tr style=\"text-align: right;\">\n",
       "      <th></th>\n",
       "      <th>0</th>\n",
       "      <th>1</th>\n",
       "      <th>2</th>\n",
       "      <th>3</th>\n",
       "      <th>4</th>\n",
       "      <th>5</th>\n",
       "    </tr>\n",
       "  </thead>\n",
       "  <tbody>\n",
       "    <tr>\n",
       "      <th>0</th>\n",
       "      <td>0.454455</td>\n",
       "      <td>0.543200</td>\n",
       "      <td>0.350320</td>\n",
       "      <td>0.454329</td>\n",
       "      <td>0.562994</td>\n",
       "      <td>0.570919</td>\n",
       "    </tr>\n",
       "    <tr>\n",
       "      <th>1</th>\n",
       "      <td>0.772637</td>\n",
       "      <td>0.600224</td>\n",
       "      <td>0.202058</td>\n",
       "      <td>0.901823</td>\n",
       "      <td>0.019952</td>\n",
       "      <td>0.204172</td>\n",
       "    </tr>\n",
       "    <tr>\n",
       "      <th>2</th>\n",
       "      <td>0.876548</td>\n",
       "      <td>0.832292</td>\n",
       "      <td>0.964189</td>\n",
       "      <td>0.120808</td>\n",
       "      <td>0.917591</td>\n",
       "      <td>0.738257</td>\n",
       "    </tr>\n",
       "    <tr>\n",
       "      <th>3</th>\n",
       "      <td>0.208767</td>\n",
       "      <td>0.683176</td>\n",
       "      <td>0.318677</td>\n",
       "      <td>0.194826</td>\n",
       "      <td>0.622931</td>\n",
       "      <td>0.166135</td>\n",
       "    </tr>\n",
       "    <tr>\n",
       "      <th>4</th>\n",
       "      <td>0.872200</td>\n",
       "      <td>0.882486</td>\n",
       "      <td>0.997913</td>\n",
       "      <td>0.622021</td>\n",
       "      <td>0.434727</td>\n",
       "      <td>0.432875</td>\n",
       "    </tr>\n",
       "  </tbody>\n",
       "</table>\n",
       "</div>"
      ],
      "text/plain": [
       "          0         1         2         3         4         5\n",
       "0  0.454455  0.543200  0.350320  0.454329  0.562994  0.570919\n",
       "1  0.772637  0.600224  0.202058  0.901823  0.019952  0.204172\n",
       "2  0.876548  0.832292  0.964189  0.120808  0.917591  0.738257\n",
       "3  0.208767  0.683176  0.318677  0.194826  0.622931  0.166135\n",
       "4  0.872200  0.882486  0.997913  0.622021  0.434727  0.432875"
      ]
     },
     "execution_count": 103,
     "metadata": {},
     "output_type": "execute_result"
    }
   ],
   "source": [
    "df2"
   ]
  },
  {
   "cell_type": "markdown",
   "metadata": {},
   "source": [
    "0.5より大きいところを赤字にして見ましょう。"
   ]
  },
  {
   "cell_type": "code",
   "execution_count": 108,
   "metadata": {},
   "outputs": [],
   "source": [
    "def highlight(val):\n",
    "    if val > 0.5:\n",
    "        return 'color: red'\n",
    "    else:\n",
    "        return 'color: black'"
   ]
  },
  {
   "cell_type": "markdown",
   "metadata": {},
   "source": [
    "上の関数を各マスに適用(apply)するにはstyle.applymapを使います。"
   ]
  },
  {
   "cell_type": "code",
   "execution_count": 110,
   "metadata": {},
   "outputs": [
    {
     "data": {
      "text/html": [
       "<style  type=\"text/css\" >\n",
       "    #T_65eb0dc8_7a51_11e8_99bc_8c8590144e10row0_col0 {\n",
       "            color:  black;\n",
       "        }    #T_65eb0dc8_7a51_11e8_99bc_8c8590144e10row0_col1 {\n",
       "            color:  red;\n",
       "        }    #T_65eb0dc8_7a51_11e8_99bc_8c8590144e10row0_col2 {\n",
       "            color:  black;\n",
       "        }    #T_65eb0dc8_7a51_11e8_99bc_8c8590144e10row0_col3 {\n",
       "            color:  black;\n",
       "        }    #T_65eb0dc8_7a51_11e8_99bc_8c8590144e10row0_col4 {\n",
       "            color:  red;\n",
       "        }    #T_65eb0dc8_7a51_11e8_99bc_8c8590144e10row0_col5 {\n",
       "            color:  red;\n",
       "        }    #T_65eb0dc8_7a51_11e8_99bc_8c8590144e10row1_col0 {\n",
       "            color:  red;\n",
       "        }    #T_65eb0dc8_7a51_11e8_99bc_8c8590144e10row1_col1 {\n",
       "            color:  red;\n",
       "        }    #T_65eb0dc8_7a51_11e8_99bc_8c8590144e10row1_col2 {\n",
       "            color:  black;\n",
       "        }    #T_65eb0dc8_7a51_11e8_99bc_8c8590144e10row1_col3 {\n",
       "            color:  red;\n",
       "        }    #T_65eb0dc8_7a51_11e8_99bc_8c8590144e10row1_col4 {\n",
       "            color:  black;\n",
       "        }    #T_65eb0dc8_7a51_11e8_99bc_8c8590144e10row1_col5 {\n",
       "            color:  black;\n",
       "        }    #T_65eb0dc8_7a51_11e8_99bc_8c8590144e10row2_col0 {\n",
       "            color:  red;\n",
       "        }    #T_65eb0dc8_7a51_11e8_99bc_8c8590144e10row2_col1 {\n",
       "            color:  red;\n",
       "        }    #T_65eb0dc8_7a51_11e8_99bc_8c8590144e10row2_col2 {\n",
       "            color:  red;\n",
       "        }    #T_65eb0dc8_7a51_11e8_99bc_8c8590144e10row2_col3 {\n",
       "            color:  black;\n",
       "        }    #T_65eb0dc8_7a51_11e8_99bc_8c8590144e10row2_col4 {\n",
       "            color:  red;\n",
       "        }    #T_65eb0dc8_7a51_11e8_99bc_8c8590144e10row2_col5 {\n",
       "            color:  red;\n",
       "        }    #T_65eb0dc8_7a51_11e8_99bc_8c8590144e10row3_col0 {\n",
       "            color:  black;\n",
       "        }    #T_65eb0dc8_7a51_11e8_99bc_8c8590144e10row3_col1 {\n",
       "            color:  red;\n",
       "        }    #T_65eb0dc8_7a51_11e8_99bc_8c8590144e10row3_col2 {\n",
       "            color:  black;\n",
       "        }    #T_65eb0dc8_7a51_11e8_99bc_8c8590144e10row3_col3 {\n",
       "            color:  black;\n",
       "        }    #T_65eb0dc8_7a51_11e8_99bc_8c8590144e10row3_col4 {\n",
       "            color:  red;\n",
       "        }    #T_65eb0dc8_7a51_11e8_99bc_8c8590144e10row3_col5 {\n",
       "            color:  black;\n",
       "        }    #T_65eb0dc8_7a51_11e8_99bc_8c8590144e10row4_col0 {\n",
       "            color:  red;\n",
       "        }    #T_65eb0dc8_7a51_11e8_99bc_8c8590144e10row4_col1 {\n",
       "            color:  red;\n",
       "        }    #T_65eb0dc8_7a51_11e8_99bc_8c8590144e10row4_col2 {\n",
       "            color:  red;\n",
       "        }    #T_65eb0dc8_7a51_11e8_99bc_8c8590144e10row4_col3 {\n",
       "            color:  red;\n",
       "        }    #T_65eb0dc8_7a51_11e8_99bc_8c8590144e10row4_col4 {\n",
       "            color:  black;\n",
       "        }    #T_65eb0dc8_7a51_11e8_99bc_8c8590144e10row4_col5 {\n",
       "            color:  black;\n",
       "        }</style>  \n",
       "<table id=\"T_65eb0dc8_7a51_11e8_99bc_8c8590144e10\" > \n",
       "<thead>    <tr> \n",
       "        <th class=\"blank level0\" ></th> \n",
       "        <th class=\"col_heading level0 col0\" >0</th> \n",
       "        <th class=\"col_heading level0 col1\" >1</th> \n",
       "        <th class=\"col_heading level0 col2\" >2</th> \n",
       "        <th class=\"col_heading level0 col3\" >3</th> \n",
       "        <th class=\"col_heading level0 col4\" >4</th> \n",
       "        <th class=\"col_heading level0 col5\" >5</th> \n",
       "    </tr></thead> \n",
       "<tbody>    <tr> \n",
       "        <th id=\"T_65eb0dc8_7a51_11e8_99bc_8c8590144e10level0_row0\" class=\"row_heading level0 row0\" >0</th> \n",
       "        <td id=\"T_65eb0dc8_7a51_11e8_99bc_8c8590144e10row0_col0\" class=\"data row0 col0\" >0.454455</td> \n",
       "        <td id=\"T_65eb0dc8_7a51_11e8_99bc_8c8590144e10row0_col1\" class=\"data row0 col1\" >0.5432</td> \n",
       "        <td id=\"T_65eb0dc8_7a51_11e8_99bc_8c8590144e10row0_col2\" class=\"data row0 col2\" >0.35032</td> \n",
       "        <td id=\"T_65eb0dc8_7a51_11e8_99bc_8c8590144e10row0_col3\" class=\"data row0 col3\" >0.454329</td> \n",
       "        <td id=\"T_65eb0dc8_7a51_11e8_99bc_8c8590144e10row0_col4\" class=\"data row0 col4\" >0.562994</td> \n",
       "        <td id=\"T_65eb0dc8_7a51_11e8_99bc_8c8590144e10row0_col5\" class=\"data row0 col5\" >0.570919</td> \n",
       "    </tr>    <tr> \n",
       "        <th id=\"T_65eb0dc8_7a51_11e8_99bc_8c8590144e10level0_row1\" class=\"row_heading level0 row1\" >1</th> \n",
       "        <td id=\"T_65eb0dc8_7a51_11e8_99bc_8c8590144e10row1_col0\" class=\"data row1 col0\" >0.772637</td> \n",
       "        <td id=\"T_65eb0dc8_7a51_11e8_99bc_8c8590144e10row1_col1\" class=\"data row1 col1\" >0.600224</td> \n",
       "        <td id=\"T_65eb0dc8_7a51_11e8_99bc_8c8590144e10row1_col2\" class=\"data row1 col2\" >0.202058</td> \n",
       "        <td id=\"T_65eb0dc8_7a51_11e8_99bc_8c8590144e10row1_col3\" class=\"data row1 col3\" >0.901823</td> \n",
       "        <td id=\"T_65eb0dc8_7a51_11e8_99bc_8c8590144e10row1_col4\" class=\"data row1 col4\" >0.0199522</td> \n",
       "        <td id=\"T_65eb0dc8_7a51_11e8_99bc_8c8590144e10row1_col5\" class=\"data row1 col5\" >0.204172</td> \n",
       "    </tr>    <tr> \n",
       "        <th id=\"T_65eb0dc8_7a51_11e8_99bc_8c8590144e10level0_row2\" class=\"row_heading level0 row2\" >2</th> \n",
       "        <td id=\"T_65eb0dc8_7a51_11e8_99bc_8c8590144e10row2_col0\" class=\"data row2 col0\" >0.876548</td> \n",
       "        <td id=\"T_65eb0dc8_7a51_11e8_99bc_8c8590144e10row2_col1\" class=\"data row2 col1\" >0.832292</td> \n",
       "        <td id=\"T_65eb0dc8_7a51_11e8_99bc_8c8590144e10row2_col2\" class=\"data row2 col2\" >0.964189</td> \n",
       "        <td id=\"T_65eb0dc8_7a51_11e8_99bc_8c8590144e10row2_col3\" class=\"data row2 col3\" >0.120808</td> \n",
       "        <td id=\"T_65eb0dc8_7a51_11e8_99bc_8c8590144e10row2_col4\" class=\"data row2 col4\" >0.917591</td> \n",
       "        <td id=\"T_65eb0dc8_7a51_11e8_99bc_8c8590144e10row2_col5\" class=\"data row2 col5\" >0.738257</td> \n",
       "    </tr>    <tr> \n",
       "        <th id=\"T_65eb0dc8_7a51_11e8_99bc_8c8590144e10level0_row3\" class=\"row_heading level0 row3\" >3</th> \n",
       "        <td id=\"T_65eb0dc8_7a51_11e8_99bc_8c8590144e10row3_col0\" class=\"data row3 col0\" >0.208767</td> \n",
       "        <td id=\"T_65eb0dc8_7a51_11e8_99bc_8c8590144e10row3_col1\" class=\"data row3 col1\" >0.683176</td> \n",
       "        <td id=\"T_65eb0dc8_7a51_11e8_99bc_8c8590144e10row3_col2\" class=\"data row3 col2\" >0.318677</td> \n",
       "        <td id=\"T_65eb0dc8_7a51_11e8_99bc_8c8590144e10row3_col3\" class=\"data row3 col3\" >0.194826</td> \n",
       "        <td id=\"T_65eb0dc8_7a51_11e8_99bc_8c8590144e10row3_col4\" class=\"data row3 col4\" >0.622931</td> \n",
       "        <td id=\"T_65eb0dc8_7a51_11e8_99bc_8c8590144e10row3_col5\" class=\"data row3 col5\" >0.166135</td> \n",
       "    </tr>    <tr> \n",
       "        <th id=\"T_65eb0dc8_7a51_11e8_99bc_8c8590144e10level0_row4\" class=\"row_heading level0 row4\" >4</th> \n",
       "        <td id=\"T_65eb0dc8_7a51_11e8_99bc_8c8590144e10row4_col0\" class=\"data row4 col0\" >0.8722</td> \n",
       "        <td id=\"T_65eb0dc8_7a51_11e8_99bc_8c8590144e10row4_col1\" class=\"data row4 col1\" >0.882486</td> \n",
       "        <td id=\"T_65eb0dc8_7a51_11e8_99bc_8c8590144e10row4_col2\" class=\"data row4 col2\" >0.997913</td> \n",
       "        <td id=\"T_65eb0dc8_7a51_11e8_99bc_8c8590144e10row4_col3\" class=\"data row4 col3\" >0.622021</td> \n",
       "        <td id=\"T_65eb0dc8_7a51_11e8_99bc_8c8590144e10row4_col4\" class=\"data row4 col4\" >0.434727</td> \n",
       "        <td id=\"T_65eb0dc8_7a51_11e8_99bc_8c8590144e10row4_col5\" class=\"data row4 col5\" >0.432875</td> \n",
       "    </tr></tbody> \n",
       "</table> "
      ],
      "text/plain": [
       "<pandas.io.formats.style.Styler at 0x11e568c18>"
      ]
     },
     "execution_count": 110,
     "metadata": {},
     "output_type": "execute_result"
    }
   ],
   "source": [
    "df2.style.applymap(highlight)"
   ]
  },
  {
   "cell_type": "markdown",
   "metadata": {},
   "source": [
    "次は0.3より小さいマスを黄色でハイライトしてみる例です。"
   ]
  },
  {
   "cell_type": "code",
   "execution_count": 113,
   "metadata": {},
   "outputs": [],
   "source": [
    "def highlight(val):\n",
    "    if val < 0.3:\n",
    "        return 'background-color: yellow'\n",
    "    else:\n",
    "        return ''"
   ]
  },
  {
   "cell_type": "code",
   "execution_count": 114,
   "metadata": {},
   "outputs": [
    {
     "data": {
      "text/html": [
       "<style  type=\"text/css\" >\n",
       "    #T_bc2f35b0_7a51_11e8_9de8_8c8590144e10row1_col2 {\n",
       "            background-color:  yellow;\n",
       "        }    #T_bc2f35b0_7a51_11e8_9de8_8c8590144e10row1_col4 {\n",
       "            background-color:  yellow;\n",
       "        }    #T_bc2f35b0_7a51_11e8_9de8_8c8590144e10row1_col5 {\n",
       "            background-color:  yellow;\n",
       "        }    #T_bc2f35b0_7a51_11e8_9de8_8c8590144e10row2_col3 {\n",
       "            background-color:  yellow;\n",
       "        }    #T_bc2f35b0_7a51_11e8_9de8_8c8590144e10row3_col0 {\n",
       "            background-color:  yellow;\n",
       "        }    #T_bc2f35b0_7a51_11e8_9de8_8c8590144e10row3_col3 {\n",
       "            background-color:  yellow;\n",
       "        }    #T_bc2f35b0_7a51_11e8_9de8_8c8590144e10row3_col5 {\n",
       "            background-color:  yellow;\n",
       "        }</style>  \n",
       "<table id=\"T_bc2f35b0_7a51_11e8_9de8_8c8590144e10\" > \n",
       "<thead>    <tr> \n",
       "        <th class=\"blank level0\" ></th> \n",
       "        <th class=\"col_heading level0 col0\" >0</th> \n",
       "        <th class=\"col_heading level0 col1\" >1</th> \n",
       "        <th class=\"col_heading level0 col2\" >2</th> \n",
       "        <th class=\"col_heading level0 col3\" >3</th> \n",
       "        <th class=\"col_heading level0 col4\" >4</th> \n",
       "        <th class=\"col_heading level0 col5\" >5</th> \n",
       "    </tr></thead> \n",
       "<tbody>    <tr> \n",
       "        <th id=\"T_bc2f35b0_7a51_11e8_9de8_8c8590144e10level0_row0\" class=\"row_heading level0 row0\" >0</th> \n",
       "        <td id=\"T_bc2f35b0_7a51_11e8_9de8_8c8590144e10row0_col0\" class=\"data row0 col0\" >0.454455</td> \n",
       "        <td id=\"T_bc2f35b0_7a51_11e8_9de8_8c8590144e10row0_col1\" class=\"data row0 col1\" >0.5432</td> \n",
       "        <td id=\"T_bc2f35b0_7a51_11e8_9de8_8c8590144e10row0_col2\" class=\"data row0 col2\" >0.35032</td> \n",
       "        <td id=\"T_bc2f35b0_7a51_11e8_9de8_8c8590144e10row0_col3\" class=\"data row0 col3\" >0.454329</td> \n",
       "        <td id=\"T_bc2f35b0_7a51_11e8_9de8_8c8590144e10row0_col4\" class=\"data row0 col4\" >0.562994</td> \n",
       "        <td id=\"T_bc2f35b0_7a51_11e8_9de8_8c8590144e10row0_col5\" class=\"data row0 col5\" >0.570919</td> \n",
       "    </tr>    <tr> \n",
       "        <th id=\"T_bc2f35b0_7a51_11e8_9de8_8c8590144e10level0_row1\" class=\"row_heading level0 row1\" >1</th> \n",
       "        <td id=\"T_bc2f35b0_7a51_11e8_9de8_8c8590144e10row1_col0\" class=\"data row1 col0\" >0.772637</td> \n",
       "        <td id=\"T_bc2f35b0_7a51_11e8_9de8_8c8590144e10row1_col1\" class=\"data row1 col1\" >0.600224</td> \n",
       "        <td id=\"T_bc2f35b0_7a51_11e8_9de8_8c8590144e10row1_col2\" class=\"data row1 col2\" >0.202058</td> \n",
       "        <td id=\"T_bc2f35b0_7a51_11e8_9de8_8c8590144e10row1_col3\" class=\"data row1 col3\" >0.901823</td> \n",
       "        <td id=\"T_bc2f35b0_7a51_11e8_9de8_8c8590144e10row1_col4\" class=\"data row1 col4\" >0.0199522</td> \n",
       "        <td id=\"T_bc2f35b0_7a51_11e8_9de8_8c8590144e10row1_col5\" class=\"data row1 col5\" >0.204172</td> \n",
       "    </tr>    <tr> \n",
       "        <th id=\"T_bc2f35b0_7a51_11e8_9de8_8c8590144e10level0_row2\" class=\"row_heading level0 row2\" >2</th> \n",
       "        <td id=\"T_bc2f35b0_7a51_11e8_9de8_8c8590144e10row2_col0\" class=\"data row2 col0\" >0.876548</td> \n",
       "        <td id=\"T_bc2f35b0_7a51_11e8_9de8_8c8590144e10row2_col1\" class=\"data row2 col1\" >0.832292</td> \n",
       "        <td id=\"T_bc2f35b0_7a51_11e8_9de8_8c8590144e10row2_col2\" class=\"data row2 col2\" >0.964189</td> \n",
       "        <td id=\"T_bc2f35b0_7a51_11e8_9de8_8c8590144e10row2_col3\" class=\"data row2 col3\" >0.120808</td> \n",
       "        <td id=\"T_bc2f35b0_7a51_11e8_9de8_8c8590144e10row2_col4\" class=\"data row2 col4\" >0.917591</td> \n",
       "        <td id=\"T_bc2f35b0_7a51_11e8_9de8_8c8590144e10row2_col5\" class=\"data row2 col5\" >0.738257</td> \n",
       "    </tr>    <tr> \n",
       "        <th id=\"T_bc2f35b0_7a51_11e8_9de8_8c8590144e10level0_row3\" class=\"row_heading level0 row3\" >3</th> \n",
       "        <td id=\"T_bc2f35b0_7a51_11e8_9de8_8c8590144e10row3_col0\" class=\"data row3 col0\" >0.208767</td> \n",
       "        <td id=\"T_bc2f35b0_7a51_11e8_9de8_8c8590144e10row3_col1\" class=\"data row3 col1\" >0.683176</td> \n",
       "        <td id=\"T_bc2f35b0_7a51_11e8_9de8_8c8590144e10row3_col2\" class=\"data row3 col2\" >0.318677</td> \n",
       "        <td id=\"T_bc2f35b0_7a51_11e8_9de8_8c8590144e10row3_col3\" class=\"data row3 col3\" >0.194826</td> \n",
       "        <td id=\"T_bc2f35b0_7a51_11e8_9de8_8c8590144e10row3_col4\" class=\"data row3 col4\" >0.622931</td> \n",
       "        <td id=\"T_bc2f35b0_7a51_11e8_9de8_8c8590144e10row3_col5\" class=\"data row3 col5\" >0.166135</td> \n",
       "    </tr>    <tr> \n",
       "        <th id=\"T_bc2f35b0_7a51_11e8_9de8_8c8590144e10level0_row4\" class=\"row_heading level0 row4\" >4</th> \n",
       "        <td id=\"T_bc2f35b0_7a51_11e8_9de8_8c8590144e10row4_col0\" class=\"data row4 col0\" >0.8722</td> \n",
       "        <td id=\"T_bc2f35b0_7a51_11e8_9de8_8c8590144e10row4_col1\" class=\"data row4 col1\" >0.882486</td> \n",
       "        <td id=\"T_bc2f35b0_7a51_11e8_9de8_8c8590144e10row4_col2\" class=\"data row4 col2\" >0.997913</td> \n",
       "        <td id=\"T_bc2f35b0_7a51_11e8_9de8_8c8590144e10row4_col3\" class=\"data row4 col3\" >0.622021</td> \n",
       "        <td id=\"T_bc2f35b0_7a51_11e8_9de8_8c8590144e10row4_col4\" class=\"data row4 col4\" >0.434727</td> \n",
       "        <td id=\"T_bc2f35b0_7a51_11e8_9de8_8c8590144e10row4_col5\" class=\"data row4 col5\" >0.432875</td> \n",
       "    </tr></tbody> \n",
       "</table> "
      ],
      "text/plain": [
       "<pandas.io.formats.style.Styler at 0x11ec890f0>"
      ]
     },
     "execution_count": 114,
     "metadata": {},
     "output_type": "execute_result"
    }
   ],
   "source": [
    "df2.style.applymap(highlight)"
   ]
  },
  {
   "cell_type": "markdown",
   "metadata": {},
   "source": [
    "最大値を計算して見ましょう。"
   ]
  },
  {
   "cell_type": "markdown",
   "metadata": {},
   "source": [
    "pandasの表を.valuesでnumpy配列として取り出します。"
   ]
  },
  {
   "cell_type": "code",
   "execution_count": 124,
   "metadata": {},
   "outputs": [
    {
     "data": {
      "text/plain": [
       "array([[ 1,  2,  3,  6],\n",
       "       [40, 20, 10, 70],\n",
       "       [41, 22, 13, 76]])"
      ]
     },
     "execution_count": 124,
     "metadata": {},
     "output_type": "execute_result"
    }
   ],
   "source": [
    "df.values"
   ]
  },
  {
   "cell_type": "markdown",
   "metadata": {},
   "source": [
    "flatten()でこれを1次元にぺしゃっとたいらにします。"
   ]
  },
  {
   "cell_type": "code",
   "execution_count": 126,
   "metadata": {},
   "outputs": [
    {
     "data": {
      "text/plain": [
       "array([ 1,  2,  3,  6, 40, 20, 10, 70, 41, 22, 13, 76])"
      ]
     },
     "execution_count": 126,
     "metadata": {},
     "output_type": "execute_result"
    }
   ],
   "source": [
    "df.values.flatten()"
   ]
  },
  {
   "cell_type": "markdown",
   "metadata": {},
   "source": [
    "最大値は..."
   ]
  },
  {
   "cell_type": "code",
   "execution_count": 127,
   "metadata": {},
   "outputs": [
    {
     "data": {
      "text/plain": [
       "76"
      ]
     },
     "execution_count": 127,
     "metadata": {},
     "output_type": "execute_result"
    }
   ],
   "source": [
    "np.max(df.values.flatten())"
   ]
  },
  {
   "cell_type": "code",
   "execution_count": 129,
   "metadata": {},
   "outputs": [],
   "source": [
    "def highlight(val):\n",
    "    if val == 76:\n",
    "        return 'background-color: yellow'\n",
    "    else:\n",
    "        return ''"
   ]
  },
  {
   "cell_type": "code",
   "execution_count": 131,
   "metadata": {},
   "outputs": [
    {
     "data": {
      "text/html": [
       "<style  type=\"text/css\" >\n",
       "    #T_5440de8a_7a52_11e8_afb0_8c8590144e10row2_col3 {\n",
       "            background-color:  yellow;\n",
       "        }</style>  \n",
       "<table id=\"T_5440de8a_7a52_11e8_afb0_8c8590144e10\" > \n",
       "<thead>    <tr> \n",
       "        <th class=\"blank level0\" ></th> \n",
       "        <th class=\"col_heading level0 col0\" >0</th> \n",
       "        <th class=\"col_heading level0 col1\" >1</th> \n",
       "        <th class=\"col_heading level0 col2\" >2</th> \n",
       "        <th class=\"col_heading level0 col3\" >sum</th> \n",
       "    </tr></thead> \n",
       "<tbody>    <tr> \n",
       "        <th id=\"T_5440de8a_7a52_11e8_afb0_8c8590144e10level0_row0\" class=\"row_heading level0 row0\" >0</th> \n",
       "        <td id=\"T_5440de8a_7a52_11e8_afb0_8c8590144e10row0_col0\" class=\"data row0 col0\" >1</td> \n",
       "        <td id=\"T_5440de8a_7a52_11e8_afb0_8c8590144e10row0_col1\" class=\"data row0 col1\" >2</td> \n",
       "        <td id=\"T_5440de8a_7a52_11e8_afb0_8c8590144e10row0_col2\" class=\"data row0 col2\" >3</td> \n",
       "        <td id=\"T_5440de8a_7a52_11e8_afb0_8c8590144e10row0_col3\" class=\"data row0 col3\" >6</td> \n",
       "    </tr>    <tr> \n",
       "        <th id=\"T_5440de8a_7a52_11e8_afb0_8c8590144e10level0_row1\" class=\"row_heading level0 row1\" >1</th> \n",
       "        <td id=\"T_5440de8a_7a52_11e8_afb0_8c8590144e10row1_col0\" class=\"data row1 col0\" >40</td> \n",
       "        <td id=\"T_5440de8a_7a52_11e8_afb0_8c8590144e10row1_col1\" class=\"data row1 col1\" >20</td> \n",
       "        <td id=\"T_5440de8a_7a52_11e8_afb0_8c8590144e10row1_col2\" class=\"data row1 col2\" >10</td> \n",
       "        <td id=\"T_5440de8a_7a52_11e8_afb0_8c8590144e10row1_col3\" class=\"data row1 col3\" >70</td> \n",
       "    </tr>    <tr> \n",
       "        <th id=\"T_5440de8a_7a52_11e8_afb0_8c8590144e10level0_row2\" class=\"row_heading level0 row2\" >sum</th> \n",
       "        <td id=\"T_5440de8a_7a52_11e8_afb0_8c8590144e10row2_col0\" class=\"data row2 col0\" >41</td> \n",
       "        <td id=\"T_5440de8a_7a52_11e8_afb0_8c8590144e10row2_col1\" class=\"data row2 col1\" >22</td> \n",
       "        <td id=\"T_5440de8a_7a52_11e8_afb0_8c8590144e10row2_col2\" class=\"data row2 col2\" >13</td> \n",
       "        <td id=\"T_5440de8a_7a52_11e8_afb0_8c8590144e10row2_col3\" class=\"data row2 col3\" >76</td> \n",
       "    </tr></tbody> \n",
       "</table> "
      ],
      "text/plain": [
       "<pandas.io.formats.style.Styler at 0x11e57b8d0>"
      ]
     },
     "execution_count": 131,
     "metadata": {},
     "output_type": "execute_result"
    }
   ],
   "source": [
    "df.style.applymap(highlight)"
   ]
  },
  {
   "cell_type": "markdown",
   "metadata": {},
   "source": [
    "参考）いちいちdefするのは面倒なので、名前をつけない関数(無名関数)というのを作ることもできます。"
   ]
  },
  {
   "cell_type": "code",
   "execution_count": 133,
   "metadata": {},
   "outputs": [
    {
     "data": {
      "text/html": [
       "<style  type=\"text/css\" >\n",
       "    #T_a389e858_7a52_11e8_a17f_8c8590144e10row1_col1 {\n",
       "            color:  blue;\n",
       "        }</style>  \n",
       "<table id=\"T_a389e858_7a52_11e8_a17f_8c8590144e10\" > \n",
       "<thead>    <tr> \n",
       "        <th class=\"blank level0\" ></th> \n",
       "        <th class=\"col_heading level0 col0\" >0</th> \n",
       "        <th class=\"col_heading level0 col1\" >1</th> \n",
       "        <th class=\"col_heading level0 col2\" >2</th> \n",
       "        <th class=\"col_heading level0 col3\" >sum</th> \n",
       "    </tr></thead> \n",
       "<tbody>    <tr> \n",
       "        <th id=\"T_a389e858_7a52_11e8_a17f_8c8590144e10level0_row0\" class=\"row_heading level0 row0\" >0</th> \n",
       "        <td id=\"T_a389e858_7a52_11e8_a17f_8c8590144e10row0_col0\" class=\"data row0 col0\" >1</td> \n",
       "        <td id=\"T_a389e858_7a52_11e8_a17f_8c8590144e10row0_col1\" class=\"data row0 col1\" >2</td> \n",
       "        <td id=\"T_a389e858_7a52_11e8_a17f_8c8590144e10row0_col2\" class=\"data row0 col2\" >3</td> \n",
       "        <td id=\"T_a389e858_7a52_11e8_a17f_8c8590144e10row0_col3\" class=\"data row0 col3\" >6</td> \n",
       "    </tr>    <tr> \n",
       "        <th id=\"T_a389e858_7a52_11e8_a17f_8c8590144e10level0_row1\" class=\"row_heading level0 row1\" >1</th> \n",
       "        <td id=\"T_a389e858_7a52_11e8_a17f_8c8590144e10row1_col0\" class=\"data row1 col0\" >40</td> \n",
       "        <td id=\"T_a389e858_7a52_11e8_a17f_8c8590144e10row1_col1\" class=\"data row1 col1\" >20</td> \n",
       "        <td id=\"T_a389e858_7a52_11e8_a17f_8c8590144e10row1_col2\" class=\"data row1 col2\" >10</td> \n",
       "        <td id=\"T_a389e858_7a52_11e8_a17f_8c8590144e10row1_col3\" class=\"data row1 col3\" >70</td> \n",
       "    </tr>    <tr> \n",
       "        <th id=\"T_a389e858_7a52_11e8_a17f_8c8590144e10level0_row2\" class=\"row_heading level0 row2\" >sum</th> \n",
       "        <td id=\"T_a389e858_7a52_11e8_a17f_8c8590144e10row2_col0\" class=\"data row2 col0\" >41</td> \n",
       "        <td id=\"T_a389e858_7a52_11e8_a17f_8c8590144e10row2_col1\" class=\"data row2 col1\" >22</td> \n",
       "        <td id=\"T_a389e858_7a52_11e8_a17f_8c8590144e10row2_col2\" class=\"data row2 col2\" >13</td> \n",
       "        <td id=\"T_a389e858_7a52_11e8_a17f_8c8590144e10row2_col3\" class=\"data row2 col3\" >76</td> \n",
       "    </tr></tbody> \n",
       "</table> "
      ],
      "text/plain": [
       "<pandas.io.formats.style.Styler at 0x11e57b6d8>"
      ]
     },
     "execution_count": 133,
     "metadata": {},
     "output_type": "execute_result"
    }
   ],
   "source": [
    "df.style.applymap(lambda s: 'color: blue' if s == 20 else '')"
   ]
  },
  {
   "cell_type": "markdown",
   "metadata": {},
   "source": [
    "*ここまで来たら再度practice05.ipynbをチェックして見てください！*"
   ]
  },
  {
   "cell_type": "code",
   "execution_count": null,
   "metadata": {},
   "outputs": [],
   "source": []
  }
 ],
 "metadata": {
  "kernelspec": {
   "display_name": "Python 3",
   "language": "python",
   "name": "python3"
  },
  "language_info": {
   "codemirror_mode": {
    "name": "ipython",
    "version": 3
   },
   "file_extension": ".py",
   "mimetype": "text/x-python",
   "name": "python",
   "nbconvert_exporter": "python",
   "pygments_lexer": "ipython3",
   "version": "3.6.4"
  }
 },
 "nbformat": 4,
 "nbformat_minor": 2
}
