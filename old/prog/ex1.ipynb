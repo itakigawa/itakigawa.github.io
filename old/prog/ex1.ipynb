{
 "cells": [
  {
   "cell_type": "markdown",
   "metadata": {},
   "source": [
    "# お絵かきしてみよう！"
   ]
  },
  {
   "cell_type": "markdown",
   "metadata": {},
   "source": [
    "下のセルを選択して、CtrlキーとEnterキーを同時におしてください。"
   ]
  },
  {
   "cell_type": "code",
   "execution_count": 40,
   "metadata": {},
   "outputs": [],
   "source": [
    "import matplotlib.pyplot as plt\n",
    "%matplotlib inline\n",
    "\n",
    "def line(p1, p2, c='blue'):\n",
    "    plt.plot([p1[0], p2[0]], [p1[1], p2[1]], color=c)\n",
    "    \n",
    "def point(p, c='red'):\n",
    "    plt.plot(p[0], p[1], 'o', color=c)"
   ]
  },
  {
   "cell_type": "markdown",
   "metadata": {},
   "source": [
    "上はふたつの命令「line」と「point」を定義しました。\n",
    "これを使ってお絵かきしてみましょう。"
   ]
  },
  {
   "cell_type": "markdown",
   "metadata": {},
   "source": [
    "下記のセルを自由に編集して命令を並べてください。実行はCtrlキーとEnterキーの同時押しか、上部のRunアイコンで！"
   ]
  },
  {
   "cell_type": "code",
   "execution_count": 45,
   "metadata": {
    "scrolled": true
   },
   "outputs": [
    {
     "data": {
      "image/png": "[encoded data removed]",
      "text/plain": [
       "<matplotlib.figure.Figure at 0x11b5ca7390>"
      ]
     },
     "metadata": {},
     "output_type": "display_data"
    }
   ],
   "source": [
    "line([0, 0], [1, 1])\n",
    "line([1, 1], [2, 1.5])\n",
    "line([2, 1.5],[-3, 5])\n",
    "point([0, 1])\n",
    "point([1, 2])"
   ]
  },
  {
   "cell_type": "markdown",
   "metadata": {},
   "source": [
    "## このファイルを保存しましょう！"
   ]
  },
  {
   "cell_type": "markdown",
   "metadata": {},
   "source": [
    "上部メニューから「File」→「Download as」→「Notebook (.ipynb)」で自分のUSBメモリに保存しましょう。"
   ]
  },
  {
   "cell_type": "code",
   "execution_count": null,
   "metadata": {},
   "outputs": [],
   "source": []
  }
 ],
 "metadata": {
  "kernelspec": {
   "display_name": "Python 3",
   "language": "python",
   "name": "python3"
  },
  "language_info": {
   "codemirror_mode": {
    "name": "ipython",
    "version": 3
   },
   "file_extension": ".py",
   "mimetype": "text/x-python",
   "name": "python",
   "nbconvert_exporter": "python",
   "pygments_lexer": "ipython3",
   "version": "3.6.4"
  }
 },
 "nbformat": 4,
 "nbformat_minor": 2
}
