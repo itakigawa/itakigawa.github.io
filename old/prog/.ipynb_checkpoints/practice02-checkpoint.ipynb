{
 "cells": [
  {
   "cell_type": "markdown",
   "metadata": {},
   "source": [
    "# Pythonの基本構文"
   ]
  },
  {
   "cell_type": "markdown",
   "metadata": {},
   "source": [
    "## 先週の「試してみよう」"
   ]
  },
  {
   "cell_type": "markdown",
   "metadata": {},
   "source": [
    "時間、分、秒を入力して、何秒かを表示するようにプログラミングしてみよう！さらに余裕がある人は、「秒」を受け取って、「xx時間xx分xx秒」と表示させるプログラムを作ってみてね。"
   ]
  },
  {
   "cell_type": "code",
   "execution_count": 3,
   "metadata": {},
   "outputs": [
    {
     "name": "stdout",
     "output_type": "stream",
     "text": [
      "時間:3\n",
      "分:24\n",
      "秒:45\n",
      "3 時間 24 分 45 秒は 12285 秒です\n"
     ]
    }
   ],
   "source": [
    "h = int(input('時間:'))\n",
    "m = int(input('分:'))\n",
    "s = int(input('秒:'))\n",
    "\n",
    "print(h, '時間', m, '分', s, '秒は', (60*h + m)*60 + s, '秒です')"
   ]
  },
  {
   "cell_type": "markdown",
   "metadata": {},
   "source": [
    "上の計算の「逆」をやっていけば良いので、60で割って「商」と「余り」を計算すればいい！と分かった人は多かったと思いますが、どうやるの？となったと思います。\n",
    "\n",
    "Python言語の詳細を逐一授業でやることはできないので、「調べ方」を覚えましょう！「Python 四則演算」などで検索すると多分一発で出ますが、Python言語についての情報の基本は下記の公式サイトです。\n",
    "\n",
    "https://docs.python.org/ja/3/\n",
    "\n",
    "四則演算の記号については、ちょっと専門的な書き方ですが下記が言語仕様です。\n",
    "\n",
    "https://docs.python.org/ja/3/reference/expressions.html#binary-arithmetic-operations\n",
    "\n",
    "ただ最初は何を言っているのか分からないと思うので簡潔にまとめると下記になります。入門書や入門コースではそのように説明があると思います。"
   ]
  },
  {
   "cell_type": "markdown",
   "metadata": {},
   "source": [
    "演算子  |  説明  | 例  | 例の結果\n",
    "------|------|------|------\n",
    "x + y | x と y の和 | 3 + 5 | 8\n",
    "x - y | x と y の差 | 5 - 2 | 3\n",
    "x * y | x と y の積 | 2 * 3 | 6\n",
    "x / y | x を y で割った商 | 10 / 5 | 2.0\n",
    "x // y | x を y で割った商の小数点以下を切り捨て | 10 // 3 | 3\n",
    "x % y | x を y で割った商の余り | 10 % 3 | 1\n",
    "- x | x の符号反転 | -5 | -5\n",
    "x ** y | x の y 乗 | 2 ** 3 | 8\n",
    "abs(x) | x の絶対値 | abs(-8) | 8\n",
    "int(x) | x を整数に変換 | int(3.14) | 3\n",
    "float(x) | x を実数(浮動小数点数という)に変換 | float(3) | 3.0\n",
    "round(x, n) | x を n 桁に丸める | round(3.6) | 4"
   ]
  },
  {
   "cell_type": "markdown",
   "metadata": {},
   "source": [
    " 上の表を見ながら色々計算してみよう。 "
   ]
  },
  {
   "cell_type": "code",
   "execution_count": null,
   "metadata": {},
   "outputs": [],
   "source": [
    "# コード領域\n",
    "\n",
    "print(2 ** 10)\n",
    "print(100 // 33)\n"
   ]
  },
  {
   "cell_type": "markdown",
   "metadata": {},
   "source": [
    "60で割っていき商と余りを得るには各々「//」と「%」を使えば良いので、最初の課題の回答は例えば下記のようになる。"
   ]
  },
  {
   "cell_type": "code",
   "execution_count": 10,
   "metadata": {},
   "outputs": [
    {
     "name": "stdout",
     "output_type": "stream",
     "text": [
      "秒:12285\n",
      "12285 秒は 3 時間 24 分 45 秒です\n"
     ]
    }
   ],
   "source": [
    "x = int(input('秒:'))\n",
    "\n",
    "if x < 60:\n",
    "    s = x\n",
    "    print(s, '秒は', s, '秒です')\n",
    "elif x < 60*60:\n",
    "    m = x // 60\n",
    "    s = x % 60\n",
    "    print(x, '秒は', m, '分', s, '秒です')\n",
    "else:\n",
    "    h = x // (60*60)\n",
    "    m = (x % (60*60)) // 60\n",
    "    s = (x % (60*60)) % 60\n",
    "    print(x, '秒は', h, '時間', m, '分', s, '秒です')"
   ]
  },
  {
   "cell_type": "markdown",
   "metadata": {},
   "source": [
    "分かりましたか？"
   ]
  },
  {
   "cell_type": "markdown",
   "metadata": {},
   "source": [
    "## 四則演算とif文、for文、while文"
   ]
  },
  {
   "cell_type": "markdown",
   "metadata": {},
   "source": [
    "先週やってみたことを総合して、計算をして見ましょう。"
   ]
  },
  {
   "cell_type": "markdown",
   "metadata": {},
   "source": [
    "例えば、「等差数列120, 117, 114, ...の第３０項を求めよ」みたいな問題、高校でやりましたよね。普通、一般項の公式を覚えて計算させると思いますが、プログラミングでは愚直にできます。range(n)では0スタートである点に注意してください。"
   ]
  },
  {
   "cell_type": "code",
   "execution_count": 25,
   "metadata": {
    "scrolled": false
   },
   "outputs": [
    {
     "name": "stdout",
     "output_type": "stream",
     "text": [
      "第 1 項は 120 です\n",
      "第 2 項は 117 です\n",
      "第 3 項は 114 です\n",
      "第 4 項は 111 です\n",
      "第 5 項は 108 です\n",
      "第 6 項は 105 です\n",
      "第 7 項は 102 です\n",
      "第 8 項は 99 です\n",
      "第 9 項は 96 です\n",
      "第 10 項は 93 です\n",
      "第 11 項は 90 です\n",
      "第 12 項は 87 です\n",
      "第 13 項は 84 です\n",
      "第 14 項は 81 です\n",
      "第 15 項は 78 です\n",
      "第 16 項は 75 です\n",
      "第 17 項は 72 です\n",
      "第 18 項は 69 です\n",
      "第 19 項は 66 です\n",
      "第 20 項は 63 です\n",
      "第 21 項は 60 です\n",
      "第 22 項は 57 です\n",
      "第 23 項は 54 です\n",
      "第 24 項は 51 です\n",
      "第 25 項は 48 です\n",
      "第 26 項は 45 です\n",
      "第 27 項は 42 です\n",
      "第 28 項は 39 です\n",
      "第 29 項は 36 です\n",
      "第 30 項は 33 です\n"
     ]
    }
   ],
   "source": [
    "# 公差 (第二項-第一項)\n",
    "d = 117 - 120\n",
    "# 初項\n",
    "x = 120\n",
    "\n",
    "for i in range(30):\n",
    "    print('第', i+1, '項は', x, 'です')\n",
    "    x = x + d"
   ]
  },
  {
   "cell_type": "markdown",
   "metadata": {},
   "source": [
    "では、理解を確かめるべく「等比数列4 , -8 , 16, ...の第11項を求めよ」をやって見ましょう。4096になればOKです！"
   ]
  },
  {
   "cell_type": "code",
   "execution_count": null,
   "metadata": {},
   "outputs": [],
   "source": [
    "# コード領域\n",
    "\n",
    "# 公比 (第二項/第一項)\n",
    "r = int((-8)/4)\n",
    "# 初項\n",
    "x = 4\n",
    "\n",
    "# 計算をここに書く\n"
   ]
  },
  {
   "cell_type": "markdown",
   "metadata": {},
   "source": [
    "## 関数"
   ]
  },
  {
   "cell_type": "markdown",
   "metadata": {},
   "source": [
    "何か計算のたばをまとめて名前をつけておいたものを「関数」(古くは「サブルーチン」)と言います。これは下記のように書きます。"
   ]
  },
  {
   "cell_type": "code",
   "execution_count": 20,
   "metadata": {},
   "outputs": [],
   "source": [
    "def my_function_desu(x):\n",
    "    y = 3 * x\n",
    "    z = y - 1\n",
    "    print(x, 'を3倍すると', y, 'で、さらに1を引くと', z, 'だよね')\n",
    "    return z"
   ]
  },
  {
   "cell_type": "markdown",
   "metadata": {},
   "source": [
    "一度定義してしまえば、この名前で定義した3行の計算をいつでも呼び出せます。内部の結果を後で使いたい場合、returnすることで受け渡しできます。以下を試して見ましょう。"
   ]
  },
  {
   "cell_type": "code",
   "execution_count": 21,
   "metadata": {},
   "outputs": [
    {
     "name": "stdout",
     "output_type": "stream",
     "text": [
      "50 を3倍すると 150 で、さらに1を引くと 149 だよね\n",
      "149\n"
     ]
    }
   ],
   "source": [
    "z = my_function_desu(50)\n",
    "print(z)"
   ]
  },
  {
   "cell_type": "code",
   "execution_count": 22,
   "metadata": {},
   "outputs": [
    {
     "name": "stdout",
     "output_type": "stream",
     "text": [
      "3 を3倍すると 9 で、さらに1を引くと 8 だよね\n",
      "8\n"
     ]
    }
   ],
   "source": [
    "z = my_function_desu(3)\n",
    "print(z)"
   ]
  },
  {
   "cell_type": "markdown",
   "metadata": {},
   "source": [
    "## 関数で一般項を書いてみる"
   ]
  },
  {
   "cell_type": "markdown",
   "metadata": {},
   "source": [
    "「等差数列」や「等比数列」には「一般項の公式」見たいのを覚えさせられた記憶があるかもしれません。愚直に足し算していくのは第1000項を知りたい場合、1000回計算しないとダメなので効率が悪そうです。"
   ]
  },
  {
   "cell_type": "markdown",
   "metadata": {},
   "source": [
    "初項 $a$ 交差 $d$ の等差数列の第 $n$ 項 $a_n$ は\n",
    "$$ a_n = a + (n-1) d $$\n",
    "初項 $a$ 交比 $r$ の等比数列の第 $n$ 項 $a_n$ は\n",
    "$$ a_n = a r^{n-1} $$"
   ]
  },
  {
   "cell_type": "markdown",
   "metadata": {},
   "source": [
    "まずは等差数列を関数として書いてみましょう。"
   ]
  },
  {
   "cell_type": "code",
   "execution_count": 23,
   "metadata": {},
   "outputs": [],
   "source": [
    "def tousa_suuretu(a, d, n):\n",
    "    return a + (n-1)*d"
   ]
  },
  {
   "cell_type": "markdown",
   "metadata": {},
   "source": [
    "結果が先ほどの愚直計算バージョンと同じになることを確認しましょう。"
   ]
  },
  {
   "cell_type": "code",
   "execution_count": 27,
   "metadata": {},
   "outputs": [
    {
     "data": {
      "text/plain": [
       "33"
      ]
     },
     "execution_count": 27,
     "metadata": {},
     "output_type": "execute_result"
    }
   ],
   "source": [
    "tousa_suuretu(120, 117-120, 30)"
   ]
  },
  {
   "cell_type": "markdown",
   "metadata": {},
   "source": [
    "以下に「等比数列」の一般項を計算する関数を定義して見ましょう！"
   ]
  },
  {
   "cell_type": "code",
   "execution_count": null,
   "metadata": {},
   "outputs": [],
   "source": [
    "# コード領域\n",
    "\n",
    "\n"
   ]
  },
  {
   "cell_type": "markdown",
   "metadata": {},
   "source": [
    "## Python言語の「表現」とPEP8"
   ]
  },
  {
   "cell_type": "markdown",
   "metadata": {},
   "source": [
    "Python言語ではifやwhileで「インデント」を揃える必要がありましたが、「スペース」はどう扱われるのでしょうか？実は「コードのかたまり」を表すために「インデント(各文の頭位置)」を揃える以外はどうでもいいです。下記を試して見ましょう。"
   ]
  },
  {
   "cell_type": "code",
   "execution_count": 29,
   "metadata": {},
   "outputs": [
    {
     "name": "stdout",
     "output_type": "stream",
     "text": [
      "7 7 7\n"
     ]
    }
   ],
   "source": [
    "x=3+4\n",
    "y = 3 + 4\n",
    "z     =    3    +4\n",
    "print(x, y, z)"
   ]
  },
  {
   "cell_type": "markdown",
   "metadata": {},
   "source": [
    "一方、下記の場合はエラーになります。確認しておきましょう。for文で繰り返す「コードのかたまり」がインデントが揃っていないのでPythonインタプリタが「よく分からん」というエラーを出しています。"
   ]
  },
  {
   "cell_type": "code",
   "execution_count": 30,
   "metadata": {},
   "outputs": [
    {
     "ename": "IndentationError",
     "evalue": "unexpected indent (<ipython-input-30-8b09a8d8c183>, line 3)",
     "output_type": "error",
     "traceback": [
      "\u001b[0;36m  File \u001b[0;32m\"<ipython-input-30-8b09a8d8c183>\"\u001b[0;36m, line \u001b[0;32m3\u001b[0m\n\u001b[0;31m    print(i**2)\u001b[0m\n\u001b[0m    ^\u001b[0m\n\u001b[0;31mIndentationError\u001b[0m\u001b[0;31m:\u001b[0m unexpected indent\n"
     ]
    }
   ],
   "source": [
    "for i in [1, 2, 3]:\n",
    "    print(i)\n",
    "       print(i**2)"
   ]
  },
  {
   "cell_type": "markdown",
   "metadata": {},
   "source": [
    "なお、揃えるときは「Tab」キーを押して揃えるので構いませんが、揃える幅は実はなんでもいいです。下記を試しておきましょう。"
   ]
  },
  {
   "cell_type": "code",
   "execution_count": null,
   "metadata": {
    "scrolled": true
   },
   "outputs": [],
   "source": [
    "for i in [1, 2, 3]:\n",
    "    print(i)\n",
    "    print(i**2)\n",
    "\n",
    "for i in [1, 2, 3]:\n",
    " print(i)\n",
    " print(i**2)"
   ]
  },
  {
   "cell_type": "markdown",
   "metadata": {},
   "source": [
    "ただ、スペースが変に入っていたりすると単純に「読みづらい」と思います。授業で念押ししてきた通り、プログラムのソースコードは「自分が理解できる」だけではなく、「他の人でもロジックがわかり読みやすい」ことが求められます。現代のプログラム開発ではプログラムを作った人がそれをメンテナンスするとは限らないし、インターネット上で自分のコードを公開して世界中の人とコメントをやりとりする「オープンソース」文化もあります。"
   ]
  },
  {
   "cell_type": "markdown",
   "metadata": {},
   "source": [
    "Python業界の標準として「PEP8」という規約があり、スペースや改行や変数の名前の付け方などはこのルールに従っておけば、世界的なスタンダードで「読みやすいPythonのソースコード」として記述することができます。ただし色々書かれているので最初から全部覚えようとはせず、時々、これは「PEP8」ではどうなっているのかな？と確認する感じで慣れていくのが良いと思います。　"
   ]
  },
  {
   "cell_type": "markdown",
   "metadata": {},
   "source": [
    "PEP8 (日本語版)\n",
    "http://pep8-ja.readthedocs.io/ja/latest/"
   ]
  },
  {
   "cell_type": "markdown",
   "metadata": {},
   "source": [
    "## format文と文字列"
   ]
  },
  {
   "cell_type": "markdown",
   "metadata": {},
   "source": [
    "pythonでは「文字列(string)」というのは文字の並びのことでした。これらも変数に保持することができます。中身にシングルクォーテーションを含む場合などはダブルクォーテーションでくくると良いです。どちらでもいいです。"
   ]
  },
  {
   "cell_type": "code",
   "execution_count": 34,
   "metadata": {},
   "outputs": [],
   "source": [
    "str1 = 'これは文字列です'\n",
    "str2 = 'This is a string'\n",
    "str3 = \"Don't do it!\""
   ]
  },
  {
   "cell_type": "markdown",
   "metadata": {},
   "source": [
    "改行など入力が難しいものは「特殊文字」として下記のように定義されています。なお、日本語のWindowsでは「バックスラッシュ記号\\」は円マーク「¥」になるので気をつけておきましょう。"
   ]
  },
  {
   "cell_type": "markdown",
   "metadata": {},
   "source": [
    "記号 | 説明\n",
    "----|----\n",
    "\\ | 改行を無視する\n",
    "\\\\ | バックスラッシュ\n",
    "\\' | シングルクォート\n",
    "\\\" | ダブルクォート\n",
    "\\n | 改行\n",
    "\\t | タブ文字"
   ]
  },
  {
   "cell_type": "markdown",
   "metadata": {},
   "source": [
    "下記を試して見ましょう。"
   ]
  },
  {
   "cell_type": "code",
   "execution_count": 37,
   "metadata": {},
   "outputs": [
    {
     "name": "stdout",
     "output_type": "stream",
     "text": [
      "hogehogehogepogepoge\n",
      "これは'です\"よね\n",
      "これは\n",
      "どうなる\tのかな\n",
      "？\n"
     ]
    }
   ],
   "source": [
    "print('hogehogehoge\\\n",
    "pogepoge')\n",
    "print('これは\\'です\\\"よね')\n",
    "print('これは\\nどうなる\\tのかな\\n？')"
   ]
  },
  {
   "cell_type": "markdown",
   "metadata": {},
   "source": [
    "また非常に長い文章を格納するときは三重引用符(ダブルクォーテーションを３つ)も使えます。"
   ]
  },
  {
   "cell_type": "code",
   "execution_count": 38,
   "metadata": {},
   "outputs": [
    {
     "name": "stdout",
     "output_type": "stream",
     "text": [
      "\n",
      "こんにちは。この授業ではPythonを扱います。\n",
      "プログラミングとは何かを考えましょう。\n",
      "このような例題を通して慣れて行きましょう。\n",
      "\n"
     ]
    }
   ],
   "source": [
    "text = \"\"\"\n",
    "こんにちは。この授業ではPythonを扱います。\n",
    "プログラミングとは何かを考えましょう。\n",
    "このような例題を通して慣れて行きましょう。\n",
    "\"\"\"\n",
    "print(text)"
   ]
  },
  {
   "cell_type": "markdown",
   "metadata": {},
   "source": [
    "文字列は「+」記号で連結することができます。またstr関数で色々なものを文字列に変換できます。"
   ]
  },
  {
   "cell_type": "code",
   "execution_count": 41,
   "metadata": {},
   "outputs": [
    {
     "name": "stdout",
     "output_type": "stream",
     "text": [
      "helloworld3.14\n"
     ]
    }
   ],
   "source": [
    "str1 = 'hello'\n",
    "str2 = 'world'\n",
    "str3 = str(3.14)\n",
    "\n",
    "print(str1 + str2 + str3)"
   ]
  },
  {
   "cell_type": "markdown",
   "metadata": {},
   "source": [
    "文字列の中に「値」などを組み込みたいことはよくあります。これまではprint文でやってきましたが、formatというのを使って見ましょう。"
   ]
  },
  {
   "cell_type": "code",
   "execution_count": 44,
   "metadata": {},
   "outputs": [
    {
     "name": "stdout",
     "output_type": "stream",
     "text": [
      "xの値は3.14であり、yの値は2.2であり、zは456.0なのです\n",
      "1時間25分12秒\n"
     ]
    }
   ],
   "source": [
    "x = 3.14\n",
    "y = 2.2\n",
    "z = 456.0\n",
    "\n",
    "# 0スタートの数字で指定するやり方\n",
    "str = 'xの値は{0}であり、yの値は{1}であり、zは{2}なのです'.format(x, y, z)\n",
    "print(str)\n",
    "\n",
    "x = 1\n",
    "y = 25\n",
    "z = 12\n",
    "\n",
    "# 名前をつけて指定するやり方\n",
    "str = '{h}時間{m}分{s}秒'.format(h=x, m=y, s=z)\n",
    "print(str)"
   ]
  },
  {
   "cell_type": "code",
   "execution_count": 45,
   "metadata": {},
   "outputs": [
    {
     "name": "stdout",
     "output_type": "stream",
     "text": [
      "こんにちは。私の名前は 山田太郎 です。\n",
      "生年月日は 2020年1月1日 です。\n",
      "どうぞよろしくお願いしますね。\n"
     ]
    }
   ],
   "source": [
    "name = '山田太郎'\n",
    "birthday = '2020年1月1日'\n",
    "\n",
    "print(\"\"\"\\\n",
    "こんにちは。私の名前は {0} です。\n",
    "生年月日は {1} です。\n",
    "どうぞよろしくお願いしますね。\\\n",
    "\"\"\".format(name, birthday))"
   ]
  },
  {
   "cell_type": "markdown",
   "metadata": {},
   "source": [
    "## 試してみよう！"
   ]
  },
  {
   "cell_type": "markdown",
   "metadata": {},
   "source": [
    "if文やwhile文に入れる「条件式」の書き方については下記のようになります。"
   ]
  },
  {
   "cell_type": "markdown",
   "metadata": {},
   "source": [
    "比較演算子 | 説明\n",
    "-----|-----\n",
    "a == b | aとbが等しい\n",
    "a != b | aとbが等しくない\n",
    "a > b | aはbより大きい\n",
    "a >= b | aはbと等しいかそれ以上\n",
    "a < b | aはbより小さい\n",
    "a <= b | aはbと等しいかそれ以下"
   ]
  },
  {
   "cell_type": "markdown",
   "metadata": {},
   "source": [
    "下記を試して見ましょう。結果は「真(True)」「偽(False)」で返ってきます。"
   ]
  },
  {
   "cell_type": "code",
   "execution_count": 48,
   "metadata": {
    "scrolled": true
   },
   "outputs": [
    {
     "name": "stdout",
     "output_type": "stream",
     "text": [
      "a > b True\n",
      "a < b False\n",
      "a != b True\n",
      "a == b False\n"
     ]
    }
   ],
   "source": [
    "a = 34\n",
    "b = 24\n",
    "print('a > b', a > b)\n",
    "print('a < b', a < b)\n",
    "print('a != b', a != b)\n",
    "print('a == b', a == b)"
   ]
  },
  {
   "cell_type": "markdown",
   "metadata": {},
   "source": [
    "このようにTrueかFalseで返ってくる結果(真偽型, bool型とも)については、「かつ」や「または」や「否定」などを考えることができます。\n",
    "\n",
    "論理演算 | 説明\n",
    "-----|-----\n",
    "a and b | a かつ b\n",
    "a or b | a または b\n",
    "not a | aではない\n",
    "\n",
    "下記を試して見ましょう。"
   ]
  },
  {
   "cell_type": "code",
   "execution_count": 53,
   "metadata": {},
   "outputs": [
    {
     "name": "stdout",
     "output_type": "stream",
     "text": [
      "True\n",
      "False\n",
      "True\n",
      "False\n",
      "True\n"
     ]
    }
   ],
   "source": [
    "val = 35\n",
    "print( (val != 40) and (val != 33) )\n",
    "print( (10 < val) and (val < 33) )\n",
    "print( (10 < val) or (val < 33) )\n",
    "print( not (10 < val) )\n",
    "print( (val % 2 != 0) and (val > 0) )"
   ]
  },
  {
   "cell_type": "markdown",
   "metadata": {},
   "source": [
    "以上と今までやってきたことを使って、「体重(kg)」と「身長(cm)」を受け取って肥満度判定をするプログラムを作成して見ましょう。健康器具でもよく使われるBMIという指標\n",
    "\n",
    "BMI = 体重(kg) ÷ ( 身長(m)×身長(m) )\n",
    "\n",
    "を計算して(身長をメートル(m)換算に直すのに注意)、下記の基準で肥満度を判定するのが一般的です。\n",
    "\n",
    "BMI値 | 判定\n",
    "-----|-----\n",
    "18.5未満 | やせ型\n",
    "18.5から25未満 | 普通体重\n",
    "25から30未満 | 肥満(軽)\n",
    "30以上 | 肥満(重)"
   ]
  },
  {
   "cell_type": "code",
   "execution_count": null,
   "metadata": {},
   "outputs": [],
   "source": [
    "# コード領域\n",
    "# 以下にプログラミングしてみよう！！\n",
    "\n",
    "# inputで体重(kg)と身長(cm)を入力してもらう\n",
    "\n",
    "\n",
    "# 身長(cm)をメートル(m)に直してからBMI値を計算\n",
    "\n",
    "\n",
    "# BMIの値に応じて判定結果をprint\n",
    "\n",
    "\n",
    "\n"
   ]
  },
  {
   "cell_type": "markdown",
   "metadata": {},
   "source": [
    "## 繰り返し文でのbreakとcontinue"
   ]
  },
  {
   "cell_type": "markdown",
   "metadata": {},
   "source": [
    "繰り返し文を書くとき、ある条件を満たせば、繰り返しを中断したいことや、ある部分だけを繰り返したいことがあります。そのための命令「break」と「continue」があります。\n",
    "\n",
    "まずは下記を試して見ましょう。iが0,1,...,9まで繰り返しますが、i > 4になったらこの繰り返しを中止します。"
   ]
  },
  {
   "cell_type": "code",
   "execution_count": 57,
   "metadata": {},
   "outputs": [
    {
     "name": "stdout",
     "output_type": "stream",
     "text": [
      "0\n",
      "1\n",
      "2\n",
      "3\n",
      "4\n",
      "5\n"
     ]
    }
   ],
   "source": [
    "for i in range(10):\n",
    "    print(i)\n",
    "    if i > 4:\n",
    "        break"
   ]
  },
  {
   "cell_type": "markdown",
   "metadata": {},
   "source": [
    "下記はi>4のときは、continueして後の処理を行わずfor文の次の繰り返しへ飛ばします。"
   ]
  },
  {
   "cell_type": "code",
   "execution_count": 58,
   "metadata": {},
   "outputs": [
    {
     "name": "stdout",
     "output_type": "stream",
     "text": [
      "0\n",
      "test 0\n",
      "1\n",
      "test 1\n",
      "2\n",
      "test 2\n",
      "3\n",
      "test 3\n",
      "4\n",
      "test 4\n",
      "5\n",
      "6\n",
      "7\n",
      "8\n",
      "9\n"
     ]
    }
   ],
   "source": [
    "for i in range(10):\n",
    "    print(i)\n",
    "    if i>4:\n",
    "        continue\n",
    "    print('test', i)"
   ]
  },
  {
   "cell_type": "markdown",
   "metadata": {},
   "source": [
    "## 試してみよう！"
   ]
  },
  {
   "cell_type": "markdown",
   "metadata": {},
   "source": [
    "英語圏でドライブや飲み会の時に行われる「FizzBuzz」というゲームをプログラミングして見ましょう。\n",
    "\n",
    "これは1,2,3,4...と数字をカウントして行き、数字が3で割り切れる場合は「Fizz」、5で割り切れる場合は「Buzz」、3でも5でも割り切れる場合は「Fizz Buzz」と発言するゲームです。\n",
    "\n",
    "下記にカウントしていく数字を1として、1から20までのFizzBuzzをprintして見ましょう。"
   ]
  },
  {
   "cell_type": "code",
   "execution_count": null,
   "metadata": {},
   "outputs": [],
   "source": [
    "# コード領域\n",
    "\n",
    "for i in range(1, 21):\n",
    "    # 以下にFizz Buzzの条件判定とprint文をかく\n",
    "    \n",
    "    \n",
    "    "
   ]
  },
  {
   "cell_type": "markdown",
   "metadata": {},
   "source": [
    "## 複数の値をまとめて保持するリスト"
   ]
  },
  {
   "cell_type": "markdown",
   "metadata": {},
   "source": [
    "ところで、なぜrange(n)が0スタートなの？？と思った人は多いでしょう。これは複数のものを格納する際のルールに起因しています。myfirstcode.ipynbをやった人にとっては復習になりますが、最後にこれを確認しておきましょう。"
   ]
  },
  {
   "cell_type": "code",
   "execution_count": 61,
   "metadata": {},
   "outputs": [],
   "source": [
    "s = ['H', 'e', 'l', 'p', 'A']"
   ]
  },
  {
   "cell_type": "markdown",
   "metadata": {},
   "source": [
    "これは文字をならべたものをひとかたまりでsとする、というものです。このようにデータを保持する入れ物を「データ構造」といいます。このデータ構造は「リスト」または「配列」というもので、まず繰り返しができるのでした。"
   ]
  },
  {
   "cell_type": "code",
   "execution_count": 63,
   "metadata": {},
   "outputs": [
    {
     "name": "stdout",
     "output_type": "stream",
     "text": [
      "H\n",
      "e\n",
      "l\n",
      "p\n",
      "A\n"
     ]
    }
   ],
   "source": [
    "for x in s:\n",
    "    print(x)"
   ]
  },
  {
   "cell_type": "markdown",
   "metadata": {},
   "source": [
    "番号つきにしたい場合、下記のように書きます。"
   ]
  },
  {
   "cell_type": "code",
   "execution_count": 64,
   "metadata": {},
   "outputs": [
    {
     "name": "stdout",
     "output_type": "stream",
     "text": [
      "0番目はHですね\n",
      "1番目はeですね\n",
      "2番目はlですね\n",
      "3番目はpですね\n",
      "4番目はAですね\n"
     ]
    }
   ],
   "source": [
    "for i, x in enumerate(s):\n",
    "    print('{0}番目は{1}ですね'.format(i, x))"
   ]
  },
  {
   "cell_type": "markdown",
   "metadata": {},
   "source": [
    "実体としては複数のスロットがある箱のようなもので、下のように順番に番号がついているのでそれを使ってその内容を読み出したり入れたりします。\n",
    "\n",
    "<pre>\n",
    " +---+---+---+---+---+\n",
    " | H | e | l | p | A |\n",
    " +---+---+---+---+---+\n",
    " 0   1   2   3   4   5\n",
    "-5  -4  -3  -2  -1\n",
    "</pre>"
   ]
  },
  {
   "cell_type": "markdown",
   "metadata": {},
   "source": [
    "読みだすときはその箱の頭の位置(offset)で読みだすので、最初の「H」は0番から読み出しになります。"
   ]
  },
  {
   "cell_type": "code",
   "execution_count": 65,
   "metadata": {},
   "outputs": [
    {
     "data": {
      "text/plain": [
       "'H'"
      ]
     },
     "execution_count": 65,
     "metadata": {},
     "output_type": "execute_result"
    }
   ],
   "source": [
    "s[0]"
   ]
  },
  {
   "cell_type": "code",
   "execution_count": 66,
   "metadata": {},
   "outputs": [
    {
     "data": {
      "text/plain": [
       "'p'"
      ]
     },
     "execution_count": 66,
     "metadata": {},
     "output_type": "execute_result"
    }
   ],
   "source": [
    "s[3]"
   ]
  },
  {
   "cell_type": "code",
   "execution_count": 67,
   "metadata": {},
   "outputs": [
    {
     "name": "stdout",
     "output_type": "stream",
     "text": [
      "['H', 'e', 'l', 'p', 'hoge']\n"
     ]
    }
   ],
   "source": [
    "s[4] = 'hoge'\n",
    "print(s)"
   ]
  },
  {
   "cell_type": "code",
   "execution_count": 68,
   "metadata": {},
   "outputs": [
    {
     "data": {
      "text/plain": [
       "'p'"
      ]
     },
     "execution_count": 68,
     "metadata": {},
     "output_type": "execute_result"
    }
   ],
   "source": [
    "s[-2]"
   ]
  },
  {
   "cell_type": "markdown",
   "metadata": {},
   "source": [
    "このオフセットによる呼び出しは他の言語(例えば、C言語やJava言語)に起因する慣例に従っていて、プログラミング言語では標準的なものです。最初の要素はオフセットなし(ずれ0こ)のため、0番から読み出しになります。range(n)が0スタートなのはこのためです。"
   ]
  },
  {
   "cell_type": "code",
   "execution_count": 69,
   "metadata": {},
   "outputs": [
    {
     "name": "stdout",
     "output_type": "stream",
     "text": [
      "i=0, s[i]=H\n",
      "i=1, s[i]=e\n",
      "i=2, s[i]=l\n",
      "i=3, s[i]=p\n",
      "i=4, s[i]=hoge\n"
     ]
    }
   ],
   "source": [
    "for i in range(5):\n",
    "    print('i={0}, s[i]={1}'.format(i, s[i]))"
   ]
  },
  {
   "cell_type": "markdown",
   "metadata": {},
   "source": [
    "なお、リストの長さはlen関数で取得できます。"
   ]
  },
  {
   "cell_type": "code",
   "execution_count": 71,
   "metadata": {},
   "outputs": [
    {
     "data": {
      "text/plain": [
       "5"
      ]
     },
     "execution_count": 71,
     "metadata": {},
     "output_type": "execute_result"
    }
   ],
   "source": [
    "len(s)"
   ]
  },
  {
   "cell_type": "markdown",
   "metadata": {},
   "source": [
    "従って、先ほどのものは下記のように書くと良いでしょう。range(n)と書いたとき、1,2,..,nとならず、0,1,2,...,n-1とn-1で終わってしまうのも、このためです。"
   ]
  },
  {
   "cell_type": "code",
   "execution_count": 72,
   "metadata": {},
   "outputs": [
    {
     "name": "stdout",
     "output_type": "stream",
     "text": [
      "i=0, s[i]=H\n",
      "i=1, s[i]=e\n",
      "i=2, s[i]=l\n",
      "i=3, s[i]=p\n",
      "i=4, s[i]=hoge\n"
     ]
    }
   ],
   "source": [
    "for i in range(len(s)):\n",
    "    print('i={0}, s[i]={1}'.format(i, s[i]))"
   ]
  },
  {
   "cell_type": "markdown",
   "metadata": {},
   "source": [
    "また、pythonではスライスという機能で部分的な読み出しも可能です。"
   ]
  },
  {
   "cell_type": "code",
   "execution_count": 73,
   "metadata": {},
   "outputs": [
    {
     "data": {
      "text/plain": [
       "['e', 'l']"
      ]
     },
     "execution_count": 73,
     "metadata": {},
     "output_type": "execute_result"
    }
   ],
   "source": [
    "s[1:3]"
   ]
  },
  {
   "cell_type": "markdown",
   "metadata": {},
   "source": [
    "myfirstcodeにあった下記で色々と試して見てください。"
   ]
  },
  {
   "cell_type": "markdown",
   "metadata": {},
   "source": [
    "次の配列からa,b,c,dを読み出してみよう。"
   ]
  },
  {
   "cell_type": "code",
   "execution_count": 74,
   "metadata": {},
   "outputs": [],
   "source": [
    "b = ['d', 'z', 'a', 'b', 'u', 'a', 'c', 'b', 'z', 'd']"
   ]
  },
  {
   "cell_type": "code",
   "execution_count": 76,
   "metadata": {},
   "outputs": [
    {
     "name": "stdout",
     "output_type": "stream",
     "text": [
      "a\n",
      "b\n",
      "c\n",
      "d\n"
     ]
    }
   ],
   "source": [
    "print(b[2])\n",
    "print(b[3])\n",
    "print(b[6])\n",
    "print(b[-1])"
   ]
  },
  {
   "cell_type": "markdown",
   "metadata": {},
   "source": [
    "## リストの内包表記"
   ]
  },
  {
   "cell_type": "markdown",
   "metadata": {},
   "source": [
    "なお、Pythonの独特の機能として、リストを下記のように内包表記で作ることができます。"
   ]
  },
  {
   "cell_type": "code",
   "execution_count": 88,
   "metadata": {},
   "outputs": [
    {
     "data": {
      "text/plain": [
       "[1, 4, 9, 16, 25]"
      ]
     },
     "execution_count": 88,
     "metadata": {},
     "output_type": "execute_result"
    }
   ],
   "source": [
    "[ x**2 for x in [1,2,3,4,5]]"
   ]
  },
  {
   "cell_type": "markdown",
   "metadata": {},
   "source": [
    "数学で「集合」をやった人はこれは下記をそのまま実現しているだけと思えば良いです。"
   ]
  },
  {
   "cell_type": "markdown",
   "metadata": {},
   "source": [
    "$$ \\bigr\\{ x^2 \\mid x \\in \\{1,2,3,4,5\\}\\bigl\\} $$"
   ]
  },
  {
   "cell_type": "markdown",
   "metadata": {},
   "source": [
    "また、数の配列はpythonの拡張機能を使えば、平均したり和をとったりすることができます。"
   ]
  },
  {
   "cell_type": "code",
   "execution_count": 93,
   "metadata": {},
   "outputs": [
    {
     "name": "stdout",
     "output_type": "stream",
     "text": [
      "[1, 4, 9, 16, 25, 36, 49, 64, 81, 100, 121, 144, 169, 196, 225, 256, 289, 324, 361, 400]\n",
      "総和: 2870\n",
      "平均: 143.5\n",
      "検算用 143.5\n"
     ]
    }
   ],
   "source": [
    "import numpy as np\n",
    "\n",
    "n = 20\n",
    "a = [ x**2 for x in range(1, n+1) ]\n",
    "\n",
    "print(a)\n",
    "print('総和:', np.sum(a))\n",
    "print('平均:', np.mean(a))\n",
    "print('検算用', np.sum(a)/len(a) )"
   ]
  },
  {
   "cell_type": "markdown",
   "metadata": {},
   "source": [
    "これを使うと例えば下記のような計算や各項の値をリストにすることもできますね！"
   ]
  },
  {
   "cell_type": "markdown",
   "metadata": {},
   "source": [
    "$$\n",
    "\\frac{1}{1^2} + \\frac{1}{2^2} + \\frac{1}{3^2} + \\frac{1}{4^2} + \\cdots + \\frac{1}{n^2}\n",
    "$$"
   ]
  },
  {
   "cell_type": "code",
   "execution_count": 106,
   "metadata": {},
   "outputs": [
    {
     "name": "stdout",
     "output_type": "stream",
     "text": [
      "1番目までの和は1.0\n",
      "2番目までの和は1.25\n",
      "3番目までの和は1.3611111111111112\n",
      "4番目までの和は1.4236111111111112\n",
      "5番目までの和は1.4636111111111112\n",
      "6番目までの和は1.4913888888888889\n",
      "7番目までの和は1.511797052154195\n",
      "8番目までの和は1.527422052154195\n",
      "9番目までの和は1.5397677311665408\n",
      "10番目までの和は1.5497677311665408\n",
      "11番目までの和は1.558032193976458\n",
      "12番目までの和は1.5649766384209025\n",
      "13番目までの和は1.5708937981842162\n",
      "14番目までの和は1.5759958390005426\n",
      "15番目までの和は1.580440283444987\n",
      "16番目までの和は1.584346533444987\n",
      "17番目までの和は1.587806741057444\n",
      "18番目までの和は1.5908931608105303\n",
      "19番目までの和は1.5936632439130234\n"
     ]
    }
   ],
   "source": [
    "sum = 0\n",
    "for i in range(1, 20):\n",
    "    sum = sum + 1/(i**2)\n",
    "    print('{0}番目までの和は{1}'.format(i, sum))"
   ]
  },
  {
   "cell_type": "markdown",
   "metadata": {},
   "source": [
    "なお、本筋とは関係ありませんが、こういう級数(数列の和)は情報科学や統計学では頻出するので、下記のように書きます。\n",
    "\n",
    "$$\n",
    "\\sum_{i=1}^n \\frac{1}{i^2}\n",
    "$$\n",
    "\n",
    "この記法を使うと例えば、$n$ 個のデータ $x_1, x_2, \\dots, x_n$ の平均値は次のようにかけますね。\n",
    "\n",
    "$$\n",
    "\\frac{1}{n} \\sum_{i=1}^n x_i\n",
    "$$"
   ]
  },
  {
   "cell_type": "code",
   "execution_count": 107,
   "metadata": {},
   "outputs": [],
   "source": [
    "def my_series(n):\n",
    "    x = 0\n",
    "    for j in range(n):\n",
    "        i = j + 1\n",
    "        x = x + 1/(i**2)\n",
    "    return x"
   ]
  },
  {
   "cell_type": "code",
   "execution_count": 96,
   "metadata": {},
   "outputs": [],
   "source": [
    "points = [my_series(n) for n in range(1, 20)]"
   ]
  },
  {
   "cell_type": "code",
   "execution_count": 97,
   "metadata": {},
   "outputs": [
    {
     "data": {
      "text/plain": [
       "[1.0,\n",
       " 1.25,\n",
       " 1.3611111111111112,\n",
       " 1.4236111111111112,\n",
       " 1.4636111111111112,\n",
       " 1.4913888888888889,\n",
       " 1.511797052154195,\n",
       " 1.527422052154195,\n",
       " 1.5397677311665408,\n",
       " 1.5497677311665408,\n",
       " 1.558032193976458,\n",
       " 1.5649766384209025,\n",
       " 1.5708937981842162,\n",
       " 1.5759958390005426,\n",
       " 1.580440283444987,\n",
       " 1.584346533444987,\n",
       " 1.587806741057444,\n",
       " 1.5908931608105303,\n",
       " 1.5936632439130234]"
      ]
     },
     "execution_count": 97,
     "metadata": {},
     "output_type": "execute_result"
    }
   ],
   "source": [
    "points"
   ]
  },
  {
   "cell_type": "markdown",
   "metadata": {},
   "source": [
    "下記のコードはmatplotlibという拡張機能を利用してn=1の値、n=2の値、...をn=1000まで計算してその点列をプロットします。"
   ]
  },
  {
   "cell_type": "code",
   "execution_count": 100,
   "metadata": {},
   "outputs": [
    {
     "data": {
      "text/plain": [
       "[<matplotlib.lines.Line2D at 0x108af3b38>]"
      ]
     },
     "execution_count": 100,
     "metadata": {},
     "output_type": "execute_result"
    },
    {
     "data": {
      "image/png": "[encoded data removed]",
      "text/plain": [
       "<Figure size 432x288 with 1 Axes>"
      ]
     },
     "metadata": {},
     "output_type": "display_data"
    }
   ],
   "source": [
    "import matplotlib.pyplot as plt\n",
    "%matplotlib inline\n",
    "\n",
    "points = [my_series(n) for n in range(1, 1000)]\n",
    "plt.plot(points)"
   ]
  },
  {
   "cell_type": "markdown",
   "metadata": {},
   "source": [
    "どうもある値より大きくはならない感じがしますよね。数学的には(非常に不思議なことに)下記のことが知られています。なぜ二乗した値で割ってただ積算しているだけで円周率の二乗が出てくるのか、不思議ですよね。"
   ]
  },
  {
   "cell_type": "markdown",
   "metadata": {},
   "source": [
    "$$\n",
    "\\lim_{n \\to \\infty} \\sum_{i=1}^n \\frac{1}{i^2} = \\frac{\\pi^2}{6}\n",
    "$$"
   ]
  },
  {
   "cell_type": "markdown",
   "metadata": {},
   "source": [
    "この上限値を数値的にpythonで計算してみると下記になります。確かにグラフではそんな感じがしますね。"
   ]
  },
  {
   "cell_type": "code",
   "execution_count": 104,
   "metadata": {},
   "outputs": [
    {
     "data": {
      "text/plain": [
       "1.6449340668482264"
      ]
     },
     "execution_count": 104,
     "metadata": {},
     "output_type": "execute_result"
    }
   ],
   "source": [
    "np.pi**2/6"
   ]
  },
  {
   "cell_type": "code",
   "execution_count": 105,
   "metadata": {},
   "outputs": [
    {
     "data": {
      "text/plain": [
       "1.6449240668982423"
      ]
     },
     "execution_count": 105,
     "metadata": {},
     "output_type": "execute_result"
    }
   ],
   "source": [
    "my_series(100000)"
   ]
  },
  {
   "cell_type": "code",
   "execution_count": null,
   "metadata": {},
   "outputs": [],
   "source": []
  }
 ],
 "metadata": {
  "hide_input": false,
  "kernelspec": {
   "display_name": "Python 3",
   "language": "python",
   "name": "python3"
  },
  "language_info": {
   "codemirror_mode": {
    "name": "ipython",
    "version": 3
   },
   "file_extension": ".py",
   "mimetype": "text/x-python",
   "name": "python",
   "nbconvert_exporter": "python",
   "pygments_lexer": "ipython3",
   "version": "3.6.1"
  },
  "toc": {
   "nav_menu": {},
   "number_sections": true,
   "sideBar": true,
   "skip_h1_title": false,
   "toc_cell": false,
   "toc_position": {},
   "toc_section_display": "block",
   "toc_window_display": false
  }
 },
 "nbformat": 4,
 "nbformat_minor": 2
}
