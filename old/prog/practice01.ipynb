{
 "cells": [
  {
   "cell_type": "markdown",
   "metadata": {},
   "source": [
    "# Pythonの制御構文を試してみよう"
   ]
  },
  {
   "cell_type": "markdown",
   "metadata": {},
   "source": [
    "## 逐次処理"
   ]
  },
  {
   "cell_type": "markdown",
   "metadata": {},
   "source": [
    "今まで見たようにまず基本となるのは順番に命令が実行される逐次実行です。下記のセルを選択して、上部の「Run」を押すか、ShiftキーとEnterキーを同時に押して実行して見ましょう。"
   ]
  },
  {
   "cell_type": "code",
   "execution_count": 36,
   "metadata": {},
   "outputs": [
    {
     "name": "stdout",
     "output_type": "stream",
     "text": [
      "これは 1 番目の命令です\n",
      "これは 2 番目の命令です\n",
      "これは 3 番目の命令です\n",
      "これは 4 番目の命令です\n",
      "これは 5 番目の命令です\n",
      "おしまい\n"
     ]
    }
   ],
   "source": [
    "print('これは', 1, '番目の命令です')\n",
    "print('これは', 2, '番目の命令です')\n",
    "print('これは', 3, '番目の命令です')\n",
    "print('これは', 4, '番目の命令です')\n",
    "print('これは', 5, '番目の命令です')\n",
    "print('おしまい')"
   ]
  },
  {
   "cell_type": "markdown",
   "metadata": {},
   "source": [
    "通常のPCでは各行をCPUが処理する速度は非常に高速なため一度に出力されたように見えたと思います。そこで今度は各々のprint文を実行したあと1秒停止させる命令を入れて見ましょう。下記のセルを選択して、上部の「Run」を押すか、ShiftキーとEnterキーを同時に押して実行して見ましょう。"
   ]
  },
  {
   "cell_type": "code",
   "execution_count": 37,
   "metadata": {},
   "outputs": [
    {
     "name": "stdout",
     "output_type": "stream",
     "text": [
      "これは 1 番目の命令です\n",
      "これは 2 番目の命令です\n",
      "これは 3 番目の命令です\n",
      "これは 4 番目の命令です\n",
      "これは 5 番目の命令です\n",
      "おしまい\n"
     ]
    }
   ],
   "source": [
    "import time\n",
    "\n",
    "print('これは', 1, '番目の命令です')\n",
    "time.sleep(1)\n",
    "print('これは', 2, '番目の命令です')\n",
    "time.sleep(1)\n",
    "print('これは', 3, '番目の命令です')\n",
    "time.sleep(1)\n",
    "print('これは', 4, '番目の命令です')\n",
    "time.sleep(1)\n",
    "print('これは', 5, '番目の命令です')\n",
    "print('おしまい')"
   ]
  },
  {
   "cell_type": "markdown",
   "metadata": {},
   "source": [
    "上の「import time」というのは「time」という名前の予め作成済みの機能を呼び出すための準備です。pythonでは、様々な追加機能がこのような「ライブラリ」として用意されています。このライブラリの機能自体も(多くは)pythonで作成されていますが、既に作成済みであるので、我々はそれを使えばこうした拡張機能を使うことができます。\n",
    "\n",
    "この「import time」を実行したあとは、timeにある機能を使えます。time.sleep(x)はx秒停止するというものです。"
   ]
  },
  {
   "cell_type": "markdown",
   "metadata": {},
   "source": [
    "下記のPythonコードを書き換えて、1番目の命令の後は1秒、2番目の命令の後は2秒、3番目の命令の後は3秒、4番目の命令の後は4秒、というように徐々にprint文の実行が送れるように改変して見ましょう。下記のセルをダブルクリックして編集して書き換え終わったら、上部の「Run」を押すか、ShiftキーとEnterキーを同時に押して実行して見ましょう。"
   ]
  },
  {
   "cell_type": "code",
   "execution_count": 38,
   "metadata": {},
   "outputs": [
    {
     "name": "stdout",
     "output_type": "stream",
     "text": [
      "これは 1 番目の命令です\n",
      "これは 2 番目の命令です\n",
      "これは 3 番目の命令です\n",
      "これは 4 番目の命令です\n",
      "これは 5 番目の命令です\n",
      "おしまい\n"
     ]
    }
   ],
   "source": [
    "print('これは',1,'番目の命令です')\n",
    "time.sleep(0.5)\n",
    "print('これは',2,'番目の命令です')\n",
    "time.sleep(0.5)\n",
    "print('これは',3,'番目の命令です')\n",
    "time.sleep(0.5)\n",
    "print('これは',4,'番目の命令です')\n",
    "time.sleep(0.5)\n",
    "print('これは',5,'番目の命令です')\n",
    "print('おしまい')"
   ]
  },
  {
   "cell_type": "markdown",
   "metadata": {},
   "source": [
    "次に「変数」を利用して同じ命令を実行するものを作って見ましょう。print文が一つ実行されるたびに+1していくことにしてみましょう。まずは、下記のセルを選択して、上部の「Run」を押すか、ShiftキーとEnterキーを同時に押して実行して見ましょう。"
   ]
  },
  {
   "cell_type": "code",
   "execution_count": 39,
   "metadata": {},
   "outputs": [
    {
     "name": "stdout",
     "output_type": "stream",
     "text": [
      "これは 1 番目の命令です\n",
      "これは 2 番目の命令です\n",
      "これは 3 番目の命令です\n",
      "これは 4 番目の命令です\n",
      "これは 5 番目の命令です\n",
      "おしまい\n"
     ]
    }
   ],
   "source": [
    "x = 1\n",
    "\n",
    "print('これは', x, '番目の命令です')\n",
    "time.sleep(0.5)\n",
    "x = x + 1\n",
    "print('これは', x, '番目の命令です')\n",
    "time.sleep(0.5)\n",
    "x = x + 1\n",
    "print('これは', x, '番目の命令です')\n",
    "time.sleep(0.5)\n",
    "x = x + 1\n",
    "print('これは', x, '番目の命令です')\n",
    "time.sleep(0.5)\n",
    "x = x + 1\n",
    "print('これは', x, '番目の命令です')\n",
    "print('おしまい')"
   ]
  },
  {
   "cell_type": "markdown",
   "metadata": {},
   "source": [
    "ここで代入文「x = x + 1」という文に着目してみましょう。"
   ]
  },
  {
   "cell_type": "markdown",
   "metadata": {},
   "source": [
    "数学の式として考えるとこれは$x=0$になってしまいますが、前回の授業で説明したように、これは左の「x」に右の「x+1」という計算をした結果を「代入する」という意味になります。この際、まず常に「右辺の計算がされてから」その結果が左の変数に代入される、ということに注意してください。"
   ]
  },
  {
   "cell_type": "markdown",
   "metadata": {},
   "source": [
    "したがって、例えば、以下のような代入はエラーになります。下記のセルを選択して、上部の「Run」を押すか、ShiftキーとEnterキーを同時に押して実行して見ましょう。"
   ]
  },
  {
   "cell_type": "code",
   "execution_count": 40,
   "metadata": {},
   "outputs": [
    {
     "ename": "SyntaxError",
     "evalue": "can't assign to literal (<ipython-input-40-97d1cbcfdbdb>, line 1)",
     "output_type": "error",
     "traceback": [
      "\u001b[0;36m  File \u001b[0;32m\"<ipython-input-40-97d1cbcfdbdb>\"\u001b[0;36m, line \u001b[0;32m1\u001b[0m\n\u001b[0;31m    3 = x\u001b[0m\n\u001b[0m         ^\u001b[0m\n\u001b[0;31mSyntaxError\u001b[0m\u001b[0;31m:\u001b[0m can't assign to literal\n"
     ]
    }
   ],
   "source": [
    "3 = x"
   ]
  },
  {
   "cell_type": "code",
   "execution_count": 41,
   "metadata": {
    "scrolled": true
   },
   "outputs": [
    {
     "ename": "SyntaxError",
     "evalue": "can't assign to operator (<ipython-input-41-d2401b3ca3d1>, line 2)",
     "output_type": "error",
     "traceback": [
      "\u001b[0;36m  File \u001b[0;32m\"<ipython-input-41-d2401b3ca3d1>\"\u001b[0;36m, line \u001b[0;32m2\u001b[0m\n\u001b[0;31m    x + 1 = x\u001b[0m\n\u001b[0m             ^\u001b[0m\n\u001b[0;31mSyntaxError\u001b[0m\u001b[0;31m:\u001b[0m can't assign to operator\n"
     ]
    }
   ],
   "source": [
    "x = 3\n",
    "x + 1 = x"
   ]
  },
  {
   "cell_type": "code",
   "execution_count": 42,
   "metadata": {},
   "outputs": [
    {
     "ename": "SyntaxError",
     "evalue": "can't assign to operator (<ipython-input-42-6a3d41301417>, line 3)",
     "output_type": "error",
     "traceback": [
      "\u001b[0;36m  File \u001b[0;32m\"<ipython-input-42-6a3d41301417>\"\u001b[0;36m, line \u001b[0;32m3\u001b[0m\n\u001b[0;31m    3 * x + z = 4 * y\u001b[0m\n\u001b[0m                     ^\u001b[0m\n\u001b[0;31mSyntaxError\u001b[0m\u001b[0;31m:\u001b[0m can't assign to operator\n"
     ]
    }
   ],
   "source": [
    "x = 3\n",
    "y = 4\n",
    "3 * x + z = 4 * y"
   ]
  },
  {
   "cell_type": "markdown",
   "metadata": {},
   "source": [
    "授業で説明した通り、これは$3x + z = 4 y, x = 3, y= 4$という方程式のように数学的な意味があるのではないのでしたね。常に「右側の計算をしてから、左の変数にその結果を代入する」という意味になります。"
   ]
  },
  {
   "cell_type": "markdown",
   "metadata": {},
   "source": [
    "参考までにpythonでそのような方程式を解きたければ自分で一からその手順をプログラミングするか、既に作成済みの専門の機能を使うことになります。例えば、以下のようにすると"
   ]
  },
  {
   "cell_type": "markdown",
   "metadata": {},
   "source": [
    "\\begin{cases}\n",
    "x - 3 &=& 0\\\\\n",
    "y - 4 &=& 0\\\\\n",
    "3x + z - 4y &=& 0\n",
    "\\end{cases}"
   ]
  },
  {
   "cell_type": "markdown",
   "metadata": {},
   "source": [
    "と右辺を0に書き換えてから、sympyという機能を使えば下記のように方程式を解くこともできます。"
   ]
  },
  {
   "cell_type": "code",
   "execution_count": 43,
   "metadata": {},
   "outputs": [
    {
     "name": "stdout",
     "output_type": "stream",
     "text": [
      "{x: 3, y: 4, z: 7}\n"
     ]
    }
   ],
   "source": [
    "import sympy\n",
    "\n",
    "x = sympy.Symbol('x') \n",
    "y = sympy.Symbol('y')\n",
    "z = sympy.Symbol('z')\n",
    "\n",
    "ans = sympy.solve([x - 3, y - 4, 3*x + z - 4*y], [x, y, z])\n",
    "\n",
    "print(ans)"
   ]
  },
  {
   "cell_type": "markdown",
   "metadata": {},
   "source": [
    "以上のような色々な定義済みの機能についてはどのような機能があるのか、どのようにして使うのかをどうやって調べるかを追い追い説明しますので、とりあえず、今回は下記の先ほどの例に戻りましょう。少しだけ書き換えてありますが、実行して見る前に、コードを読んで何が起きるか考えてみてから、そのようになるか実行して確認してみてください。　"
   ]
  },
  {
   "cell_type": "code",
   "execution_count": 44,
   "metadata": {},
   "outputs": [
    {
     "name": "stdout",
     "output_type": "stream",
     "text": [
      "これは 1 番目の命令です\n",
      "これは 2 番目の命令です\n",
      "これは 3 番目の命令です\n",
      "これは 4 番目の命令です\n",
      "これは 5 番目の命令です\n",
      "おしまい\n"
     ]
    }
   ],
   "source": [
    "x = 1\n",
    "\n",
    "print('これは', x, '番目の命令です')\n",
    "time.sleep(x)\n",
    "x = x + 1\n",
    "print('これは', x, '番目の命令です')\n",
    "time.sleep(x)\n",
    "x = x + 1\n",
    "print('これは', x, '番目の命令です')\n",
    "time.sleep(x)\n",
    "x = x + 1\n",
    "print('これは', x, '番目の命令です')\n",
    "time.sleep(x)\n",
    "x = x + 1\n",
    "print('これは', x, '番目の命令です')\n",
    "print('おしまい')"
   ]
  },
  {
   "cell_type": "markdown",
   "metadata": {},
   "source": [
    "このような逐次実行はわかりましたか？"
   ]
  },
  {
   "cell_type": "markdown",
   "metadata": {},
   "source": [
    "## 反復処理 for文"
   ]
  },
  {
   "cell_type": "markdown",
   "metadata": {},
   "source": [
    "しかし、上のPythonコードをよく見ると同じような命令の並びがなんども出てきています。このようにある命令を「繰り返す」のはプログラミングにおける最も基本的な実行順序の制御です。"
   ]
  },
  {
   "cell_type": "markdown",
   "metadata": {},
   "source": [
    "まず、「for文」という繰り返しの指定の仕方を見てみましょう。下記のセルを選択して、上部の「Run」を押すか、ShiftキーとEnterキーを同時に押して実行して見ましょう。"
   ]
  },
  {
   "cell_type": "code",
   "execution_count": 35,
   "metadata": {},
   "outputs": [
    {
     "name": "stdout",
     "output_type": "stream",
     "text": [
      "これは 1 番目の命令です\n",
      "これは 2 番目の命令です\n",
      "これは 3 番目の命令です\n",
      "これは 4 番目の命令です\n",
      "これは 5 番目の命令です\n",
      "おしまい\n"
     ]
    }
   ],
   "source": [
    "for x in [1, 2, 3, 4, 5]:\n",
    "    print('これは', x, '番目の命令です')\n",
    "    time.sleep(x)\n",
    "print('おしまい')"
   ]
  },
  {
   "cell_type": "markdown",
   "metadata": {},
   "source": [
    "おしまいの前に5秒まつ点は気になりますが、プログラムはだいぶスッキリしました。Pythonは英語と似ているので、説明がなくても、もはや何が起こったか分かるかもしれませんが、まず、for文の下のブロックがインデントされていますね。この部分がx = 1, 2, 3, ...と順番に実行される、という構文になっています。"
   ]
  },
  {
   "cell_type": "markdown",
   "metadata": {},
   "source": [
    "インデントは「Tab」キーで行います。Pythonはこのように操作のかたまりをインデントしたブロックで表現します。実際はスペースでインデントするかタブでインデントするかで異なりますが、Jupyterではタブも自動的に全てスペースに置換されて揃えられるようになっています。「テキストファイル」などに書いてから実行するときには気をつけてください。 "
   ]
  },
  {
   "cell_type": "markdown",
   "metadata": {},
   "source": [
    "下記のようにxは使わなくてもいいですし、使う場合はインデントブロックの中でその値を参照することもできます。"
   ]
  },
  {
   "cell_type": "code",
   "execution_count": 24,
   "metadata": {},
   "outputs": [
    {
     "name": "stdout",
     "output_type": "stream",
     "text": [
      "アイウエオ\n",
      "あいうえお\n",
      "アイウエオ\n",
      "あいうえお\n",
      "アイウエオ\n",
      "あいうえお\n"
     ]
    }
   ],
   "source": [
    "for x in [1, 2, 3]:\n",
    "    print('アイウエオ')\n",
    "    print('あいうえお')"
   ]
  },
  {
   "cell_type": "code",
   "execution_count": 30,
   "metadata": {},
   "outputs": [
    {
     "name": "stdout",
     "output_type": "stream",
     "text": [
      "2\n",
      "4\n",
      "8\n",
      "16\n",
      "32\n"
     ]
    }
   ],
   "source": [
    "for x in [1, 2, 3, 4, 5]:\n",
    "    y = 2 ** x # 2のx乗\n",
    "    print(y)"
   ]
  },
  {
   "cell_type": "markdown",
   "metadata": {},
   "source": [
    "「#」以降は無視されるので、上記のようにコメントを書いておくのが良いでしょう。"
   ]
  },
  {
   "cell_type": "markdown",
   "metadata": {},
   "source": [
    "あるいは以下のように書くこともできます。range(5)と書くとy in [0, 1, 2, 3, 4]となります。"
   ]
  },
  {
   "cell_type": "code",
   "execution_count": 45,
   "metadata": {},
   "outputs": [
    {
     "name": "stdout",
     "output_type": "stream",
     "text": [
      "これは 1 番目の命令です(y= 0 )\n",
      "これは 2 番目の命令です(y= 1 )\n",
      "これは 3 番目の命令です(y= 2 )\n",
      "これは 4 番目の命令です(y= 3 )\n",
      "これは 5 番目の命令です(y= 4 )\n",
      "おしまい\n"
     ]
    }
   ],
   "source": [
    "x = 1\n",
    "\n",
    "for y in range(5):\n",
    "    print('これは', x, '番目の命令です(y=', y, ')')\n",
    "    time.sleep(x)\n",
    "    x = x + 1\n",
    "\n",
    "print('おしまい')"
   ]
  },
  {
   "cell_type": "markdown",
   "metadata": {},
   "source": [
    "## 条件分岐"
   ]
  },
  {
   "cell_type": "markdown",
   "metadata": {},
   "source": [
    "さてここで好きな数字を実行したときに入力するやり方を紹介します。下記のセルを選択して、上部の「Run」を押すか、ShiftキーとEnterキーを同時に押して実行して見ましょう。数字を入力するフィールドが出るのでそこに数字を入力してEnterキーを押してみましょう。"
   ]
  },
  {
   "cell_type": "code",
   "execution_count": 34,
   "metadata": {
    "scrolled": true
   },
   "outputs": [
    {
     "name": "stdout",
     "output_type": "stream",
     "text": [
      "数字を入力してください：3\n",
      "あなたの入力は 3 ですね？\n"
     ]
    }
   ],
   "source": [
    "x = input('数字を入力してください：')\n",
    "print('あなたの入力は', x, 'ですね？')"
   ]
  },
  {
   "cell_type": "markdown",
   "metadata": {},
   "source": [
    "ここでもう一つ大事な命令の実行順序の制御「条件分岐」をやってみましょう。逐次実行だけではなく、条件によって、別々の処理をさせたいことがあるでしょう。例えば、下記はユーザの入力が偶数か奇数かを表示します。"
   ]
  },
  {
   "cell_type": "code",
   "execution_count": 54,
   "metadata": {
    "scrolled": true
   },
   "outputs": [
    {
     "name": "stdout",
     "output_type": "stream",
     "text": [
      "整数を一つ入力してください：33\n",
      "あなたの入力は 33 ですね？\n",
      "それは奇数ですよね\n"
     ]
    }
   ],
   "source": [
    "x = input('整数を一つ入力してください：')\n",
    "print('あなたの入力は', x, 'ですね？')\n",
    "\n",
    "value = int(x)\n",
    "if value % 2 == 0:\n",
    "    print('それは偶数ですよね')\n",
    "else:\n",
    "    print('それは奇数ですよね')"
   ]
  },
  {
   "cell_type": "markdown",
   "metadata": {},
   "source": [
    "整数は「integer」と言いますが「int(x)」はxは整数だよ、と変換しているものです。xには文字列であったり整数であったり小数であったりが代入できますが、例えば文字列は四則演算できないので、どのようなタイプ(型)なのかということが大事になってきます。"
   ]
  },
  {
   "cell_type": "markdown",
   "metadata": {},
   "source": [
    "どういう型かはtypeを使って調べることができます。intは整数型、floatは実数型(浮動小数点数という形でコンピュータ内部で表現されます。この浮動のfloatです)、文字列はstringなのでstrと表示されます。"
   ]
  },
  {
   "cell_type": "code",
   "execution_count": 60,
   "metadata": {},
   "outputs": [
    {
     "data": {
      "text/plain": [
       "float"
      ]
     },
     "execution_count": 60,
     "metadata": {},
     "output_type": "execute_result"
    }
   ],
   "source": [
    "type(3.53)"
   ]
  },
  {
   "cell_type": "code",
   "execution_count": 57,
   "metadata": {
    "scrolled": true
   },
   "outputs": [
    {
     "data": {
      "text/plain": [
       "int"
      ]
     },
     "execution_count": 57,
     "metadata": {},
     "output_type": "execute_result"
    }
   ],
   "source": [
    "x = 1\n",
    "type(x)"
   ]
  },
  {
   "cell_type": "code",
   "execution_count": 58,
   "metadata": {},
   "outputs": [
    {
     "data": {
      "text/plain": [
       "float"
      ]
     },
     "execution_count": 58,
     "metadata": {},
     "output_type": "execute_result"
    }
   ],
   "source": [
    "x = 0.34\n",
    "type(x)"
   ]
  },
  {
   "cell_type": "code",
   "execution_count": 59,
   "metadata": {
    "scrolled": true
   },
   "outputs": [
    {
     "data": {
      "text/plain": [
       "str"
      ]
     },
     "execution_count": 59,
     "metadata": {},
     "output_type": "execute_result"
    }
   ],
   "source": [
    "x = '文字列ですよ'\n",
    "type(x)"
   ]
  },
  {
   "cell_type": "markdown",
   "metadata": {},
   "source": [
    "条件分岐はif ... else ... で「もし...ならば...そうでないなら...」という英語のままの処理をします。"
   ]
  },
  {
   "cell_type": "markdown",
   "metadata": {},
   "source": [
    "if文のすぐ後には「成り立つかどうかの条件」を入れます。これは成り立つときにはTrue、成り立たないときにはFalseになるような式で表現されます。「=」が一つだけだと「代入」になりますが「==」二つの時は「右辺と左辺が等しい」という意味になります。「!=」はノットイコールで「右辺と左辺が等しくない」という意味になります。"
   ]
  },
  {
   "cell_type": "code",
   "execution_count": 63,
   "metadata": {},
   "outputs": [
    {
     "name": "stdout",
     "output_type": "stream",
     "text": [
      "False\n",
      "True\n",
      "False\n",
      "True\n"
     ]
    }
   ],
   "source": [
    "x = 3\n",
    "print(x == 4)\n",
    "print(x == 3)\n",
    "print(x % 2 == 0) # 2で割った余りが0\n",
    "print(x % 2 != 0) # 2で割った余りが0「ではない」(否定)"
   ]
  },
  {
   "cell_type": "code",
   "execution_count": 65,
   "metadata": {
    "scrolled": true
   },
   "outputs": [
    {
     "name": "stdout",
     "output_type": "stream",
     "text": [
      "整数1 3\n",
      "整数2 3\n",
      "x+y= 6 は偶数\n"
     ]
    }
   ],
   "source": [
    "x = int(input('整数1 '))\n",
    "y = int(input('整数2 '))\n",
    "\n",
    "if (x+y) % 2 == 0:\n",
    "    print('x+y=', x + y, 'は偶数')\n",
    "else:\n",
    "    print('x+y=', x + y, 'は奇数')"
   ]
  },
  {
   "cell_type": "markdown",
   "metadata": {},
   "source": [
    "さらに条件分岐が多い時は「elif」(else if)を使うことで二分岐ではなく多分岐にできます。"
   ]
  },
  {
   "cell_type": "code",
   "execution_count": 69,
   "metadata": {},
   "outputs": [
    {
     "name": "stdout",
     "output_type": "stream",
     "text": [
      "1,2,3,4のどれかを入れてください4\n",
      "値は 4\n"
     ]
    }
   ],
   "source": [
    "x = int(input('1,2,3,4のどれかを入れてください '))\n",
    "\n",
    "if x == 1:\n",
    "    print('へい')\n",
    "elif x == 2:\n",
    "    print('ほい')\n",
    "elif x == 3:\n",
    "    print('おい')\n",
    "else:\n",
    "    print('値は', x)"
   ]
  },
  {
   "cell_type": "markdown",
   "metadata": {},
   "source": [
    "## while文"
   ]
  },
  {
   "cell_type": "markdown",
   "metadata": {},
   "source": [
    "さてここで、最初の下記のコードに戻りましょう。"
   ]
  },
  {
   "cell_type": "code",
   "execution_count": 66,
   "metadata": {},
   "outputs": [
    {
     "name": "stdout",
     "output_type": "stream",
     "text": [
      "これは 1 番目の命令です\n",
      "これは 2 番目の命令です\n",
      "これは 3 番目の命令です\n",
      "これは 4 番目の命令です\n",
      "これは 5 番目の命令です\n",
      "おしまい\n"
     ]
    }
   ],
   "source": [
    "x = 1\n",
    "\n",
    "print('これは', x, '番目の命令です')\n",
    "x = x + 1\n",
    "time.sleep(x)\n",
    "print('これは', x, '番目の命令です')\n",
    "x = x + 1\n",
    "time.sleep(x)\n",
    "print('これは', x, '番目の命令です')\n",
    "x = x + 1\n",
    "time.sleep(x)\n",
    "print('これは', x, '番目の命令です')\n",
    "x = x + 1\n",
    "time.sleep(x)\n",
    "print('これは', x, '番目の命令です')\n",
    "print('おしまい')"
   ]
  },
  {
   "cell_type": "markdown",
   "metadata": {},
   "source": [
    "先ほどはfor文でこの繰り返しを指定しましたが、変数を使わないのにfor文を使うのも無駄じゃないかなと思った人もいたかもしれません。この場合は、先ほど条件分岐のところで使った「成り立つか成り立たないかの条件」を指定して、各繰り返し前にそれが成り立っていたらインデントブロックを繰り返すという形の指定方法「while文」をみてみましょう。"
   ]
  },
  {
   "cell_type": "code",
   "execution_count": 67,
   "metadata": {},
   "outputs": [
    {
     "name": "stdout",
     "output_type": "stream",
     "text": [
      "これは 1 番目の命令です\n",
      "これは 2 番目の命令です\n",
      "これは 3 番目の命令です\n",
      "これは 4 番目の命令です\n",
      "これは 5 番目の命令です\n",
      "おしまい\n"
     ]
    }
   ],
   "source": [
    "x = 1\n",
    "while x <= 5:\n",
    "    print('これは', x, '番目の命令です')\n",
    "    x = x + 1\n",
    "    time.sleep(x)\n",
    "print('おしまい')"
   ]
  },
  {
   "cell_type": "markdown",
   "metadata": {},
   "source": [
    "「<=」は「小なりイコール」です。最後の時だけ、sleepしなくていいので、if文で処理してみましょう。"
   ]
  },
  {
   "cell_type": "code",
   "execution_count": 72,
   "metadata": {},
   "outputs": [
    {
     "name": "stdout",
     "output_type": "stream",
     "text": [
      "これは 1 番目の命令です\n",
      "xが 2 なのでsleepします\n",
      "これは 2 番目の命令です\n",
      "xが 3 なのでsleepします\n",
      "これは 3 番目の命令です\n",
      "xが 4 なのでsleepします\n",
      "これは 4 番目の命令です\n",
      "xが 5 なのでsleepします\n",
      "これは 5 番目の命令です\n",
      "おしまい\n"
     ]
    }
   ],
   "source": [
    "x = 1\n",
    "while x <= 5:\n",
    "    print('これは', x, '番目の命令です')\n",
    "    x = x + 1\n",
    "    if x != 6:\n",
    "        print('xが', x, 'なので', x, '秒sleepします')\n",
    "        time.sleep(x)\n",
    "print('おしまい')"
   ]
  },
  {
   "cell_type": "markdown",
   "metadata": {},
   "source": [
    "## 試してみよう"
   ]
  },
  {
   "cell_type": "markdown",
   "metadata": {},
   "source": [
    "以下を書き換えて、時間、分、秒を入力して、何秒かを表示するようにプログラミングしてみよう！"
   ]
  },
  {
   "cell_type": "code",
   "execution_count": 73,
   "metadata": {
    "scrolled": true
   },
   "outputs": [
    {
     "name": "stdout",
     "output_type": "stream",
     "text": [
      "時間:3\n",
      "分:10\n",
      "3 時間 10 分は 190 分です\n"
     ]
    }
   ],
   "source": [
    "h = int(input('時間:'))\n",
    "m = int(input('分:'))\n",
    "\n",
    "print(h, '時間', m, '分は', 60*h + m, '分です')"
   ]
  },
  {
   "cell_type": "markdown",
   "metadata": {},
   "source": [
    "さらに余裕がある人は、「秒」を受け取って、「xx時間xx分xx秒」と表示させるプログラムを作ってみてね。"
   ]
  },
  {
   "cell_type": "code",
   "execution_count": null,
   "metadata": {},
   "outputs": [],
   "source": [
    "## コード領域\n",
    "\n",
    "\n"
   ]
  },
  {
   "cell_type": "markdown",
   "metadata": {},
   "source": [
    "できたら、このファイルを「takigawa@ist.hokudai.ac.jp」に送ってみてね。"
   ]
  }
 ],
 "metadata": {
  "hide_input": false,
  "kernelspec": {
   "display_name": "Python 3",
   "language": "python",
   "name": "python3"
  },
  "language_info": {
   "codemirror_mode": {
    "name": "ipython",
    "version": 3
   },
   "file_extension": ".py",
   "mimetype": "text/x-python",
   "name": "python",
   "nbconvert_exporter": "python",
   "pygments_lexer": "ipython3",
   "version": "3.6.1"
  },
  "toc": {
   "nav_menu": {},
   "number_sections": true,
   "sideBar": true,
   "skip_h1_title": false,
   "toc_cell": false,
   "toc_position": {},
   "toc_section_display": "block",
   "toc_window_display": false
  }
 },
 "nbformat": 4,
 "nbformat_minor": 2
}
